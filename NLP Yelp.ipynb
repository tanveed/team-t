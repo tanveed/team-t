{
 "cells": [
  {
   "cell_type": "markdown",
   "metadata": {},
   "source": [
    "# NLP: Yelp Review to Rating\n",
    "### Authors: Tanvee Desai and Tanner Arrizabalaga\n",
    "\n",
    "Hello! In this project, we will be looking over Yelp reviews (data available here: https://www.yelp.com/dataset) and utilizing ML/DL to accurately predict what the reviews star rating is based solely on text.\n",
    "\n",
    "This project is split into the following parts\n",
    "- Libraries\n",
    "- EDA\n",
    "- Data Cleaning\n",
    "    - Stop word removal, HTML parsing, punctuation removal, etc.\n",
    "    - Creation of a cleaned *and* stemmed dataset\n",
    "- Model Implementation\n",
    "    - Simple BOW Model Neural Network\n",
    "    - LSTM\n",
    "    - Bidirectional LSTM\n",
    "    - One vs. All LSTM Approach\n",
    "- Exploring Challenges\n",
    "    - Challenge 5\n",
    "    - Challenge 6"
   ]
  },
  {
   "cell_type": "markdown",
   "metadata": {},
   "source": [
    "### Importing necessary libraries"
   ]
  },
  {
   "cell_type": "code",
   "execution_count": 359,
   "metadata": {},
   "outputs": [],
   "source": [
    "# General Libraries\n",
    "import json\n",
    "import sys\n",
    "import numpy as np\n",
    "import pandas as pd\n",
    "import seaborn as sns\n",
    "import matplotlib.pyplot as plt\n",
    "import itertools\n",
    "\n",
    "# NLP\n",
    "import nltk\n",
    "import re\n",
    "from nltk.corpus import stopwords\n",
    "from bs4 import BeautifulSoup\n",
    "from nltk.stem import PorterStemmer\n",
    "\n",
    "\n",
    "# ML/DL\n",
    "import tensorflow as tf\n",
    "import pickle\n",
    "\n",
    "from sklearn.preprocessing import LabelBinarizer, LabelEncoder\n",
    "from sklearn.metrics import confusion_matrix, classification_report\n",
    "from sklearn.model_selection import train_test_split\n",
    "\n",
    "from tensorflow import keras\n",
    "from keras import Sequential\n",
    "from keras.layers import Dense, Activation, Dropout, Embedding, Conv1D, MaxPooling1D, LSTM, BatchNormalization, SpatialDropout1D, Bidirectional\n",
    "from keras.preprocessing.sequence import pad_sequences\n",
    "from keras.preprocessing import text, sequence\n",
    "from keras import utils\n",
    "from keras import regularizers\n",
    "from keras.models import load_model\n",
    "from keras.initializers import Constant\n",
    "from keras.utils import plot_model"
   ]
  },
  {
   "cell_type": "code",
   "execution_count": 360,
   "metadata": {},
   "outputs": [
    {
     "data": {
      "text/html": [
       "<div>\n",
       "<style scoped>\n",
       "    .dataframe tbody tr th:only-of-type {\n",
       "        vertical-align: middle;\n",
       "    }\n",
       "\n",
       "    .dataframe tbody tr th {\n",
       "        vertical-align: top;\n",
       "    }\n",
       "\n",
       "    .dataframe thead th {\n",
       "        text-align: right;\n",
       "    }\n",
       "</style>\n",
       "<table border=\"1\" class=\"dataframe\">\n",
       "  <thead>\n",
       "    <tr style=\"text-align: right;\">\n",
       "      <th></th>\n",
       "      <th>review_id</th>\n",
       "      <th>text</th>\n",
       "      <th>stars</th>\n",
       "    </tr>\n",
       "  </thead>\n",
       "  <tbody>\n",
       "    <tr>\n",
       "      <th>0</th>\n",
       "      <td>Q1sbwvVQXV2734tPgoKj4Q</td>\n",
       "      <td>Total bill for this horrible service? Over $8G...</td>\n",
       "      <td>1</td>\n",
       "    </tr>\n",
       "    <tr>\n",
       "      <th>1</th>\n",
       "      <td>GJXCdrto3ASJOqKeVWPi6Q</td>\n",
       "      <td>I *adore* Travis at the Hard Rock's new Kelly ...</td>\n",
       "      <td>5</td>\n",
       "    </tr>\n",
       "    <tr>\n",
       "      <th>2</th>\n",
       "      <td>2TzJjDVDEuAW6MR5Vuc1ug</td>\n",
       "      <td>I have to say that this office really has it t...</td>\n",
       "      <td>5</td>\n",
       "    </tr>\n",
       "    <tr>\n",
       "      <th>3</th>\n",
       "      <td>yi0R0Ugj_xUx_Nek0-_Qig</td>\n",
       "      <td>Went in for a lunch. Steak sandwich was delici...</td>\n",
       "      <td>5</td>\n",
       "    </tr>\n",
       "    <tr>\n",
       "      <th>4</th>\n",
       "      <td>11a8sVPMUFtaC7_ABRkmtw</td>\n",
       "      <td>Today was my second out of three sessions I ha...</td>\n",
       "      <td>1</td>\n",
       "    </tr>\n",
       "  </tbody>\n",
       "</table>\n",
       "</div>"
      ],
      "text/plain": [
       "                review_id                                               text  \\\n",
       "0  Q1sbwvVQXV2734tPgoKj4Q  Total bill for this horrible service? Over $8G...   \n",
       "1  GJXCdrto3ASJOqKeVWPi6Q  I *adore* Travis at the Hard Rock's new Kelly ...   \n",
       "2  2TzJjDVDEuAW6MR5Vuc1ug  I have to say that this office really has it t...   \n",
       "3  yi0R0Ugj_xUx_Nek0-_Qig  Went in for a lunch. Steak sandwich was delici...   \n",
       "4  11a8sVPMUFtaC7_ABRkmtw  Today was my second out of three sessions I ha...   \n",
       "\n",
       "   stars  \n",
       "0      1  \n",
       "1      5  \n",
       "2      5  \n",
       "3      5  \n",
       "4      1  "
      ]
     },
     "execution_count": 360,
     "metadata": {},
     "output_type": "execute_result"
    }
   ],
   "source": [
    "yelp = pd.read_json(\"./yelp_review_training_dataset.jsonl\", lines = True)\n",
    "yelp.head()"
   ]
  },
  {
   "cell_type": "markdown",
   "metadata": {},
   "source": [
    "How large is the data?"
   ]
  },
  {
   "cell_type": "code",
   "execution_count": 361,
   "metadata": {},
   "outputs": [
    {
     "data": {
      "text/plain": [
       "(533581, 3)"
      ]
     },
     "execution_count": 361,
     "metadata": {},
     "output_type": "execute_result"
    }
   ],
   "source": [
    "yelp.shape"
   ]
  },
  {
   "cell_type": "markdown",
   "metadata": {},
   "source": [
    "### EDA - Stars\n",
    "Not too much to go off of, but let's get a general understanding of our data. How many nulls do we have?"
   ]
  },
  {
   "cell_type": "code",
   "execution_count": 362,
   "metadata": {},
   "outputs": [
    {
     "data": {
      "text/plain": [
       "review_id    0\n",
       "text         0\n",
       "stars        0\n",
       "dtype: int64"
      ]
     },
     "execution_count": 362,
     "metadata": {},
     "output_type": "execute_result"
    }
   ],
   "source": [
    "yelp.isna().sum()"
   ]
  },
  {
   "cell_type": "code",
   "execution_count": 363,
   "metadata": {},
   "outputs": [
    {
     "data": {
      "text/plain": [
       "<matplotlib.axes._subplots.AxesSubplot at 0x25b5858ce48>"
      ]
     },
     "execution_count": 363,
     "metadata": {},
     "output_type": "execute_result"
    },
    {
     "data": {
      "image/png": "[encoded data removed]",
      "text/plain": [
       "<Figure size 432x288 with 1 Axes>"
      ]
     },
     "metadata": {
      "needs_background": "light"
     },
     "output_type": "display_data"
    }
   ],
   "source": [
    "sns.countplot(yelp['stars'])"
   ]
  },
  {
   "cell_type": "markdown",
   "metadata": {},
   "source": [
    "One thing we can potentially look at is whether or not the reviews are balanced. Let's say >=4 is positive, and <4 is negative. If we do see a significant difference in positive and negative reviews, we can balance it before training."
   ]
  },
  {
   "cell_type": "code",
   "execution_count": 364,
   "metadata": {},
   "outputs": [
    {
     "name": "stdout",
     "output_type": "stream",
     "text": [
      "Positive to negative review ratio:  1.6679183395916979\n"
     ]
    },
    {
     "data": {
      "image/png": "[encoded data removed]",
      "text/plain": [
       "<Figure size 432x288 with 1 Axes>"
      ]
     },
     "metadata": {
      "needs_background": "light"
     },
     "output_type": "display_data"
    }
   ],
   "source": [
    "def pos_or_neg(x):\n",
    "    if x >= 4:\n",
    "        return \"Positive\"\n",
    "    else:\n",
    "        return \"Negative\"\n",
    "    \n",
    "yelp['category'] = yelp['stars'].apply(pos_or_neg)\n",
    "\n",
    "sns.countplot(yelp['category'])\n",
    "num_pos = np.count_nonzero(yelp['category'] == 'Positive')\n",
    "num_neg = np.count_nonzero(yelp['category'] == 'Negative')\n",
    "print(\"Positive to negative review ratio: \", num_pos / num_neg)"
   ]
  },
  {
   "cell_type": "markdown",
   "metadata": {},
   "source": [
    "There are roughly 1 and 2/3 times as many positive reviews as negative reviews. We will first try no class balancing when building the model, but may turn to class balancing later on."
   ]
  },
  {
   "cell_type": "markdown",
   "metadata": {},
   "source": [
    "### Data Cleaning - Text"
   ]
  },
  {
   "cell_type": "code",
   "execution_count": 365,
   "metadata": {},
   "outputs": [
    {
     "name": "stdout",
     "output_type": "stream",
     "text": [
      "{'their', 'its', 'his', 're', \"wouldn't\", \"you've\", 'was', 'we', 'of', \"you're\", 'a', 'do', 'while', 'been', 'into', 's', 'what', \"should've\", 'for', 'before', 'shan', 'o', 'mustn', 'because', 'or', \"it's\", 'they', 'and', 'off', 'other', 'd', 'your', 'more', \"shouldn't\", 'during', 'who', \"that'll\", 'further', 'didn', 'so', 'from', 'all', 'wouldn', 'about', \"mustn't\", 'him', 'it', 'am', 'himself', 'doing', 'aren', 'an', 'are', 'being', 'now', 'shouldn', 'over', 'to', 'you', 'y', 'than', 'just', 'with', \"mightn't\", 'yourselves', 'some', 'the', 'be', 'between', 'having', \"wasn't\", 'same', 'yours', 'down', \"needn't\", 'were', 'he', 'll', 'how', 'doesn', 'but', 'this', 'ma', 'itself', 'themselves', 'once', 'had', 'those', 'is', 'not', 'm', 'ain', \"couldn't\", \"you'll\", \"aren't\", 'mightn', 'by', 'any', 'where', 'own', 'on', 'hasn', 'both', \"doesn't\", 'then', \"shan't\", 'until', 'under', 't', \"isn't\", 'through', 'wasn', 'did', 'them', 'won', 'up', \"don't\", 'such', 'after', 'here', 've', 'these', \"hasn't\", \"you'd\", \"she's\", 'most', 'again', 'when', 'ours', 'too', 'above', 'out', 'she', 'myself', 'each', 'below', 'have', 'why', 'will', 'in', 'whom', 'herself', 'at', \"didn't\", 'her', 'which', 'very', \"weren't\", 'only', 'if', 'ourselves', \"hadn't\", 'me', 'as', 'couldn', 'has', 'few', 'that', 'should', 'my', 'theirs', 'yourself', 'hers', 'our', 'no', 'can', 'haven', 'nor', 'needn', 'against', 'isn', 'there', 'i', 'does', \"won't\", \"haven't\", 'weren', 'hadn', 'don'}\n",
      "{'their', 'its', 'his', 're', \"wouldn't\", \"you've\", 'was', 'we', 'of', \"you're\", 'a', 'do', 'while', 'been', 'into', 's', 'what', \"should've\", 'for', 'before', 'shan', 'o', 'mustn', 'because', 'or', \"it's\", 'they', 'and', 'off', 'other', 'd', 'your', 'more', \"shouldn't\", 'during', 'who', \"that'll\", 'further', 'didn', 'so', 'from', 'all', 'wouldn', 'about', \"mustn't\", 'him', 'it', 'am', 'himself', 'doing', 'aren', 'an', 'are', 'being', 'now', 'shouldn', 'over', 'to', 'you', 'y', 'than', 'just', 'with', \"mightn't\", 'yourselves', 'some', 'the', 'be', 'between', 'having', \"wasn't\", 'same', 'yours', 'down', \"needn't\", 'were', 'he', 'll', 'how', 'doesn', 'but', 'this', 'ma', 'itself', 'themselves', 'once', 'had', 'those', 'is', 'not', 'm', 'ain', \"couldn't\", \"you'll\", \"aren't\", 'mightn', 'by', 'any', 'where', 'own', 'on', 'hasn', 'both', \"doesn't\", 'then', \"shan't\", 'until', 'under', 't', \"isn't\", 'through', 'wasn', 'did', 'them', 'won', 'up', \"don't\", 'such', 'after', 'here', 've', 'these', \"hasn't\", \"you'd\", \"she's\", 'most', 'again', 'when', 'ours', 'too', 'above', 'out', 'she', 'myself', 'each', 'below', 'have', 'why', 'will', 'in', 'whom', 'herself', 'at', \"didn't\", 'her', 'which', 'very', \"weren't\", 'only', 'if', 'ourselves', \"hadn't\", 'me', 'as', 'couldn', 'has', 'few', 'that', 'should', 'my', 'theirs', 'yourself', 'hers', 'our', 'no', 'can', 'haven', 'nor', 'needn', 'against', 'isn', 'there', 'i', 'does', \"won't\", \"haven't\", 'weren', 'hadn', 'don'}\n"
     ]
    }
   ],
   "source": [
    "REPLACE_BY_SPACE_RE = re.compile('[/(){}\\[\\]\\|@,;]')\n",
    "BAD_SYMBOLS_RE = re.compile('[^0-9a-z #+_]')\n",
    "STOPWORDS = set(stopwords.words('english'))\n",
    "print(STOPWORDS)\n",
    "\n",
    "def adjust_stopwords(stopwords):\n",
    "    words_to_keep = set(['nor', 'not', 'very', 'no', 'few', 'too', 'doesn', 'didn', 'wasn', 'ain', \n",
    "                        \"doesn't\", \"isn't\", \"hasn't\", 'shouldn', \"weren't\", \"don't\", \"didn't\", \n",
    "                        \"shouldn't\", \"wouldn't\", \"won't\", \"above\", \"below\", \"haven't\", \"shan't\", \"weren\"\n",
    "                        \"but\", \"wouldn\", \"mightn\", \"under\", \"mustn't\", \"over\", \"won\", \"aren\", \"wasn't\", \n",
    "                        \"than\"])\n",
    "    return stopwords - words_to_keep\n",
    "\n",
    "def clean_text(text):\n",
    "    \"\"\"\n",
    "        text: a string\n",
    "        \n",
    "        return: modified initial string\n",
    "    \"\"\"\n",
    "    new_text = BeautifulSoup(text, \"lxml\").text # HTML decoding\n",
    "    new_text = new_text.lower() # lowercase text\n",
    "    new_text = REPLACE_BY_SPACE_RE.sub(' ', new_text) # replace REPLACE_BY_SPACE_RE symbols by space in text\n",
    "    new_text = BAD_SYMBOLS_RE.sub(' ', new_text) # delete symbols which are in BAD_SYMBOLS_RE from text\n",
    "   \n",
    "    ps = PorterStemmer()\n",
    "    \n",
    "    new_text = ' '.join(ps.stem(word) for word in new_text.split()) # keeping all words, no stop word removal\n",
    "#     new_text = ' '.join(ps.stem(word) for word in new_text.split() if word not in STOPWORDS) # delete stopwords from text and stem\n",
    "    return new_text\n",
    "\n",
    "# STOPWORDS = adjust_stopwords(STOPWORDS)\n",
    "print(STOPWORDS)"
   ]
  },
  {
   "cell_type": "code",
   "execution_count": null,
   "metadata": {},
   "outputs": [],
   "source": [
    "%%time\n",
    "yelp['text'] = yelp['text'].apply(clean_text)\n",
    "yelp.to_csv('cleaned_yelp_stemmed.csv')"
   ]
  },
  {
   "cell_type": "code",
   "execution_count": 366,
   "metadata": {},
   "outputs": [
    {
     "data": {
      "text/plain": [
       "'sadli as of juli 28 2016 silverstein bakeri is perman close i went there today in person and found the bad news post on their door'"
      ]
     },
     "execution_count": 366,
     "metadata": {},
     "output_type": "execute_result"
    }
   ],
   "source": [
    "text_1 = \"\\\"Good morning, cocktails for you?\\\" \\nWait...what? Oh...it's Vegas!\\n\\nDining here, you best not be dieting because this place is literally the definition of excess, but in a good way. I'm a sucker for benedicts so that was awesome. \\nService was really great too and the staff was so welcoming. It was our first stop just after landing so really appreciate the service.\\n\\nBack in Hawaii this reminds me of Zippys or Anna Millers - that home feeling. Prices are a bit high, but for what you get it's totally worth it. Will remember this place if I ever return to Vegas in the future.\"\n",
    "text_2 = \"80 bucks, thirty minutes to fix my shattered iPhone screen. Verizon won't help you so go here\"\n",
    "text_3 = \"Tr\\u00e8s grand caf\\u00e9, mais aussi calme et reposant, je m'y suis arr\\u00eat\\u00e9 alors que j'\\u00e9tais dans le coin.\\n\\nOn peu y mang\\u00e9 le midi, prendre une p\\u00e2tisserie ou un caf\\u00e9/th\\u00e9. \\n\\nJ'ai prit un th\\u00e9 qui \\u00e9tait vraiment bon, et je me suis pos\\u00e9 devant une des grandes baies vitr\\u00e9es sur un coussin et j'ai relax\\u00e9 compl\\u00e8tement pendant 2 heures. \\n\\nMais c'est aussi une coop\\u00e9rative d'artiste, avec une estrade etc.\\n\\nIl y a aussi un magasin Bio \\u00e0 l'entr\\u00e9e o\\u00f9 vous retrouverez des savons, huile d'olive et plein d'autres produits.\"\n",
    "text_4 = \"Sadly, as of July 28, 2016, Silverstein bakery is permanently closed. I went there today in person and found the bad news posted on their door. :(\"\n",
    "text_5 = \"I went here  they were about to close but the cashier was especially helpful ..but I guess they were tired of work...\"\n",
    "\n",
    "clean_text(text_4)"
   ]
  },
  {
   "cell_type": "markdown",
   "metadata": {},
   "source": [
    "# Model Implementation"
   ]
  },
  {
   "cell_type": "markdown",
   "metadata": {},
   "source": [
    "### Evaluation\n",
    "#### 1. Average Star Error (Average Absolute offset between predicted and true number of stars)\n",
    "#### 2. Accuracy (Exact Match -- Number of exactly predicted star ratings / total samples)"
   ]
  },
  {
   "cell_type": "code",
   "execution_count": 367,
   "metadata": {},
   "outputs": [],
   "source": [
    "from keras.losses import mean_absolute_error, binary_crossentropy, categorical_crossentropy\n",
    "\n",
    "def my_custom_loss_ova(y_true, y_pred):\n",
    "    mse = mean_absolute_error(y_true, y_pred)\n",
    "    crossentropy = binary_crossentropy(y_true, y_pred)\n",
    "    return mse + crossentropy\n",
    "\n",
    "def my_custom_loss(y_true, y_pred):\n",
    "    mse = mean_absolute_error(y_true, y_pred)\n",
    "    crossentropy = categorical_crossentropy(y_true, y_pred)\n",
    "    return mse + crossentropy\n",
    "\n",
    "def MAE(y_true, y_pred):\n",
    "    diffs = np.abs(y_true - y_pred)\n",
    "    loss = np.mean(diffs)\n",
    "    return loss\n",
    "\n",
    "def Accuracy(y_true, y_pred):\n",
    "    correct = y_true == y_pred\n",
    "    cor_count = np.count_nonzero(correct)\n",
    "    return cor_count / len(y_true)\n",
    "\n",
    "def custom_loss(y_true, y_pred):\n",
    "    return MAE(y_true, y_pred) + Accuracy(y_true, y_pred)"
   ]
  },
  {
   "cell_type": "markdown",
   "metadata": {},
   "source": [
    "### Train/Test Split (Unbalanced and balanced)"
   ]
  },
  {
   "cell_type": "code",
   "execution_count": 368,
   "metadata": {},
   "outputs": [
    {
     "data": {
      "text/html": [
       "<div>\n",
       "<style scoped>\n",
       "    .dataframe tbody tr th:only-of-type {\n",
       "        vertical-align: middle;\n",
       "    }\n",
       "\n",
       "    .dataframe tbody tr th {\n",
       "        vertical-align: top;\n",
       "    }\n",
       "\n",
       "    .dataframe thead th {\n",
       "        text-align: right;\n",
       "    }\n",
       "</style>\n",
       "<table border=\"1\" class=\"dataframe\">\n",
       "  <thead>\n",
       "    <tr style=\"text-align: right;\">\n",
       "      <th></th>\n",
       "      <th>Unnamed: 0</th>\n",
       "      <th>review_id</th>\n",
       "      <th>text</th>\n",
       "      <th>stars</th>\n",
       "      <th>category</th>\n",
       "    </tr>\n",
       "  </thead>\n",
       "  <tbody>\n",
       "    <tr>\n",
       "      <th>0</th>\n",
       "      <td>0</td>\n",
       "      <td>Q1sbwvVQXV2734tPgoKj4Q</td>\n",
       "      <td>total bill for thi horribl servic over 8g thes...</td>\n",
       "      <td>1</td>\n",
       "      <td>Negative</td>\n",
       "    </tr>\n",
       "    <tr>\n",
       "      <th>1</th>\n",
       "      <td>1</td>\n",
       "      <td>GJXCdrto3ASJOqKeVWPi6Q</td>\n",
       "      <td>i ador travi at the hard rock s new kelli card...</td>\n",
       "      <td>5</td>\n",
       "      <td>Positive</td>\n",
       "    </tr>\n",
       "    <tr>\n",
       "      <th>2</th>\n",
       "      <td>2</td>\n",
       "      <td>2TzJjDVDEuAW6MR5Vuc1ug</td>\n",
       "      <td>i have to say that thi offic realli ha it toge...</td>\n",
       "      <td>5</td>\n",
       "      <td>Positive</td>\n",
       "    </tr>\n",
       "    <tr>\n",
       "      <th>3</th>\n",
       "      <td>3</td>\n",
       "      <td>yi0R0Ugj_xUx_Nek0-_Qig</td>\n",
       "      <td>went in for a lunch steak sandwich wa delici a...</td>\n",
       "      <td>5</td>\n",
       "      <td>Positive</td>\n",
       "    </tr>\n",
       "    <tr>\n",
       "      <th>4</th>\n",
       "      <td>4</td>\n",
       "      <td>11a8sVPMUFtaC7_ABRkmtw</td>\n",
       "      <td>today wa my second out of three session i had ...</td>\n",
       "      <td>1</td>\n",
       "      <td>Negative</td>\n",
       "    </tr>\n",
       "  </tbody>\n",
       "</table>\n",
       "</div>"
      ],
      "text/plain": [
       "   Unnamed: 0               review_id  \\\n",
       "0           0  Q1sbwvVQXV2734tPgoKj4Q   \n",
       "1           1  GJXCdrto3ASJOqKeVWPi6Q   \n",
       "2           2  2TzJjDVDEuAW6MR5Vuc1ug   \n",
       "3           3  yi0R0Ugj_xUx_Nek0-_Qig   \n",
       "4           4  11a8sVPMUFtaC7_ABRkmtw   \n",
       "\n",
       "                                                text  stars  category  \n",
       "0  total bill for thi horribl servic over 8g thes...      1  Negative  \n",
       "1  i ador travi at the hard rock s new kelli card...      5  Positive  \n",
       "2  i have to say that thi offic realli ha it toge...      5  Positive  \n",
       "3  went in for a lunch steak sandwich wa delici a...      5  Positive  \n",
       "4  today wa my second out of three session i had ...      1  Negative  "
      ]
     },
     "execution_count": 368,
     "metadata": {},
     "output_type": "execute_result"
    }
   ],
   "source": [
    "yelp = pd.read_csv('cleaned_yelp_stemmed.csv')\n",
    "yelp.head()"
   ]
  },
  {
   "cell_type": "code",
   "execution_count": 369,
   "metadata": {},
   "outputs": [],
   "source": [
    "X = yelp['text'].fillna('').values\n",
    "y = yelp['stars']\n",
    "\n",
    "X_train, X_test, y_train, y_test = train_test_split(X, y, test_size=0.30, random_state=42)"
   ]
  },
  {
   "cell_type": "code",
   "execution_count": 370,
   "metadata": {},
   "outputs": [
    {
     "name": "stdout",
     "output_type": "stream",
     "text": [
      "X_train shape: (373506, 3000)\n",
      "X_test shape: (160075, 3000)\n",
      "y_train shape: (373506, 5)\n",
      "y_test shape: (160075, 5)\n",
      "Wall time: 1min 24s\n"
     ]
    }
   ],
   "source": [
    "%%time\n",
    "max_words = 3000\n",
    "tokenizer = text.Tokenizer(num_words=max_words, char_level=False)\n",
    "\n",
    "tokenizer.fit_on_texts(X_train)\n",
    "X_train = tokenizer.texts_to_matrix(X_train)\n",
    "X_test = tokenizer.texts_to_matrix(X_test)\n",
    "\n",
    "encoder = LabelEncoder()\n",
    "encoder.fit(y_train)\n",
    "y_train = encoder.transform(y_train)\n",
    "y_test = encoder.transform(y_test)\n",
    "\n",
    "num_classes = np.max(y_train) + 1\n",
    "y_train = utils.to_categorical(y_train, num_classes)\n",
    "y_test = utils.to_categorical(y_test, num_classes)\n",
    "\n",
    "print('X_train shape:', X_train.shape)\n",
    "print('X_test shape:', X_test.shape)\n",
    "print('y_train shape:', y_train.shape)\n",
    "print('y_test shape:', y_test.shape)"
   ]
  },
  {
   "cell_type": "markdown",
   "metadata": {},
   "source": [
    "Let's save the tokenizer as well for our test submission file script."
   ]
  },
  {
   "cell_type": "code",
   "execution_count": 297,
   "metadata": {},
   "outputs": [],
   "source": [
    "# # saving\n",
    "# with open('tokenizer.pickle', 'wb') as handle:\n",
    "#     pickle.dump(tokenizer, handle, protocol=pickle.HIGHEST_PROTOCOL)\n",
    "\n",
    "# # loading\n",
    "# with open('tokenizer.pickle', 'rb') as handle:\n",
    "#     tokenizer = pickle.load(handle)"
   ]
  },
  {
   "cell_type": "markdown",
   "metadata": {},
   "source": [
    "### Baseline Sequential Model"
   ]
  },
  {
   "cell_type": "markdown",
   "metadata": {},
   "source": [
    "Here, we are computing a single model, but in future we will optimize on several parameters, listed below\n",
    "* Batch size\n",
    "* Learning rate\n",
    "* Gradient clipping\n",
    "* Drop out\n",
    "* Batch normalization\n",
    "* Optimizers\n",
    "* Regularization\n",
    "\n",
    "After some tests, the main variations I noticed were from the learning rate, regularization, and the choice of the optimizer. With that being said, this baseline model will use **ADAM with a learning rate of .0001 and regularization (kernel, bias, and activity)**"
   ]
  },
  {
   "cell_type": "code",
   "execution_count": 371,
   "metadata": {
    "scrolled": false
   },
   "outputs": [
    {
     "name": "stdout",
     "output_type": "stream",
     "text": [
      "Train on 298804 samples, validate on 74702 samples\n",
      "Epoch 1/10\n",
      "298804/298804 [==============================] - 29s 96us/step - loss: 1.4305 - accuracy: 0.7019 - mean_absolute_error: 0.1518 - val_loss: 1.2367 - val_accuracy: 0.7471 - val_mean_absolute_error: 0.1318\n",
      "Epoch 2/10\n",
      "298804/298804 [==============================] - 14s 48us/step - loss: 1.2009 - accuracy: 0.7506 - mean_absolute_error: 0.1282 - val_loss: 1.1696 - val_accuracy: 0.7496 - val_mean_absolute_error: 0.1287\n",
      "Epoch 3/10\n",
      "298804/298804 [==============================] - 12s 39us/step - loss: 1.1109 - accuracy: 0.7650 - mean_absolute_error: 0.1232 - val_loss: 1.1225 - val_accuracy: 0.7517 - val_mean_absolute_error: 0.1273\n",
      "Epoch 4/10\n",
      "298804/298804 [==============================] - 11s 38us/step - loss: 1.0397 - accuracy: 0.7758 - mean_absolute_error: 0.1198 - val_loss: 1.0870 - val_accuracy: 0.7522 - val_mean_absolute_error: 0.1254\n",
      "Epoch 5/10\n",
      "298804/298804 [==============================] - 11s 37us/step - loss: 0.9818 - accuracy: 0.7844 - mean_absolute_error: 0.1169 - val_loss: 1.0571 - val_accuracy: 0.7522 - val_mean_absolute_error: 0.1247\n",
      "Epoch 6/10\n",
      "298804/298804 [==============================] - 11s 37us/step - loss: 0.9304 - accuracy: 0.7935 - mean_absolute_error: 0.1139 - val_loss: 1.0336 - val_accuracy: 0.7516 - val_mean_absolute_error: 0.1255\n",
      "Epoch 7/10\n",
      "298804/298804 [==============================] - 11s 38us/step - loss: 0.8866 - accuracy: 0.8017 - mean_absolute_error: 0.1111 - val_loss: 1.0138 - val_accuracy: 0.7526 - val_mean_absolute_error: 0.1257\n",
      "Epoch 8/10\n",
      "298804/298804 [==============================] - 11s 38us/step - loss: 0.8465 - accuracy: 0.8097 - mean_absolute_error: 0.1082 - val_loss: 1.0030 - val_accuracy: 0.7535 - val_mean_absolute_error: 0.1224\n",
      "Epoch 9/10\n",
      "298804/298804 [==============================] - 12s 39us/step - loss: 0.8130 - accuracy: 0.8174 - mean_absolute_error: 0.1054 - val_loss: 0.9924 - val_accuracy: 0.7523 - val_mean_absolute_error: 0.1230\n",
      "Epoch 10/10\n",
      "298804/298804 [==============================] - 11s 38us/step - loss: 0.7795 - accuracy: 0.8252 - mean_absolute_error: 0.1024 - val_loss: 0.9852 - val_accuracy: 0.7518 - val_mean_absolute_error: 0.1228\n"
     ]
    }
   ],
   "source": [
    "batch_size = 512\n",
    "epochs = 10\n",
    "\n",
    "lr_schedule = keras.optimizers.schedules.ExponentialDecay(\n",
    "    initial_learning_rate=.0001,\n",
    "    decay_steps=10000,\n",
    "    decay_rate=0.9)\n",
    "\n",
    "optimizer = keras.optimizers.Adam(learning_rate=lr_schedule, beta_1=0.9, beta_2=0.95, amsgrad=False)\n",
    "\n",
    "baseline = Sequential()\n",
    "baseline.add(Dense(512, input_shape=(max_words,), kernel_regularizer=regularizers.l1_l2(l1=1e-5, l2=1e-4),\n",
    "          bias_regularizer=regularizers.l2(1e-4),\n",
    "          activity_regularizer=regularizers.l2(1e-5)))\n",
    "baseline.add(BatchNormalization())\n",
    "baseline.add(Activation('relu'))\n",
    "baseline.add(Dropout(0.3))\n",
    "baseline.add(Dense(5))\n",
    "baseline.add(Activation('softmax'))\n",
    "\n",
    "baseline.compile(loss=my_custom_loss,\n",
    "              optimizer=optimizer,\n",
    "              metrics=['accuracy', 'mean_absolute_error'])\n",
    "\n",
    "history = baseline.fit(X_train, y_train,\n",
    "                    batch_size=batch_size,\n",
    "                    epochs=epochs,\n",
    "                    verbose=1,\n",
    "                    validation_split=0.2)"
   ]
  },
  {
   "cell_type": "code",
   "execution_count": 372,
   "metadata": {},
   "outputs": [
    {
     "name": "stdout",
     "output_type": "stream",
     "text": [
      "160075/160075 [==============================] - 19s 117us/step\n",
      "Test accuracy: 0.7539340853691101\n"
     ]
    }
   ],
   "source": [
    "score = baseline.evaluate(X_test, y_test,\n",
    "                       batch_size=batch_size, verbose=1)\n",
    "print('Test accuracy:', score[1])"
   ]
  },
  {
   "cell_type": "code",
   "execution_count": 373,
   "metadata": {},
   "outputs": [
    {
     "data": {
      "image/png": "[encoded data removed]",
      "text/plain": [
       "<Figure size 432x288 with 1 Axes>"
      ]
     },
     "metadata": {
      "needs_background": "light"
     },
     "output_type": "display_data"
    }
   ],
   "source": [
    "plt.title('Loss')\n",
    "plt.plot(history.history['loss'], label='train')\n",
    "plt.plot(history.history['val_loss'], label='test')\n",
    "plt.legend()\n",
    "plt.show()"
   ]
  },
  {
   "cell_type": "code",
   "execution_count": 374,
   "metadata": {},
   "outputs": [
    {
     "data": {
      "image/png": "[encoded data removed]",
      "text/plain": [
       "<Figure size 432x288 with 1 Axes>"
      ]
     },
     "metadata": {
      "needs_background": "light"
     },
     "output_type": "display_data"
    }
   ],
   "source": [
    "plt.title('Accuracy')\n",
    "plt.plot(history.history['accuracy'], label='train')\n",
    "plt.plot(history.history['val_accuracy'], label='test')\n",
    "plt.legend()\n",
    "plt.show()"
   ]
  },
  {
   "cell_type": "code",
   "execution_count": 375,
   "metadata": {},
   "outputs": [
    {
     "data": {
      "text/html": [
       "<div>\n",
       "<style scoped>\n",
       "    .dataframe tbody tr th:only-of-type {\n",
       "        vertical-align: middle;\n",
       "    }\n",
       "\n",
       "    .dataframe tbody tr th {\n",
       "        vertical-align: top;\n",
       "    }\n",
       "\n",
       "    .dataframe thead th {\n",
       "        text-align: right;\n",
       "    }\n",
       "</style>\n",
       "<table border=\"1\" class=\"dataframe\">\n",
       "  <thead>\n",
       "    <tr style=\"text-align: right;\">\n",
       "      <th></th>\n",
       "      <th>1</th>\n",
       "      <th>2</th>\n",
       "      <th>3</th>\n",
       "      <th>4</th>\n",
       "      <th>5</th>\n",
       "    </tr>\n",
       "  </thead>\n",
       "  <tbody>\n",
       "    <tr>\n",
       "      <th>1</th>\n",
       "      <td>34839</td>\n",
       "      <td>5028</td>\n",
       "      <td>1495</td>\n",
       "      <td>704</td>\n",
       "      <td>1203</td>\n",
       "    </tr>\n",
       "    <tr>\n",
       "      <th>2</th>\n",
       "      <td>1965</td>\n",
       "      <td>2835</td>\n",
       "      <td>1520</td>\n",
       "      <td>491</td>\n",
       "      <td>274</td>\n",
       "    </tr>\n",
       "    <tr>\n",
       "      <th>3</th>\n",
       "      <td>516</td>\n",
       "      <td>1415</td>\n",
       "      <td>2847</td>\n",
       "      <td>1512</td>\n",
       "      <td>460</td>\n",
       "    </tr>\n",
       "    <tr>\n",
       "      <th>4</th>\n",
       "      <td>315</td>\n",
       "      <td>745</td>\n",
       "      <td>2802</td>\n",
       "      <td>7879</td>\n",
       "      <td>4198</td>\n",
       "    </tr>\n",
       "    <tr>\n",
       "      <th>5</th>\n",
       "      <td>1252</td>\n",
       "      <td>720</td>\n",
       "      <td>1599</td>\n",
       "      <td>11175</td>\n",
       "      <td>72286</td>\n",
       "    </tr>\n",
       "  </tbody>\n",
       "</table>\n",
       "</div>"
      ],
      "text/plain": [
       "       1     2     3      4      5\n",
       "1  34839  5028  1495    704   1203\n",
       "2   1965  2835  1520    491    274\n",
       "3    516  1415  2847   1512    460\n",
       "4    315   745  2802   7879   4198\n",
       "5   1252   720  1599  11175  72286"
      ]
     },
     "execution_count": 375,
     "metadata": {},
     "output_type": "execute_result"
    }
   ],
   "source": [
    "# Get model output\n",
    "y_pred = baseline.predict(X_test)\n",
    "\n",
    "cols = [1, 2, 3, 4, 5]\n",
    "\n",
    "# Creating predictions table\n",
    "baseline_ps = pd.DataFrame(data=y_pred, columns=cols)\n",
    "y_pred_true = baseline_ps.idxmax(axis=1)\n",
    "\n",
    "# Creating truth\n",
    "baseline_truth = pd.DataFrame(data=y_test, columns=cols)\n",
    "y_test_true = baseline_truth.idxmax(axis=1)\n",
    "\n",
    "# Confusion matrix\n",
    "cm = confusion_matrix(y_pred_true, y_test_true)\n",
    "pd.DataFrame(cm, index=cols, columns=cols)"
   ]
  },
  {
   "cell_type": "code",
   "execution_count": 376,
   "metadata": {},
   "outputs": [
    {
     "name": "stdout",
     "output_type": "stream",
     "text": [
      "              precision    recall  f1-score   support\n",
      "\n",
      "           1       0.90      0.81      0.85     43269\n",
      "           2       0.26      0.40      0.32      7085\n",
      "           3       0.28      0.42      0.33      6750\n",
      "           4       0.36      0.49      0.42     15939\n",
      "           5       0.92      0.83      0.87     87032\n",
      "\n",
      "    accuracy                           0.75    160075\n",
      "   macro avg       0.54      0.59      0.56    160075\n",
      "weighted avg       0.80      0.75      0.77    160075\n",
      "\n"
     ]
    }
   ],
   "source": [
    "print(classification_report(y_pred_true, y_test_true))"
   ]
  },
  {
   "cell_type": "code",
   "execution_count": 377,
   "metadata": {},
   "outputs": [
    {
     "data": {
      "image/png": "[encoded data removed]",
      "text/plain": [
       "<IPython.core.display.Image object>"
      ]
     },
     "execution_count": 377,
     "metadata": {},
     "output_type": "execute_result"
    }
   ],
   "source": [
    "plot_model(baseline, to_file='baseline.png', show_shapes=True)"
   ]
  },
  {
   "cell_type": "markdown",
   "metadata": {},
   "source": [
    "Let's save this model."
   ]
  },
  {
   "cell_type": "code",
   "execution_count": null,
   "metadata": {},
   "outputs": [],
   "source": [
    "# baseline.save('./models/baseline.h5')"
   ]
  },
  {
   "cell_type": "markdown",
   "metadata": {},
   "source": [
    "### Now training with several parameter changes"
   ]
  },
  {
   "cell_type": "code",
   "execution_count": null,
   "metadata": {},
   "outputs": [],
   "source": [
    "batch_sizes = [128, 256, 512]\n",
    "epochs = [5]\n",
    "learning_rates = [.01, .001, .0001]\n",
    "dropout = [False, True]\n",
    "batch_norm = [False, True]\n",
    "regularization = [True]\n",
    "optimizers = [\"SGD\", \"RMSProp\", \"ADAM\"]\n",
    "\n",
    "all_lists = [batch_sizes, epochs, learning_rates, dropout, batch_norm, regularization, optimizers]\n",
    "\n",
    "params_to_test = list(itertools.product(*all_lists))\n",
    "print(len(params_to_test))"
   ]
  },
  {
   "cell_type": "code",
   "execution_count": null,
   "metadata": {},
   "outputs": [],
   "source": [
    "models = {}\n",
    "histories = {}\n",
    "scores = {}\n",
    "\n",
    "for params in params_to_test:\n",
    "    print(params)\n",
    "    batch_size, epochs, learning_rate, dropout, batch_norm, regularization, opt = params\n",
    "    \n",
    "    if opt == \"SGD\":\n",
    "        optimizer = keras.optimizers.SGD(learning_rate=learning_rate, momentum=0.0, nesterov=False)\n",
    "    elif opt == \"RMSProp\":\n",
    "        optimizer = keras.optimizers.RMSprop(learning_rate=learning_rate, rho=0.9)\n",
    "    elif opt == \"ADAM\":\n",
    "        optimizer = keras.optimizers.Adam(learning_rate=learning_rate, beta_1=0.9, beta_2=0.99, amsgrad=False)\n",
    "    else:\n",
    "        optimizer = keras.optimizers.Adadelta(learning_rate=learning_rate, rho=0.95)\n",
    "    \n",
    "    model = Sequential()\n",
    "    model.add(Dense(512, input_shape=(max_words,), kernel_regularizer=regularizers.l1_l2(l1=1e-5, l2=1e-4)))\n",
    "    \n",
    "    # Check Batch Normalization\n",
    "    if batch_norm:\n",
    "        model.add(BatchNormalization())\n",
    "    \n",
    "    model.add(Activation('relu'))\n",
    "    \n",
    "    # Check Dropout\n",
    "    if dropout:\n",
    "        model.add(Dropout(0.2))\n",
    "    \n",
    "    model.add(Dense(5))\n",
    "    model.add(Activation('softmax'))\n",
    "\n",
    "    model.compile(loss='categorical_crossentropy',\n",
    "                  optimizer=optimizer,\n",
    "                  metrics=['accuracy'])\n",
    "\n",
    "    history = model.fit(X_train, y_train,\n",
    "                        batch_size=batch_size,\n",
    "                        epochs=epochs,\n",
    "                        verbose=0,\n",
    "                        validation_split=0.1)\n",
    "    \n",
    "    models[params] = model\n",
    "    histories[params] = history\n",
    "    \n",
    "    score = model.evaluate(X_test, y_test, batch_size=batch_size, verbose=1)\n",
    "    print(score)\n",
    "    \n",
    "    scores[params] = score"
   ]
  },
  {
   "cell_type": "markdown",
   "metadata": {},
   "source": [
    "### LSTM Model\n"
   ]
  },
  {
   "cell_type": "markdown",
   "metadata": {},
   "source": [
    "#### Specific Data Prep"
   ]
  },
  {
   "cell_type": "code",
   "execution_count": 378,
   "metadata": {},
   "outputs": [
    {
     "name": "stdout",
     "output_type": "stream",
     "text": [
      "(373506,) (373506, 5)\n",
      "(160075,) (160075, 5)\n",
      "Wall time: 40.8 s\n"
     ]
    }
   ],
   "source": [
    "%%time\n",
    "X = yelp['text'].fillna('').values\n",
    "y = pd.get_dummies(yelp['stars']).values\n",
    "\n",
    "X_train, X_test, y_train, y_test = train_test_split(X, y, test_size=0.3, random_state=42)\n",
    "print(X_train.shape, y_train.shape)\n",
    "print(X_test.shape, y_test.shape)\n",
    "\n",
    "max_words = 3000\n",
    "maxlen = 400\n",
    "\n",
    "X_train = tokenizer.texts_to_sequences(X_train)\n",
    "X_test = tokenizer.texts_to_sequences(X_test)\n",
    "\n",
    "# For the LSTM, we are going to pad our sequences\n",
    "X_train = pad_sequences(X_train, maxlen=maxlen)\n",
    "X_test = pad_sequences(X_test, maxlen=maxlen)"
   ]
  },
  {
   "cell_type": "markdown",
   "metadata": {},
   "source": [
    "#### LSTM #1"
   ]
  },
  {
   "cell_type": "code",
   "execution_count": 379,
   "metadata": {},
   "outputs": [
    {
     "name": "stdout",
     "output_type": "stream",
     "text": [
      "Train on 298804 samples, validate on 74702 samples\n",
      "Epoch 1/5\n",
      "298804/298804 [==============================] - 83s 279us/step - loss: 0.9697 - accuracy: 0.7080 - mean_absolute_error: 0.1778 - val_loss: 0.7979 - val_accuracy: 0.7487 - val_mean_absolute_error: 0.1313\n",
      "Epoch 2/5\n",
      "298804/298804 [==============================] - 81s 271us/step - loss: 0.7740 - accuracy: 0.7539 - mean_absolute_error: 0.1175 - val_loss: 0.7339 - val_accuracy: 0.7630 - val_mean_absolute_error: 0.1139\n",
      "Epoch 3/5\n",
      "298804/298804 [==============================] - 81s 271us/step - loss: 0.7270 - accuracy: 0.7642 - mean_absolute_error: 0.1097 - val_loss: 0.7215 - val_accuracy: 0.7642 - val_mean_absolute_error: 0.1077\n",
      "Epoch 4/5\n",
      "298804/298804 [==============================] - 81s 271us/step - loss: 0.7007 - accuracy: 0.7721 - mean_absolute_error: 0.1066 - val_loss: 0.7005 - val_accuracy: 0.7706 - val_mean_absolute_error: 0.1062\n",
      "Epoch 5/5\n",
      "298804/298804 [==============================] - 81s 271us/step - loss: 0.6828 - accuracy: 0.7781 - mean_absolute_error: 0.1046 - val_loss: 0.7023 - val_accuracy: 0.7746 - val_mean_absolute_error: 0.1059\n"
     ]
    }
   ],
   "source": [
    "batch_size = 512\n",
    "epochs = 5\n",
    "\n",
    "lr_schedule = keras.optimizers.schedules.ExponentialDecay(\n",
    "    initial_learning_rate=.001,\n",
    "    decay_steps=10000,\n",
    "    decay_rate=0.9)\n",
    "\n",
    "optimizer = keras.optimizers.Adam(learning_rate=lr_schedule, beta_1=0.9, beta_2=0.99, amsgrad=False, clipvalue=.3)\n",
    "\n",
    "lstm = Sequential()\n",
    "lstm.add(Embedding(max_words, 128, input_length=maxlen))\n",
    "lstm.add(SpatialDropout1D(0.2))\n",
    "lstm.add(Conv1D(64, 5, activation='relu', kernel_regularizer=regularizers.l1_l2(l1=1e-5, l2=1e-4),\n",
    "          bias_regularizer=regularizers.l2(1e-4)))\n",
    "lstm.add(MaxPooling1D(pool_size=4))\n",
    "lstm.add(LSTM(128, dropout=0.2, recurrent_dropout=0.2))\n",
    "lstm.add(BatchNormalization())\n",
    "lstm.add(Dense(5, activation='sigmoid'))\n",
    "\n",
    "lstm.compile(loss=my_custom_loss,\n",
    "              optimizer=optimizer,\n",
    "              metrics=['accuracy', 'mean_absolute_error'])\n",
    "\n",
    "history = lstm.fit(X_train, y_train,\n",
    "                    batch_size=batch_size,\n",
    "                    epochs=epochs,\n",
    "                    verbose=1,\n",
    "                    validation_split=0.2)"
   ]
  },
  {
   "cell_type": "markdown",
   "metadata": {},
   "source": [
    "#### LSTM #1: Evaluation"
   ]
  },
  {
   "cell_type": "code",
   "execution_count": 380,
   "metadata": {},
   "outputs": [
    {
     "name": "stdout",
     "output_type": "stream",
     "text": [
      "160075/160075 [==============================] - 11s 66us/step\n",
      "Test accuracy: 0.7741308808326721\n"
     ]
    }
   ],
   "source": [
    "score = lstm.evaluate(X_test, y_test,\n",
    "                       batch_size=batch_size, verbose=1)\n",
    "print('Test accuracy:', score[1])"
   ]
  },
  {
   "cell_type": "code",
   "execution_count": 381,
   "metadata": {},
   "outputs": [
    {
     "name": "stdout",
     "output_type": "stream",
     "text": [
      "Model: \"sequential_41\"\n",
      "_________________________________________________________________\n",
      "Layer (type)                 Output Shape              Param #   \n",
      "=================================================================\n",
      "embedding_32 (Embedding)     (None, 400, 128)          384000    \n",
      "_________________________________________________________________\n",
      "spatial_dropout1d_32 (Spatia (None, 400, 128)          0         \n",
      "_________________________________________________________________\n",
      "conv1d_32 (Conv1D)           (None, 396, 64)           41024     \n",
      "_________________________________________________________________\n",
      "max_pooling1d_32 (MaxPooling (None, 99, 64)            0         \n",
      "_________________________________________________________________\n",
      "lstm_32 (LSTM)               (None, 128)               98816     \n",
      "_________________________________________________________________\n",
      "batch_normalization_41 (Batc (None, 128)               512       \n",
      "_________________________________________________________________\n",
      "dense_76 (Dense)             (None, 5)                 645       \n",
      "=================================================================\n",
      "Total params: 524,997\n",
      "Trainable params: 524,741\n",
      "Non-trainable params: 256\n",
      "_________________________________________________________________\n"
     ]
    }
   ],
   "source": [
    "lstm.summary()"
   ]
  },
  {
   "cell_type": "code",
   "execution_count": 382,
   "metadata": {},
   "outputs": [
    {
     "data": {
      "image/png": "[encoded data removed]",
      "text/plain": [
       "<Figure size 432x288 with 1 Axes>"
      ]
     },
     "metadata": {
      "needs_background": "light"
     },
     "output_type": "display_data"
    }
   ],
   "source": [
    "plt.title('Loss')\n",
    "plt.plot(history.history['loss'], label='train')\n",
    "plt.plot(history.history['val_loss'], label='test')\n",
    "plt.legend()\n",
    "plt.show()"
   ]
  },
  {
   "cell_type": "code",
   "execution_count": 383,
   "metadata": {},
   "outputs": [
    {
     "data": {
      "image/png": "[encoded data removed]",
      "text/plain": [
       "<Figure size 432x288 with 1 Axes>"
      ]
     },
     "metadata": {
      "needs_background": "light"
     },
     "output_type": "display_data"
    }
   ],
   "source": [
    "plt.title('Accuracy')\n",
    "plt.plot(history.history['accuracy'], label='train')\n",
    "plt.plot(history.history['val_accuracy'], label='test')\n",
    "plt.legend()\n",
    "plt.show()"
   ]
  },
  {
   "cell_type": "code",
   "execution_count": 384,
   "metadata": {},
   "outputs": [
    {
     "data": {
      "text/html": [
       "<div>\n",
       "<style scoped>\n",
       "    .dataframe tbody tr th:only-of-type {\n",
       "        vertical-align: middle;\n",
       "    }\n",
       "\n",
       "    .dataframe tbody tr th {\n",
       "        vertical-align: top;\n",
       "    }\n",
       "\n",
       "    .dataframe thead th {\n",
       "        text-align: right;\n",
       "    }\n",
       "</style>\n",
       "<table border=\"1\" class=\"dataframe\">\n",
       "  <thead>\n",
       "    <tr style=\"text-align: right;\">\n",
       "      <th></th>\n",
       "      <th>1</th>\n",
       "      <th>2</th>\n",
       "      <th>3</th>\n",
       "      <th>4</th>\n",
       "      <th>5</th>\n",
       "    </tr>\n",
       "  </thead>\n",
       "  <tbody>\n",
       "    <tr>\n",
       "      <th>1</th>\n",
       "      <td>35396</td>\n",
       "      <td>4991</td>\n",
       "      <td>1187</td>\n",
       "      <td>393</td>\n",
       "      <td>547</td>\n",
       "    </tr>\n",
       "    <tr>\n",
       "      <th>2</th>\n",
       "      <td>1565</td>\n",
       "      <td>3039</td>\n",
       "      <td>1387</td>\n",
       "      <td>213</td>\n",
       "      <td>69</td>\n",
       "    </tr>\n",
       "    <tr>\n",
       "      <th>3</th>\n",
       "      <td>406</td>\n",
       "      <td>1616</td>\n",
       "      <td>3308</td>\n",
       "      <td>1288</td>\n",
       "      <td>230</td>\n",
       "    </tr>\n",
       "    <tr>\n",
       "      <th>4</th>\n",
       "      <td>185</td>\n",
       "      <td>514</td>\n",
       "      <td>2953</td>\n",
       "      <td>7576</td>\n",
       "      <td>2975</td>\n",
       "    </tr>\n",
       "    <tr>\n",
       "      <th>5</th>\n",
       "      <td>1335</td>\n",
       "      <td>583</td>\n",
       "      <td>1428</td>\n",
       "      <td>12291</td>\n",
       "      <td>74600</td>\n",
       "    </tr>\n",
       "  </tbody>\n",
       "</table>\n",
       "</div>"
      ],
      "text/plain": [
       "       1     2     3      4      5\n",
       "1  35396  4991  1187    393    547\n",
       "2   1565  3039  1387    213     69\n",
       "3    406  1616  3308   1288    230\n",
       "4    185   514  2953   7576   2975\n",
       "5   1335   583  1428  12291  74600"
      ]
     },
     "execution_count": 384,
     "metadata": {},
     "output_type": "execute_result"
    }
   ],
   "source": [
    "# Get model output\n",
    "y_pred = lstm.predict(X_test)\n",
    "y_pred\n",
    "\n",
    "cols = [1, 2, 3, 4, 5]\n",
    "\n",
    "# Creating predictions table\n",
    "baseline_ps = pd.DataFrame(data=y_pred, columns=cols)\n",
    "y_pred_true = baseline_ps.idxmax(axis=1)\n",
    "y_pred_true\n",
    "\n",
    "# Creating truth\n",
    "baseline_truth = pd.DataFrame(data=y_test, columns=cols)\n",
    "y_test_true = baseline_truth.idxmax(axis=1)\n",
    "y_test_true\n",
    "\n",
    "# Confusion matrix\n",
    "cm = confusion_matrix(y_pred_true, y_test_true)\n",
    "pd.DataFrame(cm, index=cols, columns=cols)"
   ]
  },
  {
   "cell_type": "code",
   "execution_count": 385,
   "metadata": {},
   "outputs": [
    {
     "name": "stdout",
     "output_type": "stream",
     "text": [
      "              precision    recall  f1-score   support\n",
      "\n",
      "           1       0.91      0.83      0.87     42514\n",
      "           2       0.28      0.48      0.36      6273\n",
      "           3       0.32      0.48      0.39      6848\n",
      "           4       0.35      0.53      0.42     14203\n",
      "           5       0.95      0.83      0.88     90237\n",
      "\n",
      "    accuracy                           0.77    160075\n",
      "   macro avg       0.56      0.63      0.58    160075\n",
      "weighted avg       0.83      0.77      0.80    160075\n",
      "\n"
     ]
    }
   ],
   "source": [
    "print(classification_report(y_pred_true, y_test_true))"
   ]
  },
  {
   "cell_type": "code",
   "execution_count": 386,
   "metadata": {},
   "outputs": [
    {
     "data": {
      "image/png": "[encoded data removed]",
      "text/plain": [
       "<IPython.core.display.Image object>"
      ]
     },
     "execution_count": 386,
     "metadata": {},
     "output_type": "execute_result"
    }
   ],
   "source": [
    "plot_model(lstm, to_file='baseline.png', show_shapes=True)"
   ]
  },
  {
   "cell_type": "markdown",
   "metadata": {},
   "source": [
    "Let's save this model as well."
   ]
  },
  {
   "cell_type": "code",
   "execution_count": null,
   "metadata": {},
   "outputs": [],
   "source": [
    "# lstm.save('./models/lstm.h5')"
   ]
  },
  {
   "cell_type": "markdown",
   "metadata": {},
   "source": [
    "#### LSTM #2"
   ]
  },
  {
   "cell_type": "code",
   "execution_count": null,
   "metadata": {},
   "outputs": [],
   "source": [
    "batch_size = 128\n",
    "epochs = 5\n",
    "\n",
    "lr_schedule = keras.optimizers.schedules.ExponentialDecay(\n",
    "    initial_learning_rate=.001,\n",
    "    decay_steps=10000,\n",
    "    decay_rate=0.9)\n",
    "\n",
    "optimizer = keras.optimizers.Adam(learning_rate=lr_schedule, beta_1=0.9, beta_2=0.99, amsgrad=False, clipvalue=.3)\n",
    "\n",
    "lstm_v2 = Sequential()\n",
    "lstm_v2.add(Embedding(max_words, 128, input_length=maxlen))\n",
    "lstm_v2.add(SpatialDropout1D(0.3))\n",
    "lstm_v2.add(Bidirectional(LSTM(128, dropout=0.3, recurrent_dropout=0.3)))\n",
    "lstm_v2.add(Dense(128, activation='relu'))\n",
    "lstm_v2.add(Dropout(0.2))\n",
    "lstm_v2.add(Dense(128, activation='relu'))\n",
    "lstm_v2.add(Dropout(0.2))\n",
    "lstm_v2.add(Dense(5, activation='sigmoid'))\n",
    "\n",
    "lstm_v2.compile(loss='categorical_crossentropy',\n",
    "              optimizer=optimizer,\n",
    "              metrics=['accuracy'])\n",
    "\n",
    "history = lstm_v2.fit(X_train, y_train,\n",
    "                    batch_size=batch_size,\n",
    "                    epochs=epochs,\n",
    "                    verbose=1,\n",
    "                    validation_split=0.2)"
   ]
  },
  {
   "cell_type": "markdown",
   "metadata": {},
   "source": [
    "#### LSTM #2: Evaluation"
   ]
  },
  {
   "cell_type": "code",
   "execution_count": null,
   "metadata": {},
   "outputs": [],
   "source": [
    "score = lstm_v2.evaluate(X_test, y_test,\n",
    "                       batch_size=batch_size, verbose=1)\n",
    "print('Test accuracy:', score[1])"
   ]
  },
  {
   "cell_type": "code",
   "execution_count": null,
   "metadata": {},
   "outputs": [],
   "source": [
    "lstm_v2.summary()"
   ]
  },
  {
   "cell_type": "code",
   "execution_count": null,
   "metadata": {},
   "outputs": [],
   "source": [
    "plt.title('Loss')\n",
    "plt.plot(history.history['loss'], label='train')\n",
    "plt.plot(history.history['val_loss'], label='test')\n",
    "plt.legend()\n",
    "plt.show()"
   ]
  },
  {
   "cell_type": "code",
   "execution_count": null,
   "metadata": {},
   "outputs": [],
   "source": [
    "plt.title('Accuracy')\n",
    "plt.plot(history.history['accuracy'], label='train')\n",
    "plt.plot(history.history['val_accuracy'], label='test')\n",
    "plt.legend()\n",
    "plt.show()"
   ]
  },
  {
   "cell_type": "markdown",
   "metadata": {},
   "source": [
    "Let's save this model as well."
   ]
  },
  {
   "cell_type": "code",
   "execution_count": null,
   "metadata": {},
   "outputs": [],
   "source": [
    "lstm.save('./models/lstm_v2.h5')"
   ]
  },
  {
   "cell_type": "markdown",
   "metadata": {},
   "source": [
    "### One vs. All Approach\n",
    "In the one vs. all approach, it goes by the following idea:\n",
    "- We will have $N$ learners for the multi-class classification problem, where $N$ is the number of classes\n",
    "- For each learner $L$, we will train $L$ on our training data $X_{Train}$ and $y_{Train}$. However, $y_{Train}$ consists of only one label, making it a binary classification problem instead of multinomial\n",
    "    - For instance, learner $L_1$ will still use all of $X_{Train}$, but $y_{Train}$ will now be transformed to be a binary vector $v_i$ where $i$ denotes the star rating we are attempting to predict\n",
    "- Once we have concluded our training, we will then create an ensemble model (bagging) that does the following\n",
    "    1. $L_1$, $L_2$, ..., $L_5$ all assign $p_i$ to each record in $X_{Test}$, where $p_i$ is the likelihood observation $x_n$ belongs to class $i$\n",
    "    2. From there, our prediction is the following: $P_n = argmax(p_1, p_2, p_3, p_4, p_5)$\n",
    "    \n",
    "After observing the challenge datasets 5 & 6, my partner and I believe this approach is a clever way to tackle the challenges while still having a strong model.\n",
    "\n",
    "Sources: https://developers.google.com/machine-learning/crash-course/multi-class-neural-networks/one-vs-all"
   ]
  },
  {
   "cell_type": "code",
   "execution_count": 387,
   "metadata": {},
   "outputs": [
    {
     "name": "stdout",
     "output_type": "stream",
     "text": [
      "X_train shape: (373506, 400)\n",
      "X_test shape: (160075, 400)\n",
      "y_train shape: (373506, 5)\n",
      "y_test shape: (160075, 5)\n"
     ]
    }
   ],
   "source": [
    "yelp = pd.read_csv('cleaned_yelp_stemmed.csv')\n",
    "\n",
    "X = yelp['text'].fillna('').values\n",
    "y = pd.get_dummies(yelp['stars']).values\n",
    "\n",
    "X_train, X_test, y_train, y_test = train_test_split(X, y, test_size=0.30, random_state=42)\n",
    "\n",
    "# loading\n",
    "# with open('tokenizer.pickle', 'rb') as handle:\n",
    "#     tokenizer = pickle.load(handle)\n",
    "\n",
    "max_words = 3000\n",
    "maxlen = 400\n",
    "\n",
    "X_train = tokenizer.texts_to_sequences(X_train)\n",
    "X_test = tokenizer.texts_to_sequences(X_test)\n",
    "X_train = pad_sequences(X_train, maxlen=maxlen)\n",
    "X_test = pad_sequences(X_test, maxlen=maxlen)\n",
    "\n",
    "print('X_train shape:', X_train.shape)\n",
    "print('X_test shape:', X_test.shape)\n",
    "print('y_train shape:', y_train.shape)\n",
    "print('y_test shape:', y_test.shape)"
   ]
  },
  {
   "cell_type": "markdown",
   "metadata": {},
   "source": [
    "#### Buidling all models"
   ]
  },
  {
   "cell_type": "code",
   "execution_count": 388,
   "metadata": {
    "scrolled": false
   },
   "outputs": [
    {
     "name": "stdout",
     "output_type": "stream",
     "text": [
      "1\n",
      "Train on 298804 samples, validate on 74702 samples\n",
      "Epoch 1/2\n",
      "298804/298804 [==============================] - 78s 262us/step - loss: 0.3618 - accuracy: 0.9112 - mean_absolute_error: 0.1195 - val_loss: 0.3157 - val_accuracy: 0.9185 - val_mean_absolute_error: 0.1026\n",
      "Epoch 2/2\n",
      "298804/298804 [==============================] - 78s 261us/step - loss: 0.2660 - accuracy: 0.9350 - mean_absolute_error: 0.0849 - val_loss: 0.3055 - val_accuracy: 0.9227 - val_mean_absolute_error: 0.0926\n",
      "2\n",
      "Train on 298804 samples, validate on 74702 samples\n",
      "Epoch 1/2\n",
      "298804/298804 [==============================] - 79s 263us/step - loss: 0.3496 - accuracy: 0.9257 - mean_absolute_error: 0.1120 - val_loss: 0.3363 - val_accuracy: 0.9324 - val_mean_absolute_error: 0.0762\n",
      "Epoch 2/2\n",
      "298804/298804 [==============================] - 78s 261us/step - loss: 0.2749 - accuracy: 0.9364 - mean_absolute_error: 0.0843 - val_loss: 0.2991 - val_accuracy: 0.9346 - val_mean_absolute_error: 0.0763\n",
      "3\n",
      "Train on 298804 samples, validate on 74702 samples\n",
      "Epoch 1/3\n",
      "298804/298804 [==============================] - 79s 263us/step - loss: 0.3415 - accuracy: 0.9284 - mean_absolute_error: 0.1099 - val_loss: 0.3637 - val_accuracy: 0.9363 - val_mean_absolute_error: 0.0670\n",
      "Epoch 2/3\n",
      "298804/298804 [==============================] - 78s 262us/step - loss: 0.2649 - accuracy: 0.9398 - mean_absolute_error: 0.0799 - val_loss: 0.3078 - val_accuracy: 0.9332 - val_mean_absolute_error: 0.1117\n",
      "Epoch 3/3\n",
      "298804/298804 [==============================] - 78s 260us/step - loss: 0.2412 - accuracy: 0.9449 - mean_absolute_error: 0.0732 - val_loss: 0.2847 - val_accuracy: 0.9399 - val_mean_absolute_error: 0.0708\n",
      "4\n",
      "Train on 298804 samples, validate on 74702 samples\n",
      "Epoch 1/3\n",
      "298804/298804 [==============================] - 78s 261us/step - loss: 0.5485 - accuracy: 0.8569 - mean_absolute_error: 0.1897 - val_loss: 0.5636 - val_accuracy: 0.8639 - val_mean_absolute_error: 0.1508\n",
      "Epoch 2/3\n",
      "298804/298804 [==============================] - 77s 259us/step - loss: 0.4741 - accuracy: 0.8755 - mean_absolute_error: 0.1595 - val_loss: 0.5225 - val_accuracy: 0.8600 - val_mean_absolute_error: 0.1942\n",
      "Epoch 3/3\n",
      "298804/298804 [==============================] - 77s 259us/step - loss: 0.4443 - accuracy: 0.8842 - mean_absolute_error: 0.1492 - val_loss: 0.4964 - val_accuracy: 0.8703 - val_mean_absolute_error: 0.1569\n",
      "5\n",
      "Train on 298804 samples, validate on 74702 samples\n",
      "Epoch 1/4\n",
      "298804/298804 [==============================] - 78s 262us/step - loss: 0.5241 - accuracy: 0.8649 - mean_absolute_error: 0.1773 - val_loss: 0.4969 - val_accuracy: 0.8744 - val_mean_absolute_error: 0.1842\n",
      "Epoch 2/4\n",
      "298804/298804 [==============================] - 78s 260us/step - loss: 0.4354 - accuracy: 0.8887 - mean_absolute_error: 0.1452 - val_loss: 0.4512 - val_accuracy: 0.8843 - val_mean_absolute_error: 0.1419\n",
      "Epoch 3/4\n",
      "298804/298804 [==============================] - 77s 259us/step - loss: 0.3971 - accuracy: 0.8998 - mean_absolute_error: 0.1312 - val_loss: 0.4531 - val_accuracy: 0.8825 - val_mean_absolute_error: 0.1438\n",
      "Epoch 4/4\n",
      "298804/298804 [==============================] - 78s 260us/step - loss: 0.3662 - accuracy: 0.9097 - mean_absolute_error: 0.1192 - val_loss: 0.4898 - val_accuracy: 0.8787 - val_mean_absolute_error: 0.1370\n"
     ]
    }
   ],
   "source": [
    "stars = np.arange(1, 6)\n",
    "models = {}\n",
    "histories = {}\n",
    "batch_size = 512\n",
    "\n",
    "for star in stars:\n",
    "    if star in [1, 2]:\n",
    "        epochs = 2\n",
    "    elif star in [3, 4]:\n",
    "        epochs = 3\n",
    "    else:\n",
    "        epochs = 4\n",
    "    \n",
    "    print(star)\n",
    "    y_train_sub = y_train[:, star - 1]\n",
    "    \n",
    "    lr_schedule = keras.optimizers.schedules.ExponentialDecay(\n",
    "    initial_learning_rate=.001,\n",
    "    decay_steps=10000,\n",
    "    decay_rate=0.9)\n",
    "\n",
    "    optimizer = keras.optimizers.Adam(learning_rate=lr_schedule, beta_1=0.9, beta_2=0.99, amsgrad=False, clipvalue=.3)\n",
    "\n",
    "    sub_lstm = Sequential()\n",
    "    sub_lstm.add(Embedding(max_words, 128, input_length=maxlen))\n",
    "    sub_lstm.add(SpatialDropout1D(0.2))\n",
    "    sub_lstm.add(Conv1D(64, 5, activation='relu', kernel_regularizer=regularizers.l1_l2(l1=1e-5, l2=1e-4),\n",
    "              bias_regularizer=regularizers.l2(1e-4)))\n",
    "    sub_lstm.add(MaxPooling1D(pool_size=4))\n",
    "    sub_lstm.add(LSTM(128))\n",
    "    sub_lstm.add(BatchNormalization())\n",
    "    sub_lstm.add(Dense(8))\n",
    "    sub_lstm.add(Dense(1, activation='sigmoid'))\n",
    "    \n",
    "    sub_lstm.compile(loss=my_custom_loss_ova,\n",
    "                  optimizer=optimizer,\n",
    "                  metrics=['accuracy', 'mean_absolute_error'])\n",
    "\n",
    "    history = sub_lstm.fit(X_train, y_train_sub,\n",
    "                        batch_size=batch_size,\n",
    "                        epochs=epochs,\n",
    "                        verbose=1,\n",
    "                        validation_split=0.2)\n",
    "    \n",
    "    models[star] = sub_lstm\n",
    "    histories[star] = sub_lstm"
   ]
  },
  {
   "cell_type": "markdown",
   "metadata": {},
   "source": [
    "#### Building an ensemble model (maximization between learners) for all trained models\n",
    "##### Testing"
   ]
  },
  {
   "cell_type": "code",
   "execution_count": 389,
   "metadata": {},
   "outputs": [
    {
     "name": "stdout",
     "output_type": "stream",
     "text": [
      "Predicting 1 star\n",
      "Predicting 2 star\n",
      "Predicting 3 star\n",
      "Predicting 4 star\n",
      "Predicting 5 star\n",
      "0.3318132125566141\n",
      "0.7664844604091832\n",
      "Wall time: 5min 40s\n"
     ]
    }
   ],
   "source": [
    "%%time\n",
    "# Evaluating the models above (TEST)\n",
    "y_test_und = pd.DataFrame(y_test)\n",
    "y_test_true = pd.DataFrame(y_test_und.columns[np.where(y_test_und!=0)[1]]) + 1\n",
    "\n",
    "# Unload models\n",
    "lstm_1, lstm_2, lstm_3, lstm_4, lstm_5 = models[1], models[2], models[3], models[4], models[5]\n",
    "\n",
    "## Predicting the probability for each observation each model\n",
    "print(\"Predicting 1 star\")\n",
    "one_star_ps = lstm_1.predict(X_test)\n",
    "print(\"Predicting 2 star\")\n",
    "two_star_ps = lstm_2.predict(X_test)\n",
    "print(\"Predicting 3 star\")\n",
    "three_star_ps = lstm_3.predict(X_test)\n",
    "print(\"Predicting 4 star\")\n",
    "four_star_ps = lstm_4.predict(X_test)\n",
    "print(\"Predicting 5 star\")\n",
    "five_star_ps = lstm_5.predict(X_test)\n",
    "\n",
    "data = [one_star_ps.flatten(), two_star_ps.flatten(), three_star_ps.flatten(), four_star_ps.flatten(), five_star_ps.flatten()]\n",
    "cols = [1, 2, 3, 4, 5]\n",
    "ps = pd.DataFrame(data=data, index=cols).T\n",
    "\n",
    "ps[\"pred\"] = ps.idxmax(axis=1)\n",
    "ps.head()\n",
    "\n",
    "print(MAE(ps[\"pred\"], y_test_true[0]))\n",
    "print(Accuracy(ps[\"pred\"], y_test_true[0]))"
   ]
  },
  {
   "cell_type": "code",
   "execution_count": 390,
   "metadata": {},
   "outputs": [
    {
     "data": {
      "text/html": [
       "<div>\n",
       "<style scoped>\n",
       "    .dataframe tbody tr th:only-of-type {\n",
       "        vertical-align: middle;\n",
       "    }\n",
       "\n",
       "    .dataframe tbody tr th {\n",
       "        vertical-align: top;\n",
       "    }\n",
       "\n",
       "    .dataframe thead th {\n",
       "        text-align: right;\n",
       "    }\n",
       "</style>\n",
       "<table border=\"1\" class=\"dataframe\">\n",
       "  <thead>\n",
       "    <tr style=\"text-align: right;\">\n",
       "      <th></th>\n",
       "      <th>1</th>\n",
       "      <th>2</th>\n",
       "      <th>3</th>\n",
       "      <th>4</th>\n",
       "      <th>5</th>\n",
       "    </tr>\n",
       "  </thead>\n",
       "  <tbody>\n",
       "    <tr>\n",
       "      <th>1</th>\n",
       "      <td>35053</td>\n",
       "      <td>4857</td>\n",
       "      <td>1199</td>\n",
       "      <td>329</td>\n",
       "      <td>398</td>\n",
       "    </tr>\n",
       "    <tr>\n",
       "      <th>2</th>\n",
       "      <td>1038</td>\n",
       "      <td>2387</td>\n",
       "      <td>850</td>\n",
       "      <td>143</td>\n",
       "      <td>41</td>\n",
       "    </tr>\n",
       "    <tr>\n",
       "      <th>3</th>\n",
       "      <td>400</td>\n",
       "      <td>1383</td>\n",
       "      <td>2718</td>\n",
       "      <td>760</td>\n",
       "      <td>109</td>\n",
       "    </tr>\n",
       "    <tr>\n",
       "      <th>4</th>\n",
       "      <td>538</td>\n",
       "      <td>1128</td>\n",
       "      <td>3300</td>\n",
       "      <td>6978</td>\n",
       "      <td>2314</td>\n",
       "    </tr>\n",
       "    <tr>\n",
       "      <th>5</th>\n",
       "      <td>1858</td>\n",
       "      <td>988</td>\n",
       "      <td>2196</td>\n",
       "      <td>13551</td>\n",
       "      <td>75559</td>\n",
       "    </tr>\n",
       "  </tbody>\n",
       "</table>\n",
       "</div>"
      ],
      "text/plain": [
       "       1     2     3      4      5\n",
       "1  35053  4857  1199    329    398\n",
       "2   1038  2387   850    143     41\n",
       "3    400  1383  2718    760    109\n",
       "4    538  1128  3300   6978   2314\n",
       "5   1858   988  2196  13551  75559"
      ]
     },
     "execution_count": 390,
     "metadata": {},
     "output_type": "execute_result"
    }
   ],
   "source": [
    "# Confusion matrix\n",
    "cm = confusion_matrix(ps[\"pred\"], y_test_true[0])\n",
    "pd.DataFrame(cm, index=cols, columns=cols)"
   ]
  },
  {
   "cell_type": "code",
   "execution_count": 391,
   "metadata": {},
   "outputs": [
    {
     "name": "stdout",
     "output_type": "stream",
     "text": [
      "              precision    recall  f1-score   support\n",
      "\n",
      "           1       0.90      0.84      0.87     41836\n",
      "           2       0.22      0.54      0.31      4459\n",
      "           3       0.26      0.51      0.35      5370\n",
      "           4       0.32      0.49      0.39     14258\n",
      "           5       0.96      0.80      0.88     94152\n",
      "\n",
      "    accuracy                           0.77    160075\n",
      "   macro avg       0.53      0.63      0.56    160075\n",
      "weighted avg       0.85      0.77      0.80    160075\n",
      "\n"
     ]
    }
   ],
   "source": [
    "print(classification_report(ps[\"pred\"], y_test_true[0]))"
   ]
  },
  {
   "cell_type": "markdown",
   "metadata": {},
   "source": [
    "#### Saving the models\n"
   ]
  },
  {
   "cell_type": "code",
   "execution_count": null,
   "metadata": {},
   "outputs": [],
   "source": [
    "# lstm_1.save(\"./models/one_star.h5\")\n",
    "# lstm_2.save(\"./models/two_star.h5\")\n",
    "# lstm_3.save(\"./models/three_star.h5\")\n",
    "# lstm_4.save(\"./models/four_star.h5\")\n",
    "# lstm_5.save(\"./models/five_star.h5\")"
   ]
  },
  {
   "cell_type": "markdown",
   "metadata": {},
   "source": [
    "### Ensemble on Test Set"
   ]
  },
  {
   "cell_type": "code",
   "execution_count": 392,
   "metadata": {},
   "outputs": [
    {
     "name": "stdout",
     "output_type": "stream",
     "text": [
      "(373506,) (373506, 5)\n",
      "(160075,) (160075, 5)\n",
      "        1  2  3  4  5\n",
      "255947  0  0  0  0  1\n",
      "261035  0  0  0  0  1\n",
      "355633  0  0  0  0  1\n",
      "205506  0  0  0  0  1\n",
      "97222   0  0  0  1  0\n",
      "...    .. .. .. .. ..\n",
      "491832  0  0  0  0  1\n",
      "311959  0  0  0  0  1\n",
      "140524  1  0  0  0  0\n",
      "125037  0  0  1  0  0\n",
      "200135  0  0  0  1  0\n",
      "\n",
      "[160075 rows x 5 columns]\n"
     ]
    }
   ],
   "source": [
    "yelp = pd.read_csv('cleaned_yelp_stemmed.csv')\n",
    "\n",
    "X = yelp['text'].fillna('').values\n",
    "y = pd.get_dummies(yelp['stars'])\n",
    "\n",
    "X_train, X_test, y_train, y_test = train_test_split(X, y, test_size=0.30, random_state=42)\n",
    "print(X_train.shape, y_train.shape)\n",
    "print(X_test.shape, y_test.shape)\n",
    "\n",
    "max_words = 3000\n",
    "maxlen = 400\n",
    "\n",
    "# with open('tokenizer.pickle', 'rb') as handle:\n",
    "#     tokenizer = pickle.load(handle) \n",
    "\n",
    "print(y_test)    \n",
    "\n",
    "necc_cols = [1, 2, 3, 4, 5]\n",
    "for col in necc_cols:\n",
    "    if col not in y_test.columns:\n",
    "        y_test[col] = 0\n",
    "        \n",
    "y_test = y_test[necc_cols]\n",
    "y_test = y_test.values\n",
    "\n",
    "X_baseline = tokenizer.texts_to_matrix(X_test)\n",
    "X_lstm = tokenizer.texts_to_sequences(X_test)\n",
    "X_lstm = pad_sequences(X_lstm, maxlen=maxlen)"
   ]
  },
  {
   "cell_type": "code",
   "execution_count": null,
   "metadata": {},
   "outputs": [],
   "source": [
    "# # Trying our pretrained models\n",
    "# # Optimizer\n",
    "# lr_schedule = keras.optimizers.schedules.ExponentialDecay(initial_learning_rate=.001, decay_steps=10000, decay_rate=0.9)\n",
    "# optimizer = keras.optimizers.Adam(learning_rate=lr_schedule, beta_1=0.9, beta_2=0.99, amsgrad=False, clipvalue=.3)\n",
    "\n",
    "# # Baseline\n",
    "# baseline = load_model('./models/baseline.h5')\n",
    "\n",
    "# baseline.compile(loss='categorical_crossentropy',\n",
    "#               optimizer=optimizer,\n",
    "#               metrics=['accuracy'])\n",
    "\n",
    "# # LSTM\n",
    "# lstm = load_model('./models/lstm.h5')\n",
    "\n",
    "# lstm.compile(loss='categorical_crossentropy',\n",
    "#               optimizer=optimizer,\n",
    "#               metrics=['accuracy'])\n",
    "\n",
    "\n",
    "# # One vs. all\n",
    "# lstm_1 = load_model('./models/one_star.h5')\n",
    "\n",
    "# lstm_1.compile(loss='binary_crossentropy',\n",
    "#                   optimizer=optimizer,\n",
    "#                   metrics=['accuracy'])\n",
    "\n",
    "# lstm_2 = load_model('./models/two_star.h5')\n",
    "\n",
    "# lstm_2.compile(loss='binary_crossentropy',\n",
    "#                   optimizer=optimizer,\n",
    "#                   metrics=['accuracy'])\n",
    "\n",
    "# lstm_3 = load_model('./models/three_star.h5')\n",
    "\n",
    "# lstm_3.compile(loss='binary_crossentropy',\n",
    "#                   optimizer=optimizer,\n",
    "#                   metrics=['accuracy'])\n",
    "\n",
    "# lstm_4 = load_model('./models/four_star.h5')\n",
    "\n",
    "# lstm_4.compile(loss='binary_crossentropy',\n",
    "#                   optimizer=optimizer,\n",
    "#                   metrics=['accuracy'])\n",
    "\n",
    "# lstm_5 = load_model('./models/five_star.h5')\n",
    "\n",
    "# lstm_5.compile(loss='binary_crossentropy',\n",
    "#                   optimizer=optimizer,\n",
    "#                   metrics=['accuracy'])"
   ]
  },
  {
   "cell_type": "code",
   "execution_count": 393,
   "metadata": {},
   "outputs": [
    {
     "name": "stdout",
     "output_type": "stream",
     "text": [
      "Baseline\n",
      "LSTM\n",
      "OVA\n"
     ]
    }
   ],
   "source": [
    "cols = [1, 2, 3, 4, 5]\n",
    "# Baseline\n",
    "print(\"Baseline\")\n",
    "baseline_preds = pd.DataFrame(baseline.predict(X_baseline), columns=cols)\n",
    "baseline_preds['baseline_pred'] = baseline_preds.idxmax(axis=1)\n",
    "\n",
    "# LSTM\n",
    "print(\"LSTM\")\n",
    "lstm_preds = pd.DataFrame(lstm.predict(X_lstm), columns=cols)\n",
    "lstm_preds['lstm_pred'] = lstm_preds.idxmax(axis=1)\n",
    "\n",
    "# One vs. all\n",
    "print(\"OVA\")\n",
    "one_star_ps = lstm_1.predict(X_lstm)\n",
    "two_star_ps = lstm_2.predict(X_lstm)\n",
    "three_star_ps = lstm_3.predict(X_lstm)\n",
    "four_star_ps = lstm_4.predict(X_lstm)\n",
    "five_star_ps = lstm_5.predict(X_lstm)\n",
    "\n",
    "data = [one_star_ps.flatten(), two_star_ps.flatten(), three_star_ps.flatten(), four_star_ps.flatten(), five_star_ps.flatten()]\n",
    "ova_preds = pd.DataFrame(data=data, index=cols).T\n",
    "\n",
    "ova_preds[\"ova_pred\"] = ova_preds.idxmax(axis=1)\n",
    "\n",
    "all_preds = pd.DataFrame([baseline_preds['baseline_pred'], lstm_preds['lstm_pred'], ova_preds['ova_pred']]).T\n",
    "all_preds[\"final_pred\"] = all_preds.mode(axis=1)[0]"
   ]
  },
  {
   "cell_type": "code",
   "execution_count": 394,
   "metadata": {},
   "outputs": [
    {
     "name": "stdout",
     "output_type": "stream",
     "text": [
      "[0.30764329220677805, 0.7744307355926909]\n"
     ]
    }
   ],
   "source": [
    "print([MAE(all_preds[\"final_pred\"], pd.DataFrame(data=y_test, columns=cols).idxmax(axis=1)), Accuracy(all_preds[\"final_pred\"], pd.DataFrame(data=y_test, columns=cols).idxmax(axis=1))])"
   ]
  },
  {
   "cell_type": "code",
   "execution_count": 395,
   "metadata": {},
   "outputs": [
    {
     "data": {
      "text/html": [
       "<div>\n",
       "<style scoped>\n",
       "    .dataframe tbody tr th:only-of-type {\n",
       "        vertical-align: middle;\n",
       "    }\n",
       "\n",
       "    .dataframe tbody tr th {\n",
       "        vertical-align: top;\n",
       "    }\n",
       "\n",
       "    .dataframe thead th {\n",
       "        text-align: right;\n",
       "    }\n",
       "</style>\n",
       "<table border=\"1\" class=\"dataframe\">\n",
       "  <thead>\n",
       "    <tr style=\"text-align: right;\">\n",
       "      <th></th>\n",
       "      <th>1</th>\n",
       "      <th>2</th>\n",
       "      <th>3</th>\n",
       "      <th>4</th>\n",
       "      <th>5</th>\n",
       "    </tr>\n",
       "  </thead>\n",
       "  <tbody>\n",
       "    <tr>\n",
       "      <th>1</th>\n",
       "      <td>35990</td>\n",
       "      <td>5462</td>\n",
       "      <td>1622</td>\n",
       "      <td>590</td>\n",
       "      <td>604</td>\n",
       "    </tr>\n",
       "    <tr>\n",
       "      <th>2</th>\n",
       "      <td>1210</td>\n",
       "      <td>2887</td>\n",
       "      <td>1352</td>\n",
       "      <td>353</td>\n",
       "      <td>119</td>\n",
       "    </tr>\n",
       "    <tr>\n",
       "      <th>3</th>\n",
       "      <td>273</td>\n",
       "      <td>1230</td>\n",
       "      <td>2931</td>\n",
       "      <td>1101</td>\n",
       "      <td>259</td>\n",
       "    </tr>\n",
       "    <tr>\n",
       "      <th>4</th>\n",
       "      <td>175</td>\n",
       "      <td>556</td>\n",
       "      <td>2796</td>\n",
       "      <td>7303</td>\n",
       "      <td>2583</td>\n",
       "    </tr>\n",
       "    <tr>\n",
       "      <th>5</th>\n",
       "      <td>1239</td>\n",
       "      <td>608</td>\n",
       "      <td>1562</td>\n",
       "      <td>12414</td>\n",
       "      <td>74856</td>\n",
       "    </tr>\n",
       "  </tbody>\n",
       "</table>\n",
       "</div>"
      ],
      "text/plain": [
       "       1     2     3      4      5\n",
       "1  35990  5462  1622    590    604\n",
       "2   1210  2887  1352    353    119\n",
       "3    273  1230  2931   1101    259\n",
       "4    175   556  2796   7303   2583\n",
       "5   1239   608  1562  12414  74856"
      ]
     },
     "execution_count": 395,
     "metadata": {},
     "output_type": "execute_result"
    }
   ],
   "source": [
    "# Confusion matrix\n",
    "cm = confusion_matrix(all_preds[\"final_pred\"], pd.DataFrame(data=y_test, columns=cols).idxmax(axis=1))\n",
    "pd.DataFrame(cm, index=cols, columns=cols)"
   ]
  },
  {
   "cell_type": "code",
   "execution_count": 396,
   "metadata": {},
   "outputs": [
    {
     "name": "stdout",
     "output_type": "stream",
     "text": [
      "              precision    recall  f1-score   support\n",
      "\n",
      "           1       0.91      0.83      0.87     42514\n",
      "           2       0.28      0.48      0.36      6273\n",
      "           3       0.32      0.48      0.39      6848\n",
      "           4       0.35      0.53      0.42     14203\n",
      "           5       0.95      0.83      0.88     90237\n",
      "\n",
      "    accuracy                           0.77    160075\n",
      "   macro avg       0.56      0.63      0.58    160075\n",
      "weighted avg       0.83      0.77      0.80    160075\n",
      "\n"
     ]
    }
   ],
   "source": [
    "print(classification_report(y_pred_true, y_test_true))"
   ]
  },
  {
   "cell_type": "markdown",
   "metadata": {},
   "source": [
    "# Challenges\n",
    "### Challenge 5"
   ]
  },
  {
   "cell_type": "code",
   "execution_count": 397,
   "metadata": {},
   "outputs": [
    {
     "name": "stdout",
     "output_type": "stream",
     "text": [
      "(500, 3)\n"
     ]
    },
    {
     "data": {
      "text/html": [
       "<div>\n",
       "<style scoped>\n",
       "    .dataframe tbody tr th:only-of-type {\n",
       "        vertical-align: middle;\n",
       "    }\n",
       "\n",
       "    .dataframe tbody tr th {\n",
       "        vertical-align: top;\n",
       "    }\n",
       "\n",
       "    .dataframe thead th {\n",
       "        text-align: right;\n",
       "    }\n",
       "</style>\n",
       "<table border=\"1\" class=\"dataframe\">\n",
       "  <thead>\n",
       "    <tr style=\"text-align: right;\">\n",
       "      <th></th>\n",
       "      <th>review_id</th>\n",
       "      <th>text</th>\n",
       "      <th>stars</th>\n",
       "    </tr>\n",
       "  </thead>\n",
       "  <tbody>\n",
       "    <tr>\n",
       "      <th>0</th>\n",
       "      <td>50</td>\n",
       "      <td>I went to this campus for 1 semester. I was in...</td>\n",
       "      <td>2</td>\n",
       "    </tr>\n",
       "    <tr>\n",
       "      <th>1</th>\n",
       "      <td>51</td>\n",
       "      <td>I have rated it a two star based on its compar...</td>\n",
       "      <td>2</td>\n",
       "    </tr>\n",
       "    <tr>\n",
       "      <th>2</th>\n",
       "      <td>52</td>\n",
       "      <td>Just like most of the reviews, we ordered and ...</td>\n",
       "      <td>2</td>\n",
       "    </tr>\n",
       "    <tr>\n",
       "      <th>3</th>\n",
       "      <td>53</td>\n",
       "      <td>I only go here if it is an emergency. I HATE i...</td>\n",
       "      <td>2</td>\n",
       "    </tr>\n",
       "    <tr>\n",
       "      <th>4</th>\n",
       "      <td>54</td>\n",
       "      <td>Rude staff. I got 60 feeder fish and about 15 ...</td>\n",
       "      <td>2</td>\n",
       "    </tr>\n",
       "  </tbody>\n",
       "</table>\n",
       "</div>"
      ],
      "text/plain": [
       "   review_id                                               text  stars\n",
       "0         50  I went to this campus for 1 semester. I was in...      2\n",
       "1         51  I have rated it a two star based on its compar...      2\n",
       "2         52  Just like most of the reviews, we ordered and ...      2\n",
       "3         53  I only go here if it is an emergency. I HATE i...      2\n",
       "4         54  Rude staff. I got 60 feeder fish and about 15 ...      2"
      ]
     },
     "execution_count": 397,
     "metadata": {},
     "output_type": "execute_result"
    }
   ],
   "source": [
    "c5 = pd.read_json(\"./yelp_challenge_5_with_answers.jsonl\", lines = True)\n",
    "print(c5.shape)\n",
    "c5.head()"
   ]
  },
  {
   "cell_type": "markdown",
   "metadata": {},
   "source": [
    "##### Quick EDA"
   ]
  },
  {
   "cell_type": "code",
   "execution_count": 398,
   "metadata": {},
   "outputs": [
    {
     "data": {
      "text/plain": [
       "<matplotlib.axes._subplots.AxesSubplot at 0x25b4b279e08>"
      ]
     },
     "execution_count": 398,
     "metadata": {},
     "output_type": "execute_result"
    },
    {
     "data": {
      "image/png": "[encoded data removed]",
      "text/plain": [
       "<Figure size 432x288 with 1 Axes>"
      ]
     },
     "metadata": {
      "needs_background": "light"
     },
     "output_type": "display_data"
    }
   ],
   "source": [
    "sns.countplot(c5['stars'])"
   ]
  },
  {
   "cell_type": "markdown",
   "metadata": {},
   "source": [
    "##### Pre-processing"
   ]
  },
  {
   "cell_type": "code",
   "execution_count": 399,
   "metadata": {},
   "outputs": [
    {
     "data": {
      "text/html": [
       "<div>\n",
       "<style scoped>\n",
       "    .dataframe tbody tr th:only-of-type {\n",
       "        vertical-align: middle;\n",
       "    }\n",
       "\n",
       "    .dataframe tbody tr th {\n",
       "        vertical-align: top;\n",
       "    }\n",
       "\n",
       "    .dataframe thead th {\n",
       "        text-align: right;\n",
       "    }\n",
       "</style>\n",
       "<table border=\"1\" class=\"dataframe\">\n",
       "  <thead>\n",
       "    <tr style=\"text-align: right;\">\n",
       "      <th></th>\n",
       "      <th>review_id</th>\n",
       "      <th>text</th>\n",
       "      <th>stars</th>\n",
       "    </tr>\n",
       "  </thead>\n",
       "  <tbody>\n",
       "    <tr>\n",
       "      <th>0</th>\n",
       "      <td>50</td>\n",
       "      <td>i went to thi campu for 1 semest i wa in busi ...</td>\n",
       "      <td>2</td>\n",
       "    </tr>\n",
       "    <tr>\n",
       "      <th>1</th>\n",
       "      <td>51</td>\n",
       "      <td>i have rate it a two star base on it compariso...</td>\n",
       "      <td>2</td>\n",
       "    </tr>\n",
       "    <tr>\n",
       "      <th>2</th>\n",
       "      <td>52</td>\n",
       "      <td>just like most of the review we order and paid...</td>\n",
       "      <td>2</td>\n",
       "    </tr>\n",
       "    <tr>\n",
       "      <th>3</th>\n",
       "      <td>53</td>\n",
       "      <td>i onli go here if it is an emerg i hate it tha...</td>\n",
       "      <td>2</td>\n",
       "    </tr>\n",
       "    <tr>\n",
       "      <th>4</th>\n",
       "      <td>54</td>\n",
       "      <td>rude staff i got 60 feeder fish and about 15 w...</td>\n",
       "      <td>2</td>\n",
       "    </tr>\n",
       "  </tbody>\n",
       "</table>\n",
       "</div>"
      ],
      "text/plain": [
       "   review_id                                               text  stars\n",
       "0         50  i went to thi campu for 1 semest i wa in busi ...      2\n",
       "1         51  i have rate it a two star base on it compariso...      2\n",
       "2         52  just like most of the review we order and paid...      2\n",
       "3         53  i onli go here if it is an emerg i hate it tha...      2\n",
       "4         54  rude staff i got 60 feeder fish and about 15 w...      2"
      ]
     },
     "execution_count": 399,
     "metadata": {},
     "output_type": "execute_result"
    }
   ],
   "source": [
    "c5['text'] = c5['text'].apply(clean_text)\n",
    "c5.head()"
   ]
  },
  {
   "cell_type": "markdown",
   "metadata": {},
   "source": [
    "##### Load previous tokenizer"
   ]
  },
  {
   "cell_type": "code",
   "execution_count": 400,
   "metadata": {},
   "outputs": [],
   "source": [
    "X = c5['text'].fillna('').values\n",
    "y = pd.get_dummies(c5['stars'])\n",
    "\n",
    "# with open('tokenizer.pickle', 'rb') as handle:\n",
    "#     tokenizer = pickle.load(handle)\n",
    "\n",
    "max_words    \n",
    "    \n",
    "necc_cols = [1, 2, 3, 4, 5]\n",
    "for col in necc_cols:\n",
    "    if col not in y.columns:\n",
    "        y[col] = 0\n",
    "        \n",
    "y = y[necc_cols]\n",
    "y = y.values\n",
    "\n",
    "X_baseline = tokenizer.texts_to_matrix(X)\n",
    "X_lstm = tokenizer.texts_to_sequences(X)\n",
    "X_lstm = pad_sequences(X_lstm, maxlen=400)"
   ]
  },
  {
   "cell_type": "markdown",
   "metadata": {},
   "source": [
    "##### Load and compile models"
   ]
  },
  {
   "cell_type": "code",
   "execution_count": 401,
   "metadata": {},
   "outputs": [],
   "source": [
    "# # Baseline\n",
    "# baseline = load_model('./models/baseline.h5')\n",
    "\n",
    "# baseline.compile(loss='categorical_crossentropy',\n",
    "#               optimizer=optimizer,\n",
    "#               metrics=['accuracy'])\n",
    "\n",
    "# # LSTM\n",
    "# lstm = load_model('./models/lstm.h5')\n",
    "\n",
    "# lstm.compile(loss='categorical_crossentropy',\n",
    "#               optimizer=optimizer,\n",
    "#               metrics=['accuracy'])\n",
    "\n",
    "\n",
    "# # One vs. all\n",
    "# lstm_1 = load_model('./models/one_star.h5')\n",
    "\n",
    "# lstm_1.compile(loss='binary_crossentropy',\n",
    "#                   optimizer=optimizer,\n",
    "#                   metrics=['accuracy'])\n",
    "\n",
    "# lstm_2 = load_model('./models/two_star.h5')\n",
    "\n",
    "# lstm_2.compile(loss='binary_crossentropy',\n",
    "#                   optimizer=optimizer,\n",
    "#                   metrics=['accuracy'])\n",
    "\n",
    "# lstm_3 = load_model('./models/three_star.h5')\n",
    "\n",
    "# lstm_3.compile(loss='binary_crossentropy',\n",
    "#                   optimizer=optimizer,\n",
    "#                   metrics=['accuracy'])\n",
    "\n",
    "# lstm_4 = load_model('./models/four_star.h5')\n",
    "\n",
    "# lstm_4.compile(loss='binary_crossentropy',\n",
    "#                   optimizer=optimizer,\n",
    "#                   metrics=['accuracy'])\n",
    "\n",
    "# lstm_5 = load_model('./models/five_star.h5')\n",
    "\n",
    "# lstm_5.compile(loss='binary_crossentropy',\n",
    "#                   optimizer=optimizer,\n",
    "#                   metrics=['accuracy'])"
   ]
  },
  {
   "cell_type": "markdown",
   "metadata": {},
   "source": [
    "##### Evaluate Models"
   ]
  },
  {
   "cell_type": "code",
   "execution_count": 402,
   "metadata": {},
   "outputs": [
    {
     "name": "stdout",
     "output_type": "stream",
     "text": [
      "500/500 [==============================] - 0s 98us/step\n",
      "[2.3530872859954832, 0.2939999997615814, 0.288883239030838]\n",
      "500/500 [==============================] - 0s 550us/step\n",
      "[1.7786740112304686, 0.2800000011920929, 0.25147223472595215]\n",
      "[1.04, 0.25]\n"
     ]
    }
   ],
   "source": [
    "# Baseline\n",
    "print(baseline.evaluate(X_baseline, y))\n",
    "\n",
    "# LSTM\n",
    "print(lstm.evaluate(X_lstm, y))\n",
    "\n",
    "# One vs. All\n",
    "one_star_ps = lstm_1.predict(X_lstm)\n",
    "two_star_ps = lstm_2.predict(X_lstm)\n",
    "three_star_ps = lstm_3.predict(X_lstm)\n",
    "four_star_ps = lstm_4.predict(X_lstm)\n",
    "five_star_ps = lstm_5.predict(X_lstm)\n",
    "\n",
    "data = [one_star_ps.flatten(), two_star_ps.flatten(), three_star_ps.flatten(), four_star_ps.flatten(), five_star_ps.flatten()]\n",
    "cols = [1, 2, 3, 4, 5]\n",
    "ps = pd.DataFrame(data=data, index=cols).T\n",
    "\n",
    "ps[\"ova_pred\"] = ps.idxmax(axis=1)\n",
    "\n",
    "print([MAE(ps[\"ova_pred\"], pd.DataFrame(data=y, columns=cols).idxmax(axis=1)), Accuracy(ps[\"ova_pred\"], pd.DataFrame(data=y, columns=cols).idxmax(axis=1))])"
   ]
  },
  {
   "cell_type": "markdown",
   "metadata": {},
   "source": [
    "##### Attempt Ensemble"
   ]
  },
  {
   "cell_type": "code",
   "execution_count": 403,
   "metadata": {},
   "outputs": [
    {
     "name": "stdout",
     "output_type": "stream",
     "text": [
      "[0.874, 0.29]\n"
     ]
    }
   ],
   "source": [
    "# Baseline\n",
    "baseline_preds = pd.DataFrame(baseline.predict(X_baseline), columns=cols)\n",
    "baseline_preds['baseline_pred'] = baseline_preds.idxmax(axis=1)\n",
    "\n",
    "# LSTM\n",
    "lstm_preds = pd.DataFrame(lstm.predict(X_lstm), columns=cols)\n",
    "lstm_preds['lstm_pred'] = lstm_preds.idxmax(axis=1)\n",
    "\n",
    "# One vs. all\n",
    "ova_preds = ps\n",
    "\n",
    "all_preds = pd.DataFrame([baseline_preds['baseline_pred'], lstm_preds['lstm_pred'], ova_preds['ova_pred']]).T\n",
    "all_preds[\"final_pred\"] = all_preds.mode(axis=1)[0]\n",
    "\n",
    "print([MAE(all_preds[\"final_pred\"], pd.DataFrame(data=y, columns=cols).idxmax(axis=1)), Accuracy(all_preds[\"final_pred\"], pd.DataFrame(data=y, columns=cols).idxmax(axis=1))])"
   ]
  },
  {
   "cell_type": "markdown",
   "metadata": {},
   "source": [
    "##### Misc."
   ]
  },
  {
   "cell_type": "code",
   "execution_count": 404,
   "metadata": {},
   "outputs": [
    {
     "data": {
      "text/plain": [
       "<matplotlib.axes._subplots.AxesSubplot at 0x25b0030bfc8>"
      ]
     },
     "execution_count": 404,
     "metadata": {},
     "output_type": "execute_result"
    },
    {
     "data": {
      "image/png": "[encoded data removed]",
      "text/plain": [
       "<Figure size 432x288 with 1 Axes>"
      ]
     },
     "metadata": {
      "needs_background": "light"
     },
     "output_type": "display_data"
    }
   ],
   "source": [
    "sns.countplot(all_preds[\"final_pred\"])"
   ]
  },
  {
   "cell_type": "markdown",
   "metadata": {},
   "source": [
    "### Challenge 6"
   ]
  },
  {
   "cell_type": "code",
   "execution_count": 405,
   "metadata": {},
   "outputs": [
    {
     "name": "stdout",
     "output_type": "stream",
     "text": [
      "(500, 3)\n"
     ]
    },
    {
     "data": {
      "text/html": [
       "<div>\n",
       "<style scoped>\n",
       "    .dataframe tbody tr th:only-of-type {\n",
       "        vertical-align: middle;\n",
       "    }\n",
       "\n",
       "    .dataframe tbody tr th {\n",
       "        vertical-align: top;\n",
       "    }\n",
       "\n",
       "    .dataframe thead th {\n",
       "        text-align: right;\n",
       "    }\n",
       "</style>\n",
       "<table border=\"1\" class=\"dataframe\">\n",
       "  <thead>\n",
       "    <tr style=\"text-align: right;\">\n",
       "      <th></th>\n",
       "      <th>review_id</th>\n",
       "      <th>text</th>\n",
       "      <th>stars</th>\n",
       "    </tr>\n",
       "  </thead>\n",
       "  <tbody>\n",
       "    <tr>\n",
       "      <th>0</th>\n",
       "      <td>60</td>\n",
       "      <td>Amazing for Trees\\n\\n$20 for a 5 gallon . I wi...</td>\n",
       "      <td>5</td>\n",
       "    </tr>\n",
       "    <tr>\n",
       "      <th>1</th>\n",
       "      <td>61</td>\n",
       "      <td>How the hell can Taco Bell be closed before mi...</td>\n",
       "      <td>5</td>\n",
       "    </tr>\n",
       "    <tr>\n",
       "      <th>2</th>\n",
       "      <td>62</td>\n",
       "      <td>I actually had no intention of visiting this p...</td>\n",
       "      <td>5</td>\n",
       "    </tr>\n",
       "    <tr>\n",
       "      <th>3</th>\n",
       "      <td>63</td>\n",
       "      <td>Yesterday around 3:30 pm I was driving west on...</td>\n",
       "      <td>5</td>\n",
       "    </tr>\n",
       "    <tr>\n",
       "      <th>4</th>\n",
       "      <td>64</td>\n",
       "      <td>DR FITZMAURICE did surgery on both hands on th...</td>\n",
       "      <td>5</td>\n",
       "    </tr>\n",
       "  </tbody>\n",
       "</table>\n",
       "</div>"
      ],
      "text/plain": [
       "   review_id                                               text  stars\n",
       "0         60  Amazing for Trees\\n\\n$20 for a 5 gallon . I wi...      5\n",
       "1         61  How the hell can Taco Bell be closed before mi...      5\n",
       "2         62  I actually had no intention of visiting this p...      5\n",
       "3         63  Yesterday around 3:30 pm I was driving west on...      5\n",
       "4         64  DR FITZMAURICE did surgery on both hands on th...      5"
      ]
     },
     "execution_count": 405,
     "metadata": {},
     "output_type": "execute_result"
    }
   ],
   "source": [
    "c6 = pd.read_json(\"./yelp_challenge_6_with_answers.jsonl\", lines = True)\n",
    "print(c6.shape)\n",
    "c6.head()"
   ]
  },
  {
   "cell_type": "markdown",
   "metadata": {},
   "source": [
    "##### Quick EDA"
   ]
  },
  {
   "cell_type": "code",
   "execution_count": 406,
   "metadata": {},
   "outputs": [
    {
     "data": {
      "text/plain": [
       "<matplotlib.axes._subplots.AxesSubplot at 0x25ad5e7d948>"
      ]
     },
     "execution_count": 406,
     "metadata": {},
     "output_type": "execute_result"
    },
    {
     "data": {
      "image/png": "[encoded data removed]",
      "text/plain": [
       "<Figure size 432x288 with 1 Axes>"
      ]
     },
     "metadata": {
      "needs_background": "light"
     },
     "output_type": "display_data"
    }
   ],
   "source": [
    "sns.countplot(c6['stars'])"
   ]
  },
  {
   "cell_type": "markdown",
   "metadata": {},
   "source": [
    "##### Pre-processing"
   ]
  },
  {
   "cell_type": "code",
   "execution_count": 407,
   "metadata": {},
   "outputs": [
    {
     "data": {
      "text/html": [
       "<div>\n",
       "<style scoped>\n",
       "    .dataframe tbody tr th:only-of-type {\n",
       "        vertical-align: middle;\n",
       "    }\n",
       "\n",
       "    .dataframe tbody tr th {\n",
       "        vertical-align: top;\n",
       "    }\n",
       "\n",
       "    .dataframe thead th {\n",
       "        text-align: right;\n",
       "    }\n",
       "</style>\n",
       "<table border=\"1\" class=\"dataframe\">\n",
       "  <thead>\n",
       "    <tr style=\"text-align: right;\">\n",
       "      <th></th>\n",
       "      <th>review_id</th>\n",
       "      <th>text</th>\n",
       "      <th>stars</th>\n",
       "    </tr>\n",
       "  </thead>\n",
       "  <tbody>\n",
       "    <tr>\n",
       "      <th>0</th>\n",
       "      <td>60</td>\n",
       "      <td>amaz for tree 20 for a 5 gallon i will never g...</td>\n",
       "      <td>5</td>\n",
       "    </tr>\n",
       "    <tr>\n",
       "      <th>1</th>\n",
       "      <td>61</td>\n",
       "      <td>how the hell can taco bell be close befor midn...</td>\n",
       "      <td>5</td>\n",
       "    </tr>\n",
       "    <tr>\n",
       "      <th>2</th>\n",
       "      <td>62</td>\n",
       "      <td>i actual had no intent of visit thi place at a...</td>\n",
       "      <td>5</td>\n",
       "    </tr>\n",
       "    <tr>\n",
       "      <th>3</th>\n",
       "      <td>63</td>\n",
       "      <td>yesterday around 3 30 pm i wa drive west on pi...</td>\n",
       "      <td>5</td>\n",
       "    </tr>\n",
       "    <tr>\n",
       "      <th>4</th>\n",
       "      <td>64</td>\n",
       "      <td>dr fitzmauric did surgeri on both hand on the ...</td>\n",
       "      <td>5</td>\n",
       "    </tr>\n",
       "  </tbody>\n",
       "</table>\n",
       "</div>"
      ],
      "text/plain": [
       "   review_id                                               text  stars\n",
       "0         60  amaz for tree 20 for a 5 gallon i will never g...      5\n",
       "1         61  how the hell can taco bell be close befor midn...      5\n",
       "2         62  i actual had no intent of visit thi place at a...      5\n",
       "3         63  yesterday around 3 30 pm i wa drive west on pi...      5\n",
       "4         64  dr fitzmauric did surgeri on both hand on the ...      5"
      ]
     },
     "execution_count": 407,
     "metadata": {},
     "output_type": "execute_result"
    }
   ],
   "source": [
    "c6['text'] = c6['text'].apply(clean_text)\n",
    "c6.head()"
   ]
  },
  {
   "cell_type": "markdown",
   "metadata": {},
   "source": [
    "##### Load previous tokenizer"
   ]
  },
  {
   "cell_type": "code",
   "execution_count": 408,
   "metadata": {},
   "outputs": [],
   "source": [
    "X = c6['text'].fillna('').values\n",
    "y = pd.get_dummies(c6['stars'])\n",
    "\n",
    "# with open('tokenizer.pickle', 'rb') as handle:\n",
    "#     tokenizer = pickle.load(handle)\n",
    "\n",
    "max_words    \n",
    "    \n",
    "necc_cols = [1, 2, 3, 4, 5]\n",
    "for col in necc_cols:\n",
    "    if col not in y.columns:\n",
    "        y[col] = 0\n",
    "        \n",
    "y = y[necc_cols]\n",
    "y = y.values\n",
    "\n",
    "X_baseline = tokenizer.texts_to_matrix(X)\n",
    "X_lstm = tokenizer.texts_to_sequences(X)\n",
    "X_lstm = pad_sequences(X_lstm, maxlen=400)"
   ]
  },
  {
   "cell_type": "markdown",
   "metadata": {},
   "source": [
    "##### Load and compile models"
   ]
  },
  {
   "cell_type": "code",
   "execution_count": 409,
   "metadata": {},
   "outputs": [],
   "source": [
    "# # Baseline\n",
    "# baseline = load_model('./models/baseline.h5')\n",
    "\n",
    "# baseline.compile(loss='categorical_crossentropy',\n",
    "#               optimizer=optimizer,\n",
    "#               metrics=['accuracy'])\n",
    "\n",
    "# # LSTM\n",
    "# lstm = load_model('./models/lstm.h5')\n",
    "\n",
    "# lstm.compile(loss='categorical_crossentropy',\n",
    "#               optimizer=optimizer,\n",
    "#               metrics=['accuracy'])\n",
    "\n",
    "\n",
    "# # One vs. all\n",
    "# lstm_1 = load_model('./models/one_star.h5')\n",
    "\n",
    "# lstm_1.compile(loss='binary_crossentropy',\n",
    "#                   optimizer=optimizer,\n",
    "#                   metrics=['accuracy'])\n",
    "\n",
    "# lstm_2 = load_model('./models/two_star.h5')\n",
    "\n",
    "# lstm_2.compile(loss='binary_crossentropy',\n",
    "#                   optimizer=optimizer,\n",
    "#                   metrics=['accuracy'])\n",
    "\n",
    "# lstm_3 = load_model('./models/three_star.h5')\n",
    "\n",
    "# lstm_3.compile(loss='binary_crossentropy',\n",
    "#                   optimizer=optimizer,\n",
    "#                   metrics=['accuracy'])\n",
    "\n",
    "# lstm_4 = load_model('./models/four_star.h5')\n",
    "\n",
    "# lstm_4.compile(loss='binary_crossentropy',\n",
    "#                   optimizer=optimizer,\n",
    "#                   metrics=['accuracy'])\n",
    "\n",
    "# lstm_5 = load_model('./models/five_star.h5')\n",
    "\n",
    "# lstm_5.compile(loss='binary_crossentropy',\n",
    "#                   optimizer=optimizer,\n",
    "#                   metrics=['accuracy'])"
   ]
  },
  {
   "cell_type": "markdown",
   "metadata": {},
   "source": [
    "##### Evaluate Models"
   ]
  },
  {
   "cell_type": "code",
   "execution_count": 410,
   "metadata": {},
   "outputs": [
    {
     "name": "stdout",
     "output_type": "stream",
     "text": [
      "500/500 [==============================] - 0s 90us/step\n",
      "[2.7605343475341795, 0.4359999895095825, 0.2512551546096802]\n",
      "500/500 [==============================] - 0s 566us/step\n",
      "[2.4968312091827394, 0.4259999990463257, 0.2326160967350006]\n",
      "[2.106, 0.44]\n"
     ]
    }
   ],
   "source": [
    "# Baseline\n",
    "print(baseline.evaluate(X_baseline, y))\n",
    "\n",
    "# LSTM\n",
    "print(lstm.evaluate(X_lstm, y))\n",
    "\n",
    "# One vs. All\n",
    "one_star_ps = lstm_1.predict(X_lstm)\n",
    "two_star_ps = lstm_2.predict(X_lstm)\n",
    "three_star_ps = lstm_3.predict(X_lstm)\n",
    "four_star_ps = lstm_4.predict(X_lstm)\n",
    "five_star_ps = lstm_5.predict(X_lstm)\n",
    "\n",
    "data = [one_star_ps.flatten(), two_star_ps.flatten(), three_star_ps.flatten(), four_star_ps.flatten(), five_star_ps.flatten()]\n",
    "cols = [1, 2, 3, 4, 5]\n",
    "ps = pd.DataFrame(data=data, index=cols).T\n",
    "\n",
    "ps[\"ova_pred\"] = ps.idxmax(axis=1)\n",
    "\n",
    "print([MAE(ps[\"ova_pred\"], pd.DataFrame(data=y, columns=cols).idxmax(axis=1)), Accuracy(ps[\"ova_pred\"], pd.DataFrame(data=y, columns=cols).idxmax(axis=1))])"
   ]
  },
  {
   "cell_type": "markdown",
   "metadata": {},
   "source": [
    "##### Attempt Ensemble"
   ]
  },
  {
   "cell_type": "code",
   "execution_count": 411,
   "metadata": {},
   "outputs": [
    {
     "name": "stdout",
     "output_type": "stream",
     "text": [
      "[2.092, 0.45]\n"
     ]
    }
   ],
   "source": [
    "# Baseline\n",
    "baseline_preds = pd.DataFrame(baseline.predict(X_baseline), columns=cols)\n",
    "baseline_preds['baseline_pred'] = baseline_preds.idxmax(axis=1)\n",
    "\n",
    "# LSTM\n",
    "lstm_preds = pd.DataFrame(lstm.predict(X_lstm), columns=cols)\n",
    "lstm_preds['lstm_pred'] = lstm_preds.idxmax(axis=1)\n",
    "\n",
    "# One vs. all\n",
    "ova_preds = ps\n",
    "\n",
    "all_preds = pd.DataFrame([baseline_preds['baseline_pred'], lstm_preds['lstm_pred'], ova_preds['ova_pred']]).T\n",
    "all_preds[\"final_pred\"] = all_preds.mode(axis=1)[0]\n",
    "\n",
    "print([MAE(all_preds[\"final_pred\"], pd.DataFrame(data=y, columns=cols).idxmax(axis=1)), Accuracy(all_preds[\"final_pred\"], pd.DataFrame(data=y, columns=cols).idxmax(axis=1))])"
   ]
  },
  {
   "cell_type": "markdown",
   "metadata": {},
   "source": [
    "##### Misc."
   ]
  },
  {
   "cell_type": "code",
   "execution_count": 412,
   "metadata": {},
   "outputs": [
    {
     "data": {
      "text/plain": [
       "<matplotlib.axes._subplots.AxesSubplot at 0x25ad568e248>"
      ]
     },
     "execution_count": 412,
     "metadata": {},
     "output_type": "execute_result"
    },
    {
     "data": {
      "image/png": "[encoded data removed]",
      "text/plain": [
       "<Figure size 432x288 with 1 Axes>"
      ]
     },
     "metadata": {
      "needs_background": "light"
     },
     "output_type": "display_data"
    }
   ],
   "source": [
    "sns.countplot(all_preds[\"final_pred\"])"
   ]
  },
  {
   "cell_type": "markdown",
   "metadata": {},
   "source": [
    "### Challenge 3"
   ]
  },
  {
   "cell_type": "code",
   "execution_count": 413,
   "metadata": {},
   "outputs": [
    {
     "name": "stdout",
     "output_type": "stream",
     "text": [
      "(534, 3)\n"
     ]
    },
    {
     "data": {
      "text/html": [
       "<div>\n",
       "<style scoped>\n",
       "    .dataframe tbody tr th:only-of-type {\n",
       "        vertical-align: middle;\n",
       "    }\n",
       "\n",
       "    .dataframe tbody tr th {\n",
       "        vertical-align: top;\n",
       "    }\n",
       "\n",
       "    .dataframe thead th {\n",
       "        text-align: right;\n",
       "    }\n",
       "</style>\n",
       "<table border=\"1\" class=\"dataframe\">\n",
       "  <thead>\n",
       "    <tr style=\"text-align: right;\">\n",
       "      <th></th>\n",
       "      <th>review_id</th>\n",
       "      <th>text</th>\n",
       "      <th>stars</th>\n",
       "    </tr>\n",
       "  </thead>\n",
       "  <tbody>\n",
       "    <tr>\n",
       "      <th>0</th>\n",
       "      <td>30</td>\n",
       "      <td>We stopped here for lunch today and were pleas...</td>\n",
       "      <td>4</td>\n",
       "    </tr>\n",
       "    <tr>\n",
       "      <th>1</th>\n",
       "      <td>31</td>\n",
       "      <td>We went for a quick lunch here - it's all reas...</td>\n",
       "      <td>3</td>\n",
       "    </tr>\n",
       "    <tr>\n",
       "      <th>2</th>\n",
       "      <td>32</td>\n",
       "      <td>Very bad food, avoid it. We were a group of 4 ...</td>\n",
       "      <td>2</td>\n",
       "    </tr>\n",
       "    <tr>\n",
       "      <th>3</th>\n",
       "      <td>33</td>\n",
       "      <td>Bring a friend or two to help open the door. I...</td>\n",
       "      <td>3</td>\n",
       "    </tr>\n",
       "    <tr>\n",
       "      <th>4</th>\n",
       "      <td>34</td>\n",
       "      <td>Ukai serves some of the best sushi and sashimi...</td>\n",
       "      <td>4</td>\n",
       "    </tr>\n",
       "  </tbody>\n",
       "</table>\n",
       "</div>"
      ],
      "text/plain": [
       "   review_id                                               text  stars\n",
       "0         30  We stopped here for lunch today and were pleas...      4\n",
       "1         31  We went for a quick lunch here - it's all reas...      3\n",
       "2         32  Very bad food, avoid it. We were a group of 4 ...      2\n",
       "3         33  Bring a friend or two to help open the door. I...      3\n",
       "4         34  Ukai serves some of the best sushi and sashimi...      4"
      ]
     },
     "execution_count": 413,
     "metadata": {},
     "output_type": "execute_result"
    }
   ],
   "source": [
    "c3 = pd.read_json(\"./yelp_challenge_3_with_answers.jsonl\", lines = True)\n",
    "print(c3.shape)\n",
    "c3.head()"
   ]
  },
  {
   "cell_type": "markdown",
   "metadata": {},
   "source": [
    "##### Quick EDA"
   ]
  },
  {
   "cell_type": "code",
   "execution_count": 414,
   "metadata": {},
   "outputs": [
    {
     "data": {
      "text/plain": [
       "<matplotlib.axes._subplots.AxesSubplot at 0x25ad6911848>"
      ]
     },
     "execution_count": 414,
     "metadata": {},
     "output_type": "execute_result"
    },
    {
     "data": {
      "image/png": "[encoded data removed]",
      "text/plain": [
       "<Figure size 432x288 with 1 Axes>"
      ]
     },
     "metadata": {
      "needs_background": "light"
     },
     "output_type": "display_data"
    }
   ],
   "source": [
    "sns.countplot(c3['stars'])"
   ]
  },
  {
   "cell_type": "markdown",
   "metadata": {},
   "source": [
    "##### Pre-processing"
   ]
  },
  {
   "cell_type": "code",
   "execution_count": 415,
   "metadata": {},
   "outputs": [
    {
     "data": {
      "text/html": [
       "<div>\n",
       "<style scoped>\n",
       "    .dataframe tbody tr th:only-of-type {\n",
       "        vertical-align: middle;\n",
       "    }\n",
       "\n",
       "    .dataframe tbody tr th {\n",
       "        vertical-align: top;\n",
       "    }\n",
       "\n",
       "    .dataframe thead th {\n",
       "        text-align: right;\n",
       "    }\n",
       "</style>\n",
       "<table border=\"1\" class=\"dataframe\">\n",
       "  <thead>\n",
       "    <tr style=\"text-align: right;\">\n",
       "      <th></th>\n",
       "      <th>review_id</th>\n",
       "      <th>text</th>\n",
       "      <th>stars</th>\n",
       "    </tr>\n",
       "  </thead>\n",
       "  <tbody>\n",
       "    <tr>\n",
       "      <th>0</th>\n",
       "      <td>30</td>\n",
       "      <td>we stop here for lunch today and were pleasant...</td>\n",
       "      <td>4</td>\n",
       "    </tr>\n",
       "    <tr>\n",
       "      <th>1</th>\n",
       "      <td>31</td>\n",
       "      <td>we went for a quick lunch here it s all reason...</td>\n",
       "      <td>3</td>\n",
       "    </tr>\n",
       "    <tr>\n",
       "      <th>2</th>\n",
       "      <td>32</td>\n",
       "      <td>veri bad food avoid it we were a group of 4 an...</td>\n",
       "      <td>2</td>\n",
       "    </tr>\n",
       "    <tr>\n",
       "      <th>3</th>\n",
       "      <td>33</td>\n",
       "      <td>bring a friend or two to help open the door i ...</td>\n",
       "      <td>3</td>\n",
       "    </tr>\n",
       "    <tr>\n",
       "      <th>4</th>\n",
       "      <td>34</td>\n",
       "      <td>ukai serv some of the best sushi and sashimi i...</td>\n",
       "      <td>4</td>\n",
       "    </tr>\n",
       "  </tbody>\n",
       "</table>\n",
       "</div>"
      ],
      "text/plain": [
       "   review_id                                               text  stars\n",
       "0         30  we stop here for lunch today and were pleasant...      4\n",
       "1         31  we went for a quick lunch here it s all reason...      3\n",
       "2         32  veri bad food avoid it we were a group of 4 an...      2\n",
       "3         33  bring a friend or two to help open the door i ...      3\n",
       "4         34  ukai serv some of the best sushi and sashimi i...      4"
      ]
     },
     "execution_count": 415,
     "metadata": {},
     "output_type": "execute_result"
    }
   ],
   "source": [
    "c3['text'] = c3['text'].apply(clean_text)\n",
    "c3.head()"
   ]
  },
  {
   "cell_type": "markdown",
   "metadata": {},
   "source": [
    "##### Load previous tokenizer"
   ]
  },
  {
   "cell_type": "code",
   "execution_count": 416,
   "metadata": {},
   "outputs": [],
   "source": [
    "X = c3['text'].fillna('').values\n",
    "y = pd.get_dummies(c3['stars'])\n",
    "\n",
    "# with open('tokenizer.pickle', 'rb') as handle:\n",
    "#     tokenizer = pickle.load(handle)\n",
    "\n",
    "max_words    \n",
    "    \n",
    "necc_cols = [1, 2, 3, 4, 5]\n",
    "for col in necc_cols:\n",
    "    if col not in y.columns:\n",
    "        y[col] = 0\n",
    "        \n",
    "y = y[necc_cols]\n",
    "y = y.values\n",
    "\n",
    "X_baseline = tokenizer.texts_to_matrix(X)\n",
    "X_lstm = tokenizer.texts_to_sequences(X)\n",
    "X_lstm = pad_sequences(X_lstm, maxlen=400)"
   ]
  },
  {
   "cell_type": "markdown",
   "metadata": {},
   "source": [
    "##### Load and compile models"
   ]
  },
  {
   "cell_type": "code",
   "execution_count": 417,
   "metadata": {},
   "outputs": [],
   "source": [
    "# # Baseline\n",
    "# baseline = load_model('./models/baseline.h5')\n",
    "\n",
    "# baseline.compile(loss='categorical_crossentropy',\n",
    "#               optimizer=optimizer,\n",
    "#               metrics=['accuracy'])\n",
    "\n",
    "# # LSTM\n",
    "# lstm = load_model('./models/lstm.h5')\n",
    "\n",
    "# lstm.compile(loss='categorical_crossentropy',\n",
    "#               optimizer=optimizer,\n",
    "#               metrics=['accuracy'])\n",
    "\n",
    "\n",
    "# # One vs. all\n",
    "# lstm_1 = load_model('./models/one_star.h5')\n",
    "\n",
    "# lstm_1.compile(loss='binary_crossentropy',\n",
    "#                   optimizer=optimizer,\n",
    "#                   metrics=['accuracy'])\n",
    "\n",
    "# lstm_2 = load_model('./models/two_star.h5')\n",
    "\n",
    "# lstm_2.compile(loss='binary_crossentropy',\n",
    "#                   optimizer=optimizer,\n",
    "#                   metrics=['accuracy'])\n",
    "\n",
    "# lstm_3 = load_model('./models/three_star.h5')\n",
    "\n",
    "# lstm_3.compile(loss='binary_crossentropy',\n",
    "#                   optimizer=optimizer,\n",
    "#                   metrics=['accuracy'])\n",
    "\n",
    "# lstm_4 = load_model('./models/four_star.h5')\n",
    "\n",
    "# lstm_4.compile(loss='binary_crossentropy',\n",
    "#                   optimizer=optimizer,\n",
    "#                   metrics=['accuracy'])\n",
    "\n",
    "# lstm_5 = load_model('./models/five_star.h5')\n",
    "\n",
    "# lstm_5.compile(loss='binary_crossentropy',\n",
    "#                   optimizer=optimizer,\n",
    "#                   metrics=['accuracy'])"
   ]
  },
  {
   "cell_type": "markdown",
   "metadata": {},
   "source": [
    "##### Evaluate Models"
   ]
  },
  {
   "cell_type": "code",
   "execution_count": 418,
   "metadata": {},
   "outputs": [
    {
     "name": "stdout",
     "output_type": "stream",
     "text": [
      "534/534 [==============================] - 0s 86us/step\n",
      "[1.4272420200962253, 0.5617977380752563, 0.2057403028011322]\n",
      "534/534 [==============================] - 0s 502us/step\n",
      "[1.1382992944020904, 0.5898876190185547, 0.1856943964958191]\n",
      "[0.5880149812734082, 0.5299625468164794]\n"
     ]
    }
   ],
   "source": [
    "# Baseline\n",
    "print(baseline.evaluate(X_baseline, y))\n",
    "\n",
    "# LSTM\n",
    "print(lstm.evaluate(X_lstm, y))\n",
    "\n",
    "# One vs. All\n",
    "one_star_ps = lstm_1.predict(X_lstm)\n",
    "two_star_ps = lstm_2.predict(X_lstm)\n",
    "three_star_ps = lstm_3.predict(X_lstm)\n",
    "four_star_ps = lstm_4.predict(X_lstm)\n",
    "five_star_ps = lstm_5.predict(X_lstm)\n",
    "\n",
    "data = [one_star_ps.flatten(), two_star_ps.flatten(), three_star_ps.flatten(), four_star_ps.flatten(), five_star_ps.flatten()]\n",
    "cols = [1, 2, 3, 4, 5]\n",
    "ps = pd.DataFrame(data=data, index=cols).T\n",
    "\n",
    "ps[\"ova_pred\"] = ps.idxmax(axis=1)\n",
    "\n",
    "print([MAE(ps[\"ova_pred\"], pd.DataFrame(data=y, columns=cols).idxmax(axis=1)), Accuracy(ps[\"ova_pred\"], pd.DataFrame(data=y, columns=cols).idxmax(axis=1))])"
   ]
  },
  {
   "cell_type": "markdown",
   "metadata": {},
   "source": [
    "##### Attempt Ensemble"
   ]
  },
  {
   "cell_type": "code",
   "execution_count": 419,
   "metadata": {},
   "outputs": [
    {
     "name": "stdout",
     "output_type": "stream",
     "text": [
      "[0.46629213483146065, 0.5936329588014981]\n"
     ]
    }
   ],
   "source": [
    "# Baseline\n",
    "baseline_preds = pd.DataFrame(baseline.predict(X_baseline), columns=cols)\n",
    "baseline_preds['baseline_pred'] = baseline_preds.idxmax(axis=1)\n",
    "\n",
    "# LSTM\n",
    "lstm_preds = pd.DataFrame(lstm.predict(X_lstm), columns=cols)\n",
    "lstm_preds['lstm_pred'] = lstm_preds.idxmax(axis=1)\n",
    "\n",
    "# One vs. all\n",
    "ova_preds = ps\n",
    "\n",
    "all_preds = pd.DataFrame([baseline_preds['baseline_pred'], lstm_preds['lstm_pred'], ova_preds['ova_pred']]).T\n",
    "all_preds[\"final_pred\"] = all_preds.mode(axis=1)[0]\n",
    "\n",
    "print([MAE(all_preds[\"final_pred\"], pd.DataFrame(data=y, columns=cols).idxmax(axis=1)), Accuracy(all_preds[\"final_pred\"], pd.DataFrame(data=y, columns=cols).idxmax(axis=1))])"
   ]
  },
  {
   "cell_type": "markdown",
   "metadata": {},
   "source": [
    "##### Misc."
   ]
  },
  {
   "cell_type": "code",
   "execution_count": 420,
   "metadata": {},
   "outputs": [
    {
     "data": {
      "text/plain": [
       "<matplotlib.axes._subplots.AxesSubplot at 0x25bcf6bed08>"
      ]
     },
     "execution_count": 420,
     "metadata": {},
     "output_type": "execute_result"
    },
    {
     "data": {
      "image/png": "[encoded data removed]",
      "text/plain": [
       "<Figure size 432x288 with 1 Axes>"
      ]
     },
     "metadata": {
      "needs_background": "light"
     },
     "output_type": "display_data"
    }
   ],
   "source": [
    "sns.countplot(all_preds[\"final_pred\"])"
   ]
  },
  {
   "cell_type": "markdown",
   "metadata": {},
   "source": [
    "### Challenge 8"
   ]
  },
  {
   "cell_type": "code",
   "execution_count": 421,
   "metadata": {},
   "outputs": [
    {
     "name": "stdout",
     "output_type": "stream",
     "text": [
      "(500, 3)\n"
     ]
    },
    {
     "data": {
      "text/html": [
       "<div>\n",
       "<style scoped>\n",
       "    .dataframe tbody tr th:only-of-type {\n",
       "        vertical-align: middle;\n",
       "    }\n",
       "\n",
       "    .dataframe tbody tr th {\n",
       "        vertical-align: top;\n",
       "    }\n",
       "\n",
       "    .dataframe thead th {\n",
       "        text-align: right;\n",
       "    }\n",
       "</style>\n",
       "<table border=\"1\" class=\"dataframe\">\n",
       "  <thead>\n",
       "    <tr style=\"text-align: right;\">\n",
       "      <th></th>\n",
       "      <th>review_id</th>\n",
       "      <th>text</th>\n",
       "      <th>stars</th>\n",
       "    </tr>\n",
       "  </thead>\n",
       "  <tbody>\n",
       "    <tr>\n",
       "      <th>0</th>\n",
       "      <td>qOOv-A-vo3kMT0yi4jIIlg</td>\n",
       "      <td>Not bad for fast food.</td>\n",
       "      <td>4</td>\n",
       "    </tr>\n",
       "    <tr>\n",
       "      <th>1</th>\n",
       "      <td>uqxkO6B6w_sIDSAGr0k_0A</td>\n",
       "      <td>Une institution du café</td>\n",
       "      <td>4</td>\n",
       "    </tr>\n",
       "    <tr>\n",
       "      <th>2</th>\n",
       "      <td>0o_gGSU0m_4QyNLWEHKgug</td>\n",
       "      <td>J ai vraiment aimé !!!!</td>\n",
       "      <td>4</td>\n",
       "    </tr>\n",
       "    <tr>\n",
       "      <th>3</th>\n",
       "      <td>BKAj-fKWW5G3yt3xAkbUCQ</td>\n",
       "      <td>They have good poutine.</td>\n",
       "      <td>4</td>\n",
       "    </tr>\n",
       "    <tr>\n",
       "      <th>4</th>\n",
       "      <td>fAhp8IwuGNT0ywKmsCs6VQ</td>\n",
       "      <td>Very old and dirty vans.</td>\n",
       "      <td>1</td>\n",
       "    </tr>\n",
       "  </tbody>\n",
       "</table>\n",
       "</div>"
      ],
      "text/plain": [
       "                review_id                      text  stars\n",
       "0  qOOv-A-vo3kMT0yi4jIIlg    Not bad for fast food.      4\n",
       "1  uqxkO6B6w_sIDSAGr0k_0A   Une institution du café      4\n",
       "2  0o_gGSU0m_4QyNLWEHKgug   J ai vraiment aimé !!!!      4\n",
       "3  BKAj-fKWW5G3yt3xAkbUCQ   They have good poutine.      4\n",
       "4  fAhp8IwuGNT0ywKmsCs6VQ  Very old and dirty vans.      1"
      ]
     },
     "execution_count": 421,
     "metadata": {},
     "output_type": "execute_result"
    }
   ],
   "source": [
    "c8 = pd.read_json(\"./yelp_challenge_8_with_answers.jsonl\", lines = True)\n",
    "print(c8.shape)\n",
    "c8.head()"
   ]
  },
  {
   "cell_type": "markdown",
   "metadata": {},
   "source": [
    "##### Quick EDA"
   ]
  },
  {
   "cell_type": "code",
   "execution_count": 422,
   "metadata": {},
   "outputs": [
    {
     "data": {
      "text/plain": [
       "<matplotlib.axes._subplots.AxesSubplot at 0x25aedd554c8>"
      ]
     },
     "execution_count": 422,
     "metadata": {},
     "output_type": "execute_result"
    },
    {
     "data": {
      "image/png": "[encoded data removed]",
      "text/plain": [
       "<Figure size 432x288 with 1 Axes>"
      ]
     },
     "metadata": {
      "needs_background": "light"
     },
     "output_type": "display_data"
    }
   ],
   "source": [
    "sns.countplot(c8['stars'])"
   ]
  },
  {
   "cell_type": "markdown",
   "metadata": {},
   "source": [
    "##### Pre-processing"
   ]
  },
  {
   "cell_type": "code",
   "execution_count": 423,
   "metadata": {},
   "outputs": [
    {
     "name": "stderr",
     "output_type": "stream",
     "text": [
      "C:\\Users\\Tanner\\Anaconda3\\envs\\yelp\\lib\\site-packages\\bs4\\__init__.py:398: UserWarning: \"https://casetext.com/case/united-states-v-butterbaugh-2\" looks like a URL. Beautiful Soup is not an HTTP client. You should probably use an HTTP client like requests to get the document behind the URL, and feed that document to Beautiful Soup.\n",
      "  markup\n"
     ]
    },
    {
     "data": {
      "text/html": [
       "<div>\n",
       "<style scoped>\n",
       "    .dataframe tbody tr th:only-of-type {\n",
       "        vertical-align: middle;\n",
       "    }\n",
       "\n",
       "    .dataframe tbody tr th {\n",
       "        vertical-align: top;\n",
       "    }\n",
       "\n",
       "    .dataframe thead th {\n",
       "        text-align: right;\n",
       "    }\n",
       "</style>\n",
       "<table border=\"1\" class=\"dataframe\">\n",
       "  <thead>\n",
       "    <tr style=\"text-align: right;\">\n",
       "      <th></th>\n",
       "      <th>review_id</th>\n",
       "      <th>text</th>\n",
       "      <th>stars</th>\n",
       "    </tr>\n",
       "  </thead>\n",
       "  <tbody>\n",
       "    <tr>\n",
       "      <th>0</th>\n",
       "      <td>qOOv-A-vo3kMT0yi4jIIlg</td>\n",
       "      <td>not bad for fast food</td>\n",
       "      <td>4</td>\n",
       "    </tr>\n",
       "    <tr>\n",
       "      <th>1</th>\n",
       "      <td>uqxkO6B6w_sIDSAGr0k_0A</td>\n",
       "      <td>une institut du caf</td>\n",
       "      <td>4</td>\n",
       "    </tr>\n",
       "    <tr>\n",
       "      <th>2</th>\n",
       "      <td>0o_gGSU0m_4QyNLWEHKgug</td>\n",
       "      <td>j ai vraiment aim</td>\n",
       "      <td>4</td>\n",
       "    </tr>\n",
       "    <tr>\n",
       "      <th>3</th>\n",
       "      <td>BKAj-fKWW5G3yt3xAkbUCQ</td>\n",
       "      <td>they have good poutin</td>\n",
       "      <td>4</td>\n",
       "    </tr>\n",
       "    <tr>\n",
       "      <th>4</th>\n",
       "      <td>fAhp8IwuGNT0ywKmsCs6VQ</td>\n",
       "      <td>veri old and dirti van</td>\n",
       "      <td>1</td>\n",
       "    </tr>\n",
       "  </tbody>\n",
       "</table>\n",
       "</div>"
      ],
      "text/plain": [
       "                review_id                    text  stars\n",
       "0  qOOv-A-vo3kMT0yi4jIIlg   not bad for fast food      4\n",
       "1  uqxkO6B6w_sIDSAGr0k_0A     une institut du caf      4\n",
       "2  0o_gGSU0m_4QyNLWEHKgug       j ai vraiment aim      4\n",
       "3  BKAj-fKWW5G3yt3xAkbUCQ   they have good poutin      4\n",
       "4  fAhp8IwuGNT0ywKmsCs6VQ  veri old and dirti van      1"
      ]
     },
     "execution_count": 423,
     "metadata": {},
     "output_type": "execute_result"
    }
   ],
   "source": [
    "c8['text'] = c8['text'].apply(clean_text)\n",
    "c8.head()"
   ]
  },
  {
   "cell_type": "markdown",
   "metadata": {},
   "source": [
    "##### Load previous tokenizer"
   ]
  },
  {
   "cell_type": "code",
   "execution_count": 424,
   "metadata": {},
   "outputs": [],
   "source": [
    "X = c8['text'].fillna('').values\n",
    "y = pd.get_dummies(c8['stars'])\n",
    "\n",
    "# with open('tokenizer.pickle', 'rb') as handle:\n",
    "#     tokenizer = pickle.load(handle)\n",
    "\n",
    "max_words    \n",
    "    \n",
    "necc_cols = [1, 2, 3, 4, 5]\n",
    "for col in necc_cols:\n",
    "    if col not in y.columns:\n",
    "        y[col] = 0\n",
    "        \n",
    "y = y[necc_cols]\n",
    "y = y.values\n",
    "\n",
    "X_baseline = tokenizer.texts_to_matrix(X)\n",
    "X_lstm = tokenizer.texts_to_sequences(X)\n",
    "X_lstm = pad_sequences(X_lstm, maxlen=400)"
   ]
  },
  {
   "cell_type": "markdown",
   "metadata": {},
   "source": [
    "##### Load and compile models"
   ]
  },
  {
   "cell_type": "code",
   "execution_count": 425,
   "metadata": {},
   "outputs": [],
   "source": [
    "# # Baseline\n",
    "# baseline = load_model('./models/baseline.h5')\n",
    "\n",
    "# baseline.compile(loss='categorical_crossentropy',\n",
    "#               optimizer=optimizer,\n",
    "#               metrics=['accuracy'])\n",
    "\n",
    "# # LSTM\n",
    "# lstm = load_model('./models/lstm.h5')\n",
    "\n",
    "# lstm.compile(loss='categorical_crossentropy',\n",
    "#               optimizer=optimizer,\n",
    "#               metrics=['accuracy'])\n",
    "\n",
    "\n",
    "# # One vs. all\n",
    "# lstm_1 = load_model('./models/one_star.h5')\n",
    "\n",
    "# lstm_1.compile(loss='binary_crossentropy',\n",
    "#                   optimizer=optimizer,\n",
    "#                   metrics=['accuracy'])\n",
    "\n",
    "# lstm_2 = load_model('./models/two_star.h5')\n",
    "\n",
    "# lstm_2.compile(loss='binary_crossentropy',\n",
    "#                   optimizer=optimizer,\n",
    "#                   metrics=['accuracy'])\n",
    "\n",
    "# lstm_3 = load_model('./models/three_star.h5')\n",
    "\n",
    "# lstm_3.compile(loss='binary_crossentropy',\n",
    "#                   optimizer=optimizer,\n",
    "#                   metrics=['accuracy'])\n",
    "\n",
    "# lstm_4 = load_model('./models/four_star.h5')\n",
    "\n",
    "# lstm_4.compile(loss='binary_crossentropy',\n",
    "#                   optimizer=optimizer,\n",
    "#                   metrics=['accuracy'])\n",
    "\n",
    "# lstm_5 = load_model('./models/five_star.h5')\n",
    "\n",
    "# lstm_5.compile(loss='binary_crossentropy',\n",
    "#                   optimizer=optimizer,\n",
    "#                   metrics=['accuracy'])"
   ]
  },
  {
   "cell_type": "markdown",
   "metadata": {},
   "source": [
    "##### Evaluate Models"
   ]
  },
  {
   "cell_type": "code",
   "execution_count": 426,
   "metadata": {},
   "outputs": [
    {
     "name": "stdout",
     "output_type": "stream",
     "text": [
      "500/500 [==============================] - 0s 90us/step\n",
      "[1.2647738161087037, 0.6380000114440918, 0.1816849410533905]\n",
      "500/500 [==============================] - 0s 510us/step\n",
      "[1.06033664894104, 0.6340000033378601, 0.16163282096385956]\n",
      "[0.576, 0.624]\n"
     ]
    }
   ],
   "source": [
    "# Baseline\n",
    "print(baseline.evaluate(X_baseline, y))\n",
    "\n",
    "# LSTM\n",
    "print(lstm.evaluate(X_lstm, y))\n",
    "\n",
    "# One vs. All\n",
    "one_star_ps = lstm_1.predict(X_lstm)\n",
    "two_star_ps = lstm_2.predict(X_lstm)\n",
    "three_star_ps = lstm_3.predict(X_lstm)\n",
    "four_star_ps = lstm_4.predict(X_lstm)\n",
    "five_star_ps = lstm_5.predict(X_lstm)\n",
    "\n",
    "data = [one_star_ps.flatten(), two_star_ps.flatten(), three_star_ps.flatten(), four_star_ps.flatten(), five_star_ps.flatten()]\n",
    "cols = [1, 2, 3, 4, 5]\n",
    "ps = pd.DataFrame(data=data, index=cols).T\n",
    "\n",
    "ps[\"ova_pred\"] = ps.idxmax(axis=1)\n",
    "\n",
    "print([MAE(ps[\"ova_pred\"], pd.DataFrame(data=y, columns=cols).idxmax(axis=1)), Accuracy(ps[\"ova_pred\"], pd.DataFrame(data=y, columns=cols).idxmax(axis=1))])"
   ]
  },
  {
   "cell_type": "markdown",
   "metadata": {},
   "source": [
    "##### Attempt Ensemble"
   ]
  },
  {
   "cell_type": "code",
   "execution_count": 427,
   "metadata": {},
   "outputs": [
    {
     "name": "stdout",
     "output_type": "stream",
     "text": [
      "[0.536, 0.644]\n"
     ]
    }
   ],
   "source": [
    "# Baseline\n",
    "baseline_preds = pd.DataFrame(baseline.predict(X_baseline), columns=cols)\n",
    "baseline_preds['baseline_pred'] = baseline_preds.idxmax(axis=1)\n",
    "\n",
    "# LSTM\n",
    "lstm_preds = pd.DataFrame(lstm.predict(X_lstm), columns=cols)\n",
    "lstm_preds['lstm_pred'] = lstm_preds.idxmax(axis=1)\n",
    "\n",
    "# One vs. all\n",
    "ova_preds = ps\n",
    "\n",
    "all_preds = pd.DataFrame([baseline_preds['baseline_pred'], lstm_preds['lstm_pred'], ova_preds['ova_pred']]).T\n",
    "all_preds[\"final_pred\"] = all_preds.mode(axis=1)[0]\n",
    "\n",
    "print([MAE(all_preds[\"final_pred\"], pd.DataFrame(data=y, columns=cols).idxmax(axis=1)), Accuracy(all_preds[\"final_pred\"], pd.DataFrame(data=y, columns=cols).idxmax(axis=1))])"
   ]
  },
  {
   "cell_type": "markdown",
   "metadata": {},
   "source": [
    "##### Misc."
   ]
  },
  {
   "cell_type": "code",
   "execution_count": 428,
   "metadata": {},
   "outputs": [
    {
     "data": {
      "text/plain": [
       "<matplotlib.axes._subplots.AxesSubplot at 0x25aedd4dd08>"
      ]
     },
     "execution_count": 428,
     "metadata": {},
     "output_type": "execute_result"
    },
    {
     "data": {
      "image/png": "[encoded data removed]",
      "text/plain": [
       "<Figure size 432x288 with 1 Axes>"
      ]
     },
     "metadata": {
      "needs_background": "light"
     },
     "output_type": "display_data"
    }
   ],
   "source": [
    "sns.countplot(all_preds[\"final_pred\"])"
   ]
  }
 ],
 "metadata": {
  "kernelspec": {
   "display_name": "Python 3",
   "language": "python",
   "name": "python3"
  },
  "language_info": {
   "codemirror_mode": {
    "name": "ipython",
    "version": 3
   },
   "file_extension": ".py",
   "mimetype": "text/x-python",
   "name": "python",
   "nbconvert_exporter": "python",
   "pygments_lexer": "ipython3",
   "version": "3.7.7"
  }
 },
 "nbformat": 4,
 "nbformat_minor": 2
}
