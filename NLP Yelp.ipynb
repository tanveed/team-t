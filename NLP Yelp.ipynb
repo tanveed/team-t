{
 "cells": [
  {
   "cell_type": "markdown",
   "metadata": {},
   "source": [
    "# NLP: Yelp Review to Rating\n",
    "### Authors: Tanvee Desai and Tanner Arrizabalaga\n",
    "\n",
    "Hello! In this project, we will be looking over Yelp reviews (data available here: https://www.yelp.com/dataset) and utilizing ML/DL to accurately predict what the reviews star rating is based solely on text.\n",
    "\n",
    "This project is split into the following parts\n",
    "- Libraries\n",
    "- EDA\n",
    "- Data Cleaning\n",
    "    - Stop word removal, HTML parsing, punctuation removal, etc.\n",
    "    - Creation of a cleaned *and* stemmed dataset\n",
    "- Model Implementation\n",
    "    - Simple BOW Model Neural Network\n",
    "    - LSTM\n",
    "    - Bidirectional LSTM\n",
    "    - One vs. All LSTM Approach\n",
    "- Exploring Challenges\n",
    "    - Challenge 5\n",
    "    - Challenge 6"
   ]
  },
  {
   "cell_type": "markdown",
   "metadata": {},
   "source": [
    "### Importing necessary libraries"
   ]
  },
  {
   "cell_type": "code",
   "execution_count": 1,
   "metadata": {},
   "outputs": [
    {
     "name": "stderr",
     "output_type": "stream",
     "text": [
      "Using TensorFlow backend.\n"
     ]
    }
   ],
   "source": [
    "# General Libraries\n",
    "import json\n",
    "import sys\n",
    "import numpy as np\n",
    "import pandas as pd\n",
    "import seaborn as sns\n",
    "import matplotlib.pyplot as plt\n",
    "import itertools\n",
    "\n",
    "# NLP\n",
    "import nltk\n",
    "import re\n",
    "from nltk.corpus import stopwords\n",
    "from bs4 import BeautifulSoup\n",
    "from nltk.stem import PorterStemmer\n",
    "\n",
    "\n",
    "# ML/DL\n",
    "import tensorflow as tf\n",
    "import pickle\n",
    "\n",
    "from sklearn.preprocessing import LabelBinarizer, LabelEncoder\n",
    "from sklearn.metrics import confusion_matrix, classification_report\n",
    "from sklearn.model_selection import train_test_split, GridSearchCV\n",
    "\n",
    "from tensorflow import keras\n",
    "from keras import Sequential\n",
    "from keras.layers import Dense, Activation, Dropout, Embedding, Conv1D, MaxPooling1D, LSTM, BatchNormalization, SpatialDropout1D, GRU, GlobalMaxPool1D, Bidirectional\n",
    "from keras.preprocessing.sequence import pad_sequences\n",
    "from keras.preprocessing import text, sequence\n",
    "from keras import utils\n",
    "from keras import regularizers\n",
    "from keras.models import load_model\n",
    "from keras.initializers import Constant\n",
    "from keras.utils import plot_model\n",
    "from keras.wrappers.scikit_learn import KerasClassifier"
   ]
  },
  {
   "cell_type": "code",
   "execution_count": null,
   "metadata": {},
   "outputs": [],
   "source": [
    "yelp = pd.read_json(\"./yelp_review_training_dataset.jsonl\", lines = True)\n",
    "yelp.head()"
   ]
  },
  {
   "cell_type": "markdown",
   "metadata": {},
   "source": [
    "How large is the data?"
   ]
  },
  {
   "cell_type": "code",
   "execution_count": null,
   "metadata": {},
   "outputs": [],
   "source": [
    "yelp.shape"
   ]
  },
  {
   "cell_type": "markdown",
   "metadata": {},
   "source": [
    "### EDA - Stars\n",
    "Not too much to go off of, but let's get a general understanding of our data. How many nulls do we have?"
   ]
  },
  {
   "cell_type": "code",
   "execution_count": null,
   "metadata": {},
   "outputs": [],
   "source": [
    "yelp.isna().sum()"
   ]
  },
  {
   "cell_type": "code",
   "execution_count": null,
   "metadata": {},
   "outputs": [],
   "source": [
    "sns.countplot(yelp['stars'])"
   ]
  },
  {
   "cell_type": "markdown",
   "metadata": {},
   "source": [
    "One thing we can potentially look at is whether or not the reviews are balanced. Let's say >=4 is positive, and <4 is negative. If we do see a significant difference in positive and negative reviews, we can balance it before training."
   ]
  },
  {
   "cell_type": "code",
   "execution_count": null,
   "metadata": {},
   "outputs": [],
   "source": [
    "def pos_or_neg(x):\n",
    "    if x >= 4:\n",
    "        return \"Positive\"\n",
    "    else:\n",
    "        return \"Negative\"\n",
    "    \n",
    "yelp['category'] = yelp['stars'].apply(pos_or_neg)\n",
    "\n",
    "sns.countplot(yelp['category'])\n",
    "num_pos = np.count_nonzero(yelp['category'] == 'Positive')\n",
    "num_neg = np.count_nonzero(yelp['category'] == 'Negative')\n",
    "print(\"Positive to negative review ratio: \", num_pos / num_neg)"
   ]
  },
  {
   "cell_type": "markdown",
   "metadata": {},
   "source": [
    "There are roughly 1 and 2/3 times as many positive reviews as negative reviews. We will first try no class balancing when building the model, but may turn to class balancing later on."
   ]
  },
  {
   "cell_type": "markdown",
   "metadata": {},
   "source": [
    "### Data Cleaning - Text"
   ]
  },
  {
   "cell_type": "code",
   "execution_count": 2,
   "metadata": {},
   "outputs": [
    {
     "name": "stdout",
     "output_type": "stream",
     "text": [
      "{'they', 'had', 'ourselves', 'at', 'her', 'couldn', \"isn't\", 'too', 'herself', 'don', 'such', 'below', 'hadn', 'weren', \"you're\", 'your', 'been', 'll', 'y', 'ma', 'not', \"you'll\", 'd', 'above', 'theirs', 'again', 'no', 'over', \"needn't\", 'then', 'its', \"hasn't\", 'it', \"don't\", 'because', 'you', \"mightn't\", 'and', 'these', \"it's\", 'doesn', 'with', 'to', 'there', \"you've\", 'that', 'what', 'm', \"won't\", 'but', 'this', 'why', 'by', 'their', \"haven't\", 'be', 'other', 'against', 'where', 'does', 'mightn', 'few', 'them', \"doesn't\", 'can', 'between', 'isn', 'yourself', 'which', 'those', 'ain', 'as', 'up', 'will', 'some', 'was', 'into', 'himself', 't', 'who', 'on', 'o', 'is', 'of', 'hers', 'nor', 'being', \"shan't\", 'haven', 'are', 'whom', 'further', 'were', 'have', 'any', 'yourselves', 'i', 'very', 'wasn', 'him', 'his', 're', 'shouldn', 'or', 'our', 'if', 'each', 'the', 's', \"should've\", 'until', 'itself', \"mustn't\", 'during', 'same', 'aren', 'am', 'an', 'my', 'when', \"wasn't\", 'down', 'myself', 'after', \"you'd\", \"weren't\", 'having', 'while', 'here', 'now', 'a', 'own', 'me', 'off', 'so', \"hadn't\", 'doing', 'won', 'he', \"she's\", 'how', 'should', 'more', 'shan', \"shouldn't\", 'needn', 'all', 'wouldn', \"wouldn't\", 'ours', 'once', 'hasn', 'both', 'did', 've', 'do', 'she', \"that'll\", 'has', \"aren't\", 'yours', 'didn', \"didn't\", 'mustn', 'just', 'than', \"couldn't\", 'most', 'before', 'about', 'themselves', 'for', 'in', 'under', 'out', 'from', 'through', 'we', 'only'}\n",
      "{'they', 'had', 'ourselves', 'at', 'her', 'couldn', \"isn't\", 'too', 'herself', 'don', 'such', 'below', 'hadn', 'weren', \"you're\", 'your', 'been', 'll', 'y', 'ma', 'not', \"you'll\", 'd', 'above', 'theirs', 'again', 'no', 'over', \"needn't\", 'then', 'its', \"hasn't\", 'it', \"don't\", 'because', 'you', \"mightn't\", 'and', 'these', \"it's\", 'doesn', 'with', 'to', 'there', \"you've\", 'that', 'what', 'm', \"won't\", 'but', 'this', 'why', 'by', 'their', \"haven't\", 'be', 'other', 'against', 'where', 'does', 'mightn', 'few', 'them', \"doesn't\", 'can', 'between', 'isn', 'yourself', 'which', 'those', 'ain', 'as', 'up', 'will', 'some', 'was', 'into', 'himself', 't', 'who', 'on', 'o', 'is', 'of', 'hers', 'nor', 'being', \"shan't\", 'haven', 'are', 'whom', 'further', 'were', 'have', 'any', 'yourselves', 'i', 'very', 'wasn', 'him', 'his', 're', 'shouldn', 'or', 'our', 'if', 'each', 'the', 's', \"should've\", 'until', 'itself', \"mustn't\", 'during', 'same', 'aren', 'am', 'an', 'my', 'when', \"wasn't\", 'down', 'myself', 'after', \"you'd\", \"weren't\", 'having', 'while', 'here', 'now', 'a', 'own', 'me', 'off', 'so', \"hadn't\", 'doing', 'won', 'he', \"she's\", 'how', 'should', 'more', 'shan', \"shouldn't\", 'needn', 'all', 'wouldn', \"wouldn't\", 'ours', 'once', 'hasn', 'both', 'did', 've', 'do', 'she', \"that'll\", 'has', \"aren't\", 'yours', 'didn', \"didn't\", 'mustn', 'just', 'than', \"couldn't\", 'most', 'before', 'about', 'themselves', 'for', 'in', 'under', 'out', 'from', 'through', 'we', 'only'}\n"
     ]
    }
   ],
   "source": [
    "REPLACE_BY_SPACE_RE = re.compile('[/(){}\\[\\]\\|@,;]')\n",
    "BAD_SYMBOLS_RE = re.compile('[^0-9a-z #+_]')\n",
    "STOPWORDS = set(stopwords.words('english'))\n",
    "print(STOPWORDS)\n",
    "\n",
    "def adjust_stopwords(stopwords):\n",
    "    words_to_keep = set(['nor', 'not', 'very', 'no', 'few', 'too', 'doesn', 'didn', 'wasn', 'ain', \n",
    "                        \"doesn't\", \"isn't\", \"hasn't\", 'shouldn', \"weren't\", \"don't\", \"didn't\", \n",
    "                        \"shouldn't\", \"wouldn't\", \"won't\", \"above\", \"below\", \"haven't\", \"shan't\", \"weren\"\n",
    "                        \"but\", \"wouldn\", \"mightn\", \"under\", \"mustn't\", \"over\", \"won\", \"aren\", \"wasn't\", \n",
    "                        \"than\"])\n",
    "    return stopwords - words_to_keep\n",
    "\n",
    "def clean_text(text):\n",
    "    new_text = BeautifulSoup(text, \"lxml\").text # HTML decoding\n",
    "    new_text = new_text.lower() # lowercase text\n",
    "    new_text = REPLACE_BY_SPACE_RE.sub(' ', new_text) # replace REPLACE_BY_SPACE_RE symbols by space in text\n",
    "    new_text = BAD_SYMBOLS_RE.sub(' ', new_text) # delete symbols which are in BAD_SYMBOLS_RE from text\n",
    "   \n",
    "    ps = PorterStemmer()\n",
    "    \n",
    "    new_text = ' '.join(ps.stem(word) for word in new_text.split()) # keeping all words, no stop word removal\n",
    "    return new_text\n",
    "\n",
    "# STOPWORDS = adjust_stopwords(STOPWORDS)\n",
    "print(STOPWORDS)"
   ]
  },
  {
   "cell_type": "code",
   "execution_count": null,
   "metadata": {},
   "outputs": [],
   "source": [
    "# %%time\n",
    "# yelp['text'] = yelp['text'].apply(clean_text)\n",
    "# yelp.to_csv('cleaned_yelp_stemmed.csv')"
   ]
  },
  {
   "cell_type": "code",
   "execution_count": 3,
   "metadata": {},
   "outputs": [
    {
     "data": {
      "text/plain": [
       "'sadli as of juli 28 2016 silverstein bakeri is perman close i went there today in person and found the bad news post on their door'"
      ]
     },
     "execution_count": 3,
     "metadata": {},
     "output_type": "execute_result"
    }
   ],
   "source": [
    "text_1 = \"\\\"Good morning, cocktails for you?\\\" \\nWait...what? Oh...it's Vegas!\\n\\nDining here, you best not be dieting because this place is literally the definition of excess, but in a good way. I'm a sucker for benedicts so that was awesome. \\nService was really great too and the staff was so welcoming. It was our first stop just after landing so really appreciate the service.\\n\\nBack in Hawaii this reminds me of Zippys or Anna Millers - that home feeling. Prices are a bit high, but for what you get it's totally worth it. Will remember this place if I ever return to Vegas in the future.\"\n",
    "text_2 = \"80 bucks, thirty minutes to fix my shattered iPhone screen. Verizon won't help you so go here\"\n",
    "text_3 = \"Tr\\u00e8s grand caf\\u00e9, mais aussi calme et reposant, je m'y suis arr\\u00eat\\u00e9 alors que j'\\u00e9tais dans le coin.\\n\\nOn peu y mang\\u00e9 le midi, prendre une p\\u00e2tisserie ou un caf\\u00e9/th\\u00e9. \\n\\nJ'ai prit un th\\u00e9 qui \\u00e9tait vraiment bon, et je me suis pos\\u00e9 devant une des grandes baies vitr\\u00e9es sur un coussin et j'ai relax\\u00e9 compl\\u00e8tement pendant 2 heures. \\n\\nMais c'est aussi une coop\\u00e9rative d'artiste, avec une estrade etc.\\n\\nIl y a aussi un magasin Bio \\u00e0 l'entr\\u00e9e o\\u00f9 vous retrouverez des savons, huile d'olive et plein d'autres produits.\"\n",
    "text_4 = \"Sadly, as of July 28, 2016, Silverstein bakery is permanently closed. I went there today in person and found the bad news posted on their door. :(\"\n",
    "text_5 = \"I went here  they were about to close but the cashier was especially helpful ..but I guess they were tired of work...\"\n",
    "\n",
    "clean_text(text_4)"
   ]
  },
  {
   "cell_type": "markdown",
   "metadata": {},
   "source": [
    "# Model Implementation"
   ]
  },
  {
   "cell_type": "markdown",
   "metadata": {},
   "source": [
    "### Evaluation\n",
    "#### 1. Average Star Error (Average Absolute offset between predicted and true number of stars)\n",
    "#### 2. Accuracy (Exact Match -- Number of exactly predicted star ratings / total samples)"
   ]
  },
  {
   "cell_type": "code",
   "execution_count": 2,
   "metadata": {},
   "outputs": [],
   "source": [
    "from keras.losses import mean_absolute_error, binary_crossentropy, categorical_crossentropy\n",
    "\n",
    "def my_custom_loss_ova(y_true, y_pred):\n",
    "    mae = mean_absolute_error(y_true, y_pred)\n",
    "    crossentropy = binary_crossentropy(y_true, y_pred)\n",
    "    return mae + crossentropy\n",
    "\n",
    "def my_custom_loss(y_true, y_pred):\n",
    "    mae = mean_absolute_error(y_true, y_pred)\n",
    "    crossentropy = categorical_crossentropy(y_true, y_pred)\n",
    "    return mae + crossentropy\n",
    "\n",
    "def MAE(y_true, y_pred):\n",
    "    diffs = np.abs(y_true - y_pred)\n",
    "    loss = np.mean(diffs)\n",
    "    return loss\n",
    "\n",
    "def Accuracy(y_true, y_pred):\n",
    "    correct = y_true == y_pred\n",
    "    cor_count = np.count_nonzero(correct)\n",
    "    return cor_count / len(y_true)"
   ]
  },
  {
   "cell_type": "markdown",
   "metadata": {},
   "source": [
    "### Train/Test Split (Unbalanced and balanced)"
   ]
  },
  {
   "cell_type": "code",
   "execution_count": 5,
   "metadata": {},
   "outputs": [
    {
     "data": {
      "text/html": [
       "<div>\n",
       "<style scoped>\n",
       "    .dataframe tbody tr th:only-of-type {\n",
       "        vertical-align: middle;\n",
       "    }\n",
       "\n",
       "    .dataframe tbody tr th {\n",
       "        vertical-align: top;\n",
       "    }\n",
       "\n",
       "    .dataframe thead th {\n",
       "        text-align: right;\n",
       "    }\n",
       "</style>\n",
       "<table border=\"1\" class=\"dataframe\">\n",
       "  <thead>\n",
       "    <tr style=\"text-align: right;\">\n",
       "      <th></th>\n",
       "      <th>Unnamed: 0</th>\n",
       "      <th>review_id</th>\n",
       "      <th>text</th>\n",
       "      <th>stars</th>\n",
       "      <th>category</th>\n",
       "    </tr>\n",
       "  </thead>\n",
       "  <tbody>\n",
       "    <tr>\n",
       "      <th>0</th>\n",
       "      <td>0</td>\n",
       "      <td>Q1sbwvVQXV2734tPgoKj4Q</td>\n",
       "      <td>total bill for thi horribl servic over 8g thes...</td>\n",
       "      <td>1</td>\n",
       "      <td>Negative</td>\n",
       "    </tr>\n",
       "    <tr>\n",
       "      <th>1</th>\n",
       "      <td>1</td>\n",
       "      <td>GJXCdrto3ASJOqKeVWPi6Q</td>\n",
       "      <td>i ador travi at the hard rock s new kelli card...</td>\n",
       "      <td>5</td>\n",
       "      <td>Positive</td>\n",
       "    </tr>\n",
       "    <tr>\n",
       "      <th>2</th>\n",
       "      <td>2</td>\n",
       "      <td>2TzJjDVDEuAW6MR5Vuc1ug</td>\n",
       "      <td>i have to say that thi offic realli ha it toge...</td>\n",
       "      <td>5</td>\n",
       "      <td>Positive</td>\n",
       "    </tr>\n",
       "    <tr>\n",
       "      <th>3</th>\n",
       "      <td>3</td>\n",
       "      <td>yi0R0Ugj_xUx_Nek0-_Qig</td>\n",
       "      <td>went in for a lunch steak sandwich wa delici a...</td>\n",
       "      <td>5</td>\n",
       "      <td>Positive</td>\n",
       "    </tr>\n",
       "    <tr>\n",
       "      <th>4</th>\n",
       "      <td>4</td>\n",
       "      <td>11a8sVPMUFtaC7_ABRkmtw</td>\n",
       "      <td>today wa my second out of three session i had ...</td>\n",
       "      <td>1</td>\n",
       "      <td>Negative</td>\n",
       "    </tr>\n",
       "  </tbody>\n",
       "</table>\n",
       "</div>"
      ],
      "text/plain": [
       "   Unnamed: 0               review_id  \\\n",
       "0           0  Q1sbwvVQXV2734tPgoKj4Q   \n",
       "1           1  GJXCdrto3ASJOqKeVWPi6Q   \n",
       "2           2  2TzJjDVDEuAW6MR5Vuc1ug   \n",
       "3           3  yi0R0Ugj_xUx_Nek0-_Qig   \n",
       "4           4  11a8sVPMUFtaC7_ABRkmtw   \n",
       "\n",
       "                                                text  stars  category  \n",
       "0  total bill for thi horribl servic over 8g thes...      1  Negative  \n",
       "1  i ador travi at the hard rock s new kelli card...      5  Positive  \n",
       "2  i have to say that thi offic realli ha it toge...      5  Positive  \n",
       "3  went in for a lunch steak sandwich wa delici a...      5  Positive  \n",
       "4  today wa my second out of three session i had ...      1  Negative  "
      ]
     },
     "execution_count": 5,
     "metadata": {},
     "output_type": "execute_result"
    }
   ],
   "source": [
    "yelp = pd.read_csv('cleaned_yelp_stemmed.csv')\n",
    "yelp.head()"
   ]
  },
  {
   "cell_type": "code",
   "execution_count": 4,
   "metadata": {},
   "outputs": [],
   "source": [
    "X = yelp['text'].fillna('').values\n",
    "y = yelp['stars']\n",
    "\n",
    "X_train, X_test, y_train, y_test = train_test_split(X, y, test_size=0.30, random_state=42)"
   ]
  },
  {
   "cell_type": "code",
   "execution_count": 5,
   "metadata": {},
   "outputs": [
    {
     "name": "stdout",
     "output_type": "stream",
     "text": [
      "X_train shape: (373506, 5000)\n",
      "X_test shape: (160075, 5000)\n",
      "y_train shape: (373506, 5)\n",
      "y_test shape: (160075, 5)\n",
      "Wall time: 1min 29s\n"
     ]
    }
   ],
   "source": [
    "%%time\n",
    "max_words = 3000\n",
    "tokenizer = text.Tokenizer(num_words=max_words, char_level=False)\n",
    "\n",
    "tokenizer.fit_on_texts(X_train)\n",
    "X_train = tokenizer.texts_to_matrix(X_train)\n",
    "X_test = tokenizer.texts_to_matrix(X_test)\n",
    "\n",
    "encoder = LabelEncoder()\n",
    "encoder.fit(y_train)\n",
    "y_train = encoder.transform(y_train)\n",
    "y_test = encoder.transform(y_test)\n",
    "\n",
    "num_classes = np.max(y_train) + 1\n",
    "y_train = utils.to_categorical(y_train, num_classes)\n",
    "y_test = utils.to_categorical(y_test, num_classes)\n",
    "\n",
    "print('X_train shape:', X_train.shape)\n",
    "print('X_test shape:', X_test.shape)\n",
    "print('y_train shape:', y_train.shape)\n",
    "print('y_test shape:', y_test.shape)"
   ]
  },
  {
   "cell_type": "markdown",
   "metadata": {},
   "source": [
    "Let's save the tokenizer as well for our test submission file script."
   ]
  },
  {
   "cell_type": "code",
   "execution_count": 7,
   "metadata": {},
   "outputs": [],
   "source": [
    "# saving\n",
    "with open('tokenizer.pickle', 'wb') as handle:\n",
    "    pickle.dump(tokenizer, handle, protocol=pickle.HIGHEST_PROTOCOL)\n",
    "\n",
    "# loading\n",
    "with open('tokenizer.pickle', 'rb') as handle:\n",
    "    tokenizer = pickle.load(handle)"
   ]
  },
  {
   "cell_type": "markdown",
   "metadata": {},
   "source": [
    "### Baseline Sequential Model"
   ]
  },
  {
   "cell_type": "markdown",
   "metadata": {},
   "source": [
    "Here, we are computing a single model, but in future we will optimize on several parameters, listed below\n",
    "* Batch size\n",
    "* Learning rate\n",
    "* Gradient clipping\n",
    "* Drop out\n",
    "* Batch normalization\n",
    "* Optimizers\n",
    "* Regularization\n",
    "\n",
    "After some tests, the main variations I noticed were from the learning rate, regularization, and the choice of the optimizer. With that being said, this baseline model will use **ADAM with a learning rate of .0001 and regularization (kernel, bias, and activity)**"
   ]
  },
  {
   "cell_type": "code",
   "execution_count": 19,
   "metadata": {
    "scrolled": false
   },
   "outputs": [
    {
     "name": "stdout",
     "output_type": "stream",
     "text": [
      "Train on 298804 samples, validate on 74702 samples\n",
      "Epoch 1/5\n",
      "298804/298804 [==============================] - 88s 295us/step - loss: 1.1232 - accuracy: 0.7396 - mean_absolute_error: 0.1327 - val_loss: 0.9809 - val_accuracy: 0.7546 - val_mean_absolute_error: 0.1296\n",
      "Epoch 2/5\n",
      "298804/298804 [==============================] - 79s 264us/step - loss: 0.9599 - accuracy: 0.7603 - mean_absolute_error: 0.1265 - val_loss: 0.9667 - val_accuracy: 0.7541 - val_mean_absolute_error: 0.1294\n",
      "Epoch 3/5\n",
      "298804/298804 [==============================] - 93s 312us/step - loss: 0.9406 - accuracy: 0.7660 - mean_absolute_error: 0.1241 - val_loss: 0.9680 - val_accuracy: 0.7555 - val_mean_absolute_error: 0.1259\n",
      "Epoch 4/5\n",
      "298804/298804 [==============================] - 92s 307us/step - loss: 0.9307 - accuracy: 0.7716 - mean_absolute_error: 0.1220 - val_loss: 0.9776 - val_accuracy: 0.7550 - val_mean_absolute_error: 0.1279\n",
      "Epoch 5/5\n",
      "298804/298804 [==============================] - 84s 283us/step - loss: 0.9240 - accuracy: 0.7761 - mean_absolute_error: 0.1203 - val_loss: 0.9799 - val_accuracy: 0.7574 - val_mean_absolute_error: 0.1257\n"
     ]
    }
   ],
   "source": [
    "batch_size = 256\n",
    "epochs = 5\n",
    "\n",
    "# lr_schedule = keras.optimizers.schedules.ExponentialDecay(\n",
    "#     initial_learning_rate=.0001,\n",
    "#     decay_steps=10000,\n",
    "#     decay_rate=0.9)\n",
    "\n",
    "optimizer = keras.optimizers.Adam(learning_rate=.0007, beta_1=0.9, beta_2=0.95, amsgrad=False)\n",
    "\n",
    "baseline = Sequential()\n",
    "baseline.add(Dense(512, input_shape=(max_words,), kernel_regularizer=regularizers.l1_l2(l1=1e-5, l2=1e-4),\n",
    "          bias_regularizer=regularizers.l2(1e-4),\n",
    "          activity_regularizer=regularizers.l2(1e-5)))\n",
    "baseline.add(BatchNormalization())\n",
    "baseline.add(Activation('relu'))\n",
    "baseline.add(Dropout(0.3))\n",
    "baseline.add(Dense(5))\n",
    "baseline.add(Activation('softmax'))\n",
    "\n",
    "baseline.compile(loss=my_custom_loss,\n",
    "              optimizer=optimizer,\n",
    "              metrics=['accuracy', 'mean_absolute_error'])\n",
    "\n",
    "history = baseline.fit(X_train, y_train,\n",
    "                    batch_size=batch_size,\n",
    "                    epochs=epochs,\n",
    "                    verbose=1,\n",
    "                    validation_split=0.2)"
   ]
  },
  {
   "cell_type": "code",
   "execution_count": 20,
   "metadata": {},
   "outputs": [
    {
     "name": "stdout",
     "output_type": "stream",
     "text": [
      "160075/160075 [==============================] - 28s 174us/step\n",
      "Test accuracy: 0.7582883238792419 Test MAE: 0.12497945129871368\n"
     ]
    }
   ],
   "source": [
    "score = baseline.evaluate(X_test, y_test,\n",
    "                       batch_size=batch_size, verbose=1)\n",
    "print('Test accuracy:', score[1], \"Test MAE:\", score[2])"
   ]
  },
  {
   "cell_type": "code",
   "execution_count": 22,
   "metadata": {},
   "outputs": [
    {
     "data": {
      "image/png": "[encoded data removed]",
      "text/plain": [
       "<Figure size 432x288 with 1 Axes>"
      ]
     },
     "metadata": {
      "needs_background": "light"
     },
     "output_type": "display_data"
    }
   ],
   "source": [
    "plt.title('Loss')\n",
    "plt.plot(history.history['loss'], label='train')\n",
    "plt.plot(history.history['val_loss'], label='test')\n",
    "plt.legend()\n",
    "plt.show()"
   ]
  },
  {
   "cell_type": "code",
   "execution_count": 23,
   "metadata": {},
   "outputs": [
    {
     "data": {
      "image/png": "[encoded data removed]",
      "text/plain": [
       "<Figure size 432x288 with 1 Axes>"
      ]
     },
     "metadata": {
      "needs_background": "light"
     },
     "output_type": "display_data"
    }
   ],
   "source": [
    "plt.title('Accuracy')\n",
    "plt.plot(history.history['accuracy'], label='train')\n",
    "plt.plot(history.history['val_accuracy'], label='test')\n",
    "plt.legend()\n",
    "plt.show()"
   ]
  },
  {
   "cell_type": "code",
   "execution_count": 24,
   "metadata": {},
   "outputs": [
    {
     "data": {
      "text/html": [
       "<div>\n",
       "<style scoped>\n",
       "    .dataframe tbody tr th:only-of-type {\n",
       "        vertical-align: middle;\n",
       "    }\n",
       "\n",
       "    .dataframe tbody tr th {\n",
       "        vertical-align: top;\n",
       "    }\n",
       "\n",
       "    .dataframe thead th {\n",
       "        text-align: right;\n",
       "    }\n",
       "</style>\n",
       "<table border=\"1\" class=\"dataframe\">\n",
       "  <thead>\n",
       "    <tr style=\"text-align: right;\">\n",
       "      <th></th>\n",
       "      <th>1</th>\n",
       "      <th>2</th>\n",
       "      <th>3</th>\n",
       "      <th>4</th>\n",
       "      <th>5</th>\n",
       "    </tr>\n",
       "  </thead>\n",
       "  <tbody>\n",
       "    <tr>\n",
       "      <th>1</th>\n",
       "      <td>35571</td>\n",
       "      <td>5544</td>\n",
       "      <td>1716</td>\n",
       "      <td>790</td>\n",
       "      <td>1328</td>\n",
       "    </tr>\n",
       "    <tr>\n",
       "      <th>2</th>\n",
       "      <td>1220</td>\n",
       "      <td>2228</td>\n",
       "      <td>1141</td>\n",
       "      <td>318</td>\n",
       "      <td>140</td>\n",
       "    </tr>\n",
       "    <tr>\n",
       "      <th>3</th>\n",
       "      <td>507</td>\n",
       "      <td>1553</td>\n",
       "      <td>3131</td>\n",
       "      <td>1618</td>\n",
       "      <td>450</td>\n",
       "    </tr>\n",
       "    <tr>\n",
       "      <th>4</th>\n",
       "      <td>318</td>\n",
       "      <td>675</td>\n",
       "      <td>2735</td>\n",
       "      <td>8288</td>\n",
       "      <td>4339</td>\n",
       "    </tr>\n",
       "    <tr>\n",
       "      <th>5</th>\n",
       "      <td>1271</td>\n",
       "      <td>743</td>\n",
       "      <td>1540</td>\n",
       "      <td>10747</td>\n",
       "      <td>72164</td>\n",
       "    </tr>\n",
       "  </tbody>\n",
       "</table>\n",
       "</div>"
      ],
      "text/plain": [
       "       1     2     3      4      5\n",
       "1  35571  5544  1716    790   1328\n",
       "2   1220  2228  1141    318    140\n",
       "3    507  1553  3131   1618    450\n",
       "4    318   675  2735   8288   4339\n",
       "5   1271   743  1540  10747  72164"
      ]
     },
     "execution_count": 24,
     "metadata": {},
     "output_type": "execute_result"
    }
   ],
   "source": [
    "# Get model output\n",
    "y_pred = baseline.predict(X_test)\n",
    "\n",
    "cols = [1, 2, 3, 4, 5]\n",
    "\n",
    "# Creating predictions table\n",
    "baseline_ps = pd.DataFrame(data=y_pred, columns=cols)\n",
    "y_pred_true = baseline_ps.idxmax(axis=1)\n",
    "\n",
    "# Creating truth\n",
    "baseline_truth = pd.DataFrame(data=y_test, columns=cols)\n",
    "y_test_true = baseline_truth.idxmax(axis=1)\n",
    "\n",
    "# Confusion matrix\n",
    "cm = confusion_matrix(y_pred_true, y_test_true)\n",
    "pd.DataFrame(cm, index=cols, columns=cols)"
   ]
  },
  {
   "cell_type": "code",
   "execution_count": 25,
   "metadata": {},
   "outputs": [
    {
     "name": "stdout",
     "output_type": "stream",
     "text": [
      "              precision    recall  f1-score   support\n",
      "\n",
      "           1       0.91      0.79      0.85     44949\n",
      "           2       0.21      0.44      0.28      5047\n",
      "           3       0.31      0.43      0.36      7259\n",
      "           4       0.38      0.51      0.43     16355\n",
      "           5       0.92      0.83      0.88     86465\n",
      "\n",
      "    accuracy                           0.76    160075\n",
      "   macro avg       0.55      0.60      0.56    160075\n",
      "weighted avg       0.81      0.76      0.78    160075\n",
      "\n"
     ]
    }
   ],
   "source": [
    "print(classification_report(y_pred_true, y_test_true))"
   ]
  },
  {
   "cell_type": "code",
   "execution_count": 26,
   "metadata": {},
   "outputs": [
    {
     "data": {
      "image/png": "[encoded data removed]",
      "text/plain": [
       "<IPython.core.display.Image object>"
      ]
     },
     "execution_count": 26,
     "metadata": {},
     "output_type": "execute_result"
    }
   ],
   "source": [
    "plot_model(baseline, to_file='baseline.png', show_shapes=True)"
   ]
  },
  {
   "cell_type": "markdown",
   "metadata": {},
   "source": [
    "### Grid Search"
   ]
  },
  {
   "cell_type": "code",
   "execution_count": 16,
   "metadata": {},
   "outputs": [],
   "source": [
    "def test_model(params):\n",
    "    print(params)\n",
    "    batch_size, epochs, learning_rate = params\n",
    "    \n",
    "    optimizer = keras.optimizers.Adam(learning_rate=learning_rate, beta_1=0.9, beta_2=0.95, amsgrad=False)\n",
    "\n",
    "    baseline = Sequential()\n",
    "    baseline.add(Dense(512, input_shape=(max_words,), kernel_regularizer=regularizers.l1_l2(l1=1e-5, l2=1e-4),\n",
    "              bias_regularizer=regularizers.l2(1e-4),\n",
    "              activity_regularizer=regularizers.l2(1e-5)))\n",
    "    baseline.add(BatchNormalization())\n",
    "    baseline.add(Activation('relu'))\n",
    "    baseline.add(Dropout(0.3))\n",
    "    baseline.add(Dense(5))\n",
    "    baseline.add(Activation('softmax'))\n",
    "    \n",
    "    baseline.compile(loss=my_custom_loss,\n",
    "              optimizer=optimizer,\n",
    "              metrics=['accuracy', 'mean_absolute_error'])\n",
    "    \n",
    "    history = baseline.fit(X_train, y_train,\n",
    "                    batch_size=batch_size,\n",
    "                    epochs=epochs,\n",
    "                    verbose=0,\n",
    "                    validation_split=0.2)\n",
    "    \n",
    "    score = baseline.evaluate(X_test, y_test, batch_size=batch_size, verbose=1)\n",
    "    print(score[1:])\n",
    "    \n",
    "    return score[1:]"
   ]
  },
  {
   "cell_type": "code",
   "execution_count": null,
   "metadata": {
    "scrolled": false
   },
   "outputs": [],
   "source": [
    "batch_sizes = [128, 256, 512]\n",
    "epochs = [5, 10]\n",
    "learning_rates = [.01, .001, .004, .008, .12]\n",
    "\n",
    "a = [batch_sizes, epochs, learning_rates]\n",
    "\n",
    "params = list(itertools.product(*a))\n",
    "\n",
    "scores = {}\n",
    "\n",
    "for p in params:\n",
    "    score = test_model(p)\n",
    "    scores[p] = score"
   ]
  },
  {
   "cell_type": "markdown",
   "metadata": {},
   "source": [
    "Let's save this model."
   ]
  },
  {
   "cell_type": "code",
   "execution_count": 27,
   "metadata": {},
   "outputs": [
    {
     "name": "stderr",
     "output_type": "stream",
     "text": [
      "C:\\Users\\Tanner\\Anaconda3\\envs\\yelp\\lib\\site-packages\\keras\\engine\\saving.py:165: UserWarning: TensorFlow optimizers do not make it possible to access optimizer attributes or optimizer state after instantiation. As a result, we cannot save the optimizer as part of the model save file.You will have to compile your model again after loading it. Prefer using a Keras optimizer instead (see keras.io/optimizers).\n",
      "  'TensorFlow optimizers do not '\n"
     ]
    }
   ],
   "source": [
    "baseline.save('./models/baseline.h5')"
   ]
  },
  {
   "cell_type": "markdown",
   "metadata": {},
   "source": [
    "### LSTM Model\n"
   ]
  },
  {
   "cell_type": "markdown",
   "metadata": {},
   "source": [
    "#### Specific Data Prep"
   ]
  },
  {
   "cell_type": "code",
   "execution_count": 6,
   "metadata": {},
   "outputs": [
    {
     "name": "stdout",
     "output_type": "stream",
     "text": [
      "(373506,) (373506, 5)\n",
      "(160075,) (160075, 5)\n",
      "Wall time: 34.7 s\n"
     ]
    }
   ],
   "source": [
    "%%time\n",
    "X = yelp['text'].fillna('').values\n",
    "y = pd.get_dummies(yelp['stars']).values\n",
    "\n",
    "X_train, X_test, y_train, y_test = train_test_split(X, y, test_size=0.3, random_state=42)\n",
    "print(X_train.shape, y_train.shape)\n",
    "print(X_test.shape, y_test.shape)\n",
    "\n",
    "max_words = 5000\n",
    "maxlen = 500\n",
    "\n",
    "X_train = tokenizer.texts_to_sequences(X_train)\n",
    "X_test = tokenizer.texts_to_sequences(X_test)\n",
    "\n",
    "# For the LSTM, we are going to pad our sequences\n",
    "X_train = pad_sequences(X_train, maxlen=maxlen)\n",
    "X_test = pad_sequences(X_test, maxlen=maxlen)"
   ]
  },
  {
   "cell_type": "markdown",
   "metadata": {},
   "source": [
    "#### LSTM #1"
   ]
  },
  {
   "cell_type": "code",
   "execution_count": 39,
   "metadata": {},
   "outputs": [
    {
     "name": "stdout",
     "output_type": "stream",
     "text": [
      "Train on 298804 samples, validate on 74702 samples\n",
      "Epoch 1/8\n",
      "298804/298804 [==============================] - 164s 548us/step - loss: 0.8780 - accuracy: 0.7300 - mean_absolute_error: 0.1440 - val_loss: 0.7487 - val_accuracy: 0.7606 - val_mean_absolute_error: 0.1138\n",
      "Epoch 2/8\n",
      "298804/298804 [==============================] - 166s 555us/step - loss: 0.7344 - accuracy: 0.7644 - mean_absolute_error: 0.1114 - val_loss: 0.7161 - val_accuracy: 0.7697 - val_mean_absolute_error: 0.1020\n",
      "Epoch 3/8\n",
      "298804/298804 [==============================] - 163s 545us/step - loss: 0.6968 - accuracy: 0.7753 - mean_absolute_error: 0.1066 - val_loss: 0.6897 - val_accuracy: 0.7765 - val_mean_absolute_error: 0.1060\n",
      "Epoch 4/8\n",
      "298804/298804 [==============================] - 165s 551us/step - loss: 0.6741 - accuracy: 0.7821 - mean_absolute_error: 0.1040 - val_loss: 0.6918 - val_accuracy: 0.7766 - val_mean_absolute_error: 0.1023\n",
      "Epoch 5/8\n",
      "298804/298804 [==============================] - 165s 551us/step - loss: 0.6550 - accuracy: 0.7890 - mean_absolute_error: 0.1015 - val_loss: 0.6929 - val_accuracy: 0.7780 - val_mean_absolute_error: 0.1019\n",
      "Epoch 6/8\n",
      "298804/298804 [==============================] - 164s 548us/step - loss: 0.6386 - accuracy: 0.7951 - mean_absolute_error: 0.0994 - val_loss: 0.6855 - val_accuracy: 0.7808 - val_mean_absolute_error: 0.1043\n",
      "Epoch 7/8\n",
      "298804/298804 [==============================] - 163s 547us/step - loss: 0.6245 - accuracy: 0.8006 - mean_absolute_error: 0.0976 - val_loss: 0.6974 - val_accuracy: 0.7798 - val_mean_absolute_error: 0.1006\n",
      "Epoch 8/8\n",
      "298804/298804 [==============================] - 165s 553us/step - loss: 0.6130 - accuracy: 0.8051 - mean_absolute_error: 0.0958 - val_loss: 0.7015 - val_accuracy: 0.7789 - val_mean_absolute_error: 0.1005\n"
     ]
    }
   ],
   "source": [
    "batch_size = 256\n",
    "epochs = 8\n",
    "\n",
    "lr_schedule = keras.optimizers.schedules.ExponentialDecay(\n",
    "    initial_learning_rate=.001,\n",
    "    decay_steps=10000,\n",
    "    decay_rate=0.9)\n",
    "\n",
    "optimizer = keras.optimizers.Adam(learning_rate=lr_schedule, beta_1=0.9, beta_2=0.99, amsgrad=False, clipvalue=.3)\n",
    "\n",
    "lstm = Sequential()\n",
    "lstm.add(Embedding(max_words, 128, input_length=maxlen))\n",
    "lstm.add(SpatialDropout1D(0.2))\n",
    "lstm.add(Conv1D(64, 5, activation='relu', kernel_regularizer=regularizers.l1_l2(l1=1e-5, l2=1e-4),\n",
    "          bias_regularizer=regularizers.l2(1e-4)))\n",
    "lstm.add(MaxPooling1D(pool_size=4))\n",
    "lstm.add(LSTM(128, dropout=0.2, recurrent_dropout=0.2))\n",
    "lstm.add(BatchNormalization())\n",
    "lstm.add(Dense(50))\n",
    "lstm.add(Dense(5, activation='sigmoid'))\n",
    "\n",
    "lstm.compile(loss=my_custom_loss,\n",
    "              optimizer=optimizer,\n",
    "              metrics=['accuracy', 'mean_absolute_error'])\n",
    "\n",
    "history = lstm.fit(X_train, y_train,\n",
    "                    batch_size=batch_size,\n",
    "                    epochs=epochs,\n",
    "                    verbose=1,\n",
    "                    validation_split=0.2)"
   ]
  },
  {
   "cell_type": "markdown",
   "metadata": {},
   "source": [
    "#### LSTM #1: Evaluation"
   ]
  },
  {
   "cell_type": "code",
   "execution_count": 40,
   "metadata": {},
   "outputs": [
    {
     "name": "stdout",
     "output_type": "stream",
     "text": [
      "160075/160075 [==============================] - 17s 104us/step\n",
      "Test accuracy: 0.7793471813201904 MAE: 0.10014468431472778\n"
     ]
    }
   ],
   "source": [
    "score = lstm.evaluate(X_test, y_test,\n",
    "                       batch_size=batch_size, verbose=1)\n",
    "print('Test accuracy:', score[1], \"MAE:\", score[2])"
   ]
  },
  {
   "cell_type": "code",
   "execution_count": 41,
   "metadata": {},
   "outputs": [
    {
     "name": "stdout",
     "output_type": "stream",
     "text": [
      "Model: \"sequential_47\"\n",
      "_________________________________________________________________\n",
      "Layer (type)                 Output Shape              Param #   \n",
      "=================================================================\n",
      "embedding_16 (Embedding)     (None, 500, 128)          640000    \n",
      "_________________________________________________________________\n",
      "spatial_dropout1d_16 (Spatia (None, 500, 128)          0         \n",
      "_________________________________________________________________\n",
      "conv1d_16 (Conv1D)           (None, 496, 64)           41024     \n",
      "_________________________________________________________________\n",
      "max_pooling1d_16 (MaxPooling (None, 124, 64)           0         \n",
      "_________________________________________________________________\n",
      "lstm_16 (LSTM)               (None, 128)               98816     \n",
      "_________________________________________________________________\n",
      "batch_normalization_47 (Batc (None, 128)               512       \n",
      "_________________________________________________________________\n",
      "dense_92 (Dense)             (None, 50)                6450      \n",
      "_________________________________________________________________\n",
      "dense_93 (Dense)             (None, 5)                 255       \n",
      "=================================================================\n",
      "Total params: 787,057\n",
      "Trainable params: 786,801\n",
      "Non-trainable params: 256\n",
      "_________________________________________________________________\n"
     ]
    }
   ],
   "source": [
    "lstm.summary()"
   ]
  },
  {
   "cell_type": "code",
   "execution_count": 42,
   "metadata": {},
   "outputs": [
    {
     "data": {
      "image/png": "[encoded data removed]",
      "text/plain": [
       "<Figure size 432x288 with 1 Axes>"
      ]
     },
     "metadata": {
      "needs_background": "light"
     },
     "output_type": "display_data"
    }
   ],
   "source": [
    "plt.title('Loss')\n",
    "plt.plot(history.history['loss'], label='train')\n",
    "plt.plot(history.history['val_loss'], label='test')\n",
    "plt.legend()\n",
    "plt.show()"
   ]
  },
  {
   "cell_type": "code",
   "execution_count": 43,
   "metadata": {},
   "outputs": [
    {
     "data": {
      "image/png": "[encoded data removed]",
      "text/plain": [
       "<Figure size 432x288 with 1 Axes>"
      ]
     },
     "metadata": {
      "needs_background": "light"
     },
     "output_type": "display_data"
    }
   ],
   "source": [
    "plt.title('Accuracy')\n",
    "plt.plot(history.history['accuracy'], label='train')\n",
    "plt.plot(history.history['val_accuracy'], label='test')\n",
    "plt.legend()\n",
    "plt.show()"
   ]
  },
  {
   "cell_type": "code",
   "execution_count": 44,
   "metadata": {},
   "outputs": [
    {
     "data": {
      "text/html": [
       "<div>\n",
       "<style scoped>\n",
       "    .dataframe tbody tr th:only-of-type {\n",
       "        vertical-align: middle;\n",
       "    }\n",
       "\n",
       "    .dataframe tbody tr th {\n",
       "        vertical-align: top;\n",
       "    }\n",
       "\n",
       "    .dataframe thead th {\n",
       "        text-align: right;\n",
       "    }\n",
       "</style>\n",
       "<table border=\"1\" class=\"dataframe\">\n",
       "  <thead>\n",
       "    <tr style=\"text-align: right;\">\n",
       "      <th></th>\n",
       "      <th>1</th>\n",
       "      <th>2</th>\n",
       "      <th>3</th>\n",
       "      <th>4</th>\n",
       "      <th>5</th>\n",
       "    </tr>\n",
       "  </thead>\n",
       "  <tbody>\n",
       "    <tr>\n",
       "      <th>1</th>\n",
       "      <td>35122</td>\n",
       "      <td>4394</td>\n",
       "      <td>953</td>\n",
       "      <td>302</td>\n",
       "      <td>652</td>\n",
       "    </tr>\n",
       "    <tr>\n",
       "      <th>2</th>\n",
       "      <td>2258</td>\n",
       "      <td>3789</td>\n",
       "      <td>1549</td>\n",
       "      <td>250</td>\n",
       "      <td>106</td>\n",
       "    </tr>\n",
       "    <tr>\n",
       "      <th>3</th>\n",
       "      <td>369</td>\n",
       "      <td>1442</td>\n",
       "      <td>2981</td>\n",
       "      <td>838</td>\n",
       "      <td>175</td>\n",
       "    </tr>\n",
       "    <tr>\n",
       "      <th>4</th>\n",
       "      <td>390</td>\n",
       "      <td>767</td>\n",
       "      <td>3774</td>\n",
       "      <td>9359</td>\n",
       "      <td>3985</td>\n",
       "    </tr>\n",
       "    <tr>\n",
       "      <th>5</th>\n",
       "      <td>748</td>\n",
       "      <td>351</td>\n",
       "      <td>1006</td>\n",
       "      <td>11012</td>\n",
       "      <td>73503</td>\n",
       "    </tr>\n",
       "  </tbody>\n",
       "</table>\n",
       "</div>"
      ],
      "text/plain": [
       "       1     2     3      4      5\n",
       "1  35122  4394   953    302    652\n",
       "2   2258  3789  1549    250    106\n",
       "3    369  1442  2981    838    175\n",
       "4    390   767  3774   9359   3985\n",
       "5    748   351  1006  11012  73503"
      ]
     },
     "execution_count": 44,
     "metadata": {},
     "output_type": "execute_result"
    }
   ],
   "source": [
    "# Get model output\n",
    "y_pred = lstm.predict(X_test)\n",
    "y_pred\n",
    "\n",
    "cols = [1, 2, 3, 4, 5]\n",
    "\n",
    "# Creating predictions table\n",
    "baseline_ps = pd.DataFrame(data=y_pred, columns=cols)\n",
    "y_pred_true = baseline_ps.idxmax(axis=1)\n",
    "y_pred_true\n",
    "\n",
    "# Creating truth\n",
    "baseline_truth = pd.DataFrame(data=y_test, columns=cols)\n",
    "y_test_true = baseline_truth.idxmax(axis=1)\n",
    "y_test_true\n",
    "\n",
    "# Confusion matrix\n",
    "cm = confusion_matrix(y_pred_true, y_test_true)\n",
    "pd.DataFrame(cm, index=cols, columns=cols)"
   ]
  },
  {
   "cell_type": "code",
   "execution_count": 45,
   "metadata": {},
   "outputs": [
    {
     "name": "stdout",
     "output_type": "stream",
     "text": [
      "              precision    recall  f1-score   support\n",
      "\n",
      "           1       0.90      0.85      0.87     41423\n",
      "           2       0.35      0.48      0.41      7952\n",
      "           3       0.29      0.51      0.37      5805\n",
      "           4       0.43      0.51      0.47     18275\n",
      "           5       0.94      0.85      0.89     86620\n",
      "\n",
      "    accuracy                           0.78    160075\n",
      "   macro avg       0.58      0.64      0.60    160075\n",
      "weighted avg       0.82      0.78      0.80    160075\n",
      "\n"
     ]
    }
   ],
   "source": [
    "print(classification_report(y_pred_true, y_test_true))"
   ]
  },
  {
   "cell_type": "code",
   "execution_count": 46,
   "metadata": {},
   "outputs": [
    {
     "data": {
      "image/png": "[encoded data removed]",
      "text/plain": [
       "<IPython.core.display.Image object>"
      ]
     },
     "execution_count": 46,
     "metadata": {},
     "output_type": "execute_result"
    }
   ],
   "source": [
    "plot_model(lstm, to_file='lstm.png', show_shapes=True)"
   ]
  },
  {
   "cell_type": "markdown",
   "metadata": {},
   "source": [
    "### GridSearch"
   ]
  },
  {
   "cell_type": "code",
   "execution_count": 30,
   "metadata": {},
   "outputs": [],
   "source": [
    "def test_model(params):\n",
    "    print(params)\n",
    "    batch_size, epochs, learning_rate = params\n",
    "    \n",
    "    optimizer = keras.optimizers.Adam(learning_rate=lr_schedule, beta_1=0.9, beta_2=0.99, amsgrad=False, clipvalue=.3)\n",
    "\n",
    "    lstm = Sequential()\n",
    "    lstm.add(Embedding(max_words, 128, input_length=maxlen))\n",
    "    lstm.add(SpatialDropout1D(0.2))\n",
    "    lstm.add(Conv1D(64, 5, activation='relu', kernel_regularizer=regularizers.l1_l2(l1=1e-5, l2=1e-4),\n",
    "              bias_regularizer=regularizers.l2(1e-4)))\n",
    "    lstm.add(MaxPooling1D(pool_size=4))\n",
    "    lstm.add(LSTM(128, dropout=0.2, recurrent_dropout=0.2))\n",
    "    lstm.add(BatchNormalization())\n",
    "    lstm.add(Dense(50))\n",
    "    lstm.add(Dense(5, activation='sigmoid'))\n",
    "\n",
    "    lstm.compile(loss=my_custom_loss,\n",
    "                  optimizer=optimizer,\n",
    "                  metrics=['accuracy', 'mean_absolute_error'])\n",
    "\n",
    "    history = lstm.fit(X_train, y_train,\n",
    "                        batch_size=batch_size,\n",
    "                        epochs=epochs,\n",
    "                        verbose=1,\n",
    "                        validation_split=0.2)\n",
    "    \n",
    "    score = lstm.evaluate(X_test, y_test, batch_size=batch_size, verbose=1)\n",
    "    print(score[1:])\n",
    "    \n",
    "    return score[1:]"
   ]
  },
  {
   "cell_type": "code",
   "execution_count": 32,
   "metadata": {
    "scrolled": false
   },
   "outputs": [
    {
     "name": "stdout",
     "output_type": "stream",
     "text": [
      "(256, 5, 0.0001)\n",
      "Train on 298804 samples, validate on 74702 samples\n",
      "Epoch 1/5\n",
      "298804/298804 [==============================] - 163s 547us/step - loss: 0.8879 - accuracy: 0.7259 - mean_absolute_error: 0.1469 - val_loss: 0.7423 - val_accuracy: 0.7593 - val_mean_absolute_error: 0.1081\n",
      "Epoch 2/5\n",
      "298804/298804 [==============================] - 165s 554us/step - loss: 0.7360 - accuracy: 0.7632 - mean_absolute_error: 0.1116 - val_loss: 0.7089 - val_accuracy: 0.7698 - val_mean_absolute_error: 0.1059\n",
      "Epoch 3/5\n",
      "298804/298804 [==============================] - 165s 552us/step - loss: 0.6978 - accuracy: 0.7742 - mean_absolute_error: 0.1067 - val_loss: 0.6931 - val_accuracy: 0.7752 - val_mean_absolute_error: 0.1038\n",
      "Epoch 4/5\n",
      "298804/298804 [==============================] - 166s 555us/step - loss: 0.6738 - accuracy: 0.7827 - mean_absolute_error: 0.1038 - val_loss: 0.6877 - val_accuracy: 0.7782 - val_mean_absolute_error: 0.1027\n",
      "Epoch 5/5\n",
      "298804/298804 [==============================] - 165s 553us/step - loss: 0.6537 - accuracy: 0.7892 - mean_absolute_error: 0.1015 - val_loss: 0.6956 - val_accuracy: 0.7767 - val_mean_absolute_error: 0.1003\n",
      "160075/160075 [==============================] - 16s 102us/step\n",
      "[0.7773793339729309, 0.09995898604393005]\n",
      "(256, 5, 5e-05)\n",
      "Train on 298804 samples, validate on 74702 samples\n",
      "Epoch 1/5\n",
      "298804/298804 [==============================] - 165s 553us/step - loss: 0.8847 - accuracy: 0.7273 - mean_absolute_error: 0.1465 - val_loss: 0.7311 - val_accuracy: 0.7659 - val_mean_absolute_error: 0.1132\n",
      "Epoch 2/5\n",
      "298804/298804 [==============================] - 164s 549us/step - loss: 0.7344 - accuracy: 0.7633 - mean_absolute_error: 0.1112 - val_loss: 0.7143 - val_accuracy: 0.7689 - val_mean_absolute_error: 0.1074\n",
      "Epoch 3/5\n",
      "298804/298804 [==============================] - 163s 547us/step - loss: 0.6961 - accuracy: 0.7747 - mean_absolute_error: 0.1064 - val_loss: 0.6907 - val_accuracy: 0.7755 - val_mean_absolute_error: 0.1045\n",
      "Epoch 4/5\n",
      "298804/298804 [==============================] - 164s 548us/step - loss: 0.6724 - accuracy: 0.7834 - mean_absolute_error: 0.1036 - val_loss: 0.6971 - val_accuracy: 0.7770 - val_mean_absolute_error: 0.1083\n",
      "Epoch 5/5\n",
      "298804/298804 [==============================] - 164s 548us/step - loss: 0.6536 - accuracy: 0.7899 - mean_absolute_error: 0.1012 - val_loss: 0.6893 - val_accuracy: 0.7803 - val_mean_absolute_error: 0.0998\n",
      "160075/160075 [==============================] - 16s 102us/step\n",
      "[0.7801967859268188, 0.09940635412931442]\n",
      "(512, 5, 0.0001)\n",
      "Train on 298804 samples, validate on 74702 samples\n",
      "Epoch 1/5\n",
      "298804/298804 [==============================] - 106s 353us/step - loss: 0.9418 - accuracy: 0.7150 - mean_absolute_error: 0.1664 - val_loss: 0.7675 - val_accuracy: 0.7526 - val_mean_absolute_error: 0.1149\n",
      "Epoch 2/5\n",
      "298804/298804 [==============================] - 106s 353us/step - loss: 0.7518 - accuracy: 0.7602 - mean_absolute_error: 0.1151 - val_loss: 0.7355 - val_accuracy: 0.7650 - val_mean_absolute_error: 0.1056\n",
      "Epoch 3/5\n",
      "298804/298804 [==============================] - 105s 353us/step - loss: 0.7117 - accuracy: 0.7705 - mean_absolute_error: 0.1093 - val_loss: 0.7070 - val_accuracy: 0.7725 - val_mean_absolute_error: 0.1061\n",
      "Epoch 4/5\n",
      "298804/298804 [==============================] - 105s 353us/step - loss: 0.6844 - accuracy: 0.7783 - mean_absolute_error: 0.1058 - val_loss: 0.6963 - val_accuracy: 0.7746 - val_mean_absolute_error: 0.1034\n",
      "Epoch 5/5\n",
      "298804/298804 [==============================] - 105s 352us/step - loss: 0.6639 - accuracy: 0.7860 - mean_absolute_error: 0.1031 - val_loss: 0.7066 - val_accuracy: 0.7744 - val_mean_absolute_error: 0.1053\n",
      "160075/160075 [==============================] - 13s 84us/step\n",
      "[0.7751303911209106, 0.10507245361804962]\n",
      "(512, 5, 5e-05)\n",
      "Train on 298804 samples, validate on 74702 samples\n",
      "Epoch 1/5\n",
      "298804/298804 [==============================] - 106s 355us/step - loss: 0.9267 - accuracy: 0.7196 - mean_absolute_error: 0.1604 - val_loss: 0.7694 - val_accuracy: 0.7471 - val_mean_absolute_error: 0.1172\n",
      "Epoch 2/5\n",
      "298804/298804 [==============================] - 105s 353us/step - loss: 0.7499 - accuracy: 0.7605 - mean_absolute_error: 0.1154 - val_loss: 0.7139 - val_accuracy: 0.7684 - val_mean_absolute_error: 0.1100\n",
      "Epoch 3/5\n",
      "298804/298804 [==============================] - 106s 353us/step - loss: 0.7089 - accuracy: 0.7715 - mean_absolute_error: 0.1090 - val_loss: 0.7113 - val_accuracy: 0.7734 - val_mean_absolute_error: 0.1050\n",
      "Epoch 4/5\n",
      "298804/298804 [==============================] - 106s 353us/step - loss: 0.6825 - accuracy: 0.7794 - mean_absolute_error: 0.1056 - val_loss: 0.6987 - val_accuracy: 0.7735 - val_mean_absolute_error: 0.1095\n",
      "Epoch 5/5\n",
      "298804/298804 [==============================] - 105s 352us/step - loss: 0.6621 - accuracy: 0.7865 - mean_absolute_error: 0.1029 - val_loss: 0.7003 - val_accuracy: 0.7757 - val_mean_absolute_error: 0.1034\n",
      "160075/160075 [==============================] - 13s 83us/step\n",
      "[0.7755115032196045, 0.1029185876250267]\n"
     ]
    }
   ],
   "source": [
    "batch_sizes = [256, 512]\n",
    "epochs = [5]\n",
    "learning_rates = [.0001, .00005]\n",
    "\n",
    "a = [batch_sizes, epochs, learning_rates]\n",
    "\n",
    "params = list(itertools.product(*a))\n",
    "\n",
    "scores = {}\n",
    "\n",
    "for p in params:\n",
    "    score = test_model(p)\n",
    "    scores[p] = score"
   ]
  },
  {
   "cell_type": "markdown",
   "metadata": {},
   "source": [
    "Let's save this model as well."
   ]
  },
  {
   "cell_type": "code",
   "execution_count": 47,
   "metadata": {},
   "outputs": [
    {
     "name": "stderr",
     "output_type": "stream",
     "text": [
      "C:\\Users\\Tanner\\Anaconda3\\envs\\yelp\\lib\\site-packages\\keras\\engine\\saving.py:165: UserWarning: TensorFlow optimizers do not make it possible to access optimizer attributes or optimizer state after instantiation. As a result, we cannot save the optimizer as part of the model save file.You will have to compile your model again after loading it. Prefer using a Keras optimizer instead (see keras.io/optimizers).\n",
      "  'TensorFlow optimizers do not '\n"
     ]
    }
   ],
   "source": [
    "lstm.save('./models/lstm.h5')"
   ]
  },
  {
   "cell_type": "markdown",
   "metadata": {},
   "source": [
    "### New Model"
   ]
  },
  {
   "cell_type": "code",
   "execution_count": 20,
   "metadata": {},
   "outputs": [
    {
     "name": "stdout",
     "output_type": "stream",
     "text": [
      "Train on 298804 samples, validate on 74702 samples\n",
      "Epoch 1/3\n",
      "298804/298804 [==============================] - 2159s 7ms/step - loss: 0.9480 - accuracy: 0.7013 - mean_absolute_error: 0.1404 - val_loss: 0.7684 - val_accuracy: 0.7455 - val_mean_absolute_error: 0.1119\n",
      "Epoch 2/3\n",
      "298804/298804 [==============================] - 2221s 7ms/step - loss: 0.7789 - accuracy: 0.7438 - mean_absolute_error: 0.1128 - val_loss: 0.7164 - val_accuracy: 0.7619 - val_mean_absolute_error: 0.1046\n",
      "Epoch 3/3\n",
      "298804/298804 [==============================] - 2173s 7ms/step - loss: 0.7174 - accuracy: 0.7606 - mean_absolute_error: 0.1066 - val_loss: 0.6956 - val_accuracy: 0.7717 - val_mean_absolute_error: 0.1039\n"
     ]
    }
   ],
   "source": [
    "batch_size = 128\n",
    "epochs = 3\n",
    "\n",
    "lr_schedule = keras.optimizers.schedules.ExponentialDecay(\n",
    "    initial_learning_rate=.001,\n",
    "    decay_steps=10000,\n",
    "    decay_rate=0.9)\n",
    "\n",
    "optimizer = keras.optimizers.Adam(learning_rate=lr_schedule, beta_1=0.9, beta_2=0.99, amsgrad=False, clipvalue=.3)\n",
    "\n",
    "model = Sequential()\n",
    "model.add(Embedding(max_words, 128, input_length=maxlen))\n",
    "model.add(SpatialDropout1D(0.3))\n",
    "model.add(Bidirectional(LSTM(128, dropout=0.3, recurrent_dropout=0.3)))\n",
    "model.add(Dense(128, activation='relu'))\n",
    "model.add(Dropout(0.3))\n",
    "model.add(Dense(128, activation='relu'))\n",
    "model.add(Dropout(0.3))\n",
    "model.add(Dense(5, activation='sigmoid'))\n",
    "\n",
    "model.compile(loss=my_custom_loss,\n",
    "              optimizer=optimizer,\n",
    "              metrics=['accuracy', 'mean_absolute_error'])\n",
    "\n",
    "history = model.fit(X_train, y_train,\n",
    "                    batch_size=batch_size,\n",
    "                    epochs=epochs,\n",
    "                    verbose=1,\n",
    "                    validation_split=0.2)"
   ]
  },
  {
   "cell_type": "code",
   "execution_count": 21,
   "metadata": {},
   "outputs": [
    {
     "name": "stderr",
     "output_type": "stream",
     "text": [
      "C:\\Users\\Tanner\\Anaconda3\\envs\\yelp\\lib\\site-packages\\keras\\engine\\saving.py:165: UserWarning: TensorFlow optimizers do not make it possible to access optimizer attributes or optimizer state after instantiation. As a result, we cannot save the optimizer as part of the model save file.You will have to compile your model again after loading it. Prefer using a Keras optimizer instead (see keras.io/optimizers).\n",
      "  'TensorFlow optimizers do not '\n"
     ]
    }
   ],
   "source": [
    "model.save('./models/bidirectional_lstm.h5')"
   ]
  },
  {
   "cell_type": "code",
   "execution_count": 22,
   "metadata": {},
   "outputs": [
    {
     "name": "stdout",
     "output_type": "stream",
     "text": [
      "Train on 298804 samples, validate on 74702 samples\n",
      "Epoch 1/6\n",
      "298804/298804 [==============================] - 2390s 8ms/step - loss: 0.9476 - accuracy: 0.7010 - mean_absolute_error: 0.1406 - val_loss: 0.7769 - val_accuracy: 0.7445 - val_mean_absolute_error: 0.1089\n",
      "Epoch 2/6\n",
      "298804/298804 [==============================] - 2197s 7ms/step - loss: 0.7789 - accuracy: 0.7437 - mean_absolute_error: 0.1128 - val_loss: 0.7195 - val_accuracy: 0.7608 - val_mean_absolute_error: 0.1076\n",
      "Epoch 3/6\n",
      "298804/298804 [==============================] - 2198s 7ms/step - loss: 0.7189 - accuracy: 0.7618 - mean_absolute_error: 0.1077 - val_loss: 0.6891 - val_accuracy: 0.7703 - val_mean_absolute_error: 0.1059\n",
      "Epoch 4/6\n",
      "298804/298804 [==============================] - 2196s 7ms/step - loss: 0.6906 - accuracy: 0.7705 - mean_absolute_error: 0.1047 - val_loss: 0.6766 - val_accuracy: 0.7728 - val_mean_absolute_error: 0.1032\n",
      "Epoch 5/6\n",
      "298804/298804 [==============================] - 2199s 7ms/step - loss: 0.6710 - accuracy: 0.7762 - mean_absolute_error: 0.1025 - val_loss: 0.6688 - val_accuracy: 0.7758 - val_mean_absolute_error: 0.1014\n",
      "Epoch 6/6\n",
      "298804/298804 [==============================] - 2197s 7ms/step - loss: 0.6581 - accuracy: 0.7800 - mean_absolute_error: 0.1010 - val_loss: 0.6620 - val_accuracy: 0.7768 - val_mean_absolute_error: 0.1007\n"
     ]
    }
   ],
   "source": [
    "batch_size = 128\n",
    "epochs = 6\n",
    "\n",
    "lr_schedule = keras.optimizers.schedules.ExponentialDecay(\n",
    "    initial_learning_rate=.001,\n",
    "    decay_steps=10000,\n",
    "    decay_rate=0.9)\n",
    "\n",
    "optimizer = keras.optimizers.Adam(learning_rate=lr_schedule, beta_1=0.9, beta_2=0.99, amsgrad=False, clipvalue=.3)\n",
    "\n",
    "bidir = Sequential()\n",
    "bidir.add(Embedding(max_words, 128, input_length=maxlen))\n",
    "bidir.add(SpatialDropout1D(0.3))\n",
    "bidir.add(Bidirectional(LSTM(128, dropout=0.3, recurrent_dropout=0.3)))\n",
    "bidir.add(Dense(128, activation='relu'))\n",
    "bidir.add(Dropout(0.3))\n",
    "bidir.add(Dense(128, activation='relu'))\n",
    "bidir.add(Dropout(0.3))\n",
    "bidir.add(Dense(5, activation='sigmoid'))\n",
    "\n",
    "bidir.compile(loss=my_custom_loss,\n",
    "              optimizer=optimizer,\n",
    "              metrics=['accuracy', 'mean_absolute_error'])\n",
    "\n",
    "history = bidir.fit(X_train, y_train,\n",
    "                    batch_size=batch_size,\n",
    "                    epochs=epochs,\n",
    "                    verbose=1,\n",
    "                    validation_split=0.2)"
   ]
  },
  {
   "cell_type": "code",
   "execution_count": 34,
   "metadata": {},
   "outputs": [
    {
     "name": "stderr",
     "output_type": "stream",
     "text": [
      "C:\\Users\\Tanner\\Anaconda3\\envs\\yelp\\lib\\site-packages\\keras\\engine\\saving.py:165: UserWarning: TensorFlow optimizers do not make it possible to access optimizer attributes or optimizer state after instantiation. As a result, we cannot save the optimizer as part of the model save file.You will have to compile your model again after loading it. Prefer using a Keras optimizer instead (see keras.io/optimizers).\n",
      "  'TensorFlow optimizers do not '\n"
     ]
    }
   ],
   "source": [
    "bidir.save('./models/bidirectional_lstm.h5')"
   ]
  },
  {
   "cell_type": "code",
   "execution_count": 189,
   "metadata": {},
   "outputs": [
    {
     "data": {
      "image/png": "[encoded data removed]",
      "text/plain": [
       "<IPython.core.display.Image object>"
      ]
     },
     "execution_count": 189,
     "metadata": {},
     "output_type": "execute_result"
    }
   ],
   "source": [
    "plot_model(bidir, to_file='bidir.png', show_shapes=True)"
   ]
  },
  {
   "cell_type": "markdown",
   "metadata": {},
   "source": [
    "### One vs. All Approach\n",
    "In the one vs. all approach, it goes by the following idea:\n",
    "- We will have $N$ learners for the multi-class classification problem, where $N$ is the number of classes\n",
    "- For each learner $L$, we will train $L$ on our training data $X_{Train}$ and $y_{Train}$. However, $y_{Train}$ consists of only one label, making it a binary classification problem instead of multinomial\n",
    "    - For instance, learner $L_1$ will still use all of $X_{Train}$, but $y_{Train}$ will now be transformed to be a binary vector $v_i$ where $i$ denotes the star rating we are attempting to predict\n",
    "- Once we have concluded our training, we will then create an ensemble model (bagging) that does the following\n",
    "    1. $L_1$, $L_2$, ..., $L_5$ all assign $p_i$ to each record in $X_{Test}$, where $p_i$ is the likelihood observation $x_n$ belongs to class $i$\n",
    "    2. From there, our prediction is the following: $P_n = argmax(p_1, p_2, p_3, p_4, p_5)$\n",
    "    \n",
    "After observing the challenge datasets 5 & 6, my partner and I believe this approach is a clever way to tackle the challenges while still having a strong model.\n",
    "\n",
    "Sources: https://developers.google.com/machine-learning/crash-course/multi-class-neural-networks/one-vs-all"
   ]
  },
  {
   "cell_type": "code",
   "execution_count": 24,
   "metadata": {},
   "outputs": [
    {
     "name": "stdout",
     "output_type": "stream",
     "text": [
      "X_train shape: (373506, 500)\n",
      "X_test shape: (160075, 500)\n",
      "y_train shape: (373506, 5)\n",
      "y_test shape: (160075, 5)\n"
     ]
    }
   ],
   "source": [
    "yelp = pd.read_csv('cleaned_yelp_stemmed.csv')\n",
    "\n",
    "X = yelp['text'].fillna('').values\n",
    "y = pd.get_dummies(yelp['stars']).values\n",
    "\n",
    "X_train, X_test, y_train, y_test = train_test_split(X, y, test_size=0.30, random_state=42)\n",
    "\n",
    "# loading\n",
    "# with open('tokenizer.pickle', 'rb') as handle:\n",
    "#     tokenizer = pickle.load(handle)\n",
    "\n",
    "max_words = 5000\n",
    "maxlen = 500\n",
    "\n",
    "X_train = tokenizer.texts_to_sequences(X_train)\n",
    "X_test = tokenizer.texts_to_sequences(X_test)\n",
    "X_train = pad_sequences(X_train, maxlen=maxlen)\n",
    "X_test = pad_sequences(X_test, maxlen=maxlen)\n",
    "\n",
    "print('X_train shape:', X_train.shape)\n",
    "print('X_test shape:', X_test.shape)\n",
    "print('y_train shape:', y_train.shape)\n",
    "print('y_test shape:', y_test.shape)"
   ]
  },
  {
   "cell_type": "markdown",
   "metadata": {},
   "source": [
    "#### Buidling all models"
   ]
  },
  {
   "cell_type": "code",
   "execution_count": 25,
   "metadata": {
    "scrolled": false
   },
   "outputs": [
    {
     "name": "stdout",
     "output_type": "stream",
     "text": [
      "1\n",
      "Train on 298804 samples, validate on 74702 samples\n",
      "Epoch 1/2\n",
      "298804/298804 [==============================] - 104s 346us/step - loss: 0.3599 - accuracy: 0.9114 - mean_absolute_error: 0.1185 - val_loss: 0.3723 - val_accuracy: 0.9008 - val_mean_absolute_error: 0.1120\n",
      "Epoch 2/2\n",
      "298804/298804 [==============================] - 97s 324us/step - loss: 0.2598 - accuracy: 0.9373 - mean_absolute_error: 0.0822 - val_loss: 0.2732 - val_accuracy: 0.9330 - val_mean_absolute_error: 0.0806\n",
      "2\n",
      "Train on 298804 samples, validate on 74702 samples\n",
      "Epoch 1/2\n",
      "298804/298804 [==============================] - 96s 322us/step - loss: 0.3540 - accuracy: 0.9255 - mean_absolute_error: 0.1154 - val_loss: 0.3435 - val_accuracy: 0.9323 - val_mean_absolute_error: 0.0749\n",
      "Epoch 2/2\n",
      "298804/298804 [==============================] - 96s 320us/step - loss: 0.2689 - accuracy: 0.9368 - mean_absolute_error: 0.0832 - val_loss: 0.2836 - val_accuracy: 0.9341 - val_mean_absolute_error: 0.0893\n",
      "3\n",
      "Train on 298804 samples, validate on 74702 samples\n",
      "Epoch 1/3\n",
      "298804/298804 [==============================] - 97s 324us/step - loss: 0.3431 - accuracy: 0.9273 - mean_absolute_error: 0.1106 - val_loss: 0.2961 - val_accuracy: 0.9365 - val_mean_absolute_error: 0.0745\n",
      "Epoch 2/3\n",
      "298804/298804 [==============================] - 95s 319us/step - loss: 0.2614 - accuracy: 0.9406 - mean_absolute_error: 0.0790 - val_loss: 0.2990 - val_accuracy: 0.9385 - val_mean_absolute_error: 0.0677\n",
      "Epoch 3/3\n",
      "298804/298804 [==============================] - 96s 320us/step - loss: 0.2306 - accuracy: 0.9473 - mean_absolute_error: 0.0700 - val_loss: 0.3352 - val_accuracy: 0.9389 - val_mean_absolute_error: 0.0647\n",
      "4\n",
      "Train on 298804 samples, validate on 74702 samples\n",
      "Epoch 1/3\n",
      "298804/298804 [==============================] - 97s 325us/step - loss: 0.5472 - accuracy: 0.8575 - mean_absolute_error: 0.1891 - val_loss: 0.5329 - val_accuracy: 0.8640 - val_mean_absolute_error: 0.1659\n",
      "Epoch 2/3\n",
      "298804/298804 [==============================] - 96s 322us/step - loss: 0.4676 - accuracy: 0.8768 - mean_absolute_error: 0.1573 - val_loss: 0.5544 - val_accuracy: 0.8510 - val_mean_absolute_error: 0.2081\n",
      "Epoch 3/3\n",
      "298804/298804 [==============================] - 96s 321us/step - loss: 0.4281 - accuracy: 0.8895 - mean_absolute_error: 0.1431 - val_loss: 1.1056 - val_accuracy: 0.8641 - val_mean_absolute_error: 0.1356\n",
      "5\n",
      "Train on 298804 samples, validate on 74702 samples\n",
      "Epoch 1/4\n",
      "298804/298804 [==============================] - 96s 322us/step - loss: 0.5176 - accuracy: 0.8676 - mean_absolute_error: 0.1744 - val_loss: 0.5301 - val_accuracy: 0.8602 - val_mean_absolute_error: 0.1903\n",
      "Epoch 2/4\n",
      "298804/298804 [==============================] - 95s 319us/step - loss: 0.4262 - accuracy: 0.8916 - mean_absolute_error: 0.1415 - val_loss: 0.4503 - val_accuracy: 0.8833 - val_mean_absolute_error: 0.1443\n",
      "Epoch 3/4\n",
      "298804/298804 [==============================] - 95s 320us/step - loss: 0.3811 - accuracy: 0.9050 - mean_absolute_error: 0.1250 - val_loss: 0.4514 - val_accuracy: 0.8840 - val_mean_absolute_error: 0.1430\n",
      "Epoch 4/4\n",
      "298804/298804 [==============================] - 96s 323us/step - loss: 0.3422 - accuracy: 0.9173 - mean_absolute_error: 0.1101 - val_loss: 0.4608 - val_accuracy: 0.8827 - val_mean_absolute_error: 0.1459\n"
     ]
    }
   ],
   "source": [
    "stars = np.arange(1, 6)\n",
    "models = {}\n",
    "histories = {}\n",
    "batch_size = 512\n",
    "\n",
    "for star in stars:\n",
    "    if star in [1, 2]:\n",
    "        epochs = 2\n",
    "    elif star in [3, 4]:\n",
    "        epochs = 3\n",
    "    else:\n",
    "        epochs = 4\n",
    "    \n",
    "    print(star)\n",
    "    y_train_sub = y_train[:, star - 1]\n",
    "    \n",
    "    lr_schedule = keras.optimizers.schedules.ExponentialDecay(\n",
    "    initial_learning_rate=.001,\n",
    "    decay_steps=10000,\n",
    "    decay_rate=0.9)\n",
    "\n",
    "    optimizer = keras.optimizers.Adam(learning_rate=lr_schedule, beta_1=0.9, beta_2=0.99, amsgrad=False, clipvalue=.3)\n",
    "\n",
    "    sub_lstm = Sequential()\n",
    "    sub_lstm.add(Embedding(max_words, 128, input_length=maxlen))\n",
    "    sub_lstm.add(SpatialDropout1D(0.2))\n",
    "    sub_lstm.add(Conv1D(64, 5, activation='relu', kernel_regularizer=regularizers.l1_l2(l1=1e-5, l2=1e-4),\n",
    "              bias_regularizer=regularizers.l2(1e-4)))\n",
    "    sub_lstm.add(MaxPooling1D(pool_size=4))\n",
    "    sub_lstm.add(LSTM(128))\n",
    "    sub_lstm.add(BatchNormalization())\n",
    "    sub_lstm.add(Dense(8))\n",
    "    sub_lstm.add(Dense(1, activation='sigmoid'))\n",
    "    \n",
    "    sub_lstm.compile(loss=my_custom_loss_ova,\n",
    "                  optimizer=optimizer,\n",
    "                  metrics=['accuracy', 'mean_absolute_error'])\n",
    "\n",
    "    history = sub_lstm.fit(X_train, y_train_sub,\n",
    "                        batch_size=batch_size,\n",
    "                        epochs=epochs,\n",
    "                        verbose=1,\n",
    "                        validation_split=0.2)\n",
    "    \n",
    "    models[star] = sub_lstm\n",
    "    histories[star] = sub_lstm"
   ]
  },
  {
   "cell_type": "markdown",
   "metadata": {},
   "source": [
    "#### Building an ensemble model (maximization between learners) for all trained models\n",
    "##### Testing"
   ]
  },
  {
   "cell_type": "code",
   "execution_count": 26,
   "metadata": {},
   "outputs": [
    {
     "name": "stdout",
     "output_type": "stream",
     "text": [
      "Predicting 1 star\n",
      "Predicting 2 star\n",
      "Predicting 3 star\n",
      "Predicting 4 star\n",
      "Predicting 5 star\n",
      "0.3524910198344526\n",
      "0.7486178353896611\n",
      "Wall time: 7min 54s\n"
     ]
    }
   ],
   "source": [
    "%%time\n",
    "# Evaluating the models above (TEST)\n",
    "y_test_und = pd.DataFrame(y_test)\n",
    "y_test_true = pd.DataFrame(y_test_und.columns[np.where(y_test_und!=0)[1]]) + 1\n",
    "\n",
    "# Unload models\n",
    "lstm_1, lstm_2, lstm_3, lstm_4, lstm_5 = models[1], models[2], models[3], models[4], models[5]\n",
    "\n",
    "## Predicting the probability for each observation each model\n",
    "print(\"Predicting 1 star\")\n",
    "one_star_ps = lstm_1.predict(X_test)\n",
    "print(\"Predicting 2 star\")\n",
    "two_star_ps = lstm_2.predict(X_test)\n",
    "print(\"Predicting 3 star\")\n",
    "three_star_ps = lstm_3.predict(X_test)\n",
    "print(\"Predicting 4 star\")\n",
    "four_star_ps = lstm_4.predict(X_test)\n",
    "print(\"Predicting 5 star\")\n",
    "five_star_ps = lstm_5.predict(X_test)\n",
    "\n",
    "data = [one_star_ps.flatten(), two_star_ps.flatten(), three_star_ps.flatten(), four_star_ps.flatten(), five_star_ps.flatten()]\n",
    "cols = [1, 2, 3, 4, 5]\n",
    "ps = pd.DataFrame(data=data, index=cols).T\n",
    "\n",
    "ps[\"pred\"] = ps.idxmax(axis=1)\n",
    "ps.head()\n",
    "\n",
    "print(MAE(ps[\"pred\"], y_test_true[0]))\n",
    "print(Accuracy(ps[\"pred\"], y_test_true[0]))"
   ]
  },
  {
   "cell_type": "code",
   "execution_count": 27,
   "metadata": {},
   "outputs": [
    {
     "data": {
      "text/html": [
       "<div>\n",
       "<style scoped>\n",
       "    .dataframe tbody tr th:only-of-type {\n",
       "        vertical-align: middle;\n",
       "    }\n",
       "\n",
       "    .dataframe tbody tr th {\n",
       "        vertical-align: top;\n",
       "    }\n",
       "\n",
       "    .dataframe thead th {\n",
       "        text-align: right;\n",
       "    }\n",
       "</style>\n",
       "<table border=\"1\" class=\"dataframe\">\n",
       "  <thead>\n",
       "    <tr style=\"text-align: right;\">\n",
       "      <th></th>\n",
       "      <th>1</th>\n",
       "      <th>2</th>\n",
       "      <th>3</th>\n",
       "      <th>4</th>\n",
       "      <th>5</th>\n",
       "    </tr>\n",
       "  </thead>\n",
       "  <tbody>\n",
       "    <tr>\n",
       "      <th>1</th>\n",
       "      <td>35671</td>\n",
       "      <td>5069</td>\n",
       "      <td>1331</td>\n",
       "      <td>496</td>\n",
       "      <td>554</td>\n",
       "    </tr>\n",
       "    <tr>\n",
       "      <th>2</th>\n",
       "      <td>1831</td>\n",
       "      <td>4336</td>\n",
       "      <td>3651</td>\n",
       "      <td>2135</td>\n",
       "      <td>546</td>\n",
       "    </tr>\n",
       "    <tr>\n",
       "      <th>3</th>\n",
       "      <td>86</td>\n",
       "      <td>449</td>\n",
       "      <td>2174</td>\n",
       "      <td>1224</td>\n",
       "      <td>167</td>\n",
       "    </tr>\n",
       "    <tr>\n",
       "      <th>4</th>\n",
       "      <td>1</td>\n",
       "      <td>3</td>\n",
       "      <td>58</td>\n",
       "      <td>535</td>\n",
       "      <td>35</td>\n",
       "    </tr>\n",
       "    <tr>\n",
       "      <th>5</th>\n",
       "      <td>1298</td>\n",
       "      <td>886</td>\n",
       "      <td>3049</td>\n",
       "      <td>17371</td>\n",
       "      <td>77119</td>\n",
       "    </tr>\n",
       "  </tbody>\n",
       "</table>\n",
       "</div>"
      ],
      "text/plain": [
       "       1     2     3      4      5\n",
       "1  35671  5069  1331    496    554\n",
       "2   1831  4336  3651   2135    546\n",
       "3     86   449  2174   1224    167\n",
       "4      1     3    58    535     35\n",
       "5   1298   886  3049  17371  77119"
      ]
     },
     "execution_count": 27,
     "metadata": {},
     "output_type": "execute_result"
    }
   ],
   "source": [
    "# Confusion matrix\n",
    "cm = confusion_matrix(ps[\"pred\"], y_test_true[0])\n",
    "pd.DataFrame(cm, index=cols, columns=cols)"
   ]
  },
  {
   "cell_type": "code",
   "execution_count": 28,
   "metadata": {},
   "outputs": [
    {
     "name": "stdout",
     "output_type": "stream",
     "text": [
      "              precision    recall  f1-score   support\n",
      "\n",
      "           1       0.92      0.83      0.87     43121\n",
      "           2       0.40      0.35      0.37     12499\n",
      "           3       0.21      0.53      0.30      4100\n",
      "           4       0.02      0.85      0.05       632\n",
      "           5       0.98      0.77      0.87     99723\n",
      "\n",
      "    accuracy                           0.75    160075\n",
      "   macro avg       0.51      0.66      0.49    160075\n",
      "weighted avg       0.90      0.75      0.81    160075\n",
      "\n"
     ]
    }
   ],
   "source": [
    "print(classification_report(ps[\"pred\"], y_test_true[0]))"
   ]
  },
  {
   "cell_type": "markdown",
   "metadata": {},
   "source": [
    "#### Saving the models\n"
   ]
  },
  {
   "cell_type": "code",
   "execution_count": 29,
   "metadata": {},
   "outputs": [
    {
     "name": "stderr",
     "output_type": "stream",
     "text": [
      "C:\\Users\\Tanner\\Anaconda3\\envs\\yelp\\lib\\site-packages\\keras\\engine\\saving.py:165: UserWarning: TensorFlow optimizers do not make it possible to access optimizer attributes or optimizer state after instantiation. As a result, we cannot save the optimizer as part of the model save file.You will have to compile your model again after loading it. Prefer using a Keras optimizer instead (see keras.io/optimizers).\n",
      "  'TensorFlow optimizers do not '\n"
     ]
    }
   ],
   "source": [
    "lstm_1.save(\"./models/one_star.h5\")\n",
    "lstm_2.save(\"./models/two_star.h5\")\n",
    "lstm_3.save(\"./models/three_star.h5\")\n",
    "lstm_4.save(\"./models/four_star.h5\")\n",
    "lstm_5.save(\"./models/five_star.h5\")"
   ]
  },
  {
   "cell_type": "markdown",
   "metadata": {},
   "source": [
    "### Ensemble on Test Set"
   ]
  },
  {
   "cell_type": "code",
   "execution_count": 343,
   "metadata": {},
   "outputs": [
    {
     "name": "stdout",
     "output_type": "stream",
     "text": [
      "(373506,) (373506, 5)\n",
      "(160075,) (160075, 5)\n",
      "        1  2  3  4  5\n",
      "255947  0  0  0  0  1\n",
      "261035  0  0  0  0  1\n",
      "355633  0  0  0  0  1\n",
      "205506  0  0  0  0  1\n",
      "97222   0  0  0  1  0\n",
      "...    .. .. .. .. ..\n",
      "491832  0  0  0  0  1\n",
      "311959  0  0  0  0  1\n",
      "140524  1  0  0  0  0\n",
      "125037  0  0  1  0  0\n",
      "200135  0  0  0  1  0\n",
      "\n",
      "[160075 rows x 5 columns]\n"
     ]
    }
   ],
   "source": [
    "yelp = pd.read_csv('cleaned_yelp_stemmed.csv')\n",
    "\n",
    "X = yelp['text'].fillna('').values\n",
    "y = pd.get_dummies(yelp['stars'])\n",
    "\n",
    "X_train, X_test, y_train, y_test = train_test_split(X, y, test_size=0.30, random_state=42)\n",
    "print(X_train.shape, y_train.shape)\n",
    "print(X_test.shape, y_test.shape)\n",
    "\n",
    "max_words = 5000\n",
    "maxlen = 500\n",
    "\n",
    "with open('tokenizer.pickle', 'rb') as handle:\n",
    "    tokenizer = pickle.load(handle) \n",
    "\n",
    "print(y_test)\n",
    "\n",
    "necc_cols = [1, 2, 3, 4, 5]\n",
    "for col in necc_cols:\n",
    "    if col not in y_test.columns:\n",
    "        y_test[col] = 0\n",
    "        \n",
    "y_test = y_test[necc_cols]\n",
    "y_test = y_test.values\n",
    "\n",
    "X_baseline = tokenizer.texts_to_matrix(X_test)\n",
    "X_lstm = tokenizer.texts_to_sequences(X_test)\n",
    "X_lstm = pad_sequences(X_lstm, maxlen=maxlen)"
   ]
  },
  {
   "cell_type": "code",
   "execution_count": 7,
   "metadata": {},
   "outputs": [
    {
     "name": "stderr",
     "output_type": "stream",
     "text": [
      "C:\\Users\\Tanner\\Anaconda3\\envs\\yelp\\lib\\site-packages\\keras\\engine\\saving.py:341: UserWarning: No training configuration found in save file: the model was *not* compiled. Compile it manually.\n",
      "  warnings.warn('No training configuration found in save file: '\n"
     ]
    }
   ],
   "source": [
    "# Trying our pretrained models\n",
    "# Optimizer\n",
    "lr_schedule = keras.optimizers.schedules.ExponentialDecay(initial_learning_rate=.001, decay_steps=10000, decay_rate=0.9)\n",
    "optimizer = keras.optimizers.Adam(learning_rate=lr_schedule, beta_1=0.9, beta_2=0.99, amsgrad=False, clipvalue=.3)\n",
    "optimizer_baseline = keras.optimizers.Adam(learning_rate=.0007, beta_1=0.9, beta_2=0.99, amsgrad=False, clipvalue=.3)\n",
    "\n",
    "# Baseline\n",
    "baseline = load_model('./models/baseline.h5')\n",
    "\n",
    "baseline.compile(loss=my_custom_loss,\n",
    "              optimizer=optimizer,\n",
    "              metrics=['accuracy', 'mean_absolute_error'])\n",
    "\n",
    "# LSTM\n",
    "lstm = load_model('./models/lstm.h5')\n",
    "\n",
    "lstm.compile(loss=my_custom_loss,\n",
    "              optimizer=optimizer,\n",
    "              metrics=['accuracy', 'mean_absolute_error'])\n",
    "\n",
    "# Bidirectional LSTM\n",
    "bidir = load_model('./models/bidirectional_lstm.h5')\n",
    "\n",
    "bidir.compile(loss=my_custom_loss,\n",
    "              optimizer=optimizer,\n",
    "              metrics=['accuracy', 'mean_absolute_error'])\n",
    "\n",
    "# One vs. all\n",
    "lstm_1 = load_model('./models/one_star.h5')\n",
    "\n",
    "lstm_1.compile(loss=my_custom_loss_ova,\n",
    "              optimizer=optimizer,\n",
    "              metrics=['accuracy', 'mean_absolute_error'])\n",
    "\n",
    "lstm_2 = load_model('./models/two_star.h5')\n",
    "\n",
    "lstm_2.compile(loss=my_custom_loss_ova,\n",
    "              optimizer=optimizer,\n",
    "              metrics=['accuracy', 'mean_absolute_error'])\n",
    "\n",
    "lstm_3 = load_model('./models/three_star.h5')\n",
    "\n",
    "lstm_3.compile(loss=my_custom_loss_ova,\n",
    "              optimizer=optimizer,\n",
    "              metrics=['accuracy', 'mean_absolute_error'])\n",
    "\n",
    "lstm_4 = load_model('./models/four_star.h5')\n",
    "\n",
    "lstm_4.compile(loss=my_custom_loss_ova,\n",
    "              optimizer=optimizer,\n",
    "              metrics=['accuracy', 'mean_absolute_error'])\n",
    "\n",
    "lstm_5 = load_model('./models/five_star.h5')\n",
    "\n",
    "lstm_5.compile(loss=my_custom_loss_ova,\n",
    "              optimizer=optimizer,\n",
    "              metrics=['accuracy', 'mean_absolute_error'])"
   ]
  },
  {
   "cell_type": "code",
   "execution_count": 8,
   "metadata": {},
   "outputs": [
    {
     "name": "stdout",
     "output_type": "stream",
     "text": [
      "Baseline\n",
      "LSTM\n",
      "Bidirectional LSTM\n",
      "OVA\n"
     ]
    }
   ],
   "source": [
    "cols = [1, 2, 3, 4, 5]\n",
    "# Baseline\n",
    "print(\"Baseline\")\n",
    "baseline_preds = pd.DataFrame(baseline.predict(X_baseline), columns=cols)\n",
    "baseline_preds['baseline_pred'] = baseline_preds.idxmax(axis=1)\n",
    "\n",
    "# LSTM\n",
    "print(\"LSTM\")\n",
    "lstm_preds = pd.DataFrame(lstm.predict(X_lstm), columns=cols)\n",
    "lstm_preds['lstm_pred'] = lstm_preds.idxmax(axis=1)\n",
    "\n",
    "# Bidirectional LSTM\n",
    "print(\"Bidirectional LSTM\")\n",
    "bidir_preds = pd.DataFrame(bidir.predict(X_lstm), columns=cols)\n",
    "bidir_preds['bidir_pred'] = bidir_preds.idxmax(axis=1)\n",
    "\n",
    "# One vs. all\n",
    "print(\"OVA\")\n",
    "one_star_ps = lstm_1.predict(X_lstm)\n",
    "two_star_ps = lstm_2.predict(X_lstm)\n",
    "three_star_ps = lstm_3.predict(X_lstm)\n",
    "four_star_ps = lstm_4.predict(X_lstm)\n",
    "five_star_ps = lstm_5.predict(X_lstm)\n",
    "\n",
    "data = [one_star_ps.flatten(), two_star_ps.flatten(), three_star_ps.flatten(), four_star_ps.flatten(), five_star_ps.flatten()]\n",
    "ova_preds = pd.DataFrame(data=data, index=cols).T\n",
    "\n",
    "ova_preds[\"ova_pred\"] = ova_preds.idxmax(axis=1)\n",
    "\n",
    "all_preds = pd.DataFrame([baseline_preds['baseline_pred'], lstm_preds['lstm_pred'], bidir_preds['bidir_pred'], ova_preds['ova_pred']]).T\n",
    "all_preds[\"final_pred\"] = all_preds.mode(axis=1)[0]"
   ]
  },
  {
   "cell_type": "code",
   "execution_count": 9,
   "metadata": {},
   "outputs": [
    {
     "name": "stdout",
     "output_type": "stream",
     "text": [
      "[0.2826112759643917, 0.7832078713103233]\n"
     ]
    }
   ],
   "source": [
    "print([MAE(all_preds[\"final_pred\"], pd.DataFrame(data=y_test, columns=cols).idxmax(axis=1)), Accuracy(all_preds[\"final_pred\"], pd.DataFrame(data=y_test, columns=cols).idxmax(axis=1))])"
   ]
  },
  {
   "cell_type": "code",
   "execution_count": 10,
   "metadata": {},
   "outputs": [
    {
     "data": {
      "text/html": [
       "<div>\n",
       "<style scoped>\n",
       "    .dataframe tbody tr th:only-of-type {\n",
       "        vertical-align: middle;\n",
       "    }\n",
       "\n",
       "    .dataframe tbody tr th {\n",
       "        vertical-align: top;\n",
       "    }\n",
       "\n",
       "    .dataframe thead th {\n",
       "        text-align: right;\n",
       "    }\n",
       "</style>\n",
       "<table border=\"1\" class=\"dataframe\">\n",
       "  <thead>\n",
       "    <tr style=\"text-align: right;\">\n",
       "      <th></th>\n",
       "      <th>1</th>\n",
       "      <th>2</th>\n",
       "      <th>3</th>\n",
       "      <th>4</th>\n",
       "      <th>5</th>\n",
       "    </tr>\n",
       "  </thead>\n",
       "  <tbody>\n",
       "    <tr>\n",
       "      <th>1</th>\n",
       "      <td>36500</td>\n",
       "      <td>5433</td>\n",
       "      <td>1480</td>\n",
       "      <td>582</td>\n",
       "      <td>796</td>\n",
       "    </tr>\n",
       "    <tr>\n",
       "      <th>2</th>\n",
       "      <td>1426</td>\n",
       "      <td>3499</td>\n",
       "      <td>1866</td>\n",
       "      <td>390</td>\n",
       "      <td>118</td>\n",
       "    </tr>\n",
       "    <tr>\n",
       "      <th>3</th>\n",
       "      <td>170</td>\n",
       "      <td>1005</td>\n",
       "      <td>3106</td>\n",
       "      <td>1239</td>\n",
       "      <td>172</td>\n",
       "    </tr>\n",
       "    <tr>\n",
       "      <th>4</th>\n",
       "      <td>123</td>\n",
       "      <td>402</td>\n",
       "      <td>2735</td>\n",
       "      <td>9031</td>\n",
       "      <td>4099</td>\n",
       "    </tr>\n",
       "    <tr>\n",
       "      <th>5</th>\n",
       "      <td>668</td>\n",
       "      <td>404</td>\n",
       "      <td>1076</td>\n",
       "      <td>10519</td>\n",
       "      <td>73236</td>\n",
       "    </tr>\n",
       "  </tbody>\n",
       "</table>\n",
       "</div>"
      ],
      "text/plain": [
       "       1     2     3      4      5\n",
       "1  36500  5433  1480    582    796\n",
       "2   1426  3499  1866    390    118\n",
       "3    170  1005  3106   1239    172\n",
       "4    123   402  2735   9031   4099\n",
       "5    668   404  1076  10519  73236"
      ]
     },
     "execution_count": 10,
     "metadata": {},
     "output_type": "execute_result"
    }
   ],
   "source": [
    "# Confusion matrix\n",
    "cm = confusion_matrix(all_preds[\"final_pred\"], pd.DataFrame(data=y_test, columns=cols).idxmax(axis=1))\n",
    "pd.DataFrame(cm, index=cols, columns=cols)"
   ]
  },
  {
   "cell_type": "code",
   "execution_count": 299,
   "metadata": {},
   "outputs": [
    {
     "data": {
      "text/plain": [
       "<matplotlib.axes._subplots.AxesSubplot at 0x25ca86cae48>"
      ]
     },
     "execution_count": 299,
     "metadata": {},
     "output_type": "execute_result"
    },
    {
     "data": {
      "image/png": "[encoded data removed]",
      "text/plain": [
       "<Figure size 1440x720 with 2 Axes>"
      ]
     },
     "metadata": {
      "needs_background": "light"
     },
     "output_type": "display_data"
    }
   ],
   "source": [
    "plt.figure(figsize = (20,10))\n",
    "sns.heatmap(pd.DataFrame(cm, index=cols, columns=cols), annot=True, xticklabels=True, yticklabels=True)"
   ]
  },
  {
   "cell_type": "code",
   "execution_count": 12,
   "metadata": {},
   "outputs": [
    {
     "name": "stdout",
     "output_type": "stream",
     "text": [
      "              precision    recall  f1-score   support\n",
      "\n",
      "         1.0       0.94      0.81      0.87     44791\n",
      "         2.0       0.33      0.48      0.39      7299\n",
      "         3.0       0.30      0.55      0.39      5692\n",
      "         4.0       0.42      0.55      0.47     16390\n",
      "         5.0       0.93      0.85      0.89     85903\n",
      "\n",
      "    accuracy                           0.78    160075\n",
      "   macro avg       0.58      0.65      0.60    160075\n",
      "weighted avg       0.83      0.78      0.80    160075\n",
      "\n"
     ]
    }
   ],
   "source": [
    "print(classification_report(all_preds[\"final_pred\"], pd.DataFrame(data=y_test, columns=cols).idxmax(axis=1)))"
   ]
  },
  {
   "cell_type": "markdown",
   "metadata": {},
   "source": [
    "From the classification report and confusion matrix above, it appears that we often mess up on the 2/3 star class, and do alright in the 4 star class. For 1 and 5 stars, we perform particularly well."
   ]
  },
  {
   "cell_type": "code",
   "execution_count": 13,
   "metadata": {},
   "outputs": [
    {
     "data": {
      "text/html": [
       "<div>\n",
       "<style scoped>\n",
       "    .dataframe tbody tr th:only-of-type {\n",
       "        vertical-align: middle;\n",
       "    }\n",
       "\n",
       "    .dataframe tbody tr th {\n",
       "        vertical-align: top;\n",
       "    }\n",
       "\n",
       "    .dataframe thead th {\n",
       "        text-align: right;\n",
       "    }\n",
       "</style>\n",
       "<table border=\"1\" class=\"dataframe\">\n",
       "  <thead>\n",
       "    <tr style=\"text-align: right;\">\n",
       "      <th></th>\n",
       "      <th>baseline_pred</th>\n",
       "      <th>lstm_pred</th>\n",
       "      <th>bidir_pred</th>\n",
       "      <th>ova_pred</th>\n",
       "      <th>final_pred</th>\n",
       "      <th>actual_value</th>\n",
       "    </tr>\n",
       "  </thead>\n",
       "  <tbody>\n",
       "    <tr>\n",
       "      <th>0</th>\n",
       "      <td>4</td>\n",
       "      <td>5</td>\n",
       "      <td>5</td>\n",
       "      <td>5</td>\n",
       "      <td>5.0</td>\n",
       "      <td>5</td>\n",
       "    </tr>\n",
       "    <tr>\n",
       "      <th>1</th>\n",
       "      <td>5</td>\n",
       "      <td>5</td>\n",
       "      <td>4</td>\n",
       "      <td>2</td>\n",
       "      <td>5.0</td>\n",
       "      <td>5</td>\n",
       "    </tr>\n",
       "    <tr>\n",
       "      <th>2</th>\n",
       "      <td>5</td>\n",
       "      <td>5</td>\n",
       "      <td>5</td>\n",
       "      <td>5</td>\n",
       "      <td>5.0</td>\n",
       "      <td>5</td>\n",
       "    </tr>\n",
       "    <tr>\n",
       "      <th>3</th>\n",
       "      <td>5</td>\n",
       "      <td>5</td>\n",
       "      <td>5</td>\n",
       "      <td>5</td>\n",
       "      <td>5.0</td>\n",
       "      <td>5</td>\n",
       "    </tr>\n",
       "    <tr>\n",
       "      <th>4</th>\n",
       "      <td>4</td>\n",
       "      <td>4</td>\n",
       "      <td>4</td>\n",
       "      <td>5</td>\n",
       "      <td>4.0</td>\n",
       "      <td>4</td>\n",
       "    </tr>\n",
       "  </tbody>\n",
       "</table>\n",
       "</div>"
      ],
      "text/plain": [
       "   baseline_pred  lstm_pred  bidir_pred  ova_pred  final_pred  actual_value\n",
       "0              4          5           5         5         5.0             5\n",
       "1              5          5           4         2         5.0             5\n",
       "2              5          5           5         5         5.0             5\n",
       "3              5          5           5         5         5.0             5\n",
       "4              4          4           4         5         4.0             4"
      ]
     },
     "execution_count": 13,
     "metadata": {},
     "output_type": "execute_result"
    }
   ],
   "source": [
    "true_preds = all_preds.copy()\n",
    "true_preds['actual_value'] = pd.DataFrame(data=y_test, columns=cols).idxmax(axis=1)\n",
    "true_preds.head()"
   ]
  },
  {
   "cell_type": "code",
   "execution_count": 297,
   "metadata": {},
   "outputs": [
    {
     "data": {
      "text/html": [
       "<div>\n",
       "<style scoped>\n",
       "    .dataframe tbody tr th:only-of-type {\n",
       "        vertical-align: middle;\n",
       "    }\n",
       "\n",
       "    .dataframe tbody tr th {\n",
       "        vertical-align: top;\n",
       "    }\n",
       "\n",
       "    .dataframe thead th {\n",
       "        text-align: right;\n",
       "    }\n",
       "</style>\n",
       "<table border=\"1\" class=\"dataframe\">\n",
       "  <thead>\n",
       "    <tr style=\"text-align: right;\">\n",
       "      <th></th>\n",
       "      <th>baseline_pred</th>\n",
       "      <th>lstm_pred</th>\n",
       "      <th>ova_pred</th>\n",
       "      <th>final_pred</th>\n",
       "    </tr>\n",
       "  </thead>\n",
       "  <tbody>\n",
       "    <tr>\n",
       "      <th>0</th>\n",
       "      <td>4</td>\n",
       "      <td>5</td>\n",
       "      <td>5</td>\n",
       "      <td>5.0</td>\n",
       "    </tr>\n",
       "    <tr>\n",
       "      <th>1</th>\n",
       "      <td>5</td>\n",
       "      <td>5</td>\n",
       "      <td>2</td>\n",
       "      <td>5.0</td>\n",
       "    </tr>\n",
       "    <tr>\n",
       "      <th>2</th>\n",
       "      <td>5</td>\n",
       "      <td>5</td>\n",
       "      <td>5</td>\n",
       "      <td>5.0</td>\n",
       "    </tr>\n",
       "    <tr>\n",
       "      <th>3</th>\n",
       "      <td>5</td>\n",
       "      <td>5</td>\n",
       "      <td>5</td>\n",
       "      <td>5.0</td>\n",
       "    </tr>\n",
       "    <tr>\n",
       "      <th>4</th>\n",
       "      <td>4</td>\n",
       "      <td>4</td>\n",
       "      <td>5</td>\n",
       "      <td>4.0</td>\n",
       "    </tr>\n",
       "    <tr>\n",
       "      <th>...</th>\n",
       "      <td>...</td>\n",
       "      <td>...</td>\n",
       "      <td>...</td>\n",
       "      <td>...</td>\n",
       "    </tr>\n",
       "    <tr>\n",
       "      <th>100</th>\n",
       "      <td>5</td>\n",
       "      <td>5</td>\n",
       "      <td>5</td>\n",
       "      <td>5.0</td>\n",
       "    </tr>\n",
       "    <tr>\n",
       "      <th>101</th>\n",
       "      <td>5</td>\n",
       "      <td>5</td>\n",
       "      <td>5</td>\n",
       "      <td>5.0</td>\n",
       "    </tr>\n",
       "    <tr>\n",
       "      <th>102</th>\n",
       "      <td>4</td>\n",
       "      <td>4</td>\n",
       "      <td>3</td>\n",
       "      <td>4.0</td>\n",
       "    </tr>\n",
       "    <tr>\n",
       "      <th>103</th>\n",
       "      <td>5</td>\n",
       "      <td>5</td>\n",
       "      <td>5</td>\n",
       "      <td>5.0</td>\n",
       "    </tr>\n",
       "    <tr>\n",
       "      <th>104</th>\n",
       "      <td>3</td>\n",
       "      <td>4</td>\n",
       "      <td>2</td>\n",
       "      <td>4.0</td>\n",
       "    </tr>\n",
       "  </tbody>\n",
       "</table>\n",
       "<p>105 rows × 4 columns</p>\n",
       "</div>"
      ],
      "text/plain": [
       "     baseline_pred  lstm_pred  ova_pred  final_pred\n",
       "0                4          5         5         5.0\n",
       "1                5          5         2         5.0\n",
       "2                5          5         5         5.0\n",
       "3                5          5         5         5.0\n",
       "4                4          4         5         4.0\n",
       "..             ...        ...       ...         ...\n",
       "100              5          5         5         5.0\n",
       "101              5          5         5         5.0\n",
       "102              4          4         3         4.0\n",
       "103              5          5         5         5.0\n",
       "104              3          4         2         4.0\n",
       "\n",
       "[105 rows x 4 columns]"
      ]
     },
     "execution_count": 297,
     "metadata": {},
     "output_type": "execute_result"
    }
   ],
   "source": [
    "true_preds[[\"baseline_pred\", \"lstm_pred\", \"ova_pred\", \"final_pred\"]].head(105)"
   ]
  },
  {
   "cell_type": "code",
   "execution_count": 300,
   "metadata": {},
   "outputs": [
    {
     "name": "stdout",
     "output_type": "stream",
     "text": [
      "0.7341870997969702 0.7517101358738092 0.7559643916913946 0.7116414180852725\n"
     ]
    }
   ],
   "source": [
    "correct_preds = true_preds[true_preds['final_pred'] == true_preds['actual_value']]\n",
    "n = len(X_test)\n",
    "\n",
    "# Which model performed the best for the correct predictions?\n",
    "baseline_score = np.count_nonzero(correct_preds['baseline_pred'] == correct_preds['actual_value']) / n\n",
    "lstm_score = np.count_nonzero(correct_preds['lstm_pred'] == correct_preds['actual_value']) / n\n",
    "bidir_score = np.count_nonzero(correct_preds['bidir_pred'] == correct_preds['actual_value']) / n\n",
    "ova_score = np.count_nonzero(correct_preds['ova_pred'] == correct_preds['actual_value']) / n\n",
    "\n",
    "print(baseline_score, lstm_score, bidir_score, ova_score)"
   ]
  },
  {
   "cell_type": "code",
   "execution_count": 14,
   "metadata": {},
   "outputs": [
    {
     "name": "stdout",
     "output_type": "stream",
     "text": [
      "0.024094955489614243 0.027637045135092925 0.021864750898016556 0.03697641730438857\n"
     ]
    },
    {
     "data": {
      "text/html": [
       "<div>\n",
       "<style scoped>\n",
       "    .dataframe tbody tr th:only-of-type {\n",
       "        vertical-align: middle;\n",
       "    }\n",
       "\n",
       "    .dataframe tbody tr th {\n",
       "        vertical-align: top;\n",
       "    }\n",
       "\n",
       "    .dataframe thead th {\n",
       "        text-align: right;\n",
       "    }\n",
       "</style>\n",
       "<table border=\"1\" class=\"dataframe\">\n",
       "  <thead>\n",
       "    <tr style=\"text-align: right;\">\n",
       "      <th></th>\n",
       "      <th>baseline_pred</th>\n",
       "      <th>lstm_pred</th>\n",
       "      <th>bidir_pred</th>\n",
       "      <th>ova_pred</th>\n",
       "      <th>final_pred</th>\n",
       "      <th>actual_value</th>\n",
       "    </tr>\n",
       "  </thead>\n",
       "  <tbody>\n",
       "    <tr>\n",
       "      <th>6</th>\n",
       "      <td>4</td>\n",
       "      <td>4</td>\n",
       "      <td>4</td>\n",
       "      <td>2</td>\n",
       "      <td>4.0</td>\n",
       "      <td>3</td>\n",
       "    </tr>\n",
       "    <tr>\n",
       "      <th>14</th>\n",
       "      <td>1</td>\n",
       "      <td>3</td>\n",
       "      <td>1</td>\n",
       "      <td>1</td>\n",
       "      <td>1.0</td>\n",
       "      <td>3</td>\n",
       "    </tr>\n",
       "    <tr>\n",
       "      <th>22</th>\n",
       "      <td>5</td>\n",
       "      <td>5</td>\n",
       "      <td>5</td>\n",
       "      <td>5</td>\n",
       "      <td>5.0</td>\n",
       "      <td>4</td>\n",
       "    </tr>\n",
       "    <tr>\n",
       "      <th>24</th>\n",
       "      <td>4</td>\n",
       "      <td>4</td>\n",
       "      <td>4</td>\n",
       "      <td>5</td>\n",
       "      <td>4.0</td>\n",
       "      <td>3</td>\n",
       "    </tr>\n",
       "    <tr>\n",
       "      <th>26</th>\n",
       "      <td>1</td>\n",
       "      <td>1</td>\n",
       "      <td>1</td>\n",
       "      <td>1</td>\n",
       "      <td>1.0</td>\n",
       "      <td>2</td>\n",
       "    </tr>\n",
       "    <tr>\n",
       "      <th>33</th>\n",
       "      <td>3</td>\n",
       "      <td>4</td>\n",
       "      <td>4</td>\n",
       "      <td>5</td>\n",
       "      <td>4.0</td>\n",
       "      <td>5</td>\n",
       "    </tr>\n",
       "    <tr>\n",
       "      <th>39</th>\n",
       "      <td>5</td>\n",
       "      <td>5</td>\n",
       "      <td>5</td>\n",
       "      <td>5</td>\n",
       "      <td>5.0</td>\n",
       "      <td>4</td>\n",
       "    </tr>\n",
       "    <tr>\n",
       "      <th>40</th>\n",
       "      <td>2</td>\n",
       "      <td>3</td>\n",
       "      <td>2</td>\n",
       "      <td>3</td>\n",
       "      <td>2.0</td>\n",
       "      <td>3</td>\n",
       "    </tr>\n",
       "    <tr>\n",
       "      <th>45</th>\n",
       "      <td>4</td>\n",
       "      <td>4</td>\n",
       "      <td>4</td>\n",
       "      <td>2</td>\n",
       "      <td>4.0</td>\n",
       "      <td>3</td>\n",
       "    </tr>\n",
       "    <tr>\n",
       "      <th>61</th>\n",
       "      <td>5</td>\n",
       "      <td>5</td>\n",
       "      <td>5</td>\n",
       "      <td>5</td>\n",
       "      <td>5.0</td>\n",
       "      <td>4</td>\n",
       "    </tr>\n",
       "  </tbody>\n",
       "</table>\n",
       "</div>"
      ],
      "text/plain": [
       "    baseline_pred  lstm_pred  bidir_pred  ova_pred  final_pred  actual_value\n",
       "6               4          4           4         2         4.0             3\n",
       "14              1          3           1         1         1.0             3\n",
       "22              5          5           5         5         5.0             4\n",
       "24              4          4           4         5         4.0             3\n",
       "26              1          1           1         1         1.0             2\n",
       "33              3          4           4         5         4.0             5\n",
       "39              5          5           5         5         5.0             4\n",
       "40              2          3           2         3         2.0             3\n",
       "45              4          4           4         2         4.0             3\n",
       "61              5          5           5         5         5.0             4"
      ]
     },
     "execution_count": 14,
     "metadata": {},
     "output_type": "execute_result"
    }
   ],
   "source": [
    "incorrect_preds = true_preds[true_preds['final_pred'] != true_preds['actual_value']]\n",
    "\n",
    "# Which model performed the best for the incorrect predictions?\n",
    "baseline_score = np.count_nonzero(incorrect_preds['baseline_pred'] == incorrect_preds['actual_value']) / n\n",
    "lstm_score = np.count_nonzero(incorrect_preds['lstm_pred'] == incorrect_preds['actual_value']) / n\n",
    "bidir_score = np.count_nonzero(incorrect_preds['bidir_pred'] == incorrect_preds['actual_value']) / n\n",
    "ova_score = np.count_nonzero(incorrect_preds['ova_pred'] == incorrect_preds['actual_value']) / n\n",
    "\n",
    "print(baseline_score, lstm_score, bidir_score, ova_score)\n",
    "\n",
    "incorrect_preds.head(10)"
   ]
  },
  {
   "cell_type": "code",
   "execution_count": 190,
   "metadata": {},
   "outputs": [
    {
     "name": "stdout",
     "output_type": "stream",
     "text": [
      "0.030198344526003437\n"
     ]
    }
   ],
   "source": [
    "from collections import Counter\n",
    "\n",
    "def detect_tie(x):\n",
    "    lst = x.values\n",
    "    cnt = list(Counter(lst).values())\n",
    "    if len(cnt) == 2 and cnt[0] == cnt[1]:\n",
    "        return True\n",
    "    else:\n",
    "        return False  \n",
    "\n",
    "def vote(x):\n",
    "    if not detect_tie(x):\n",
    "        return x.mode()[0]\n",
    "    elif set(x) == set([4, 5]):\n",
    "        return x['bidir_pred']\n",
    "    elif set(x) == set([1, 2]):\n",
    "        return x['lstm_pred']\n",
    "    elif set(x) == set([2, 3]):\n",
    "        return x['lstm_pred']\n",
    "    elif set(x) == set([1, 5]):\n",
    "        return x['lstm_pred']\n",
    "    elif set(x) == set([3, 4]):\n",
    "        return x['ova_pred']\n",
    "    else:\n",
    "        return x.mode()[0]    \n",
    "\n",
    "# How many ties did we have?\n",
    "check = incorrect_preds.iloc[:,0:4]\n",
    "ties = incorrect_preds[check.apply(detect_tie, axis=1)]\n",
    "np.count_nonzero(check.apply(detect_tie, axis=1)) / n\n",
    "ties.head()\n",
    "\n",
    "print(len(ties) / len(true_preds))"
   ]
  },
  {
   "cell_type": "code",
   "execution_count": 301,
   "metadata": {},
   "outputs": [
    {
     "name": "stdout",
     "output_type": "stream",
     "text": [
      "0.28527099710384773 0.4555233760860571 0.2397600330988829 0.4869673148531237\n"
     ]
    }
   ],
   "source": [
    "# Which model performed the best for ties?\n",
    "baseline_score = np.count_nonzero(ties['baseline_pred'] == ties['actual_value']) / len(ties)\n",
    "lstm_score = np.count_nonzero(ties['lstm_pred'] == ties['actual_value']) / len(ties)\n",
    "bidir_score = np.count_nonzero(ties['bidir_pred'] == ties['actual_value']) / len(ties)\n",
    "ova_score = np.count_nonzero(ties['ova_pred'] == ties['actual_value']) / len(ties)\n",
    "\n",
    "print(baseline_score, lstm_score, bidir_score, ova_score)"
   ]
  },
  {
   "cell_type": "code",
   "execution_count": 194,
   "metadata": {},
   "outputs": [
    {
     "data": {
      "text/plain": [
       "'thi locat mayb old and smaller then other but the custom servic wa amaz the ice cream wa absolutli devin and the select is way better then other locat i have been to dont wast your time by go somewher els come to thi locat and fill your sweet tooth crave'"
      ]
     },
     "execution_count": 194,
     "metadata": {},
     "output_type": "execute_result"
    }
   ],
   "source": [
    "X_test[157]"
   ]
  },
  {
   "cell_type": "code",
   "execution_count": 303,
   "metadata": {},
   "outputs": [
    {
     "data": {
      "text/plain": [
       "[(frozenset({4, 5}), 2356),\n",
       " (frozenset({1, 2}), 902),\n",
       " (frozenset({2, 3}), 619),\n",
       " (frozenset({1, 5}), 399),\n",
       " (frozenset({3, 4}), 365),\n",
       " (frozenset({2, 4}), 73),\n",
       " (frozenset({1, 3}), 33),\n",
       " (frozenset({3, 5}), 30),\n",
       " (frozenset({2, 5}), 29),\n",
       " (frozenset({1, 4}), 28)]"
      ]
     },
     "execution_count": 303,
     "metadata": {},
     "output_type": "execute_result"
    }
   ],
   "source": [
    "# What are the most common ties?\n",
    "subsets = ties[['baseline_pred', 'lstm_pred', 'bidir_pred', 'ova_pred']].apply(set, axis=1).values\n",
    "Counter(frozenset(s) for s in subsets).most_common(10)"
   ]
  },
  {
   "cell_type": "code",
   "execution_count": 214,
   "metadata": {},
   "outputs": [
    {
     "name": "stdout",
     "output_type": "stream",
     "text": [
      "0.4231097821443827 0.4818453652285348 0.48334045279794957 0.39555745407945325\n"
     ]
    },
    {
     "data": {
      "text/html": [
       "<div>\n",
       "<style scoped>\n",
       "    .dataframe tbody tr th:only-of-type {\n",
       "        vertical-align: middle;\n",
       "    }\n",
       "\n",
       "    .dataframe tbody tr th {\n",
       "        vertical-align: top;\n",
       "    }\n",
       "\n",
       "    .dataframe thead th {\n",
       "        text-align: right;\n",
       "    }\n",
       "</style>\n",
       "<table border=\"1\" class=\"dataframe\">\n",
       "  <thead>\n",
       "    <tr style=\"text-align: right;\">\n",
       "      <th></th>\n",
       "      <th>baseline_pred</th>\n",
       "      <th>lstm_pred</th>\n",
       "      <th>bidir_pred</th>\n",
       "      <th>ova_pred</th>\n",
       "      <th>final_pred</th>\n",
       "      <th>actual_value</th>\n",
       "      <th>boosted_pred</th>\n",
       "      <th>custom_vote_value</th>\n",
       "    </tr>\n",
       "  </thead>\n",
       "  <tbody>\n",
       "    <tr>\n",
       "      <th>29</th>\n",
       "      <td>4</td>\n",
       "      <td>5</td>\n",
       "      <td>4</td>\n",
       "      <td>5</td>\n",
       "      <td>4.0</td>\n",
       "      <td>4</td>\n",
       "      <td>4</td>\n",
       "      <td>4</td>\n",
       "    </tr>\n",
       "    <tr>\n",
       "      <th>64</th>\n",
       "      <td>4</td>\n",
       "      <td>5</td>\n",
       "      <td>4</td>\n",
       "      <td>5</td>\n",
       "      <td>4.0</td>\n",
       "      <td>5</td>\n",
       "      <td>5</td>\n",
       "      <td>4</td>\n",
       "    </tr>\n",
       "    <tr>\n",
       "      <th>66</th>\n",
       "      <td>4</td>\n",
       "      <td>5</td>\n",
       "      <td>4</td>\n",
       "      <td>5</td>\n",
       "      <td>4.0</td>\n",
       "      <td>5</td>\n",
       "      <td>4</td>\n",
       "      <td>4</td>\n",
       "    </tr>\n",
       "    <tr>\n",
       "      <th>67</th>\n",
       "      <td>5</td>\n",
       "      <td>4</td>\n",
       "      <td>4</td>\n",
       "      <td>5</td>\n",
       "      <td>4.0</td>\n",
       "      <td>4</td>\n",
       "      <td>3</td>\n",
       "      <td>4</td>\n",
       "    </tr>\n",
       "    <tr>\n",
       "      <th>73</th>\n",
       "      <td>4</td>\n",
       "      <td>4</td>\n",
       "      <td>5</td>\n",
       "      <td>5</td>\n",
       "      <td>4.0</td>\n",
       "      <td>5</td>\n",
       "      <td>4</td>\n",
       "      <td>5</td>\n",
       "    </tr>\n",
       "  </tbody>\n",
       "</table>\n",
       "</div>"
      ],
      "text/plain": [
       "    baseline_pred  lstm_pred  bidir_pred  ova_pred  final_pred  actual_value  \\\n",
       "29              4          5           4         5         4.0             4   \n",
       "64              4          5           4         5         4.0             5   \n",
       "66              4          5           4         5         4.0             5   \n",
       "67              5          4           4         5         4.0             4   \n",
       "73              4          4           5         5         4.0             5   \n",
       "\n",
       "    boosted_pred  custom_vote_value  \n",
       "29             4                  4  \n",
       "64             5                  4  \n",
       "66             4                  4  \n",
       "67             3                  4  \n",
       "73             4                  5  "
      ]
     },
     "execution_count": 214,
     "metadata": {},
     "output_type": "execute_result"
    }
   ],
   "source": [
    "# For our ties, which ones perform the best?\n",
    "# (4, 5)\n",
    "\n",
    "def detect_and_return(x):\n",
    "    if detect_tie(x):\n",
    "        return set(x)\n",
    "\n",
    "four_and_five_ties = true_preds[true_preds[['baseline_pred', 'lstm_pred', 'bidir_pred', 'ova_pred']].apply(detect_and_return, axis=1) == set([4,5])]\n",
    "\n",
    "baseline_score = np.count_nonzero(four_and_five_ties['baseline_pred'] == four_and_five_ties['actual_value']) / len(four_and_five_ties)\n",
    "lstm_score = np.count_nonzero(four_and_five_ties['lstm_pred'] == four_and_five_ties['actual_value']) / len(four_and_five_ties)\n",
    "bidir_score = np.count_nonzero(four_and_five_ties['bidir_pred'] == four_and_five_ties['actual_value']) / len(four_and_five_ties)\n",
    "ova_score = np.count_nonzero(four_and_five_ties['ova_pred'] == four_and_five_ties['actual_value']) / len(four_and_five_ties)\n",
    "\n",
    "print(baseline_score, lstm_score, bidir_score, ova_score)\n",
    "four_and_five_ties.head()"
   ]
  },
  {
   "cell_type": "code",
   "execution_count": 345,
   "metadata": {},
   "outputs": [
    {
     "name": "stdout",
     "output_type": "stream",
     "text": [
      "0.3852785145888594 0.4363395225464191 0.40915119363395225 0.4244031830238727\n"
     ]
    },
    {
     "data": {
      "text/html": [
       "<div>\n",
       "<style scoped>\n",
       "    .dataframe tbody tr th:only-of-type {\n",
       "        vertical-align: middle;\n",
       "    }\n",
       "\n",
       "    .dataframe tbody tr th {\n",
       "        vertical-align: top;\n",
       "    }\n",
       "\n",
       "    .dataframe thead th {\n",
       "        text-align: right;\n",
       "    }\n",
       "</style>\n",
       "<table border=\"1\" class=\"dataframe\">\n",
       "  <thead>\n",
       "    <tr style=\"text-align: right;\">\n",
       "      <th></th>\n",
       "      <th>baseline_pred</th>\n",
       "      <th>lstm_pred</th>\n",
       "      <th>bidir_pred</th>\n",
       "      <th>ova_pred</th>\n",
       "      <th>final_pred</th>\n",
       "      <th>actual_value</th>\n",
       "      <th>boosted_pred</th>\n",
       "      <th>custom_vote_value</th>\n",
       "    </tr>\n",
       "  </thead>\n",
       "  <tbody>\n",
       "    <tr>\n",
       "      <th>114</th>\n",
       "      <td>2</td>\n",
       "      <td>1</td>\n",
       "      <td>2</td>\n",
       "      <td>1</td>\n",
       "      <td>1.0</td>\n",
       "      <td>1</td>\n",
       "      <td>3</td>\n",
       "      <td>1</td>\n",
       "    </tr>\n",
       "    <tr>\n",
       "      <th>157</th>\n",
       "      <td>1</td>\n",
       "      <td>1</td>\n",
       "      <td>2</td>\n",
       "      <td>2</td>\n",
       "      <td>1.0</td>\n",
       "      <td>5</td>\n",
       "      <td>4</td>\n",
       "      <td>1</td>\n",
       "    </tr>\n",
       "    <tr>\n",
       "      <th>588</th>\n",
       "      <td>2</td>\n",
       "      <td>1</td>\n",
       "      <td>2</td>\n",
       "      <td>1</td>\n",
       "      <td>1.0</td>\n",
       "      <td>2</td>\n",
       "      <td>2</td>\n",
       "      <td>1</td>\n",
       "    </tr>\n",
       "    <tr>\n",
       "      <th>728</th>\n",
       "      <td>1</td>\n",
       "      <td>2</td>\n",
       "      <td>2</td>\n",
       "      <td>1</td>\n",
       "      <td>1.0</td>\n",
       "      <td>1</td>\n",
       "      <td>2</td>\n",
       "      <td>2</td>\n",
       "    </tr>\n",
       "    <tr>\n",
       "      <th>752</th>\n",
       "      <td>1</td>\n",
       "      <td>1</td>\n",
       "      <td>2</td>\n",
       "      <td>2</td>\n",
       "      <td>1.0</td>\n",
       "      <td>2</td>\n",
       "      <td>3</td>\n",
       "      <td>1</td>\n",
       "    </tr>\n",
       "  </tbody>\n",
       "</table>\n",
       "</div>"
      ],
      "text/plain": [
       "     baseline_pred  lstm_pred  bidir_pred  ova_pred  final_pred  actual_value  \\\n",
       "114              2          1           2         1         1.0             1   \n",
       "157              1          1           2         2         1.0             5   \n",
       "588              2          1           2         1         1.0             2   \n",
       "728              1          2           2         1         1.0             1   \n",
       "752              1          1           2         2         1.0             2   \n",
       "\n",
       "     boosted_pred  custom_vote_value  \n",
       "114             3                  1  \n",
       "157             4                  1  \n",
       "588             2                  1  \n",
       "728             2                  2  \n",
       "752             3                  1  "
      ]
     },
     "execution_count": 345,
     "metadata": {},
     "output_type": "execute_result"
    }
   ],
   "source": [
    "# (1, 2)\n",
    "one_and_two_ties = true_preds[true_preds[['baseline_pred', 'lstm_pred', 'bidir_pred', 'ova_pred']].apply(detect_and_return, axis=1) == set([1,2])]\n",
    "\n",
    "baseline_score = np.count_nonzero(one_and_two_ties['baseline_pred'] == one_and_two_ties['actual_value']) / len(one_and_two_ties)\n",
    "lstm_score = np.count_nonzero(one_and_two_ties['lstm_pred'] == one_and_two_ties['actual_value']) / len(one_and_two_ties)\n",
    "bidir_score = np.count_nonzero(one_and_two_ties['bidir_pred'] == one_and_two_ties['actual_value']) / len(one_and_two_ties)\n",
    "ova_score = np.count_nonzero(one_and_two_ties['ova_pred'] == one_and_two_ties['actual_value']) / len(one_and_two_ties)\n",
    "\n",
    "print(baseline_score, lstm_score, bidir_score, ova_score)\n",
    "one_and_two_ties.head()"
   ]
  },
  {
   "cell_type": "code",
   "execution_count": 346,
   "metadata": {},
   "outputs": [
    {
     "name": "stdout",
     "output_type": "stream",
     "text": [
      "0.3886756238003839 0.4760076775431862 0.3982725527831094 0.418426103646833\n"
     ]
    },
    {
     "data": {
      "text/html": [
       "<div>\n",
       "<style scoped>\n",
       "    .dataframe tbody tr th:only-of-type {\n",
       "        vertical-align: middle;\n",
       "    }\n",
       "\n",
       "    .dataframe tbody tr th {\n",
       "        vertical-align: top;\n",
       "    }\n",
       "\n",
       "    .dataframe thead th {\n",
       "        text-align: right;\n",
       "    }\n",
       "</style>\n",
       "<table border=\"1\" class=\"dataframe\">\n",
       "  <thead>\n",
       "    <tr style=\"text-align: right;\">\n",
       "      <th></th>\n",
       "      <th>baseline_pred</th>\n",
       "      <th>lstm_pred</th>\n",
       "      <th>bidir_pred</th>\n",
       "      <th>ova_pred</th>\n",
       "      <th>final_pred</th>\n",
       "      <th>actual_value</th>\n",
       "      <th>boosted_pred</th>\n",
       "      <th>custom_vote_value</th>\n",
       "    </tr>\n",
       "  </thead>\n",
       "  <tbody>\n",
       "    <tr>\n",
       "      <th>40</th>\n",
       "      <td>2</td>\n",
       "      <td>3</td>\n",
       "      <td>2</td>\n",
       "      <td>3</td>\n",
       "      <td>2.0</td>\n",
       "      <td>3</td>\n",
       "      <td>3</td>\n",
       "      <td>3</td>\n",
       "    </tr>\n",
       "    <tr>\n",
       "      <th>253</th>\n",
       "      <td>2</td>\n",
       "      <td>3</td>\n",
       "      <td>3</td>\n",
       "      <td>2</td>\n",
       "      <td>2.0</td>\n",
       "      <td>3</td>\n",
       "      <td>2</td>\n",
       "      <td>3</td>\n",
       "    </tr>\n",
       "    <tr>\n",
       "      <th>272</th>\n",
       "      <td>3</td>\n",
       "      <td>3</td>\n",
       "      <td>2</td>\n",
       "      <td>2</td>\n",
       "      <td>2.0</td>\n",
       "      <td>3</td>\n",
       "      <td>4</td>\n",
       "      <td>3</td>\n",
       "    </tr>\n",
       "    <tr>\n",
       "      <th>418</th>\n",
       "      <td>2</td>\n",
       "      <td>3</td>\n",
       "      <td>3</td>\n",
       "      <td>2</td>\n",
       "      <td>2.0</td>\n",
       "      <td>2</td>\n",
       "      <td>3</td>\n",
       "      <td>3</td>\n",
       "    </tr>\n",
       "    <tr>\n",
       "      <th>594</th>\n",
       "      <td>3</td>\n",
       "      <td>3</td>\n",
       "      <td>2</td>\n",
       "      <td>2</td>\n",
       "      <td>2.0</td>\n",
       "      <td>3</td>\n",
       "      <td>3</td>\n",
       "      <td>3</td>\n",
       "    </tr>\n",
       "  </tbody>\n",
       "</table>\n",
       "</div>"
      ],
      "text/plain": [
       "     baseline_pred  lstm_pred  bidir_pred  ova_pred  final_pred  actual_value  \\\n",
       "40               2          3           2         3         2.0             3   \n",
       "253              2          3           3         2         2.0             3   \n",
       "272              3          3           2         2         2.0             3   \n",
       "418              2          3           3         2         2.0             2   \n",
       "594              3          3           2         2         2.0             3   \n",
       "\n",
       "     boosted_pred  custom_vote_value  \n",
       "40              3                  3  \n",
       "253             2                  3  \n",
       "272             4                  3  \n",
       "418             3                  3  \n",
       "594             3                  3  "
      ]
     },
     "execution_count": 346,
     "metadata": {},
     "output_type": "execute_result"
    }
   ],
   "source": [
    "# (2, 3)\n",
    "two_and_three_ties = true_preds[true_preds[['baseline_pred', 'lstm_pred', 'bidir_pred', 'ova_pred']].apply(detect_and_return, axis=1) == set([2,3])]\n",
    "\n",
    "baseline_score = np.count_nonzero(two_and_three_ties['baseline_pred'] == two_and_three_ties['actual_value']) / len(two_and_three_ties)\n",
    "lstm_score = np.count_nonzero(two_and_three_ties['lstm_pred'] == two_and_three_ties['actual_value']) / len(two_and_three_ties)\n",
    "bidir_score = np.count_nonzero(two_and_three_ties['bidir_pred'] == two_and_three_ties['actual_value']) / len(two_and_three_ties)\n",
    "ova_score = np.count_nonzero(two_and_three_ties['ova_pred'] == two_and_three_ties['actual_value']) / len(two_and_three_ties)\n",
    "\n",
    "print(baseline_score, lstm_score, bidir_score, ova_score)\n",
    "two_and_three_ties.head()"
   ]
  },
  {
   "cell_type": "code",
   "execution_count": 302,
   "metadata": {},
   "outputs": [
    {
     "name": "stdout",
     "output_type": "stream",
     "text": [
      "0.34146341463414637 0.3902439024390244 0.38880918220946914 0.36585365853658536\n"
     ]
    },
    {
     "data": {
      "text/html": [
       "<div>\n",
       "<style scoped>\n",
       "    .dataframe tbody tr th:only-of-type {\n",
       "        vertical-align: middle;\n",
       "    }\n",
       "\n",
       "    .dataframe tbody tr th {\n",
       "        vertical-align: top;\n",
       "    }\n",
       "\n",
       "    .dataframe thead th {\n",
       "        text-align: right;\n",
       "    }\n",
       "</style>\n",
       "<table border=\"1\" class=\"dataframe\">\n",
       "  <thead>\n",
       "    <tr style=\"text-align: right;\">\n",
       "      <th></th>\n",
       "      <th>baseline_pred</th>\n",
       "      <th>lstm_pred</th>\n",
       "      <th>bidir_pred</th>\n",
       "      <th>ova_pred</th>\n",
       "      <th>final_pred</th>\n",
       "      <th>actual_value</th>\n",
       "      <th>boosted_pred</th>\n",
       "      <th>custom_vote_value</th>\n",
       "    </tr>\n",
       "  </thead>\n",
       "  <tbody>\n",
       "    <tr>\n",
       "      <th>221</th>\n",
       "      <td>5</td>\n",
       "      <td>5</td>\n",
       "      <td>1</td>\n",
       "      <td>1</td>\n",
       "      <td>1.0</td>\n",
       "      <td>1</td>\n",
       "      <td>3</td>\n",
       "      <td>1</td>\n",
       "    </tr>\n",
       "    <tr>\n",
       "      <th>521</th>\n",
       "      <td>1</td>\n",
       "      <td>5</td>\n",
       "      <td>1</td>\n",
       "      <td>5</td>\n",
       "      <td>1.0</td>\n",
       "      <td>1</td>\n",
       "      <td>4</td>\n",
       "      <td>1</td>\n",
       "    </tr>\n",
       "    <tr>\n",
       "      <th>1156</th>\n",
       "      <td>1</td>\n",
       "      <td>5</td>\n",
       "      <td>1</td>\n",
       "      <td>5</td>\n",
       "      <td>1.0</td>\n",
       "      <td>1</td>\n",
       "      <td>5</td>\n",
       "      <td>1</td>\n",
       "    </tr>\n",
       "    <tr>\n",
       "      <th>1496</th>\n",
       "      <td>1</td>\n",
       "      <td>5</td>\n",
       "      <td>1</td>\n",
       "      <td>5</td>\n",
       "      <td>1.0</td>\n",
       "      <td>5</td>\n",
       "      <td>4</td>\n",
       "      <td>1</td>\n",
       "    </tr>\n",
       "    <tr>\n",
       "      <th>1861</th>\n",
       "      <td>5</td>\n",
       "      <td>1</td>\n",
       "      <td>1</td>\n",
       "      <td>5</td>\n",
       "      <td>1.0</td>\n",
       "      <td>5</td>\n",
       "      <td>4</td>\n",
       "      <td>1</td>\n",
       "    </tr>\n",
       "  </tbody>\n",
       "</table>\n",
       "</div>"
      ],
      "text/plain": [
       "      baseline_pred  lstm_pred  bidir_pred  ova_pred  final_pred  \\\n",
       "221               5          5           1         1         1.0   \n",
       "521               1          5           1         5         1.0   \n",
       "1156              1          5           1         5         1.0   \n",
       "1496              1          5           1         5         1.0   \n",
       "1861              5          1           1         5         1.0   \n",
       "\n",
       "      actual_value  boosted_pred  custom_vote_value  \n",
       "221              1             3                  1  \n",
       "521              1             4                  1  \n",
       "1156             1             5                  1  \n",
       "1496             5             4                  1  \n",
       "1861             5             4                  1  "
      ]
     },
     "execution_count": 302,
     "metadata": {},
     "output_type": "execute_result"
    }
   ],
   "source": [
    "# (1, 5)\n",
    "one_and_five_ties = true_preds[true_preds[['baseline_pred', 'lstm_pred', 'bidir_pred', 'ova_pred']].apply(detect_and_return, axis=1) == set([1,5])]\n",
    "\n",
    "baseline_score = np.count_nonzero(one_and_five_ties['baseline_pred'] == one_and_five_ties['actual_value']) / len(one_and_five_ties)\n",
    "lstm_score = np.count_nonzero(one_and_five_ties['lstm_pred'] == one_and_five_ties['actual_value']) / len(one_and_five_ties)\n",
    "bidir_score = np.count_nonzero(one_and_five_ties['bidir_pred'] == one_and_five_ties['actual_value']) / len(one_and_five_ties)\n",
    "ova_score = np.count_nonzero(one_and_five_ties['ova_pred'] == one_and_five_ties['actual_value']) / len(one_and_five_ties)\n",
    "\n",
    "print(baseline_score, lstm_score, bidir_score, ova_score)\n",
    "one_and_five_ties.head()"
   ]
  },
  {
   "cell_type": "code",
   "execution_count": 305,
   "metadata": {},
   "outputs": [
    {
     "name": "stdout",
     "output_type": "stream",
     "text": [
      "0.4449275362318841 0.45362318840579713 0.47246376811594204 0.4753623188405797\n"
     ]
    },
    {
     "data": {
      "text/html": [
       "<div>\n",
       "<style scoped>\n",
       "    .dataframe tbody tr th:only-of-type {\n",
       "        vertical-align: middle;\n",
       "    }\n",
       "\n",
       "    .dataframe tbody tr th {\n",
       "        vertical-align: top;\n",
       "    }\n",
       "\n",
       "    .dataframe thead th {\n",
       "        text-align: right;\n",
       "    }\n",
       "</style>\n",
       "<table border=\"1\" class=\"dataframe\">\n",
       "  <thead>\n",
       "    <tr style=\"text-align: right;\">\n",
       "      <th></th>\n",
       "      <th>baseline_pred</th>\n",
       "      <th>lstm_pred</th>\n",
       "      <th>bidir_pred</th>\n",
       "      <th>ova_pred</th>\n",
       "      <th>final_pred</th>\n",
       "      <th>actual_value</th>\n",
       "      <th>boosted_pred</th>\n",
       "      <th>custom_vote_value</th>\n",
       "    </tr>\n",
       "  </thead>\n",
       "  <tbody>\n",
       "    <tr>\n",
       "      <th>217</th>\n",
       "      <td>3</td>\n",
       "      <td>4</td>\n",
       "      <td>4</td>\n",
       "      <td>3</td>\n",
       "      <td>3.0</td>\n",
       "      <td>3</td>\n",
       "      <td>4</td>\n",
       "      <td>3</td>\n",
       "    </tr>\n",
       "    <tr>\n",
       "      <th>384</th>\n",
       "      <td>3</td>\n",
       "      <td>4</td>\n",
       "      <td>4</td>\n",
       "      <td>3</td>\n",
       "      <td>3.0</td>\n",
       "      <td>4</td>\n",
       "      <td>4</td>\n",
       "      <td>3</td>\n",
       "    </tr>\n",
       "    <tr>\n",
       "      <th>438</th>\n",
       "      <td>3</td>\n",
       "      <td>4</td>\n",
       "      <td>4</td>\n",
       "      <td>3</td>\n",
       "      <td>3.0</td>\n",
       "      <td>3</td>\n",
       "      <td>4</td>\n",
       "      <td>3</td>\n",
       "    </tr>\n",
       "    <tr>\n",
       "      <th>613</th>\n",
       "      <td>4</td>\n",
       "      <td>4</td>\n",
       "      <td>3</td>\n",
       "      <td>3</td>\n",
       "      <td>3.0</td>\n",
       "      <td>4</td>\n",
       "      <td>4</td>\n",
       "      <td>3</td>\n",
       "    </tr>\n",
       "    <tr>\n",
       "      <th>721</th>\n",
       "      <td>3</td>\n",
       "      <td>4</td>\n",
       "      <td>4</td>\n",
       "      <td>3</td>\n",
       "      <td>3.0</td>\n",
       "      <td>3</td>\n",
       "      <td>3</td>\n",
       "      <td>3</td>\n",
       "    </tr>\n",
       "  </tbody>\n",
       "</table>\n",
       "</div>"
      ],
      "text/plain": [
       "     baseline_pred  lstm_pred  bidir_pred  ova_pred  final_pred  actual_value  \\\n",
       "217              3          4           4         3         3.0             3   \n",
       "384              3          4           4         3         3.0             4   \n",
       "438              3          4           4         3         3.0             3   \n",
       "613              4          4           3         3         3.0             4   \n",
       "721              3          4           4         3         3.0             3   \n",
       "\n",
       "     boosted_pred  custom_vote_value  \n",
       "217             4                  3  \n",
       "384             4                  3  \n",
       "438             4                  3  \n",
       "613             4                  3  \n",
       "721             3                  3  "
      ]
     },
     "execution_count": 305,
     "metadata": {},
     "output_type": "execute_result"
    }
   ],
   "source": [
    "# (3, 4)\n",
    "three_and_four_ties = true_preds[true_preds[['baseline_pred', 'lstm_pred', 'bidir_pred', 'ova_pred']].apply(detect_and_return, axis=1) == set([3,4])]\n",
    "\n",
    "baseline_score = np.count_nonzero(three_and_four_ties['baseline_pred'] == three_and_four_ties['actual_value']) / len(three_and_four_ties)\n",
    "lstm_score = np.count_nonzero(three_and_four_ties['lstm_pred'] == three_and_four_ties['actual_value']) / len(three_and_four_ties)\n",
    "bidir_score = np.count_nonzero(three_and_four_ties['bidir_pred'] == three_and_four_ties['actual_value']) / len(three_and_four_ties)\n",
    "ova_score = np.count_nonzero(three_and_four_ties['ova_pred'] == three_and_four_ties['actual_value']) / len(three_and_four_ties)\n",
    "\n",
    "print(baseline_score, lstm_score, bidir_score, ova_score)\n",
    "three_and_four_ties.head()"
   ]
  },
  {
   "cell_type": "code",
   "execution_count": 306,
   "metadata": {},
   "outputs": [],
   "source": [
    "# What happens if we create a tiebreaker function?\n",
    "def vote(x):\n",
    "    if not detect_tie(x):\n",
    "        return x.mode()[0]\n",
    "    elif set(x) == set([4, 5]):\n",
    "        return x['bidir_pred']\n",
    "    elif set(x) == set([1, 2]):\n",
    "        return x['lstm_pred']\n",
    "    elif set(x) == set([2, 3]):\n",
    "        return x['lstm_pred']\n",
    "    elif set(x) == set([1, 5]):\n",
    "        return x['bidir_pred']\n",
    "    elif set(x) == set([3, 4]):\n",
    "        return x['ova_pred']\n",
    "    else:\n",
    "        return x.mode()[0]\n",
    "        \n",
    "        \n",
    "true_preds['custom_vote_value'] = true_preds[['baseline_pred', 'lstm_pred', 'bidir_pred', 'ova_pred']].apply(vote, axis=1)"
   ]
  },
  {
   "cell_type": "code",
   "execution_count": 307,
   "metadata": {},
   "outputs": [
    {
     "data": {
      "text/html": [
       "<div>\n",
       "<style scoped>\n",
       "    .dataframe tbody tr th:only-of-type {\n",
       "        vertical-align: middle;\n",
       "    }\n",
       "\n",
       "    .dataframe tbody tr th {\n",
       "        vertical-align: top;\n",
       "    }\n",
       "\n",
       "    .dataframe thead th {\n",
       "        text-align: right;\n",
       "    }\n",
       "</style>\n",
       "<table border=\"1\" class=\"dataframe\">\n",
       "  <thead>\n",
       "    <tr style=\"text-align: right;\">\n",
       "      <th></th>\n",
       "      <th>baseline_pred</th>\n",
       "      <th>lstm_pred</th>\n",
       "      <th>bidir_pred</th>\n",
       "      <th>ova_pred</th>\n",
       "      <th>final_pred</th>\n",
       "      <th>actual_value</th>\n",
       "      <th>boosted_pred</th>\n",
       "      <th>custom_vote_value</th>\n",
       "    </tr>\n",
       "  </thead>\n",
       "  <tbody>\n",
       "    <tr>\n",
       "      <th>40</th>\n",
       "      <td>2</td>\n",
       "      <td>3</td>\n",
       "      <td>2</td>\n",
       "      <td>3</td>\n",
       "      <td>2.0</td>\n",
       "      <td>3</td>\n",
       "      <td>3</td>\n",
       "      <td>3</td>\n",
       "    </tr>\n",
       "    <tr>\n",
       "      <th>64</th>\n",
       "      <td>4</td>\n",
       "      <td>5</td>\n",
       "      <td>4</td>\n",
       "      <td>5</td>\n",
       "      <td>4.0</td>\n",
       "      <td>5</td>\n",
       "      <td>5</td>\n",
       "      <td>4</td>\n",
       "    </tr>\n",
       "    <tr>\n",
       "      <th>66</th>\n",
       "      <td>4</td>\n",
       "      <td>5</td>\n",
       "      <td>4</td>\n",
       "      <td>5</td>\n",
       "      <td>4.0</td>\n",
       "      <td>5</td>\n",
       "      <td>4</td>\n",
       "      <td>4</td>\n",
       "    </tr>\n",
       "    <tr>\n",
       "      <th>73</th>\n",
       "      <td>4</td>\n",
       "      <td>4</td>\n",
       "      <td>5</td>\n",
       "      <td>5</td>\n",
       "      <td>4.0</td>\n",
       "      <td>5</td>\n",
       "      <td>4</td>\n",
       "      <td>5</td>\n",
       "    </tr>\n",
       "    <tr>\n",
       "      <th>136</th>\n",
       "      <td>5</td>\n",
       "      <td>4</td>\n",
       "      <td>4</td>\n",
       "      <td>5</td>\n",
       "      <td>4.0</td>\n",
       "      <td>5</td>\n",
       "      <td>3</td>\n",
       "      <td>4</td>\n",
       "    </tr>\n",
       "    <tr>\n",
       "      <th>...</th>\n",
       "      <td>...</td>\n",
       "      <td>...</td>\n",
       "      <td>...</td>\n",
       "      <td>...</td>\n",
       "      <td>...</td>\n",
       "      <td>...</td>\n",
       "      <td>...</td>\n",
       "      <td>...</td>\n",
       "    </tr>\n",
       "    <tr>\n",
       "      <th>159965</th>\n",
       "      <td>5</td>\n",
       "      <td>4</td>\n",
       "      <td>4</td>\n",
       "      <td>5</td>\n",
       "      <td>4.0</td>\n",
       "      <td>5</td>\n",
       "      <td>4</td>\n",
       "      <td>4</td>\n",
       "    </tr>\n",
       "    <tr>\n",
       "      <th>159987</th>\n",
       "      <td>5</td>\n",
       "      <td>4</td>\n",
       "      <td>4</td>\n",
       "      <td>5</td>\n",
       "      <td>4.0</td>\n",
       "      <td>5</td>\n",
       "      <td>5</td>\n",
       "      <td>4</td>\n",
       "    </tr>\n",
       "    <tr>\n",
       "      <th>160047</th>\n",
       "      <td>4</td>\n",
       "      <td>5</td>\n",
       "      <td>4</td>\n",
       "      <td>5</td>\n",
       "      <td>4.0</td>\n",
       "      <td>5</td>\n",
       "      <td>4</td>\n",
       "      <td>4</td>\n",
       "    </tr>\n",
       "    <tr>\n",
       "      <th>160067</th>\n",
       "      <td>3</td>\n",
       "      <td>2</td>\n",
       "      <td>3</td>\n",
       "      <td>2</td>\n",
       "      <td>2.0</td>\n",
       "      <td>3</td>\n",
       "      <td>3</td>\n",
       "      <td>2</td>\n",
       "    </tr>\n",
       "    <tr>\n",
       "      <th>160068</th>\n",
       "      <td>4</td>\n",
       "      <td>4</td>\n",
       "      <td>5</td>\n",
       "      <td>5</td>\n",
       "      <td>4.0</td>\n",
       "      <td>5</td>\n",
       "      <td>4</td>\n",
       "      <td>5</td>\n",
       "    </tr>\n",
       "  </tbody>\n",
       "</table>\n",
       "<p>4834 rows × 8 columns</p>\n",
       "</div>"
      ],
      "text/plain": [
       "        baseline_pred  lstm_pred  bidir_pred  ova_pred  final_pred  \\\n",
       "40                  2          3           2         3         2.0   \n",
       "64                  4          5           4         5         4.0   \n",
       "66                  4          5           4         5         4.0   \n",
       "73                  4          4           5         5         4.0   \n",
       "136                 5          4           4         5         4.0   \n",
       "...               ...        ...         ...       ...         ...   \n",
       "159965              5          4           4         5         4.0   \n",
       "159987              5          4           4         5         4.0   \n",
       "160047              4          5           4         5         4.0   \n",
       "160067              3          2           3         2         2.0   \n",
       "160068              4          4           5         5         4.0   \n",
       "\n",
       "        actual_value  boosted_pred  custom_vote_value  \n",
       "40                 3             3                  3  \n",
       "64                 5             5                  4  \n",
       "66                 5             4                  4  \n",
       "73                 5             4                  5  \n",
       "136                5             3                  4  \n",
       "...              ...           ...                ...  \n",
       "159965             5             4                  4  \n",
       "159987             5             5                  4  \n",
       "160047             5             4                  4  \n",
       "160067             3             3                  2  \n",
       "160068             5             4                  5  \n",
       "\n",
       "[4834 rows x 8 columns]"
      ]
     },
     "execution_count": 307,
     "metadata": {},
     "output_type": "execute_result"
    }
   ],
   "source": [
    "true_preds.iloc[ties.index]"
   ]
  },
  {
   "cell_type": "code",
   "execution_count": 308,
   "metadata": {},
   "outputs": [
    {
     "name": "stdout",
     "output_type": "stream",
     "text": [
      "[0.2817304388567859, 0.7834452600343589]\n"
     ]
    }
   ],
   "source": [
    "print([MAE(true_preds[\"custom_vote_value\"], pd.DataFrame(data=y_test, columns=cols).idxmax(axis=1)), Accuracy(true_preds[\"custom_vote_value\"], pd.DataFrame(data=y_test, columns=cols).idxmax(axis=1))])"
   ]
  },
  {
   "cell_type": "markdown",
   "metadata": {},
   "source": [
    "### Boosted LSTM"
   ]
  },
  {
   "cell_type": "code",
   "execution_count": 17,
   "metadata": {},
   "outputs": [
    {
     "data": {
      "text/html": [
       "<div>\n",
       "<style scoped>\n",
       "    .dataframe tbody tr th:only-of-type {\n",
       "        vertical-align: middle;\n",
       "    }\n",
       "\n",
       "    .dataframe tbody tr th {\n",
       "        vertical-align: top;\n",
       "    }\n",
       "\n",
       "    .dataframe thead th {\n",
       "        text-align: right;\n",
       "    }\n",
       "</style>\n",
       "<table border=\"1\" class=\"dataframe\">\n",
       "  <thead>\n",
       "    <tr style=\"text-align: right;\">\n",
       "      <th></th>\n",
       "      <th>text</th>\n",
       "    </tr>\n",
       "  </thead>\n",
       "  <tbody>\n",
       "    <tr>\n",
       "      <th>6</th>\n",
       "      <td>the food in thi restaur is excel the onli thin...</td>\n",
       "    </tr>\n",
       "    <tr>\n",
       "      <th>14</th>\n",
       "      <td>terribl technic and custom servic i download a...</td>\n",
       "    </tr>\n",
       "    <tr>\n",
       "      <th>22</th>\n",
       "      <td>eric did a great job captur 4 kid under 8 not ...</td>\n",
       "    </tr>\n",
       "    <tr>\n",
       "      <th>24</th>\n",
       "      <td>gould staf locat in north scottsdal off the 10...</td>\n",
       "    </tr>\n",
       "    <tr>\n",
       "      <th>26</th>\n",
       "      <td>tri the 18 burger and 10 beer tax includ befor...</td>\n",
       "    </tr>\n",
       "    <tr>\n",
       "      <th>...</th>\n",
       "      <td>...</td>\n",
       "    </tr>\n",
       "    <tr>\n",
       "      <th>160063</th>\n",
       "      <td>i m go to give thi an ok caus i dont know what...</td>\n",
       "    </tr>\n",
       "    <tr>\n",
       "      <th>160067</th>\n",
       "      <td>kind of underwhelm went with my wife after din...</td>\n",
       "    </tr>\n",
       "    <tr>\n",
       "      <th>160068</th>\n",
       "      <td>love their cold brew ad sf cinnamon dolc syrup...</td>\n",
       "    </tr>\n",
       "    <tr>\n",
       "      <th>160073</th>\n",
       "      <td>veri friendli and effici i call the day befor ...</td>\n",
       "    </tr>\n",
       "    <tr>\n",
       "      <th>160074</th>\n",
       "      <td>if your in the area or are go to be in the are...</td>\n",
       "    </tr>\n",
       "  </tbody>\n",
       "</table>\n",
       "<p>34703 rows × 1 columns</p>\n",
       "</div>"
      ],
      "text/plain": [
       "                                                     text\n",
       "6       the food in thi restaur is excel the onli thin...\n",
       "14      terribl technic and custom servic i download a...\n",
       "22      eric did a great job captur 4 kid under 8 not ...\n",
       "24      gould staf locat in north scottsdal off the 10...\n",
       "26      tri the 18 burger and 10 beer tax includ befor...\n",
       "...                                                   ...\n",
       "160063  i m go to give thi an ok caus i dont know what...\n",
       "160067  kind of underwhelm went with my wife after din...\n",
       "160068  love their cold brew ad sf cinnamon dolc syrup...\n",
       "160073  veri friendli and effici i call the day befor ...\n",
       "160074  if your in the area or are go to be in the are...\n",
       "\n",
       "[34703 rows x 1 columns]"
      ]
     },
     "execution_count": 17,
     "metadata": {},
     "output_type": "execute_result"
    }
   ],
   "source": [
    "incorrect_text = pd.DataFrame(X_test, columns=['text'])\n",
    "incorrect_text.iloc[incorrect_preds.index]"
   ]
  },
  {
   "cell_type": "code",
   "execution_count": 18,
   "metadata": {},
   "outputs": [
    {
     "data": {
      "text/plain": [
       "6         the food in thi restaur is excel the onli thin...\n",
       "14        terribl technic and custom servic i download a...\n",
       "22        eric did a great job captur 4 kid under 8 not ...\n",
       "24        gould staf locat in north scottsdal off the 10...\n",
       "26        tri the 18 burger and 10 beer tax includ befor...\n",
       "                                ...                        \n",
       "160063    i m go to give thi an ok caus i dont know what...\n",
       "160067    kind of underwhelm went with my wife after din...\n",
       "160068    love their cold brew ad sf cinnamon dolc syrup...\n",
       "160073    veri friendli and effici i call the day befor ...\n",
       "160074    if your in the area or are go to be in the are...\n",
       "Name: text, Length: 34703, dtype: object"
      ]
     },
     "execution_count": 18,
     "metadata": {},
     "output_type": "execute_result"
    }
   ],
   "source": [
    "X_test_boosted = incorrect_text.iloc[incorrect_preds.index, 0]\n",
    "X_test_boosted"
   ]
  },
  {
   "cell_type": "code",
   "execution_count": 19,
   "metadata": {},
   "outputs": [
    {
     "data": {
      "text/html": [
       "<div>\n",
       "<style scoped>\n",
       "    .dataframe tbody tr th:only-of-type {\n",
       "        vertical-align: middle;\n",
       "    }\n",
       "\n",
       "    .dataframe tbody tr th {\n",
       "        vertical-align: top;\n",
       "    }\n",
       "\n",
       "    .dataframe thead th {\n",
       "        text-align: right;\n",
       "    }\n",
       "</style>\n",
       "<table border=\"1\" class=\"dataframe\">\n",
       "  <thead>\n",
       "    <tr style=\"text-align: right;\">\n",
       "      <th></th>\n",
       "      <th>0</th>\n",
       "      <th>1</th>\n",
       "      <th>2</th>\n",
       "      <th>3</th>\n",
       "      <th>4</th>\n",
       "    </tr>\n",
       "  </thead>\n",
       "  <tbody>\n",
       "    <tr>\n",
       "      <th>6</th>\n",
       "      <td>0</td>\n",
       "      <td>0</td>\n",
       "      <td>1</td>\n",
       "      <td>0</td>\n",
       "      <td>0</td>\n",
       "    </tr>\n",
       "    <tr>\n",
       "      <th>14</th>\n",
       "      <td>0</td>\n",
       "      <td>0</td>\n",
       "      <td>1</td>\n",
       "      <td>0</td>\n",
       "      <td>0</td>\n",
       "    </tr>\n",
       "    <tr>\n",
       "      <th>22</th>\n",
       "      <td>0</td>\n",
       "      <td>0</td>\n",
       "      <td>0</td>\n",
       "      <td>1</td>\n",
       "      <td>0</td>\n",
       "    </tr>\n",
       "    <tr>\n",
       "      <th>24</th>\n",
       "      <td>0</td>\n",
       "      <td>0</td>\n",
       "      <td>1</td>\n",
       "      <td>0</td>\n",
       "      <td>0</td>\n",
       "    </tr>\n",
       "    <tr>\n",
       "      <th>26</th>\n",
       "      <td>0</td>\n",
       "      <td>1</td>\n",
       "      <td>0</td>\n",
       "      <td>0</td>\n",
       "      <td>0</td>\n",
       "    </tr>\n",
       "    <tr>\n",
       "      <th>...</th>\n",
       "      <td>...</td>\n",
       "      <td>...</td>\n",
       "      <td>...</td>\n",
       "      <td>...</td>\n",
       "      <td>...</td>\n",
       "    </tr>\n",
       "    <tr>\n",
       "      <th>160063</th>\n",
       "      <td>0</td>\n",
       "      <td>0</td>\n",
       "      <td>1</td>\n",
       "      <td>0</td>\n",
       "      <td>0</td>\n",
       "    </tr>\n",
       "    <tr>\n",
       "      <th>160067</th>\n",
       "      <td>0</td>\n",
       "      <td>0</td>\n",
       "      <td>1</td>\n",
       "      <td>0</td>\n",
       "      <td>0</td>\n",
       "    </tr>\n",
       "    <tr>\n",
       "      <th>160068</th>\n",
       "      <td>0</td>\n",
       "      <td>0</td>\n",
       "      <td>0</td>\n",
       "      <td>0</td>\n",
       "      <td>1</td>\n",
       "    </tr>\n",
       "    <tr>\n",
       "      <th>160073</th>\n",
       "      <td>0</td>\n",
       "      <td>0</td>\n",
       "      <td>1</td>\n",
       "      <td>0</td>\n",
       "      <td>0</td>\n",
       "    </tr>\n",
       "    <tr>\n",
       "      <th>160074</th>\n",
       "      <td>0</td>\n",
       "      <td>0</td>\n",
       "      <td>0</td>\n",
       "      <td>1</td>\n",
       "      <td>0</td>\n",
       "    </tr>\n",
       "  </tbody>\n",
       "</table>\n",
       "<p>34703 rows × 5 columns</p>\n",
       "</div>"
      ],
      "text/plain": [
       "        0  1  2  3  4\n",
       "6       0  0  1  0  0\n",
       "14      0  0  1  0  0\n",
       "22      0  0  0  1  0\n",
       "24      0  0  1  0  0\n",
       "26      0  1  0  0  0\n",
       "...    .. .. .. .. ..\n",
       "160063  0  0  1  0  0\n",
       "160067  0  0  1  0  0\n",
       "160068  0  0  0  0  1\n",
       "160073  0  0  1  0  0\n",
       "160074  0  0  0  1  0\n",
       "\n",
       "[34703 rows x 5 columns]"
      ]
     },
     "execution_count": 19,
     "metadata": {},
     "output_type": "execute_result"
    }
   ],
   "source": [
    "incorrect_labels = pd.DataFrame(y_test).iloc[incorrect_preds.index]\n",
    "incorrect_labels"
   ]
  },
  {
   "cell_type": "code",
   "execution_count": 20,
   "metadata": {},
   "outputs": [
    {
     "data": {
      "text/plain": [
       "array([[0, 0, 1, 0, 0],\n",
       "       [0, 0, 1, 0, 0],\n",
       "       [0, 0, 0, 1, 0],\n",
       "       ...,\n",
       "       [0, 0, 0, 0, 1],\n",
       "       [0, 0, 1, 0, 0],\n",
       "       [0, 0, 0, 1, 0]], dtype=uint8)"
      ]
     },
     "execution_count": 20,
     "metadata": {},
     "output_type": "execute_result"
    }
   ],
   "source": [
    "y_test_boosted = incorrect_labels.values\n",
    "y_test_boosted"
   ]
  },
  {
   "cell_type": "code",
   "execution_count": 21,
   "metadata": {},
   "outputs": [
    {
     "name": "stdout",
     "output_type": "stream",
     "text": [
      "(27762,) (27762, 5)\n",
      "(6941,) (6941, 5)\n"
     ]
    }
   ],
   "source": [
    "X_train, X_test, y_train, y_test = train_test_split(X_test_boosted, y_test_boosted, test_size=0.2, random_state=42)\n",
    "print(X_train.shape, y_train.shape)\n",
    "print(X_test.shape, y_test.shape)\n",
    "\n",
    "max_words = 5000\n",
    "maxlen = 500\n",
    "\n",
    "X_train = tokenizer.texts_to_sequences(X_train)\n",
    "X_test = tokenizer.texts_to_sequences(X_test)\n",
    "\n",
    "# For the LSTM, we are going to pad our sequences\n",
    "X_train = pad_sequences(X_train, maxlen=maxlen)\n",
    "X_test = pad_sequences(X_test, maxlen=maxlen)"
   ]
  },
  {
   "cell_type": "code",
   "execution_count": 23,
   "metadata": {},
   "outputs": [
    {
     "name": "stdout",
     "output_type": "stream",
     "text": [
      "Train on 22209 samples, validate on 5553 samples\n",
      "Epoch 1/4\n",
      "22209/22209 [==============================] - 35s 2ms/step - loss: 1.7338 - accuracy: 0.4295 - mean_absolute_error: 0.3349 - val_loss: 1.7217 - val_accuracy: 0.3675 - val_mean_absolute_error: 0.2362\n",
      "Epoch 2/4\n",
      "22209/22209 [==============================] - 30s 1ms/step - loss: 1.3866 - accuracy: 0.5291 - mean_absolute_error: 0.1986 - val_loss: 1.5986 - val_accuracy: 0.3920 - val_mean_absolute_error: 0.2091\n",
      "Epoch 3/4\n",
      "22209/22209 [==============================] - 22s 996us/step - loss: 1.2408 - accuracy: 0.5879 - mean_absolute_error: 0.1857 - val_loss: 1.5287 - val_accuracy: 0.4421 - val_mean_absolute_error: 0.2038\n",
      "Epoch 4/4\n",
      "22209/22209 [==============================] - 23s 1ms/step - loss: 1.0664 - accuracy: 0.6661 - mean_absolute_error: 0.1720 - val_loss: 1.5888 - val_accuracy: 0.4497 - val_mean_absolute_error: 0.1989\n"
     ]
    }
   ],
   "source": [
    "batch_size = 128\n",
    "epochs = 4\n",
    "\n",
    "lr_schedule = keras.optimizers.schedules.ExponentialDecay(\n",
    "    initial_learning_rate=.001,\n",
    "    decay_steps=10000,\n",
    "    decay_rate=0.9)\n",
    "\n",
    "optimizer = keras.optimizers.Adam(learning_rate=lr_schedule, beta_1=0.9, beta_2=0.99, amsgrad=False, clipvalue=.3)\n",
    "\n",
    "boosted_lstm = Sequential()\n",
    "boosted_lstm.add(Embedding(max_words, 128, input_length=maxlen))\n",
    "boosted_lstm.add(SpatialDropout1D(0.2))\n",
    "boosted_lstm.add(Conv1D(64, 5, activation='relu', kernel_regularizer=regularizers.l1_l2(l1=1e-5, l2=1e-4),\n",
    "          bias_regularizer=regularizers.l2(1e-4)))\n",
    "boosted_lstm.add(MaxPooling1D(pool_size=4))\n",
    "boosted_lstm.add(LSTM(128, dropout=0.2, recurrent_dropout=0.2))\n",
    "boosted_lstm.add(BatchNormalization())\n",
    "boosted_lstm.add(Dense(50))\n",
    "boosted_lstm.add(Dense(5, activation='sigmoid'))\n",
    "\n",
    "boosted_lstm.compile(loss=my_custom_loss,\n",
    "              optimizer=optimizer,\n",
    "              metrics=['accuracy', 'mean_absolute_error'])\n",
    "\n",
    "history = boosted_lstm.fit(X_train, y_train,\n",
    "                    batch_size=batch_size,\n",
    "                    epochs=epochs,\n",
    "                    verbose=1,\n",
    "                    validation_split=0.2)"
   ]
  },
  {
   "cell_type": "code",
   "execution_count": 43,
   "metadata": {},
   "outputs": [
    {
     "name": "stderr",
     "output_type": "stream",
     "text": [
      "C:\\Users\\Tanner\\Anaconda3\\envs\\yelp\\lib\\site-packages\\keras\\engine\\saving.py:165: UserWarning: TensorFlow optimizers do not make it possible to access optimizer attributes or optimizer state after instantiation. As a result, we cannot save the optimizer as part of the model save file.You will have to compile your model again after loading it. Prefer using a Keras optimizer instead (see keras.io/optimizers).\n",
      "  'TensorFlow optimizers do not '\n"
     ]
    }
   ],
   "source": [
    "boosted_lstm.save(\"./models/boosted_lstm.h5\")"
   ]
  },
  {
   "cell_type": "code",
   "execution_count": 24,
   "metadata": {},
   "outputs": [
    {
     "name": "stdout",
     "output_type": "stream",
     "text": [
      "Boosted LSTM\n"
     ]
    },
    {
     "data": {
      "text/html": [
       "<div>\n",
       "<style scoped>\n",
       "    .dataframe tbody tr th:only-of-type {\n",
       "        vertical-align: middle;\n",
       "    }\n",
       "\n",
       "    .dataframe tbody tr th {\n",
       "        vertical-align: top;\n",
       "    }\n",
       "\n",
       "    .dataframe thead th {\n",
       "        text-align: right;\n",
       "    }\n",
       "</style>\n",
       "<table border=\"1\" class=\"dataframe\">\n",
       "  <thead>\n",
       "    <tr style=\"text-align: right;\">\n",
       "      <th></th>\n",
       "      <th>1</th>\n",
       "      <th>2</th>\n",
       "      <th>3</th>\n",
       "      <th>4</th>\n",
       "      <th>5</th>\n",
       "      <th>boosted_pred</th>\n",
       "    </tr>\n",
       "  </thead>\n",
       "  <tbody>\n",
       "    <tr>\n",
       "      <th>0</th>\n",
       "      <td>0.000231</td>\n",
       "      <td>0.000306</td>\n",
       "      <td>0.018174</td>\n",
       "      <td>0.554212</td>\n",
       "      <td>0.048433</td>\n",
       "      <td>4</td>\n",
       "    </tr>\n",
       "    <tr>\n",
       "      <th>1</th>\n",
       "      <td>0.006634</td>\n",
       "      <td>0.004356</td>\n",
       "      <td>0.043176</td>\n",
       "      <td>0.099527</td>\n",
       "      <td>0.012136</td>\n",
       "      <td>4</td>\n",
       "    </tr>\n",
       "    <tr>\n",
       "      <th>2</th>\n",
       "      <td>0.002725</td>\n",
       "      <td>0.002462</td>\n",
       "      <td>0.021757</td>\n",
       "      <td>0.530631</td>\n",
       "      <td>0.034182</td>\n",
       "      <td>4</td>\n",
       "    </tr>\n",
       "    <tr>\n",
       "      <th>3</th>\n",
       "      <td>0.000248</td>\n",
       "      <td>0.000885</td>\n",
       "      <td>0.025921</td>\n",
       "      <td>0.721028</td>\n",
       "      <td>0.034878</td>\n",
       "      <td>4</td>\n",
       "    </tr>\n",
       "    <tr>\n",
       "      <th>4</th>\n",
       "      <td>0.003396</td>\n",
       "      <td>0.002742</td>\n",
       "      <td>0.040774</td>\n",
       "      <td>0.209530</td>\n",
       "      <td>0.050454</td>\n",
       "      <td>4</td>\n",
       "    </tr>\n",
       "    <tr>\n",
       "      <th>...</th>\n",
       "      <td>...</td>\n",
       "      <td>...</td>\n",
       "      <td>...</td>\n",
       "      <td>...</td>\n",
       "      <td>...</td>\n",
       "      <td>...</td>\n",
       "    </tr>\n",
       "    <tr>\n",
       "      <th>160070</th>\n",
       "      <td>0.000626</td>\n",
       "      <td>0.000840</td>\n",
       "      <td>0.011876</td>\n",
       "      <td>0.697889</td>\n",
       "      <td>0.013636</td>\n",
       "      <td>4</td>\n",
       "    </tr>\n",
       "    <tr>\n",
       "      <th>160071</th>\n",
       "      <td>0.000340</td>\n",
       "      <td>0.000090</td>\n",
       "      <td>0.030107</td>\n",
       "      <td>0.961066</td>\n",
       "      <td>0.001054</td>\n",
       "      <td>4</td>\n",
       "    </tr>\n",
       "    <tr>\n",
       "      <th>160072</th>\n",
       "      <td>0.013922</td>\n",
       "      <td>0.402921</td>\n",
       "      <td>0.143478</td>\n",
       "      <td>0.005673</td>\n",
       "      <td>0.000570</td>\n",
       "      <td>2</td>\n",
       "    </tr>\n",
       "    <tr>\n",
       "      <th>160073</th>\n",
       "      <td>0.002068</td>\n",
       "      <td>0.002220</td>\n",
       "      <td>0.027922</td>\n",
       "      <td>0.154341</td>\n",
       "      <td>0.049029</td>\n",
       "      <td>4</td>\n",
       "    </tr>\n",
       "    <tr>\n",
       "      <th>160074</th>\n",
       "      <td>0.001212</td>\n",
       "      <td>0.001198</td>\n",
       "      <td>0.047909</td>\n",
       "      <td>0.175058</td>\n",
       "      <td>0.023848</td>\n",
       "      <td>4</td>\n",
       "    </tr>\n",
       "  </tbody>\n",
       "</table>\n",
       "<p>160075 rows × 6 columns</p>\n",
       "</div>"
      ],
      "text/plain": [
       "               1         2         3         4         5  boosted_pred\n",
       "0       0.000231  0.000306  0.018174  0.554212  0.048433             4\n",
       "1       0.006634  0.004356  0.043176  0.099527  0.012136             4\n",
       "2       0.002725  0.002462  0.021757  0.530631  0.034182             4\n",
       "3       0.000248  0.000885  0.025921  0.721028  0.034878             4\n",
       "4       0.003396  0.002742  0.040774  0.209530  0.050454             4\n",
       "...          ...       ...       ...       ...       ...           ...\n",
       "160070  0.000626  0.000840  0.011876  0.697889  0.013636             4\n",
       "160071  0.000340  0.000090  0.030107  0.961066  0.001054             4\n",
       "160072  0.013922  0.402921  0.143478  0.005673  0.000570             2\n",
       "160073  0.002068  0.002220  0.027922  0.154341  0.049029             4\n",
       "160074  0.001212  0.001198  0.047909  0.175058  0.023848             4\n",
       "\n",
       "[160075 rows x 6 columns]"
      ]
     },
     "execution_count": 24,
     "metadata": {},
     "output_type": "execute_result"
    }
   ],
   "source": [
    "print(\"Boosted LSTM\")\n",
    "boosted_preds = pd.DataFrame(boosted_lstm.predict(X_lstm), columns=cols)\n",
    "boosted_preds['boosted_pred'] = boosted_preds.idxmax(axis=1)\n",
    "boosted_preds"
   ]
  },
  {
   "cell_type": "code",
   "execution_count": 344,
   "metadata": {},
   "outputs": [
    {
     "name": "stdout",
     "output_type": "stream",
     "text": [
      "160075/160075 [==============================] - 109s 679us/step\n"
     ]
    },
    {
     "data": {
      "text/plain": [
       "[2.707010384560674, 0.1980009377002716, 0.252422571182251]"
      ]
     },
     "execution_count": 344,
     "metadata": {},
     "output_type": "execute_result"
    }
   ],
   "source": [
    "boosted_lstm.evaluate(X_lstm, y_test)"
   ]
  },
  {
   "cell_type": "markdown",
   "metadata": {},
   "source": [
    "### New Ensemble with Boosted Model"
   ]
  },
  {
   "cell_type": "code",
   "execution_count": 26,
   "metadata": {},
   "outputs": [
    {
     "data": {
      "text/html": [
       "<div>\n",
       "<style scoped>\n",
       "    .dataframe tbody tr th:only-of-type {\n",
       "        vertical-align: middle;\n",
       "    }\n",
       "\n",
       "    .dataframe tbody tr th {\n",
       "        vertical-align: top;\n",
       "    }\n",
       "\n",
       "    .dataframe thead th {\n",
       "        text-align: right;\n",
       "    }\n",
       "</style>\n",
       "<table border=\"1\" class=\"dataframe\">\n",
       "  <thead>\n",
       "    <tr style=\"text-align: right;\">\n",
       "      <th></th>\n",
       "      <th>baseline_pred</th>\n",
       "      <th>lstm_pred</th>\n",
       "      <th>bidir_pred</th>\n",
       "      <th>ova_pred</th>\n",
       "      <th>final_pred</th>\n",
       "      <th>actual_value</th>\n",
       "      <th>boosted_pred</th>\n",
       "    </tr>\n",
       "  </thead>\n",
       "  <tbody>\n",
       "    <tr>\n",
       "      <th>0</th>\n",
       "      <td>4</td>\n",
       "      <td>5</td>\n",
       "      <td>5</td>\n",
       "      <td>5</td>\n",
       "      <td>5.0</td>\n",
       "      <td>5</td>\n",
       "      <td>4</td>\n",
       "    </tr>\n",
       "    <tr>\n",
       "      <th>1</th>\n",
       "      <td>5</td>\n",
       "      <td>5</td>\n",
       "      <td>4</td>\n",
       "      <td>2</td>\n",
       "      <td>5.0</td>\n",
       "      <td>5</td>\n",
       "      <td>4</td>\n",
       "    </tr>\n",
       "    <tr>\n",
       "      <th>2</th>\n",
       "      <td>5</td>\n",
       "      <td>5</td>\n",
       "      <td>5</td>\n",
       "      <td>5</td>\n",
       "      <td>5.0</td>\n",
       "      <td>5</td>\n",
       "      <td>4</td>\n",
       "    </tr>\n",
       "    <tr>\n",
       "      <th>3</th>\n",
       "      <td>5</td>\n",
       "      <td>5</td>\n",
       "      <td>5</td>\n",
       "      <td>5</td>\n",
       "      <td>5.0</td>\n",
       "      <td>5</td>\n",
       "      <td>4</td>\n",
       "    </tr>\n",
       "    <tr>\n",
       "      <th>4</th>\n",
       "      <td>4</td>\n",
       "      <td>4</td>\n",
       "      <td>4</td>\n",
       "      <td>5</td>\n",
       "      <td>4.0</td>\n",
       "      <td>4</td>\n",
       "      <td>4</td>\n",
       "    </tr>\n",
       "  </tbody>\n",
       "</table>\n",
       "</div>"
      ],
      "text/plain": [
       "   baseline_pred  lstm_pred  bidir_pred  ova_pred  final_pred  actual_value  \\\n",
       "0              4          5           5         5         5.0             5   \n",
       "1              5          5           4         2         5.0             5   \n",
       "2              5          5           5         5         5.0             5   \n",
       "3              5          5           5         5         5.0             5   \n",
       "4              4          4           4         5         4.0             4   \n",
       "\n",
       "   boosted_pred  \n",
       "0             4  \n",
       "1             4  \n",
       "2             4  \n",
       "3             4  \n",
       "4             4  "
      ]
     },
     "execution_count": 26,
     "metadata": {},
     "output_type": "execute_result"
    }
   ],
   "source": [
    "true_preds['boosted_pred'] = boosted_preds['boosted_pred']\n",
    "true_preds.head()"
   ]
  },
  {
   "cell_type": "code",
   "execution_count": 27,
   "metadata": {},
   "outputs": [],
   "source": [
    "true_preds_with_boosted = true_preds.copy()"
   ]
  },
  {
   "cell_type": "code",
   "execution_count": 32,
   "metadata": {},
   "outputs": [
    {
     "data": {
      "text/html": [
       "<div>\n",
       "<style scoped>\n",
       "    .dataframe tbody tr th:only-of-type {\n",
       "        vertical-align: middle;\n",
       "    }\n",
       "\n",
       "    .dataframe tbody tr th {\n",
       "        vertical-align: top;\n",
       "    }\n",
       "\n",
       "    .dataframe thead th {\n",
       "        text-align: right;\n",
       "    }\n",
       "</style>\n",
       "<table border=\"1\" class=\"dataframe\">\n",
       "  <thead>\n",
       "    <tr style=\"text-align: right;\">\n",
       "      <th></th>\n",
       "      <th>baseline_pred</th>\n",
       "      <th>lstm_pred</th>\n",
       "      <th>bidir_pred</th>\n",
       "      <th>ova_pred</th>\n",
       "      <th>final_pred</th>\n",
       "      <th>actual_value</th>\n",
       "      <th>boosted_pred</th>\n",
       "    </tr>\n",
       "  </thead>\n",
       "  <tbody>\n",
       "    <tr>\n",
       "      <th>0</th>\n",
       "      <td>4</td>\n",
       "      <td>5</td>\n",
       "      <td>5</td>\n",
       "      <td>5</td>\n",
       "      <td>5.0</td>\n",
       "      <td>5</td>\n",
       "      <td>4</td>\n",
       "    </tr>\n",
       "    <tr>\n",
       "      <th>1</th>\n",
       "      <td>5</td>\n",
       "      <td>5</td>\n",
       "      <td>4</td>\n",
       "      <td>2</td>\n",
       "      <td>4.0</td>\n",
       "      <td>5</td>\n",
       "      <td>4</td>\n",
       "    </tr>\n",
       "    <tr>\n",
       "      <th>2</th>\n",
       "      <td>5</td>\n",
       "      <td>5</td>\n",
       "      <td>5</td>\n",
       "      <td>5</td>\n",
       "      <td>5.0</td>\n",
       "      <td>5</td>\n",
       "      <td>4</td>\n",
       "    </tr>\n",
       "    <tr>\n",
       "      <th>3</th>\n",
       "      <td>5</td>\n",
       "      <td>5</td>\n",
       "      <td>5</td>\n",
       "      <td>5</td>\n",
       "      <td>5.0</td>\n",
       "      <td>5</td>\n",
       "      <td>4</td>\n",
       "    </tr>\n",
       "    <tr>\n",
       "      <th>4</th>\n",
       "      <td>4</td>\n",
       "      <td>4</td>\n",
       "      <td>4</td>\n",
       "      <td>5</td>\n",
       "      <td>4.0</td>\n",
       "      <td>4</td>\n",
       "      <td>4</td>\n",
       "    </tr>\n",
       "  </tbody>\n",
       "</table>\n",
       "</div>"
      ],
      "text/plain": [
       "   baseline_pred  lstm_pred  bidir_pred  ova_pred  final_pred  actual_value  \\\n",
       "0              4          5           5         5         5.0             5   \n",
       "1              5          5           4         2         4.0             5   \n",
       "2              5          5           5         5         5.0             5   \n",
       "3              5          5           5         5         5.0             5   \n",
       "4              4          4           4         5         4.0             4   \n",
       "\n",
       "   boosted_pred  \n",
       "0             4  \n",
       "1             4  \n",
       "2             4  \n",
       "3             4  \n",
       "4             4  "
      ]
     },
     "execution_count": 32,
     "metadata": {},
     "output_type": "execute_result"
    }
   ],
   "source": [
    "true_preds_with_boosted['final_pred'] = true_preds_with_boosted[['baseline_pred', 'lstm_pred', 'bidir_pred', 'ova_pred', 'boosted_pred']].mode(axis=1)[0]\n",
    "true_preds_with_boosted.head()"
   ]
  },
  {
   "cell_type": "code",
   "execution_count": 35,
   "metadata": {},
   "outputs": [
    {
     "name": "stdout",
     "output_type": "stream",
     "text": [
      "[0.26952990785569264, 0.7906168983289084]\n"
     ]
    }
   ],
   "source": [
    "print([MAE(true_preds_with_boosted[\"final_pred\"], pd.DataFrame(data=y_test, columns=cols).idxmax(axis=1)), Accuracy(true_preds_with_boosted[\"final_pred\"], pd.DataFrame(data=y_test, columns=cols).idxmax(axis=1))])"
   ]
  },
  {
   "cell_type": "markdown",
   "metadata": {},
   "source": [
    "### What happens if we give it two votes?"
   ]
  },
  {
   "cell_type": "code",
   "execution_count": 37,
   "metadata": {},
   "outputs": [
    {
     "data": {
      "text/html": [
       "<div>\n",
       "<style scoped>\n",
       "    .dataframe tbody tr th:only-of-type {\n",
       "        vertical-align: middle;\n",
       "    }\n",
       "\n",
       "    .dataframe tbody tr th {\n",
       "        vertical-align: top;\n",
       "    }\n",
       "\n",
       "    .dataframe thead th {\n",
       "        text-align: right;\n",
       "    }\n",
       "</style>\n",
       "<table border=\"1\" class=\"dataframe\">\n",
       "  <thead>\n",
       "    <tr style=\"text-align: right;\">\n",
       "      <th></th>\n",
       "      <th>baseline_pred</th>\n",
       "      <th>lstm_pred</th>\n",
       "      <th>bidir_pred</th>\n",
       "      <th>ova_pred</th>\n",
       "      <th>final_pred</th>\n",
       "      <th>actual_value</th>\n",
       "      <th>boosted_pred</th>\n",
       "      <th>final_pred_two_votes</th>\n",
       "    </tr>\n",
       "  </thead>\n",
       "  <tbody>\n",
       "    <tr>\n",
       "      <th>0</th>\n",
       "      <td>4</td>\n",
       "      <td>5</td>\n",
       "      <td>5</td>\n",
       "      <td>5</td>\n",
       "      <td>5.0</td>\n",
       "      <td>5</td>\n",
       "      <td>4</td>\n",
       "      <td>4.0</td>\n",
       "    </tr>\n",
       "    <tr>\n",
       "      <th>1</th>\n",
       "      <td>5</td>\n",
       "      <td>5</td>\n",
       "      <td>4</td>\n",
       "      <td>2</td>\n",
       "      <td>4.0</td>\n",
       "      <td>5</td>\n",
       "      <td>4</td>\n",
       "      <td>4.0</td>\n",
       "    </tr>\n",
       "    <tr>\n",
       "      <th>2</th>\n",
       "      <td>5</td>\n",
       "      <td>5</td>\n",
       "      <td>5</td>\n",
       "      <td>5</td>\n",
       "      <td>5.0</td>\n",
       "      <td>5</td>\n",
       "      <td>4</td>\n",
       "      <td>5.0</td>\n",
       "    </tr>\n",
       "    <tr>\n",
       "      <th>3</th>\n",
       "      <td>5</td>\n",
       "      <td>5</td>\n",
       "      <td>5</td>\n",
       "      <td>5</td>\n",
       "      <td>5.0</td>\n",
       "      <td>5</td>\n",
       "      <td>4</td>\n",
       "      <td>5.0</td>\n",
       "    </tr>\n",
       "    <tr>\n",
       "      <th>4</th>\n",
       "      <td>4</td>\n",
       "      <td>4</td>\n",
       "      <td>4</td>\n",
       "      <td>5</td>\n",
       "      <td>4.0</td>\n",
       "      <td>4</td>\n",
       "      <td>4</td>\n",
       "      <td>4.0</td>\n",
       "    </tr>\n",
       "  </tbody>\n",
       "</table>\n",
       "</div>"
      ],
      "text/plain": [
       "   baseline_pred  lstm_pred  bidir_pred  ova_pred  final_pred  actual_value  \\\n",
       "0              4          5           5         5         5.0             5   \n",
       "1              5          5           4         2         4.0             5   \n",
       "2              5          5           5         5         5.0             5   \n",
       "3              5          5           5         5         5.0             5   \n",
       "4              4          4           4         5         4.0             4   \n",
       "\n",
       "   boosted_pred  final_pred_two_votes  \n",
       "0             4                   4.0  \n",
       "1             4                   4.0  \n",
       "2             4                   5.0  \n",
       "3             4                   5.0  \n",
       "4             4                   4.0  "
      ]
     },
     "execution_count": 37,
     "metadata": {},
     "output_type": "execute_result"
    }
   ],
   "source": [
    "true_preds_with_boosted['final_pred_two_votes'] = true_preds_with_boosted[['baseline_pred', 'lstm_pred', 'bidir_pred', 'ova_pred', 'boosted_pred', 'boosted_pred']].mode(axis=1)[0]\n",
    "true_preds_with_boosted.head()"
   ]
  },
  {
   "cell_type": "code",
   "execution_count": 38,
   "metadata": {},
   "outputs": [
    {
     "name": "stdout",
     "output_type": "stream",
     "text": [
      "[0.26676245509917224, 0.7895923785725442]\n"
     ]
    }
   ],
   "source": [
    "print([MAE(true_preds_with_boosted[\"final_pred_two_votes\"], pd.DataFrame(data=y_test, columns=cols).idxmax(axis=1)), Accuracy(true_preds_with_boosted[\"final_pred_two_votes\"], pd.DataFrame(data=y_test, columns=cols).idxmax(axis=1))])"
   ]
  },
  {
   "cell_type": "markdown",
   "metadata": {},
   "source": [
    "### What happens if we give our best performing model two votes?\n",
    "##### In this case, the One vs. All model performed pretty well"
   ]
  },
  {
   "cell_type": "code",
   "execution_count": 118,
   "metadata": {},
   "outputs": [
    {
     "data": {
      "text/html": [
       "<div>\n",
       "<style scoped>\n",
       "    .dataframe tbody tr th:only-of-type {\n",
       "        vertical-align: middle;\n",
       "    }\n",
       "\n",
       "    .dataframe tbody tr th {\n",
       "        vertical-align: top;\n",
       "    }\n",
       "\n",
       "    .dataframe thead th {\n",
       "        text-align: right;\n",
       "    }\n",
       "</style>\n",
       "<table border=\"1\" class=\"dataframe\">\n",
       "  <thead>\n",
       "    <tr style=\"text-align: right;\">\n",
       "      <th></th>\n",
       "      <th>baseline_pred</th>\n",
       "      <th>lstm_pred</th>\n",
       "      <th>bidir_pred</th>\n",
       "      <th>ova_pred</th>\n",
       "      <th>final_pred</th>\n",
       "      <th>actual_value</th>\n",
       "      <th>boosted_pred</th>\n",
       "      <th>final_pred_two_votes</th>\n",
       "      <th>final_pred_two_votes_ova</th>\n",
       "    </tr>\n",
       "  </thead>\n",
       "  <tbody>\n",
       "    <tr>\n",
       "      <th>0</th>\n",
       "      <td>4</td>\n",
       "      <td>5</td>\n",
       "      <td>5</td>\n",
       "      <td>5</td>\n",
       "      <td>5.0</td>\n",
       "      <td>5</td>\n",
       "      <td>4</td>\n",
       "      <td>4.0</td>\n",
       "      <td>5.0</td>\n",
       "    </tr>\n",
       "    <tr>\n",
       "      <th>1</th>\n",
       "      <td>5</td>\n",
       "      <td>5</td>\n",
       "      <td>4</td>\n",
       "      <td>2</td>\n",
       "      <td>4.0</td>\n",
       "      <td>5</td>\n",
       "      <td>4</td>\n",
       "      <td>4.0</td>\n",
       "      <td>2.0</td>\n",
       "    </tr>\n",
       "    <tr>\n",
       "      <th>2</th>\n",
       "      <td>5</td>\n",
       "      <td>5</td>\n",
       "      <td>5</td>\n",
       "      <td>5</td>\n",
       "      <td>5.0</td>\n",
       "      <td>5</td>\n",
       "      <td>4</td>\n",
       "      <td>5.0</td>\n",
       "      <td>5.0</td>\n",
       "    </tr>\n",
       "    <tr>\n",
       "      <th>3</th>\n",
       "      <td>5</td>\n",
       "      <td>5</td>\n",
       "      <td>5</td>\n",
       "      <td>5</td>\n",
       "      <td>5.0</td>\n",
       "      <td>5</td>\n",
       "      <td>4</td>\n",
       "      <td>5.0</td>\n",
       "      <td>5.0</td>\n",
       "    </tr>\n",
       "    <tr>\n",
       "      <th>4</th>\n",
       "      <td>4</td>\n",
       "      <td>4</td>\n",
       "      <td>4</td>\n",
       "      <td>5</td>\n",
       "      <td>4.0</td>\n",
       "      <td>4</td>\n",
       "      <td>4</td>\n",
       "      <td>4.0</td>\n",
       "      <td>4.0</td>\n",
       "    </tr>\n",
       "  </tbody>\n",
       "</table>\n",
       "</div>"
      ],
      "text/plain": [
       "   baseline_pred  lstm_pred  bidir_pred  ova_pred  final_pred  actual_value  \\\n",
       "0              4          5           5         5         5.0             5   \n",
       "1              5          5           4         2         4.0             5   \n",
       "2              5          5           5         5         5.0             5   \n",
       "3              5          5           5         5         5.0             5   \n",
       "4              4          4           4         5         4.0             4   \n",
       "\n",
       "   boosted_pred  final_pred_two_votes  final_pred_two_votes_ova  \n",
       "0             4                   4.0                       5.0  \n",
       "1             4                   4.0                       2.0  \n",
       "2             4                   5.0                       5.0  \n",
       "3             4                   5.0                       5.0  \n",
       "4             4                   4.0                       4.0  "
      ]
     },
     "execution_count": 118,
     "metadata": {},
     "output_type": "execute_result"
    }
   ],
   "source": [
    "true_preds_with_boosted['final_pred_two_votes_ova'] = true_preds_with_boosted[['baseline_pred', 'lstm_pred', 'bidir_pred', 'ova_pred', 'boosted_pred', 'ova_pred']].mode(axis=1)[0]\n",
    "true_preds_with_boosted.head()"
   ]
  },
  {
   "cell_type": "code",
   "execution_count": 119,
   "metadata": {},
   "outputs": [
    {
     "name": "stdout",
     "output_type": "stream",
     "text": [
      "[0.28724035608308607, 0.7841199437763549]\n"
     ]
    }
   ],
   "source": [
    "print([MAE(true_preds_with_boosted[\"final_pred_two_votes_ova\"], pd.DataFrame(data=y_test, columns=cols).idxmax(axis=1)), Accuracy(true_preds_with_boosted[\"final_pred_two_votes_ova\"], pd.DataFrame(data=y_test, columns=cols).idxmax(axis=1))])"
   ]
  },
  {
   "cell_type": "markdown",
   "metadata": {},
   "source": [
    "### What happens if we give the second best performing model two votes?\n",
    "##### In this case, the LSTM was second"
   ]
  },
  {
   "cell_type": "code",
   "execution_count": 121,
   "metadata": {},
   "outputs": [
    {
     "data": {
      "text/html": [
       "<div>\n",
       "<style scoped>\n",
       "    .dataframe tbody tr th:only-of-type {\n",
       "        vertical-align: middle;\n",
       "    }\n",
       "\n",
       "    .dataframe tbody tr th {\n",
       "        vertical-align: top;\n",
       "    }\n",
       "\n",
       "    .dataframe thead th {\n",
       "        text-align: right;\n",
       "    }\n",
       "</style>\n",
       "<table border=\"1\" class=\"dataframe\">\n",
       "  <thead>\n",
       "    <tr style=\"text-align: right;\">\n",
       "      <th></th>\n",
       "      <th>baseline_pred</th>\n",
       "      <th>lstm_pred</th>\n",
       "      <th>bidir_pred</th>\n",
       "      <th>ova_pred</th>\n",
       "      <th>final_pred</th>\n",
       "      <th>actual_value</th>\n",
       "      <th>boosted_pred</th>\n",
       "      <th>final_pred_two_votes</th>\n",
       "      <th>final_pred_two_votes_ova</th>\n",
       "      <th>final_pred_two_votes_lstm</th>\n",
       "    </tr>\n",
       "  </thead>\n",
       "  <tbody>\n",
       "    <tr>\n",
       "      <th>0</th>\n",
       "      <td>4</td>\n",
       "      <td>5</td>\n",
       "      <td>5</td>\n",
       "      <td>5</td>\n",
       "      <td>5.0</td>\n",
       "      <td>5</td>\n",
       "      <td>4</td>\n",
       "      <td>4.0</td>\n",
       "      <td>5.0</td>\n",
       "      <td>5.0</td>\n",
       "    </tr>\n",
       "    <tr>\n",
       "      <th>1</th>\n",
       "      <td>5</td>\n",
       "      <td>5</td>\n",
       "      <td>4</td>\n",
       "      <td>2</td>\n",
       "      <td>4.0</td>\n",
       "      <td>5</td>\n",
       "      <td>4</td>\n",
       "      <td>4.0</td>\n",
       "      <td>2.0</td>\n",
       "      <td>5.0</td>\n",
       "    </tr>\n",
       "    <tr>\n",
       "      <th>2</th>\n",
       "      <td>5</td>\n",
       "      <td>5</td>\n",
       "      <td>5</td>\n",
       "      <td>5</td>\n",
       "      <td>5.0</td>\n",
       "      <td>5</td>\n",
       "      <td>4</td>\n",
       "      <td>5.0</td>\n",
       "      <td>5.0</td>\n",
       "      <td>5.0</td>\n",
       "    </tr>\n",
       "    <tr>\n",
       "      <th>3</th>\n",
       "      <td>5</td>\n",
       "      <td>5</td>\n",
       "      <td>5</td>\n",
       "      <td>5</td>\n",
       "      <td>5.0</td>\n",
       "      <td>5</td>\n",
       "      <td>4</td>\n",
       "      <td>5.0</td>\n",
       "      <td>5.0</td>\n",
       "      <td>5.0</td>\n",
       "    </tr>\n",
       "    <tr>\n",
       "      <th>4</th>\n",
       "      <td>4</td>\n",
       "      <td>4</td>\n",
       "      <td>4</td>\n",
       "      <td>5</td>\n",
       "      <td>4.0</td>\n",
       "      <td>4</td>\n",
       "      <td>4</td>\n",
       "      <td>4.0</td>\n",
       "      <td>4.0</td>\n",
       "      <td>4.0</td>\n",
       "    </tr>\n",
       "  </tbody>\n",
       "</table>\n",
       "</div>"
      ],
      "text/plain": [
       "   baseline_pred  lstm_pred  bidir_pred  ova_pred  final_pred  actual_value  \\\n",
       "0              4          5           5         5         5.0             5   \n",
       "1              5          5           4         2         4.0             5   \n",
       "2              5          5           5         5         5.0             5   \n",
       "3              5          5           5         5         5.0             5   \n",
       "4              4          4           4         5         4.0             4   \n",
       "\n",
       "   boosted_pred  final_pred_two_votes  final_pred_two_votes_ova  \\\n",
       "0             4                   4.0                       5.0   \n",
       "1             4                   4.0                       2.0   \n",
       "2             4                   5.0                       5.0   \n",
       "3             4                   5.0                       5.0   \n",
       "4             4                   4.0                       4.0   \n",
       "\n",
       "   final_pred_two_votes_lstm  \n",
       "0                        5.0  \n",
       "1                        5.0  \n",
       "2                        5.0  \n",
       "3                        5.0  \n",
       "4                        4.0  "
      ]
     },
     "execution_count": 121,
     "metadata": {},
     "output_type": "execute_result"
    }
   ],
   "source": [
    "true_preds_with_boosted['final_pred_two_votes_lstm'] = true_preds_with_boosted[['baseline_pred', 'lstm_pred', 'bidir_pred', 'ova_pred', 'boosted_pred', 'lstm_pred']].mode(axis=1)[0]\n",
    "true_preds_with_boosted.head()"
   ]
  },
  {
   "cell_type": "code",
   "execution_count": 122,
   "metadata": {},
   "outputs": [
    {
     "name": "stdout",
     "output_type": "stream",
     "text": [
      "[0.27154146493831016, 0.7873371856942059]\n"
     ]
    }
   ],
   "source": [
    "print([MAE(true_preds_with_boosted[\"final_pred_two_votes_lstm\"], pd.DataFrame(data=y_test, columns=cols).idxmax(axis=1)), Accuracy(true_preds_with_boosted[\"final_pred_two_votes_lstm\"], pd.DataFrame(data=y_test, columns=cols).idxmax(axis=1))])"
   ]
  },
  {
   "cell_type": "markdown",
   "metadata": {},
   "source": [
    "\n",
    "# Challenges\n",
    "### Challenge 5"
   ]
  },
  {
   "cell_type": "code",
   "execution_count": 9,
   "metadata": {},
   "outputs": [
    {
     "name": "stdout",
     "output_type": "stream",
     "text": [
      "(500, 3)\n"
     ]
    },
    {
     "data": {
      "text/html": [
       "<div>\n",
       "<style scoped>\n",
       "    .dataframe tbody tr th:only-of-type {\n",
       "        vertical-align: middle;\n",
       "    }\n",
       "\n",
       "    .dataframe tbody tr th {\n",
       "        vertical-align: top;\n",
       "    }\n",
       "\n",
       "    .dataframe thead th {\n",
       "        text-align: right;\n",
       "    }\n",
       "</style>\n",
       "<table border=\"1\" class=\"dataframe\">\n",
       "  <thead>\n",
       "    <tr style=\"text-align: right;\">\n",
       "      <th></th>\n",
       "      <th>review_id</th>\n",
       "      <th>text</th>\n",
       "      <th>stars</th>\n",
       "    </tr>\n",
       "  </thead>\n",
       "  <tbody>\n",
       "    <tr>\n",
       "      <th>0</th>\n",
       "      <td>50</td>\n",
       "      <td>I went to this campus for 1 semester. I was in...</td>\n",
       "      <td>2</td>\n",
       "    </tr>\n",
       "    <tr>\n",
       "      <th>1</th>\n",
       "      <td>51</td>\n",
       "      <td>I have rated it a two star based on its compar...</td>\n",
       "      <td>2</td>\n",
       "    </tr>\n",
       "    <tr>\n",
       "      <th>2</th>\n",
       "      <td>52</td>\n",
       "      <td>Just like most of the reviews, we ordered and ...</td>\n",
       "      <td>2</td>\n",
       "    </tr>\n",
       "    <tr>\n",
       "      <th>3</th>\n",
       "      <td>53</td>\n",
       "      <td>I only go here if it is an emergency. I HATE i...</td>\n",
       "      <td>2</td>\n",
       "    </tr>\n",
       "    <tr>\n",
       "      <th>4</th>\n",
       "      <td>54</td>\n",
       "      <td>Rude staff. I got 60 feeder fish and about 15 ...</td>\n",
       "      <td>2</td>\n",
       "    </tr>\n",
       "  </tbody>\n",
       "</table>\n",
       "</div>"
      ],
      "text/plain": [
       "   review_id                                               text  stars\n",
       "0         50  I went to this campus for 1 semester. I was in...      2\n",
       "1         51  I have rated it a two star based on its compar...      2\n",
       "2         52  Just like most of the reviews, we ordered and ...      2\n",
       "3         53  I only go here if it is an emergency. I HATE i...      2\n",
       "4         54  Rude staff. I got 60 feeder fish and about 15 ...      2"
      ]
     },
     "execution_count": 9,
     "metadata": {},
     "output_type": "execute_result"
    }
   ],
   "source": [
    "c5 = pd.read_json(\"./yelp_challenge_5_with_answers.jsonl\", lines = True)\n",
    "print(c5.shape)\n",
    "c5.head()"
   ]
  },
  {
   "cell_type": "markdown",
   "metadata": {},
   "source": [
    "##### Quick EDA"
   ]
  },
  {
   "cell_type": "code",
   "execution_count": 310,
   "metadata": {},
   "outputs": [
    {
     "data": {
      "text/plain": [
       "<matplotlib.axes._subplots.AxesSubplot at 0x25ca3f708c8>"
      ]
     },
     "execution_count": 310,
     "metadata": {},
     "output_type": "execute_result"
    },
    {
     "data": {
      "image/png": "[encoded data removed]",
      "text/plain": [
       "<Figure size 432x288 with 1 Axes>"
      ]
     },
     "metadata": {
      "needs_background": "light"
     },
     "output_type": "display_data"
    }
   ],
   "source": [
    "sns.countplot(c5['stars'])"
   ]
  },
  {
   "cell_type": "markdown",
   "metadata": {},
   "source": [
    "##### Pre-processing"
   ]
  },
  {
   "cell_type": "code",
   "execution_count": 311,
   "metadata": {},
   "outputs": [
    {
     "data": {
      "text/html": [
       "<div>\n",
       "<style scoped>\n",
       "    .dataframe tbody tr th:only-of-type {\n",
       "        vertical-align: middle;\n",
       "    }\n",
       "\n",
       "    .dataframe tbody tr th {\n",
       "        vertical-align: top;\n",
       "    }\n",
       "\n",
       "    .dataframe thead th {\n",
       "        text-align: right;\n",
       "    }\n",
       "</style>\n",
       "<table border=\"1\" class=\"dataframe\">\n",
       "  <thead>\n",
       "    <tr style=\"text-align: right;\">\n",
       "      <th></th>\n",
       "      <th>review_id</th>\n",
       "      <th>text</th>\n",
       "      <th>stars</th>\n",
       "    </tr>\n",
       "  </thead>\n",
       "  <tbody>\n",
       "    <tr>\n",
       "      <th>0</th>\n",
       "      <td>50</td>\n",
       "      <td>i went to thi campu for 1 semest i wa in busi ...</td>\n",
       "      <td>2</td>\n",
       "    </tr>\n",
       "    <tr>\n",
       "      <th>1</th>\n",
       "      <td>51</td>\n",
       "      <td>i have rate it a two star base on it compariso...</td>\n",
       "      <td>2</td>\n",
       "    </tr>\n",
       "    <tr>\n",
       "      <th>2</th>\n",
       "      <td>52</td>\n",
       "      <td>just like most of the review we order and paid...</td>\n",
       "      <td>2</td>\n",
       "    </tr>\n",
       "    <tr>\n",
       "      <th>3</th>\n",
       "      <td>53</td>\n",
       "      <td>i onli go here if it is an emerg i hate it tha...</td>\n",
       "      <td>2</td>\n",
       "    </tr>\n",
       "    <tr>\n",
       "      <th>4</th>\n",
       "      <td>54</td>\n",
       "      <td>rude staff i got 60 feeder fish and about 15 w...</td>\n",
       "      <td>2</td>\n",
       "    </tr>\n",
       "  </tbody>\n",
       "</table>\n",
       "</div>"
      ],
      "text/plain": [
       "   review_id                                               text  stars\n",
       "0         50  i went to thi campu for 1 semest i wa in busi ...      2\n",
       "1         51  i have rate it a two star base on it compariso...      2\n",
       "2         52  just like most of the review we order and paid...      2\n",
       "3         53  i onli go here if it is an emerg i hate it tha...      2\n",
       "4         54  rude staff i got 60 feeder fish and about 15 w...      2"
      ]
     },
     "execution_count": 311,
     "metadata": {},
     "output_type": "execute_result"
    }
   ],
   "source": [
    "c5['text'] = c5['text'].apply(clean_text)\n",
    "c5.head()"
   ]
  },
  {
   "cell_type": "markdown",
   "metadata": {},
   "source": [
    "##### Load previous tokenizer"
   ]
  },
  {
   "cell_type": "code",
   "execution_count": 312,
   "metadata": {},
   "outputs": [],
   "source": [
    "X = c5['text'].fillna('').values\n",
    "y = pd.get_dummies(c5['stars'])\n",
    "\n",
    "with open('tokenizer.pickle', 'rb') as handle:\n",
    "    tokenizer = pickle.load(handle)   \n",
    "    \n",
    "necc_cols = [1, 2, 3, 4, 5]\n",
    "for col in necc_cols:\n",
    "    if col not in y.columns:\n",
    "        y[col] = 0\n",
    "        \n",
    "y = y[necc_cols]\n",
    "y = y.values\n",
    "\n",
    "X_baseline = tokenizer.texts_to_matrix(X)\n",
    "X_lstm = tokenizer.texts_to_sequences(X)\n",
    "X_lstm = pad_sequences(X_lstm, maxlen=500)"
   ]
  },
  {
   "cell_type": "markdown",
   "metadata": {},
   "source": [
    "##### Load and compile models"
   ]
  },
  {
   "cell_type": "code",
   "execution_count": 313,
   "metadata": {},
   "outputs": [
    {
     "name": "stderr",
     "output_type": "stream",
     "text": [
      "C:\\Users\\Tanner\\Anaconda3\\envs\\yelp\\lib\\site-packages\\keras\\engine\\saving.py:341: UserWarning: No training configuration found in save file: the model was *not* compiled. Compile it manually.\n",
      "  warnings.warn('No training configuration found in save file: '\n"
     ]
    }
   ],
   "source": [
    "# Trying our pretrained models\n",
    "# Optimizer\n",
    "lr_schedule = keras.optimizers.schedules.ExponentialDecay(initial_learning_rate=.001, decay_steps=10000, decay_rate=0.9)\n",
    "optimizer = keras.optimizers.Adam(learning_rate=lr_schedule, beta_1=0.9, beta_2=0.99, amsgrad=False, clipvalue=.3)\n",
    "optimizer_baseline = keras.optimizers.Adam(learning_rate=.0007, beta_1=0.9, beta_2=0.99, amsgrad=False, clipvalue=.3)\n",
    "\n",
    "# Baseline\n",
    "baseline = load_model('./models/baseline.h5')\n",
    "\n",
    "baseline.compile(loss=my_custom_loss,\n",
    "              optimizer=optimizer,\n",
    "              metrics=['accuracy', 'mean_absolute_error'])\n",
    "\n",
    "# LSTM\n",
    "lstm = load_model('./models/lstm.h5')\n",
    "\n",
    "lstm.compile(loss=my_custom_loss,\n",
    "              optimizer=optimizer,\n",
    "              metrics=['accuracy', 'mean_absolute_error'])\n",
    "\n",
    "# Bidirectional LSTM\n",
    "bidir = load_model('./models/bidirectional_lstm.h5')\n",
    "\n",
    "bidir.compile(loss=my_custom_loss,\n",
    "              optimizer=optimizer,\n",
    "              metrics=['accuracy', 'mean_absolute_error'])\n",
    "\n",
    "# One vs. all\n",
    "lstm_1 = load_model('./models/one_star.h5')\n",
    "\n",
    "lstm_1.compile(loss=my_custom_loss_ova,\n",
    "              optimizer=optimizer,\n",
    "              metrics=['accuracy', 'mean_absolute_error'])\n",
    "\n",
    "lstm_2 = load_model('./models/two_star.h5')\n",
    "\n",
    "lstm_2.compile(loss=my_custom_loss_ova,\n",
    "              optimizer=optimizer,\n",
    "              metrics=['accuracy', 'mean_absolute_error'])\n",
    "\n",
    "lstm_3 = load_model('./models/three_star.h5')\n",
    "\n",
    "lstm_3.compile(loss=my_custom_loss_ova,\n",
    "              optimizer=optimizer,\n",
    "              metrics=['accuracy', 'mean_absolute_error'])\n",
    "\n",
    "lstm_4 = load_model('./models/four_star.h5')\n",
    "\n",
    "lstm_4.compile(loss=my_custom_loss_ova,\n",
    "              optimizer=optimizer,\n",
    "              metrics=['accuracy', 'mean_absolute_error'])\n",
    "\n",
    "lstm_5 = load_model('./models/five_star.h5')\n",
    "\n",
    "lstm_5.compile(loss=my_custom_loss_ova,\n",
    "              optimizer=optimizer,\n",
    "              metrics=['accuracy', 'mean_absolute_error'])\n",
    "\n",
    "# # Boosted LSTM\n",
    "# boosted_lstm = load_model('./models/boosted_lstm.h5')\n",
    "\n",
    "# boosted_lstm.compile(loss=my_custom_loss,\n",
    "#               optimizer=optimizer,\n",
    "#               metrics=['accuracy', 'mean_absolute_error'])"
   ]
  },
  {
   "cell_type": "markdown",
   "metadata": {},
   "source": [
    "##### Evaluate Models"
   ]
  },
  {
   "cell_type": "code",
   "execution_count": 314,
   "metadata": {},
   "outputs": [
    {
     "name": "stdout",
     "output_type": "stream",
     "text": [
      "500/500 [==============================] - 0s 318us/step\n",
      "[2.354674012184143, 0.23199999332427979, 0.2999608814716339]\n",
      "500/500 [==============================] - 0s 950us/step\n",
      "[1.906020104408264, 0.3440000116825104, 0.24954305589199066]\n",
      "500/500 [==============================] - 3s 5ms/step\n",
      "[1.8080296010971069, 0.30000001192092896, 0.25405579805374146]\n",
      "[0.752, 0.416]\n"
     ]
    }
   ],
   "source": [
    "# Baseline\n",
    "print(baseline.evaluate(X_baseline, y))\n",
    "\n",
    "# LSTM\n",
    "print(lstm.evaluate(X_lstm, y))\n",
    "\n",
    "# Bidirectional LSTM\n",
    "print(bidir.evaluate(X_lstm, y))\n",
    "\n",
    "# # Boosted LSTM\n",
    "# print(boosted_lstm.evaluate(X_lstm, y))\n",
    "\n",
    "# One vs. All\n",
    "one_star_ps = lstm_1.predict(X_lstm)\n",
    "two_star_ps = lstm_2.predict(X_lstm)\n",
    "three_star_ps = lstm_3.predict(X_lstm)\n",
    "four_star_ps = lstm_4.predict(X_lstm)\n",
    "five_star_ps = lstm_5.predict(X_lstm)\n",
    "\n",
    "data = [one_star_ps.flatten(), two_star_ps.flatten(), three_star_ps.flatten(), four_star_ps.flatten(), five_star_ps.flatten()]\n",
    "cols = [1, 2, 3, 4, 5]\n",
    "ps = pd.DataFrame(data=data, index=cols).T\n",
    "\n",
    "ps[\"ova_pred\"] = ps.idxmax(axis=1)\n",
    "\n",
    "print([MAE(ps[\"ova_pred\"], pd.DataFrame(data=y, columns=cols).idxmax(axis=1)), Accuracy(ps[\"ova_pred\"], pd.DataFrame(data=y, columns=cols).idxmax(axis=1))])"
   ]
  },
  {
   "cell_type": "markdown",
   "metadata": {},
   "source": [
    "##### Attempt Ensemble"
   ]
  },
  {
   "cell_type": "code",
   "execution_count": 315,
   "metadata": {},
   "outputs": [
    {
     "name": "stdout",
     "output_type": "stream",
     "text": [
      "[0.794, 0.336]\n"
     ]
    }
   ],
   "source": [
    "# Baseline\n",
    "baseline_preds = pd.DataFrame(baseline.predict(X_baseline), columns=cols)\n",
    "baseline_preds['baseline_pred'] = baseline_preds.idxmax(axis=1)\n",
    "\n",
    "# LSTM\n",
    "lstm_preds = pd.DataFrame(lstm.predict(X_lstm), columns=cols)\n",
    "lstm_preds['lstm_pred'] = lstm_preds.idxmax(axis=1)\n",
    "\n",
    "# Bidirectional LSTM\n",
    "bidir_preds = pd.DataFrame(bidir.predict(X_lstm), columns=cols)\n",
    "bidir_preds['bidir_pred'] = bidir_preds.idxmax(axis=1)\n",
    "\n",
    "# # Boosted LSTM\n",
    "# boosted_preds = pd.DataFrame(boosted_lstm.predict(X_lstm), columns=cols)\n",
    "# boosted_preds['boosted_pred'] = boosted_preds.idxmax(axis=1)\n",
    "\n",
    "# One vs. all\n",
    "ova_preds = ps\n",
    "\n",
    "all_preds = pd.DataFrame([baseline_preds['baseline_pred'], lstm_preds['lstm_pred'], bidir_preds['bidir_pred'], ova_preds['ova_pred']]).T\n",
    "all_preds[\"final_pred\"] = all_preds.apply(vote, axis=1)\n",
    "\n",
    "print([MAE(all_preds[\"final_pred\"], pd.DataFrame(data=y, columns=cols).idxmax(axis=1)), Accuracy(all_preds[\"final_pred\"], pd.DataFrame(data=y, columns=cols).idxmax(axis=1))])"
   ]
  },
  {
   "cell_type": "markdown",
   "metadata": {},
   "source": [
    "##### Misc."
   ]
  },
  {
   "cell_type": "code",
   "execution_count": 316,
   "metadata": {},
   "outputs": [
    {
     "data": {
      "text/plain": [
       "<matplotlib.axes._subplots.AxesSubplot at 0x25c9b0d9648>"
      ]
     },
     "execution_count": 316,
     "metadata": {},
     "output_type": "execute_result"
    },
    {
     "data": {
      "image/png": "[encoded data removed]",
      "text/plain": [
       "<Figure size 432x288 with 1 Axes>"
      ]
     },
     "metadata": {
      "needs_background": "light"
     },
     "output_type": "display_data"
    }
   ],
   "source": [
    "sns.countplot(all_preds[\"final_pred\"])"
   ]
  },
  {
   "cell_type": "markdown",
   "metadata": {},
   "source": [
    "### Challenge 6"
   ]
  },
  {
   "cell_type": "code",
   "execution_count": 5,
   "metadata": {},
   "outputs": [
    {
     "name": "stdout",
     "output_type": "stream",
     "text": [
      "(500, 3)\n"
     ]
    },
    {
     "data": {
      "text/html": [
       "<div>\n",
       "<style scoped>\n",
       "    .dataframe tbody tr th:only-of-type {\n",
       "        vertical-align: middle;\n",
       "    }\n",
       "\n",
       "    .dataframe tbody tr th {\n",
       "        vertical-align: top;\n",
       "    }\n",
       "\n",
       "    .dataframe thead th {\n",
       "        text-align: right;\n",
       "    }\n",
       "</style>\n",
       "<table border=\"1\" class=\"dataframe\">\n",
       "  <thead>\n",
       "    <tr style=\"text-align: right;\">\n",
       "      <th></th>\n",
       "      <th>review_id</th>\n",
       "      <th>text</th>\n",
       "      <th>stars</th>\n",
       "    </tr>\n",
       "  </thead>\n",
       "  <tbody>\n",
       "    <tr>\n",
       "      <th>0</th>\n",
       "      <td>60</td>\n",
       "      <td>Amazing for Trees\\n\\n$20 for a 5 gallon . I wi...</td>\n",
       "      <td>5</td>\n",
       "    </tr>\n",
       "    <tr>\n",
       "      <th>1</th>\n",
       "      <td>61</td>\n",
       "      <td>How the hell can Taco Bell be closed before mi...</td>\n",
       "      <td>5</td>\n",
       "    </tr>\n",
       "    <tr>\n",
       "      <th>2</th>\n",
       "      <td>62</td>\n",
       "      <td>I actually had no intention of visiting this p...</td>\n",
       "      <td>5</td>\n",
       "    </tr>\n",
       "    <tr>\n",
       "      <th>3</th>\n",
       "      <td>63</td>\n",
       "      <td>Yesterday around 3:30 pm I was driving west on...</td>\n",
       "      <td>5</td>\n",
       "    </tr>\n",
       "    <tr>\n",
       "      <th>4</th>\n",
       "      <td>64</td>\n",
       "      <td>DR FITZMAURICE did surgery on both hands on th...</td>\n",
       "      <td>5</td>\n",
       "    </tr>\n",
       "  </tbody>\n",
       "</table>\n",
       "</div>"
      ],
      "text/plain": [
       "   review_id                                               text  stars\n",
       "0         60  Amazing for Trees\\n\\n$20 for a 5 gallon . I wi...      5\n",
       "1         61  How the hell can Taco Bell be closed before mi...      5\n",
       "2         62  I actually had no intention of visiting this p...      5\n",
       "3         63  Yesterday around 3:30 pm I was driving west on...      5\n",
       "4         64  DR FITZMAURICE did surgery on both hands on th...      5"
      ]
     },
     "execution_count": 5,
     "metadata": {},
     "output_type": "execute_result"
    }
   ],
   "source": [
    "c6 = pd.read_json(\"./yelp_challenge_6_with_answers.jsonl\", lines = True)\n",
    "print(c6.shape)\n",
    "c6.head()"
   ]
  },
  {
   "cell_type": "markdown",
   "metadata": {},
   "source": [
    "##### Quick EDA"
   ]
  },
  {
   "cell_type": "code",
   "execution_count": 318,
   "metadata": {},
   "outputs": [
    {
     "data": {
      "text/plain": [
       "<matplotlib.axes._subplots.AxesSubplot at 0x25ca08ac308>"
      ]
     },
     "execution_count": 318,
     "metadata": {},
     "output_type": "execute_result"
    },
    {
     "data": {
      "image/png": "[encoded data removed]",
      "text/plain": [
       "<Figure size 432x288 with 1 Axes>"
      ]
     },
     "metadata": {
      "needs_background": "light"
     },
     "output_type": "display_data"
    }
   ],
   "source": [
    "sns.countplot(c6['stars'])"
   ]
  },
  {
   "cell_type": "markdown",
   "metadata": {},
   "source": [
    "##### Pre-processing"
   ]
  },
  {
   "cell_type": "code",
   "execution_count": 319,
   "metadata": {},
   "outputs": [
    {
     "data": {
      "text/html": [
       "<div>\n",
       "<style scoped>\n",
       "    .dataframe tbody tr th:only-of-type {\n",
       "        vertical-align: middle;\n",
       "    }\n",
       "\n",
       "    .dataframe tbody tr th {\n",
       "        vertical-align: top;\n",
       "    }\n",
       "\n",
       "    .dataframe thead th {\n",
       "        text-align: right;\n",
       "    }\n",
       "</style>\n",
       "<table border=\"1\" class=\"dataframe\">\n",
       "  <thead>\n",
       "    <tr style=\"text-align: right;\">\n",
       "      <th></th>\n",
       "      <th>review_id</th>\n",
       "      <th>text</th>\n",
       "      <th>stars</th>\n",
       "    </tr>\n",
       "  </thead>\n",
       "  <tbody>\n",
       "    <tr>\n",
       "      <th>0</th>\n",
       "      <td>60</td>\n",
       "      <td>amaz for tree 20 for a 5 gallon i will never g...</td>\n",
       "      <td>5</td>\n",
       "    </tr>\n",
       "    <tr>\n",
       "      <th>1</th>\n",
       "      <td>61</td>\n",
       "      <td>how the hell can taco bell be close befor midn...</td>\n",
       "      <td>5</td>\n",
       "    </tr>\n",
       "    <tr>\n",
       "      <th>2</th>\n",
       "      <td>62</td>\n",
       "      <td>i actual had no intent of visit thi place at a...</td>\n",
       "      <td>5</td>\n",
       "    </tr>\n",
       "    <tr>\n",
       "      <th>3</th>\n",
       "      <td>63</td>\n",
       "      <td>yesterday around 3 30 pm i wa drive west on pi...</td>\n",
       "      <td>5</td>\n",
       "    </tr>\n",
       "    <tr>\n",
       "      <th>4</th>\n",
       "      <td>64</td>\n",
       "      <td>dr fitzmauric did surgeri on both hand on the ...</td>\n",
       "      <td>5</td>\n",
       "    </tr>\n",
       "  </tbody>\n",
       "</table>\n",
       "</div>"
      ],
      "text/plain": [
       "   review_id                                               text  stars\n",
       "0         60  amaz for tree 20 for a 5 gallon i will never g...      5\n",
       "1         61  how the hell can taco bell be close befor midn...      5\n",
       "2         62  i actual had no intent of visit thi place at a...      5\n",
       "3         63  yesterday around 3 30 pm i wa drive west on pi...      5\n",
       "4         64  dr fitzmauric did surgeri on both hand on the ...      5"
      ]
     },
     "execution_count": 319,
     "metadata": {},
     "output_type": "execute_result"
    }
   ],
   "source": [
    "c6['text'] = c6['text'].apply(clean_text)\n",
    "c6.head()"
   ]
  },
  {
   "cell_type": "markdown",
   "metadata": {},
   "source": [
    "##### Load previous tokenizer"
   ]
  },
  {
   "cell_type": "code",
   "execution_count": 320,
   "metadata": {},
   "outputs": [],
   "source": [
    "X = c6['text'].fillna('').values\n",
    "y = pd.get_dummies(c6['stars'])\n",
    "\n",
    "with open('tokenizer.pickle', 'rb') as handle:\n",
    "    tokenizer = pickle.load(handle)\n",
    "    \n",
    "necc_cols = [1, 2, 3, 4, 5]\n",
    "for col in necc_cols:\n",
    "    if col not in y.columns:\n",
    "        y[col] = 0\n",
    "        \n",
    "y = y[necc_cols]\n",
    "y = y.values\n",
    "\n",
    "X_baseline = tokenizer.texts_to_matrix(X)\n",
    "X_lstm = tokenizer.texts_to_sequences(X)\n",
    "X_lstm = pad_sequences(X_lstm, maxlen=500)"
   ]
  },
  {
   "cell_type": "markdown",
   "metadata": {},
   "source": [
    "##### Load and compile models"
   ]
  },
  {
   "cell_type": "code",
   "execution_count": 321,
   "metadata": {},
   "outputs": [
    {
     "name": "stderr",
     "output_type": "stream",
     "text": [
      "C:\\Users\\Tanner\\Anaconda3\\envs\\yelp\\lib\\site-packages\\keras\\engine\\saving.py:341: UserWarning: No training configuration found in save file: the model was *not* compiled. Compile it manually.\n",
      "  warnings.warn('No training configuration found in save file: '\n"
     ]
    }
   ],
   "source": [
    "# Trying our pretrained models\n",
    "# Optimizer\n",
    "lr_schedule = keras.optimizers.schedules.ExponentialDecay(initial_learning_rate=.001, decay_steps=10000, decay_rate=0.9)\n",
    "optimizer = keras.optimizers.Adam(learning_rate=lr_schedule, beta_1=0.9, beta_2=0.99, amsgrad=False, clipvalue=.3)\n",
    "optimizer_baseline = keras.optimizers.Adam(learning_rate=.0007, beta_1=0.9, beta_2=0.99, amsgrad=False, clipvalue=.3)\n",
    "\n",
    "# Baseline\n",
    "baseline = load_model('./models/baseline.h5')\n",
    "\n",
    "baseline.compile(loss=my_custom_loss,\n",
    "              optimizer=optimizer,\n",
    "              metrics=['accuracy', 'mean_absolute_error'])\n",
    "\n",
    "# LSTM\n",
    "lstm = load_model('./models/lstm.h5')\n",
    "\n",
    "lstm.compile(loss=my_custom_loss,\n",
    "              optimizer=optimizer,\n",
    "              metrics=['accuracy', 'mean_absolute_error'])\n",
    "\n",
    "# Bidirectional LSTM\n",
    "bidir = load_model('./models/bidirectional_lstm.h5')\n",
    "\n",
    "bidir.compile(loss=my_custom_loss,\n",
    "              optimizer=optimizer,\n",
    "              metrics=['accuracy', 'mean_absolute_error'])\n",
    "\n",
    "# One vs. all\n",
    "lstm_1 = load_model('./models/one_star.h5')\n",
    "\n",
    "lstm_1.compile(loss=my_custom_loss_ova,\n",
    "              optimizer=optimizer,\n",
    "              metrics=['accuracy', 'mean_absolute_error'])\n",
    "\n",
    "lstm_2 = load_model('./models/two_star.h5')\n",
    "\n",
    "lstm_2.compile(loss=my_custom_loss_ova,\n",
    "              optimizer=optimizer,\n",
    "              metrics=['accuracy', 'mean_absolute_error'])\n",
    "\n",
    "lstm_3 = load_model('./models/three_star.h5')\n",
    "\n",
    "lstm_3.compile(loss=my_custom_loss_ova,\n",
    "              optimizer=optimizer,\n",
    "              metrics=['accuracy', 'mean_absolute_error'])\n",
    "\n",
    "lstm_4 = load_model('./models/four_star.h5')\n",
    "\n",
    "lstm_4.compile(loss=my_custom_loss_ova,\n",
    "              optimizer=optimizer,\n",
    "              metrics=['accuracy', 'mean_absolute_error'])\n",
    "\n",
    "lstm_5 = load_model('./models/five_star.h5')\n",
    "\n",
    "lstm_5.compile(loss=my_custom_loss_ova,\n",
    "              optimizer=optimizer,\n",
    "              metrics=['accuracy', 'mean_absolute_error'])"
   ]
  },
  {
   "cell_type": "markdown",
   "metadata": {},
   "source": [
    "##### Evaluate Models"
   ]
  },
  {
   "cell_type": "code",
   "execution_count": 322,
   "metadata": {},
   "outputs": [
    {
     "name": "stdout",
     "output_type": "stream",
     "text": [
      "500/500 [==============================] - 0s 244us/step\n",
      "[2.583513156890869, 0.4740000069141388, 0.24528849124908447]\n",
      "500/500 [==============================] - 1s 1ms/step\n",
      "[2.7549539794921873, 0.41200000047683716, 0.22898471355438232]\n",
      "500/500 [==============================] - 2s 5ms/step\n",
      "[2.7555558910369875, 0.41600000858306885, 0.23118716478347778]\n",
      "[2.084, 0.456]\n"
     ]
    }
   ],
   "source": [
    "# Baseline\n",
    "print(baseline.evaluate(X_baseline, y))\n",
    "\n",
    "# LSTM\n",
    "print(lstm.evaluate(X_lstm, y))\n",
    "\n",
    "# Bidirectional LSTM\n",
    "print(bidir.evaluate(X_lstm, y))\n",
    "\n",
    "# One vs. All\n",
    "one_star_ps = lstm_1.predict(X_lstm)\n",
    "two_star_ps = lstm_2.predict(X_lstm)\n",
    "three_star_ps = lstm_3.predict(X_lstm)\n",
    "four_star_ps = lstm_4.predict(X_lstm)\n",
    "five_star_ps = lstm_5.predict(X_lstm)\n",
    "\n",
    "data = [one_star_ps.flatten(), two_star_ps.flatten(), three_star_ps.flatten(), four_star_ps.flatten(), five_star_ps.flatten()]\n",
    "cols = [1, 2, 3, 4, 5]\n",
    "ps = pd.DataFrame(data=data, index=cols).T\n",
    "\n",
    "ps[\"ova_pred\"] = ps.idxmax(axis=1)\n",
    "\n",
    "print([MAE(ps[\"ova_pred\"], pd.DataFrame(data=y, columns=cols).idxmax(axis=1)), Accuracy(ps[\"ova_pred\"], pd.DataFrame(data=y, columns=cols).idxmax(axis=1))])"
   ]
  },
  {
   "cell_type": "markdown",
   "metadata": {},
   "source": [
    "##### Attempt Ensemble"
   ]
  },
  {
   "cell_type": "code",
   "execution_count": 323,
   "metadata": {},
   "outputs": [
    {
     "name": "stdout",
     "output_type": "stream",
     "text": [
      "[2.08, 0.442]\n"
     ]
    }
   ],
   "source": [
    "# Baseline\n",
    "baseline_preds = pd.DataFrame(baseline.predict(X_baseline), columns=cols)\n",
    "baseline_preds['baseline_pred'] = baseline_preds.idxmax(axis=1)\n",
    "\n",
    "# LSTM\n",
    "lstm_preds = pd.DataFrame(lstm.predict(X_lstm), columns=cols)\n",
    "lstm_preds['lstm_pred'] = lstm_preds.idxmax(axis=1)\n",
    "\n",
    "# Bidirectional LSTM\n",
    "bidir_preds = pd.DataFrame(bidir.predict(X_lstm), columns=cols)\n",
    "bidir_preds['bidir_pred'] = bidir_preds.idxmax(axis=1)\n",
    "\n",
    "# One vs. all\n",
    "ova_preds = ps\n",
    "\n",
    "all_preds = pd.DataFrame([baseline_preds['baseline_pred'], lstm_preds['lstm_pred'], bidir_preds['bidir_pred'], ova_preds['ova_pred']]).T\n",
    "all_preds[\"final_pred\"] = all_preds.apply(vote, axis=1)\n",
    "\n",
    "print([MAE(all_preds[\"final_pred\"], pd.DataFrame(data=y, columns=cols).idxmax(axis=1)), Accuracy(all_preds[\"final_pred\"], pd.DataFrame(data=y, columns=cols).idxmax(axis=1))])"
   ]
  },
  {
   "cell_type": "markdown",
   "metadata": {},
   "source": [
    "##### Misc."
   ]
  },
  {
   "cell_type": "code",
   "execution_count": 324,
   "metadata": {},
   "outputs": [
    {
     "data": {
      "text/plain": [
       "<matplotlib.axes._subplots.AxesSubplot at 0x25c97f8af88>"
      ]
     },
     "execution_count": 324,
     "metadata": {},
     "output_type": "execute_result"
    },
    {
     "data": {
      "image/png": "[encoded data removed]",
      "text/plain": [
       "<Figure size 432x288 with 1 Axes>"
      ]
     },
     "metadata": {
      "needs_background": "light"
     },
     "output_type": "display_data"
    }
   ],
   "source": [
    "sns.countplot(all_preds[\"final_pred\"])"
   ]
  },
  {
   "cell_type": "markdown",
   "metadata": {},
   "source": [
    "### Challenge 3"
   ]
  },
  {
   "cell_type": "code",
   "execution_count": 325,
   "metadata": {},
   "outputs": [
    {
     "name": "stdout",
     "output_type": "stream",
     "text": [
      "(534, 3)\n"
     ]
    },
    {
     "data": {
      "text/html": [
       "<div>\n",
       "<style scoped>\n",
       "    .dataframe tbody tr th:only-of-type {\n",
       "        vertical-align: middle;\n",
       "    }\n",
       "\n",
       "    .dataframe tbody tr th {\n",
       "        vertical-align: top;\n",
       "    }\n",
       "\n",
       "    .dataframe thead th {\n",
       "        text-align: right;\n",
       "    }\n",
       "</style>\n",
       "<table border=\"1\" class=\"dataframe\">\n",
       "  <thead>\n",
       "    <tr style=\"text-align: right;\">\n",
       "      <th></th>\n",
       "      <th>review_id</th>\n",
       "      <th>text</th>\n",
       "      <th>stars</th>\n",
       "    </tr>\n",
       "  </thead>\n",
       "  <tbody>\n",
       "    <tr>\n",
       "      <th>0</th>\n",
       "      <td>30</td>\n",
       "      <td>We stopped here for lunch today and were pleas...</td>\n",
       "      <td>4</td>\n",
       "    </tr>\n",
       "    <tr>\n",
       "      <th>1</th>\n",
       "      <td>31</td>\n",
       "      <td>We went for a quick lunch here - it's all reas...</td>\n",
       "      <td>3</td>\n",
       "    </tr>\n",
       "    <tr>\n",
       "      <th>2</th>\n",
       "      <td>32</td>\n",
       "      <td>Very bad food, avoid it. We were a group of 4 ...</td>\n",
       "      <td>2</td>\n",
       "    </tr>\n",
       "    <tr>\n",
       "      <th>3</th>\n",
       "      <td>33</td>\n",
       "      <td>Bring a friend or two to help open the door. I...</td>\n",
       "      <td>3</td>\n",
       "    </tr>\n",
       "    <tr>\n",
       "      <th>4</th>\n",
       "      <td>34</td>\n",
       "      <td>Ukai serves some of the best sushi and sashimi...</td>\n",
       "      <td>4</td>\n",
       "    </tr>\n",
       "  </tbody>\n",
       "</table>\n",
       "</div>"
      ],
      "text/plain": [
       "   review_id                                               text  stars\n",
       "0         30  We stopped here for lunch today and were pleas...      4\n",
       "1         31  We went for a quick lunch here - it's all reas...      3\n",
       "2         32  Very bad food, avoid it. We were a group of 4 ...      2\n",
       "3         33  Bring a friend or two to help open the door. I...      3\n",
       "4         34  Ukai serves some of the best sushi and sashimi...      4"
      ]
     },
     "execution_count": 325,
     "metadata": {},
     "output_type": "execute_result"
    }
   ],
   "source": [
    "c3 = pd.read_json(\"./yelp_challenge_3_with_answers.jsonl\", lines = True)\n",
    "print(c3.shape)\n",
    "c3.head()"
   ]
  },
  {
   "cell_type": "markdown",
   "metadata": {},
   "source": [
    "##### Quick EDA"
   ]
  },
  {
   "cell_type": "code",
   "execution_count": 326,
   "metadata": {},
   "outputs": [
    {
     "data": {
      "text/plain": [
       "<matplotlib.axes._subplots.AxesSubplot at 0x25c9e953208>"
      ]
     },
     "execution_count": 326,
     "metadata": {},
     "output_type": "execute_result"
    },
    {
     "data": {
      "image/png": "[encoded data removed]",
      "text/plain": [
       "<Figure size 432x288 with 1 Axes>"
      ]
     },
     "metadata": {
      "needs_background": "light"
     },
     "output_type": "display_data"
    }
   ],
   "source": [
    "sns.countplot(c3['stars'])"
   ]
  },
  {
   "cell_type": "markdown",
   "metadata": {},
   "source": [
    "##### Pre-processing"
   ]
  },
  {
   "cell_type": "code",
   "execution_count": 327,
   "metadata": {},
   "outputs": [
    {
     "data": {
      "text/html": [
       "<div>\n",
       "<style scoped>\n",
       "    .dataframe tbody tr th:only-of-type {\n",
       "        vertical-align: middle;\n",
       "    }\n",
       "\n",
       "    .dataframe tbody tr th {\n",
       "        vertical-align: top;\n",
       "    }\n",
       "\n",
       "    .dataframe thead th {\n",
       "        text-align: right;\n",
       "    }\n",
       "</style>\n",
       "<table border=\"1\" class=\"dataframe\">\n",
       "  <thead>\n",
       "    <tr style=\"text-align: right;\">\n",
       "      <th></th>\n",
       "      <th>review_id</th>\n",
       "      <th>text</th>\n",
       "      <th>stars</th>\n",
       "    </tr>\n",
       "  </thead>\n",
       "  <tbody>\n",
       "    <tr>\n",
       "      <th>0</th>\n",
       "      <td>30</td>\n",
       "      <td>we stop here for lunch today and were pleasant...</td>\n",
       "      <td>4</td>\n",
       "    </tr>\n",
       "    <tr>\n",
       "      <th>1</th>\n",
       "      <td>31</td>\n",
       "      <td>we went for a quick lunch here it s all reason...</td>\n",
       "      <td>3</td>\n",
       "    </tr>\n",
       "    <tr>\n",
       "      <th>2</th>\n",
       "      <td>32</td>\n",
       "      <td>veri bad food avoid it we were a group of 4 an...</td>\n",
       "      <td>2</td>\n",
       "    </tr>\n",
       "    <tr>\n",
       "      <th>3</th>\n",
       "      <td>33</td>\n",
       "      <td>bring a friend or two to help open the door i ...</td>\n",
       "      <td>3</td>\n",
       "    </tr>\n",
       "    <tr>\n",
       "      <th>4</th>\n",
       "      <td>34</td>\n",
       "      <td>ukai serv some of the best sushi and sashimi i...</td>\n",
       "      <td>4</td>\n",
       "    </tr>\n",
       "  </tbody>\n",
       "</table>\n",
       "</div>"
      ],
      "text/plain": [
       "   review_id                                               text  stars\n",
       "0         30  we stop here for lunch today and were pleasant...      4\n",
       "1         31  we went for a quick lunch here it s all reason...      3\n",
       "2         32  veri bad food avoid it we were a group of 4 an...      2\n",
       "3         33  bring a friend or two to help open the door i ...      3\n",
       "4         34  ukai serv some of the best sushi and sashimi i...      4"
      ]
     },
     "execution_count": 327,
     "metadata": {},
     "output_type": "execute_result"
    }
   ],
   "source": [
    "c3['text'] = c3['text'].apply(clean_text)\n",
    "c3.head()"
   ]
  },
  {
   "cell_type": "markdown",
   "metadata": {},
   "source": [
    "##### Load previous tokenizer"
   ]
  },
  {
   "cell_type": "code",
   "execution_count": 328,
   "metadata": {},
   "outputs": [],
   "source": [
    "X = c3['text'].fillna('').values\n",
    "y = pd.get_dummies(c3['stars'])\n",
    "\n",
    "with open('tokenizer.pickle', 'rb') as handle:\n",
    "    tokenizer = pickle.load(handle)  \n",
    "    \n",
    "necc_cols = [1, 2, 3, 4, 5]\n",
    "for col in necc_cols:\n",
    "    if col not in y.columns:\n",
    "        y[col] = 0\n",
    "        \n",
    "y = y[necc_cols]\n",
    "y = y.values\n",
    "\n",
    "X_baseline = tokenizer.texts_to_matrix(X)\n",
    "X_lstm = tokenizer.texts_to_sequences(X)\n",
    "X_lstm = pad_sequences(X_lstm, maxlen=500)"
   ]
  },
  {
   "cell_type": "markdown",
   "metadata": {},
   "source": [
    "##### Load and compile models"
   ]
  },
  {
   "cell_type": "code",
   "execution_count": 329,
   "metadata": {},
   "outputs": [
    {
     "name": "stderr",
     "output_type": "stream",
     "text": [
      "C:\\Users\\Tanner\\Anaconda3\\envs\\yelp\\lib\\site-packages\\keras\\engine\\saving.py:341: UserWarning: No training configuration found in save file: the model was *not* compiled. Compile it manually.\n",
      "  warnings.warn('No training configuration found in save file: '\n"
     ]
    }
   ],
   "source": [
    "# Trying our pretrained models\n",
    "# Optimizer\n",
    "lr_schedule = keras.optimizers.schedules.ExponentialDecay(initial_learning_rate=.001, decay_steps=10000, decay_rate=0.9)\n",
    "optimizer = keras.optimizers.Adam(learning_rate=lr_schedule, beta_1=0.9, beta_2=0.99, amsgrad=False, clipvalue=.3)\n",
    "optimizer_baseline = keras.optimizers.Adam(learning_rate=.0007, beta_1=0.9, beta_2=0.99, amsgrad=False, clipvalue=.3)\n",
    "\n",
    "# Baseline\n",
    "baseline = load_model('./models/baseline.h5')\n",
    "\n",
    "baseline.compile(loss=my_custom_loss,\n",
    "              optimizer=optimizer,\n",
    "              metrics=['accuracy', 'mean_absolute_error'])\n",
    "\n",
    "# LSTM\n",
    "lstm = load_model('./models/lstm.h5')\n",
    "\n",
    "lstm.compile(loss=my_custom_loss,\n",
    "              optimizer=optimizer,\n",
    "              metrics=['accuracy', 'mean_absolute_error'])\n",
    "\n",
    "# Bidirectional LSTM\n",
    "bidir = load_model('./models/bidirectional_lstm.h5')\n",
    "\n",
    "bidir.compile(loss=my_custom_loss,\n",
    "              optimizer=optimizer,\n",
    "              metrics=['accuracy', 'mean_absolute_error'])\n",
    "\n",
    "# One vs. all\n",
    "lstm_1 = load_model('./models/one_star.h5')\n",
    "\n",
    "lstm_1.compile(loss=my_custom_loss_ova,\n",
    "              optimizer=optimizer,\n",
    "              metrics=['accuracy', 'mean_absolute_error'])\n",
    "\n",
    "lstm_2 = load_model('./models/two_star.h5')\n",
    "\n",
    "lstm_2.compile(loss=my_custom_loss_ova,\n",
    "              optimizer=optimizer,\n",
    "              metrics=['accuracy', 'mean_absolute_error'])\n",
    "\n",
    "lstm_3 = load_model('./models/three_star.h5')\n",
    "\n",
    "lstm_3.compile(loss=my_custom_loss_ova,\n",
    "              optimizer=optimizer,\n",
    "              metrics=['accuracy', 'mean_absolute_error'])\n",
    "\n",
    "lstm_4 = load_model('./models/four_star.h5')\n",
    "\n",
    "lstm_4.compile(loss=my_custom_loss_ova,\n",
    "              optimizer=optimizer,\n",
    "              metrics=['accuracy', 'mean_absolute_error'])\n",
    "\n",
    "lstm_5 = load_model('./models/five_star.h5')\n",
    "\n",
    "lstm_5.compile(loss=my_custom_loss_ova,\n",
    "              optimizer=optimizer,\n",
    "              metrics=['accuracy', 'mean_absolute_error'])"
   ]
  },
  {
   "cell_type": "markdown",
   "metadata": {},
   "source": [
    "##### Evaluate Models"
   ]
  },
  {
   "cell_type": "code",
   "execution_count": 330,
   "metadata": {},
   "outputs": [
    {
     "name": "stdout",
     "output_type": "stream",
     "text": [
      "534/534 [==============================] - 0s 232us/step\n",
      "[1.3791420419564409, 0.5805243253707886, 0.20395886898040771]\n",
      "534/534 [==============================] - 0s 905us/step\n",
      "[1.163563758692938, 0.584269642829895, 0.18014183640480042]\n",
      "534/534 [==============================] - 3s 5ms/step\n",
      "[1.0715686533781472, 0.617977499961853, 0.17923445999622345]\n",
      "[0.6629213483146067, 0.46629213483146065]\n"
     ]
    }
   ],
   "source": [
    "# Baseline\n",
    "print(baseline.evaluate(X_baseline, y))\n",
    "\n",
    "# LSTM\n",
    "print(lstm.evaluate(X_lstm, y))\n",
    "\n",
    "# Bidirectional LSTM\n",
    "print(bidir.evaluate(X_lstm, y))\n",
    "\n",
    "# One vs. All\n",
    "one_star_ps = lstm_1.predict(X_lstm)\n",
    "two_star_ps = lstm_2.predict(X_lstm)\n",
    "three_star_ps = lstm_3.predict(X_lstm)\n",
    "four_star_ps = lstm_4.predict(X_lstm)\n",
    "five_star_ps = lstm_5.predict(X_lstm)\n",
    "\n",
    "data = [one_star_ps.flatten(), two_star_ps.flatten(), three_star_ps.flatten(), four_star_ps.flatten(), five_star_ps.flatten()]\n",
    "cols = [1, 2, 3, 4, 5]\n",
    "ps = pd.DataFrame(data=data, index=cols).T\n",
    "\n",
    "ps[\"ova_pred\"] = ps.idxmax(axis=1)\n",
    "\n",
    "print([MAE(ps[\"ova_pred\"], pd.DataFrame(data=y, columns=cols).idxmax(axis=1)), Accuracy(ps[\"ova_pred\"], pd.DataFrame(data=y, columns=cols).idxmax(axis=1))])"
   ]
  },
  {
   "cell_type": "markdown",
   "metadata": {},
   "source": [
    "##### Attempt Ensemble"
   ]
  },
  {
   "cell_type": "code",
   "execution_count": 331,
   "metadata": {},
   "outputs": [
    {
     "name": "stdout",
     "output_type": "stream",
     "text": [
      "[0.4400749063670412, 0.6142322097378277]\n"
     ]
    }
   ],
   "source": [
    "# Baseline\n",
    "baseline_preds = pd.DataFrame(baseline.predict(X_baseline), columns=cols)\n",
    "baseline_preds['baseline_pred'] = baseline_preds.idxmax(axis=1)\n",
    "\n",
    "# LSTM\n",
    "lstm_preds = pd.DataFrame(lstm.predict(X_lstm), columns=cols)\n",
    "lstm_preds['lstm_pred'] = lstm_preds.idxmax(axis=1)\n",
    "\n",
    "# Bidirectional LSTM\n",
    "bidir_preds = pd.DataFrame(bidir.predict(X_lstm), columns=cols)\n",
    "bidir_preds['bidir_pred'] = bidir_preds.idxmax(axis=1)\n",
    "\n",
    "# Boosted LSTM\n",
    "boosted_preds = pd.DataFrame(boosted_lstm.predict(X_lstm), columns=cols)\n",
    "boosted_preds['boosted_pred'] = boosted_preds.idxmax(axis=1)\n",
    "\n",
    "# One vs. all\n",
    "ova_preds = ps\n",
    "\n",
    "all_preds = pd.DataFrame([baseline_preds['baseline_pred'], lstm_preds['lstm_pred'], bidir_preds['bidir_pred'], ova_preds['ova_pred']]).T\n",
    "all_preds[\"final_pred\"] = all_preds.apply(vote, axis=1)\n",
    "\n",
    "print([MAE(all_preds[\"final_pred\"], pd.DataFrame(data=y, columns=cols).idxmax(axis=1)), Accuracy(all_preds[\"final_pred\"], pd.DataFrame(data=y, columns=cols).idxmax(axis=1))])"
   ]
  },
  {
   "cell_type": "markdown",
   "metadata": {},
   "source": [
    "##### Misc."
   ]
  },
  {
   "cell_type": "code",
   "execution_count": 332,
   "metadata": {},
   "outputs": [
    {
     "data": {
      "text/plain": [
       "<matplotlib.axes._subplots.AxesSubplot at 0x25cafec96c8>"
      ]
     },
     "execution_count": 332,
     "metadata": {},
     "output_type": "execute_result"
    },
    {
     "data": {
      "image/png": "[encoded data removed]",
      "text/plain": [
       "<Figure size 432x288 with 1 Axes>"
      ]
     },
     "metadata": {
      "needs_background": "light"
     },
     "output_type": "display_data"
    }
   ],
   "source": [
    "sns.countplot(all_preds[\"final_pred\"])"
   ]
  },
  {
   "cell_type": "markdown",
   "metadata": {},
   "source": [
    "### Challenge 8"
   ]
  },
  {
   "cell_type": "code",
   "execution_count": 333,
   "metadata": {},
   "outputs": [
    {
     "name": "stdout",
     "output_type": "stream",
     "text": [
      "(500, 3)\n"
     ]
    },
    {
     "data": {
      "text/html": [
       "<div>\n",
       "<style scoped>\n",
       "    .dataframe tbody tr th:only-of-type {\n",
       "        vertical-align: middle;\n",
       "    }\n",
       "\n",
       "    .dataframe tbody tr th {\n",
       "        vertical-align: top;\n",
       "    }\n",
       "\n",
       "    .dataframe thead th {\n",
       "        text-align: right;\n",
       "    }\n",
       "</style>\n",
       "<table border=\"1\" class=\"dataframe\">\n",
       "  <thead>\n",
       "    <tr style=\"text-align: right;\">\n",
       "      <th></th>\n",
       "      <th>review_id</th>\n",
       "      <th>text</th>\n",
       "      <th>stars</th>\n",
       "    </tr>\n",
       "  </thead>\n",
       "  <tbody>\n",
       "    <tr>\n",
       "      <th>0</th>\n",
       "      <td>qOOv-A-vo3kMT0yi4jIIlg</td>\n",
       "      <td>Not bad for fast food.</td>\n",
       "      <td>4</td>\n",
       "    </tr>\n",
       "    <tr>\n",
       "      <th>1</th>\n",
       "      <td>uqxkO6B6w_sIDSAGr0k_0A</td>\n",
       "      <td>Une institution du café</td>\n",
       "      <td>4</td>\n",
       "    </tr>\n",
       "    <tr>\n",
       "      <th>2</th>\n",
       "      <td>0o_gGSU0m_4QyNLWEHKgug</td>\n",
       "      <td>J ai vraiment aimé !!!!</td>\n",
       "      <td>4</td>\n",
       "    </tr>\n",
       "    <tr>\n",
       "      <th>3</th>\n",
       "      <td>BKAj-fKWW5G3yt3xAkbUCQ</td>\n",
       "      <td>They have good poutine.</td>\n",
       "      <td>4</td>\n",
       "    </tr>\n",
       "    <tr>\n",
       "      <th>4</th>\n",
       "      <td>fAhp8IwuGNT0ywKmsCs6VQ</td>\n",
       "      <td>Very old and dirty vans.</td>\n",
       "      <td>1</td>\n",
       "    </tr>\n",
       "  </tbody>\n",
       "</table>\n",
       "</div>"
      ],
      "text/plain": [
       "                review_id                      text  stars\n",
       "0  qOOv-A-vo3kMT0yi4jIIlg    Not bad for fast food.      4\n",
       "1  uqxkO6B6w_sIDSAGr0k_0A   Une institution du café      4\n",
       "2  0o_gGSU0m_4QyNLWEHKgug   J ai vraiment aimé !!!!      4\n",
       "3  BKAj-fKWW5G3yt3xAkbUCQ   They have good poutine.      4\n",
       "4  fAhp8IwuGNT0ywKmsCs6VQ  Very old and dirty vans.      1"
      ]
     },
     "execution_count": 333,
     "metadata": {},
     "output_type": "execute_result"
    }
   ],
   "source": [
    "c8 = pd.read_json(\"./yelp_challenge_8_with_answers.jsonl\", lines = True)\n",
    "print(c8.shape)\n",
    "c8.head()"
   ]
  },
  {
   "cell_type": "markdown",
   "metadata": {},
   "source": [
    "##### Quick EDA"
   ]
  },
  {
   "cell_type": "code",
   "execution_count": 334,
   "metadata": {},
   "outputs": [
    {
     "data": {
      "text/plain": [
       "<matplotlib.axes._subplots.AxesSubplot at 0x25cb2d85948>"
      ]
     },
     "execution_count": 334,
     "metadata": {},
     "output_type": "execute_result"
    },
    {
     "data": {
      "image/png": "[encoded data removed]",
      "text/plain": [
       "<Figure size 432x288 with 1 Axes>"
      ]
     },
     "metadata": {
      "needs_background": "light"
     },
     "output_type": "display_data"
    }
   ],
   "source": [
    "sns.countplot(c8['stars'])"
   ]
  },
  {
   "cell_type": "markdown",
   "metadata": {},
   "source": [
    "##### Pre-processing"
   ]
  },
  {
   "cell_type": "code",
   "execution_count": 335,
   "metadata": {},
   "outputs": [
    {
     "name": "stderr",
     "output_type": "stream",
     "text": [
      "C:\\Users\\Tanner\\Anaconda3\\envs\\yelp\\lib\\site-packages\\bs4\\__init__.py:398: UserWarning: \"https://casetext.com/case/united-states-v-butterbaugh-2\" looks like a URL. Beautiful Soup is not an HTTP client. You should probably use an HTTP client like requests to get the document behind the URL, and feed that document to Beautiful Soup.\n",
      "  markup\n"
     ]
    },
    {
     "data": {
      "text/html": [
       "<div>\n",
       "<style scoped>\n",
       "    .dataframe tbody tr th:only-of-type {\n",
       "        vertical-align: middle;\n",
       "    }\n",
       "\n",
       "    .dataframe tbody tr th {\n",
       "        vertical-align: top;\n",
       "    }\n",
       "\n",
       "    .dataframe thead th {\n",
       "        text-align: right;\n",
       "    }\n",
       "</style>\n",
       "<table border=\"1\" class=\"dataframe\">\n",
       "  <thead>\n",
       "    <tr style=\"text-align: right;\">\n",
       "      <th></th>\n",
       "      <th>review_id</th>\n",
       "      <th>text</th>\n",
       "      <th>stars</th>\n",
       "    </tr>\n",
       "  </thead>\n",
       "  <tbody>\n",
       "    <tr>\n",
       "      <th>0</th>\n",
       "      <td>qOOv-A-vo3kMT0yi4jIIlg</td>\n",
       "      <td>not bad for fast food</td>\n",
       "      <td>4</td>\n",
       "    </tr>\n",
       "    <tr>\n",
       "      <th>1</th>\n",
       "      <td>uqxkO6B6w_sIDSAGr0k_0A</td>\n",
       "      <td>une institut du caf</td>\n",
       "      <td>4</td>\n",
       "    </tr>\n",
       "    <tr>\n",
       "      <th>2</th>\n",
       "      <td>0o_gGSU0m_4QyNLWEHKgug</td>\n",
       "      <td>j ai vraiment aim</td>\n",
       "      <td>4</td>\n",
       "    </tr>\n",
       "    <tr>\n",
       "      <th>3</th>\n",
       "      <td>BKAj-fKWW5G3yt3xAkbUCQ</td>\n",
       "      <td>they have good poutin</td>\n",
       "      <td>4</td>\n",
       "    </tr>\n",
       "    <tr>\n",
       "      <th>4</th>\n",
       "      <td>fAhp8IwuGNT0ywKmsCs6VQ</td>\n",
       "      <td>veri old and dirti van</td>\n",
       "      <td>1</td>\n",
       "    </tr>\n",
       "  </tbody>\n",
       "</table>\n",
       "</div>"
      ],
      "text/plain": [
       "                review_id                    text  stars\n",
       "0  qOOv-A-vo3kMT0yi4jIIlg   not bad for fast food      4\n",
       "1  uqxkO6B6w_sIDSAGr0k_0A     une institut du caf      4\n",
       "2  0o_gGSU0m_4QyNLWEHKgug       j ai vraiment aim      4\n",
       "3  BKAj-fKWW5G3yt3xAkbUCQ   they have good poutin      4\n",
       "4  fAhp8IwuGNT0ywKmsCs6VQ  veri old and dirti van      1"
      ]
     },
     "execution_count": 335,
     "metadata": {},
     "output_type": "execute_result"
    }
   ],
   "source": [
    "c8['text'] = c8['text'].apply(clean_text)\n",
    "c8.head()"
   ]
  },
  {
   "cell_type": "markdown",
   "metadata": {},
   "source": [
    "##### Load previous tokenizer"
   ]
  },
  {
   "cell_type": "code",
   "execution_count": 336,
   "metadata": {},
   "outputs": [],
   "source": [
    "X = c8['text'].fillna('').values\n",
    "y = pd.get_dummies(c8['stars'])\n",
    "\n",
    "with open('tokenizer.pickle', 'rb') as handle:\n",
    "    tokenizer = pickle.load(handle)\n",
    "    \n",
    "necc_cols = [1, 2, 3, 4, 5]\n",
    "for col in necc_cols:\n",
    "    if col not in y.columns:\n",
    "        y[col] = 0\n",
    "        \n",
    "y = y[necc_cols]\n",
    "y = y.values\n",
    "\n",
    "X_baseline = tokenizer.texts_to_matrix(X)\n",
    "X_lstm = tokenizer.texts_to_sequences(X)\n",
    "X_lstm = pad_sequences(X_lstm, maxlen=500)"
   ]
  },
  {
   "cell_type": "markdown",
   "metadata": {},
   "source": [
    "##### Load and compile models"
   ]
  },
  {
   "cell_type": "code",
   "execution_count": 337,
   "metadata": {},
   "outputs": [
    {
     "name": "stderr",
     "output_type": "stream",
     "text": [
      "C:\\Users\\Tanner\\Anaconda3\\envs\\yelp\\lib\\site-packages\\keras\\engine\\saving.py:341: UserWarning: No training configuration found in save file: the model was *not* compiled. Compile it manually.\n",
      "  warnings.warn('No training configuration found in save file: '\n"
     ]
    }
   ],
   "source": [
    "# Trying our pretrained models\n",
    "# Optimizer\n",
    "lr_schedule = keras.optimizers.schedules.ExponentialDecay(initial_learning_rate=.001, decay_steps=10000, decay_rate=0.9)\n",
    "optimizer = keras.optimizers.Adam(learning_rate=lr_schedule, beta_1=0.9, beta_2=0.99, amsgrad=False, clipvalue=.3)\n",
    "optimizer_baseline = keras.optimizers.Adam(learning_rate=.0007, beta_1=0.9, beta_2=0.99, amsgrad=False, clipvalue=.3)\n",
    "\n",
    "# Baseline\n",
    "baseline = load_model('./models/baseline.h5')\n",
    "\n",
    "baseline.compile(loss=my_custom_loss,\n",
    "              optimizer=optimizer,\n",
    "              metrics=['accuracy', 'mean_absolute_error'])\n",
    "\n",
    "# LSTM\n",
    "lstm = load_model('./models/lstm.h5')\n",
    "\n",
    "lstm.compile(loss=my_custom_loss,\n",
    "              optimizer=optimizer,\n",
    "              metrics=['accuracy', 'mean_absolute_error'])\n",
    "\n",
    "# Bidirectional LSTM\n",
    "bidir = load_model('./models/bidirectional_lstm.h5')\n",
    "\n",
    "bidir.compile(loss=my_custom_loss,\n",
    "              optimizer=optimizer,\n",
    "              metrics=['accuracy', 'mean_absolute_error'])\n",
    "\n",
    "# One vs. all\n",
    "lstm_1 = load_model('./models/one_star.h5')\n",
    "\n",
    "lstm_1.compile(loss=my_custom_loss_ova,\n",
    "              optimizer=optimizer,\n",
    "              metrics=['accuracy', 'mean_absolute_error'])\n",
    "\n",
    "lstm_2 = load_model('./models/two_star.h5')\n",
    "\n",
    "lstm_2.compile(loss=my_custom_loss_ova,\n",
    "              optimizer=optimizer,\n",
    "              metrics=['accuracy', 'mean_absolute_error'])\n",
    "\n",
    "lstm_3 = load_model('./models/three_star.h5')\n",
    "\n",
    "lstm_3.compile(loss=my_custom_loss_ova,\n",
    "              optimizer=optimizer,\n",
    "              metrics=['accuracy', 'mean_absolute_error'])\n",
    "\n",
    "lstm_4 = load_model('./models/four_star.h5')\n",
    "\n",
    "lstm_4.compile(loss=my_custom_loss_ova,\n",
    "              optimizer=optimizer,\n",
    "              metrics=['accuracy', 'mean_absolute_error'])\n",
    "\n",
    "lstm_5 = load_model('./models/five_star.h5')\n",
    "\n",
    "lstm_5.compile(loss=my_custom_loss_ova,\n",
    "              optimizer=optimizer,\n",
    "              metrics=['accuracy', 'mean_absolute_error'])"
   ]
  },
  {
   "cell_type": "markdown",
   "metadata": {},
   "source": [
    "##### Evaluate Models"
   ]
  },
  {
   "cell_type": "code",
   "execution_count": 338,
   "metadata": {},
   "outputs": [
    {
     "name": "stdout",
     "output_type": "stream",
     "text": [
      "500/500 [==============================] - 0s 274us/step\n",
      "[1.2652510585784913, 0.6240000128746033, 0.18434946238994598]\n",
      "500/500 [==============================] - 0s 984us/step\n",
      "[1.0746466426849366, 0.6340000033378601, 0.15916605293750763]\n",
      "500/500 [==============================] - 2s 5ms/step\n",
      "[1.0040428504943848, 0.6359999775886536, 0.14881528913974762]\n",
      "[0.6, 0.61]\n"
     ]
    }
   ],
   "source": [
    "# Baseline\n",
    "print(baseline.evaluate(X_baseline, y))\n",
    "\n",
    "# LSTM\n",
    "print(lstm.evaluate(X_lstm, y))\n",
    "\n",
    "# Bidirectional LSTM\n",
    "print(bidir.evaluate(X_lstm, y))\n",
    "\n",
    "# One vs. All\n",
    "one_star_ps = lstm_1.predict(X_lstm)\n",
    "two_star_ps = lstm_2.predict(X_lstm)\n",
    "three_star_ps = lstm_3.predict(X_lstm)\n",
    "four_star_ps = lstm_4.predict(X_lstm)\n",
    "five_star_ps = lstm_5.predict(X_lstm)\n",
    "\n",
    "data = [one_star_ps.flatten(), two_star_ps.flatten(), three_star_ps.flatten(), four_star_ps.flatten(), five_star_ps.flatten()]\n",
    "cols = [1, 2, 3, 4, 5]\n",
    "ps = pd.DataFrame(data=data, index=cols).T\n",
    "\n",
    "ps[\"ova_pred\"] = ps.idxmax(axis=1)\n",
    "\n",
    "print([MAE(ps[\"ova_pred\"], pd.DataFrame(data=y, columns=cols).idxmax(axis=1)), Accuracy(ps[\"ova_pred\"], pd.DataFrame(data=y, columns=cols).idxmax(axis=1))])"
   ]
  },
  {
   "cell_type": "markdown",
   "metadata": {},
   "source": [
    "##### Attempt Ensemble"
   ]
  },
  {
   "cell_type": "code",
   "execution_count": 339,
   "metadata": {},
   "outputs": [
    {
     "name": "stdout",
     "output_type": "stream",
     "text": [
      "[0.504, 0.638]\n"
     ]
    }
   ],
   "source": [
    "# Baseline\n",
    "baseline_preds = pd.DataFrame(baseline.predict(X_baseline), columns=cols)\n",
    "baseline_preds['baseline_pred'] = baseline_preds.idxmax(axis=1)\n",
    "\n",
    "# LSTM\n",
    "lstm_preds = pd.DataFrame(lstm.predict(X_lstm), columns=cols)\n",
    "lstm_preds['lstm_pred'] = lstm_preds.idxmax(axis=1)\n",
    "\n",
    "# Bidirectional LSTM\n",
    "bidir_preds = pd.DataFrame(bidir.predict(X_lstm), columns=cols)\n",
    "bidir_preds['bidir_pred'] = bidir_preds.idxmax(axis=1)\n",
    "\n",
    "# One vs. all\n",
    "ova_preds = ps\n",
    "\n",
    "all_preds = pd.DataFrame([baseline_preds['baseline_pred'], lstm_preds['lstm_pred'], bidir_preds['bidir_pred'], ova_preds['ova_pred']]).T\n",
    "all_preds[\"final_pred\"] = all_preds.apply(vote, axis=1)\n",
    "\n",
    "print([MAE(all_preds[\"final_pred\"], pd.DataFrame(data=y, columns=cols).idxmax(axis=1)), Accuracy(all_preds[\"final_pred\"], pd.DataFrame(data=y, columns=cols).idxmax(axis=1))])"
   ]
  },
  {
   "cell_type": "markdown",
   "metadata": {},
   "source": [
    "##### Misc."
   ]
  },
  {
   "cell_type": "code",
   "execution_count": 340,
   "metadata": {},
   "outputs": [
    {
     "data": {
      "text/plain": [
       "<matplotlib.axes._subplots.AxesSubplot at 0x25ca2622e88>"
      ]
     },
     "execution_count": 340,
     "metadata": {},
     "output_type": "execute_result"
    },
    {
     "data": {
      "image/png": "[encoded data removed]",
      "text/plain": [
       "<Figure size 432x288 with 1 Axes>"
      ]
     },
     "metadata": {
      "needs_background": "light"
     },
     "output_type": "display_data"
    }
   ],
   "source": [
    "sns.countplot(all_preds[\"final_pred\"])"
   ]
  }
 ],
 "metadata": {
  "kernelspec": {
   "display_name": "Python 3",
   "language": "python",
   "name": "python3"
  },
  "language_info": {
   "codemirror_mode": {
    "name": "ipython",
    "version": 3
   },
   "file_extension": ".py",
   "mimetype": "text/x-python",
   "name": "python",
   "nbconvert_exporter": "python",
   "pygments_lexer": "ipython3",
   "version": "3.7.7"
  }
 },
 "nbformat": 4,
 "nbformat_minor": 2
}
