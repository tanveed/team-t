{
 "cells": [
  {
   "cell_type": "markdown",
   "metadata": {},
   "source": [
    "# NLP: Yelp Review to Rating\n",
    "### Authors: Tanvee Desai and Tanner Arrizabalaga\n",
    "\n",
    "Hello! In this project, we will be looking over Yelp reviews (data available here: https://www.yelp.com/dataset) and utilizing ML/DL to accurately predict what the reviews star rating is based solely on text.\n",
    "\n",
    "This project is split into the following parts\n",
    "- Libraries\n",
    "- EDA\n",
    "- Data Cleaning\n",
    "    - Stop word removal, HTML parsing, punctuation removal, etc.\n",
    "    - Creation of a cleaned *and* stemmed dataset\n",
    "- Model Implementation\n",
    "    - Simple BOW Model Neural Network\n",
    "    - LSTM\n",
    "    - One vs. All LSTM Approach\n",
    "- Exploring Challenges\n",
    "    - Challenge 5\n",
    "    - Challenge 6"
   ]
  },
  {
   "cell_type": "markdown",
   "metadata": {},
   "source": [
    "### Importing necessary libraries"
   ]
  },
  {
   "cell_type": "code",
   "execution_count": 34,
   "metadata": {},
   "outputs": [],
   "source": [
    "# General Libraries\n",
    "import json\n",
    "import sys\n",
    "import numpy as np\n",
    "import pandas as pd\n",
    "import seaborn as sns\n",
    "import matplotlib.pyplot as plt\n",
    "import itertools\n",
    "\n",
    "# NLP\n",
    "import nltk\n",
    "import re\n",
    "from nltk.corpus import stopwords\n",
    "from bs4 import BeautifulSoup\n",
    "from nltk.stem import PorterStemmer\n",
    "\n",
    "\n",
    "# ML/DL\n",
    "import tensorflow as tf\n",
    "import pickle\n",
    "\n",
    "from sklearn.preprocessing import LabelBinarizer, LabelEncoder\n",
    "from sklearn.metrics import confusion_matrix\n",
    "from sklearn.model_selection import train_test_split\n",
    "\n",
    "from tensorflow import keras\n",
    "from keras import Sequential\n",
    "from keras.layers import Dense, Activation, Dropout, Embedding, Conv1D, MaxPooling1D, LSTM, BatchNormalization, SpatialDropout1D, Bidirectional\n",
    "from keras.preprocessing.sequence import pad_sequences\n",
    "from keras.preprocessing import text, sequence\n",
    "from keras import utils\n",
    "from keras import regularizers\n",
    "from keras.models import load_model"
   ]
  },
  {
   "cell_type": "code",
   "execution_count": null,
   "metadata": {},
   "outputs": [],
   "source": [
    "yelp = pd.read_json(\"./yelp_review_training_dataset.jsonl\", lines = True)\n",
    "yelp.head()"
   ]
  },
  {
   "cell_type": "markdown",
   "metadata": {},
   "source": [
    "How large is the data?"
   ]
  },
  {
   "cell_type": "code",
   "execution_count": null,
   "metadata": {},
   "outputs": [],
   "source": [
    "yelp.shape"
   ]
  },
  {
   "cell_type": "markdown",
   "metadata": {},
   "source": [
    "### EDA - Stars\n",
    "Not too much to go off of, but let's get a general understanding of our data. How many nulls do we have?"
   ]
  },
  {
   "cell_type": "code",
   "execution_count": null,
   "metadata": {},
   "outputs": [],
   "source": [
    "yelp.isna().sum()"
   ]
  },
  {
   "cell_type": "code",
   "execution_count": null,
   "metadata": {},
   "outputs": [],
   "source": [
    "sns.countplot(yelp['stars'])"
   ]
  },
  {
   "cell_type": "markdown",
   "metadata": {},
   "source": [
    "One thing we can potentially look at is whether or not the reviews are balanced. Let's say >=4 is positive, and <4 is negative. If we do see a significant difference in positive and negative reviews, we can balance it before training."
   ]
  },
  {
   "cell_type": "code",
   "execution_count": null,
   "metadata": {},
   "outputs": [],
   "source": [
    "def pos_or_neg(x):\n",
    "    if x >= 4:\n",
    "        return \"Positive\"\n",
    "    else:\n",
    "        return \"Negative\"\n",
    "    \n",
    "yelp['category'] = yelp['stars'].apply(pos_or_neg)\n",
    "\n",
    "sns.countplot(yelp['category'])\n",
    "num_pos = np.count_nonzero(yelp['category'] == 'Positive')\n",
    "num_neg = np.count_nonzero(yelp['category'] == 'Negative')\n",
    "print(\"Positive to negative review ratio: \", num_pos / num_neg)"
   ]
  },
  {
   "cell_type": "markdown",
   "metadata": {},
   "source": [
    "There are roughly 1 and 2/3 times as many positive reviews as negative reviews. We will first try no class balancing when building the model, but may turn to class balancing later on."
   ]
  },
  {
   "cell_type": "markdown",
   "metadata": {},
   "source": [
    "### Data Cleaning - Text"
   ]
  },
  {
   "cell_type": "code",
   "execution_count": 35,
   "metadata": {},
   "outputs": [
    {
     "name": "stdout",
     "output_type": "stream",
     "text": [
      "{\"you'll\", 'only', 'over', 'or', 'to', \"couldn't\", 'off', 'do', 'this', 'against', 'between', 'above', 'same', 'most', \"isn't\", 'weren', \"should've\", 'such', 'should', 're', 'her', 'just', 'not', 'and', 'down', 'nor', 'couldn', 'we', \"mightn't\", 'wouldn', 'again', 'up', 'a', 'the', 'than', 'further', 'she', 'if', 'through', 'ours', \"she's\", \"weren't\", 'each', 'needn', \"doesn't\", 'am', 'after', 'on', 'himself', 'was', 'of', 'too', \"shouldn't\", 'its', 'mightn', 'it', 'so', 'aren', \"hasn't\", 'some', 'below', \"you're\", \"wouldn't\", 'y', \"haven't\", 'them', 'didn', 'won', 'where', 'wasn', 'me', 'having', 'no', 'from', \"hadn't\", 'out', 'all', 'into', 'hasn', \"aren't\", 'theirs', 'haven', \"wasn't\", 'our', 'herself', 'can', 'but', 'shouldn', 'him', 'has', 'for', 'being', 'itself', 'll', 'i', 'his', 'were', 'hadn', 've', \"needn't\", 'ain', 'here', 'are', 'by', 'with', 'isn', 'more', 'that', 'does', 'yours', 'doing', \"it's\", 'these', 'don', 'now', \"that'll\", 'o', \"you'd\", 'ma', 'doesn', 's', 'had', 'have', 'both', 'there', 'been', \"didn't\", 'shan', 'as', 'yourself', 'when', 'once', 'themselves', 'until', 'while', 'will', 'is', 'before', 'at', 'hers', 'they', 'you', 'during', 'because', \"won't\", 'my', 'yourselves', 'then', 'how', 't', 'ourselves', 'be', 'about', 'did', 'who', 'he', 'under', 'in', 'their', 'those', 'whom', \"mustn't\", 'any', 'why', 'own', 'few', 'other', 'mustn', \"shan't\", 'm', \"don't\", 'myself', 'your', 'which', \"you've\", 'very', 'an', 'd', 'what'}\n"
     ]
    }
   ],
   "source": [
    "REPLACE_BY_SPACE_RE = re.compile('[/(){}\\[\\]\\|@,;]')\n",
    "BAD_SYMBOLS_RE = re.compile('[^0-9a-z #+_]')\n",
    "STOPWORDS = set(stopwords.words('english'))\n",
    "print(STOPWORDS)\n",
    "\n",
    "def adjust_stopwords(stopwords):\n",
    "    words_to_keep = set('nor', 'not', 'very', 'no')\n",
    "\n",
    "def clean_text(text):\n",
    "    \"\"\"\n",
    "        text: a string\n",
    "        \n",
    "        return: modified initial string\n",
    "    \"\"\"\n",
    "    new_text = BeautifulSoup(text, \"lxml\").text # HTML decoding\n",
    "    new_text = new_text.lower() # lowercase text\n",
    "    new_text = REPLACE_BY_SPACE_RE.sub(' ', new_text) # replace REPLACE_BY_SPACE_RE symbols by space in text\n",
    "    new_text = BAD_SYMBOLS_RE.sub(' ', new_text) # delete symbols which are in BAD_SYMBOLS_RE from text\n",
    "   \n",
    "    ps = PorterStemmer()\n",
    "    \n",
    "    new_text = ' '.join(ps.stem(word) for word in new_text.split()) # keeping all words, no stop word removal\n",
    "#     new_text = ' '.join(ps.stem(word) for word in new_text.split() if word not in STOPWORDS) # delete stopwords from text and stem\n",
    "    return new_text\n"
   ]
  },
  {
   "cell_type": "code",
   "execution_count": null,
   "metadata": {},
   "outputs": [],
   "source": [
    "yelp['text'] = yelp['text'].apply(clean_text)\n",
    "yelp.to_csv('cleaned_yelp_stemmed.csv')"
   ]
  },
  {
   "cell_type": "code",
   "execution_count": null,
   "metadata": {},
   "outputs": [],
   "source": [
    "text_1 = \"\\\"Good morning, cocktails for you?\\\" \\nWait...what? Oh...it's Vegas!\\n\\nDining here, you best not be dieting because this place is literally the definition of excess, but in a good way. I'm a sucker for benedicts so that was awesome. \\nService was really great too and the staff was so welcoming. It was our first stop just after landing so really appreciate the service.\\n\\nBack in Hawaii this reminds me of Zippys or Anna Millers - that home feeling. Prices are a bit high, but for what you get it's totally worth it. Will remember this place if I ever return to Vegas in the future.\"\n",
    "text_2 = \"80 bucks, thirty minutes to fix my shattered iPhone screen. Verizon won't help you so go here\"\n",
    "text_3 = \"Tr\\u00e8s grand caf\\u00e9, mais aussi calme et reposant, je m'y suis arr\\u00eat\\u00e9 alors que j'\\u00e9tais dans le coin.\\n\\nOn peu y mang\\u00e9 le midi, prendre une p\\u00e2tisserie ou un caf\\u00e9/th\\u00e9. \\n\\nJ'ai prit un th\\u00e9 qui \\u00e9tait vraiment bon, et je me suis pos\\u00e9 devant une des grandes baies vitr\\u00e9es sur un coussin et j'ai relax\\u00e9 compl\\u00e8tement pendant 2 heures. \\n\\nMais c'est aussi une coop\\u00e9rative d'artiste, avec une estrade etc.\\n\\nIl y a aussi un magasin Bio \\u00e0 l'entr\\u00e9e o\\u00f9 vous retrouverez des savons, huile d'olive et plein d'autres produits.\"\n",
    "text_4 = \"Sadly, as of July 28, 2016, Silverstein bakery is permanently closed. I went there today in person and found the bad news posted on their door. :(\"\n",
    "text_5 = \"I went here  they were about to close but the cashier was especially helpful ..but I guess they were tired of work...\"\n",
    "\n",
    "clean_text(text_1)"
   ]
  },
  {
   "cell_type": "markdown",
   "metadata": {},
   "source": [
    "# Model Implementation"
   ]
  },
  {
   "cell_type": "markdown",
   "metadata": {},
   "source": [
    "### Evaluation\n",
    "#### 1. Average Star Error (Average Absolute offset between predicted and true number of stars)\n",
    "#### 2. Accuracy (Exact Match -- Number of exactly predicted star ratings / total samples)"
   ]
  },
  {
   "cell_type": "code",
   "execution_count": 24,
   "metadata": {},
   "outputs": [],
   "source": [
    "def MAE(y_true, y_pred):\n",
    "    diffs = np.abs(y_true - y_pred)\n",
    "    loss = np.mean(diffs)\n",
    "    return loss\n",
    "\n",
    "def Accuracy(y_true, y_pred):\n",
    "    correct = y_true == y_pred\n",
    "    cor_count = np.count_nonzero(correct)\n",
    "    return cor_count / len(y_true)"
   ]
  },
  {
   "cell_type": "markdown",
   "metadata": {},
   "source": [
    "### Train/Test Split (Unbalanced and balanced)"
   ]
  },
  {
   "cell_type": "code",
   "execution_count": 9,
   "metadata": {},
   "outputs": [
    {
     "data": {
      "text/html": [
       "<div>\n",
       "<style scoped>\n",
       "    .dataframe tbody tr th:only-of-type {\n",
       "        vertical-align: middle;\n",
       "    }\n",
       "\n",
       "    .dataframe tbody tr th {\n",
       "        vertical-align: top;\n",
       "    }\n",
       "\n",
       "    .dataframe thead th {\n",
       "        text-align: right;\n",
       "    }\n",
       "</style>\n",
       "<table border=\"1\" class=\"dataframe\">\n",
       "  <thead>\n",
       "    <tr style=\"text-align: right;\">\n",
       "      <th></th>\n",
       "      <th>Unnamed: 0</th>\n",
       "      <th>review_id</th>\n",
       "      <th>text</th>\n",
       "      <th>stars</th>\n",
       "      <th>category</th>\n",
       "    </tr>\n",
       "  </thead>\n",
       "  <tbody>\n",
       "    <tr>\n",
       "      <th>0</th>\n",
       "      <td>0</td>\n",
       "      <td>Q1sbwvVQXV2734tPgoKj4Q</td>\n",
       "      <td>total bill for thi horribl servic over 8g thes...</td>\n",
       "      <td>1</td>\n",
       "      <td>Negative</td>\n",
       "    </tr>\n",
       "    <tr>\n",
       "      <th>1</th>\n",
       "      <td>1</td>\n",
       "      <td>GJXCdrto3ASJOqKeVWPi6Q</td>\n",
       "      <td>i ador travi at the hard rock s new kelli card...</td>\n",
       "      <td>5</td>\n",
       "      <td>Positive</td>\n",
       "    </tr>\n",
       "    <tr>\n",
       "      <th>2</th>\n",
       "      <td>2</td>\n",
       "      <td>2TzJjDVDEuAW6MR5Vuc1ug</td>\n",
       "      <td>i have to say that thi offic realli ha it toge...</td>\n",
       "      <td>5</td>\n",
       "      <td>Positive</td>\n",
       "    </tr>\n",
       "    <tr>\n",
       "      <th>3</th>\n",
       "      <td>3</td>\n",
       "      <td>yi0R0Ugj_xUx_Nek0-_Qig</td>\n",
       "      <td>went in for a lunch steak sandwich wa delici a...</td>\n",
       "      <td>5</td>\n",
       "      <td>Positive</td>\n",
       "    </tr>\n",
       "    <tr>\n",
       "      <th>4</th>\n",
       "      <td>4</td>\n",
       "      <td>11a8sVPMUFtaC7_ABRkmtw</td>\n",
       "      <td>today wa my second out of three session i had ...</td>\n",
       "      <td>1</td>\n",
       "      <td>Negative</td>\n",
       "    </tr>\n",
       "  </tbody>\n",
       "</table>\n",
       "</div>"
      ],
      "text/plain": [
       "   Unnamed: 0               review_id  \\\n",
       "0           0  Q1sbwvVQXV2734tPgoKj4Q   \n",
       "1           1  GJXCdrto3ASJOqKeVWPi6Q   \n",
       "2           2  2TzJjDVDEuAW6MR5Vuc1ug   \n",
       "3           3  yi0R0Ugj_xUx_Nek0-_Qig   \n",
       "4           4  11a8sVPMUFtaC7_ABRkmtw   \n",
       "\n",
       "                                                text  stars  category  \n",
       "0  total bill for thi horribl servic over 8g thes...      1  Negative  \n",
       "1  i ador travi at the hard rock s new kelli card...      5  Positive  \n",
       "2  i have to say that thi offic realli ha it toge...      5  Positive  \n",
       "3  went in for a lunch steak sandwich wa delici a...      5  Positive  \n",
       "4  today wa my second out of three session i had ...      1  Negative  "
      ]
     },
     "execution_count": 9,
     "metadata": {},
     "output_type": "execute_result"
    }
   ],
   "source": [
    "yelp = pd.read_csv('cleaned_yelp_stemmed.csv')\n",
    "yelp.head()"
   ]
  },
  {
   "cell_type": "code",
   "execution_count": null,
   "metadata": {},
   "outputs": [],
   "source": [
    "X = yelp['text'].fillna('').values\n",
    "y = yelp['stars']\n",
    "\n",
    "X_train, X_test, y_train, y_test = train_test_split(X, y, test_size=0.30, random_state=42)"
   ]
  },
  {
   "cell_type": "markdown",
   "metadata": {},
   "source": [
    "### Baseline Sequential Model"
   ]
  },
  {
   "cell_type": "code",
   "execution_count": null,
   "metadata": {},
   "outputs": [],
   "source": [
    "max_words = 3000\n",
    "tokenizer = text.Tokenizer(num_words=max_words, char_level=False)\n",
    "\n",
    "tokenizer.fit_on_texts(X_train)\n",
    "X_train = tokenizer.texts_to_matrix(X_train)\n",
    "X_test = tokenizer.texts_to_matrix(X_test)\n",
    "\n",
    "encoder = LabelEncoder()\n",
    "encoder.fit(y_train)\n",
    "y_train = encoder.transform(y_train)\n",
    "y_test = encoder.transform(y_test)\n",
    "\n",
    "num_classes = np.max(y_train) + 1\n",
    "y_train = utils.to_categorical(y_train, num_classes)\n",
    "y_test = utils.to_categorical(y_test, num_classes)\n",
    "\n",
    "print('X_train shape:', X_train.shape)\n",
    "print('X_test shape:', X_test.shape)\n",
    "print('y_train shape:', y_train.shape)\n",
    "print('y_test shape:', y_test.shape)"
   ]
  },
  {
   "cell_type": "markdown",
   "metadata": {},
   "source": [
    "Let's save the tokenizer as well for our test submission file script."
   ]
  },
  {
   "cell_type": "code",
   "execution_count": null,
   "metadata": {},
   "outputs": [],
   "source": [
    "# saving\n",
    "with open('tokenizer.pickle', 'wb') as handle:\n",
    "    pickle.dump(tokenizer, handle, protocol=pickle.HIGHEST_PROTOCOL)\n",
    "\n",
    "# loading\n",
    "with open('tokenizer.pickle', 'rb') as handle:\n",
    "    tokenizer = pickle.load(handle)"
   ]
  },
  {
   "cell_type": "markdown",
   "metadata": {},
   "source": [
    "Here, we are computing a single model, but in future we will optimize on several parameters, listed below\n",
    "* Batch size\n",
    "* Learning rate\n",
    "* Gradient clipping\n",
    "* Drop out\n",
    "* Batch normalization\n",
    "* Optimizers\n",
    "* Regularization\n",
    "\n",
    "After some tests, the main variations I noticed were from the learning rate, regularization, and the choice of the optimizer. With that being said, this baseline model will use **ADAM with a learning rate of .0001 and regularization (kernel, bias, and activity)**"
   ]
  },
  {
   "cell_type": "code",
   "execution_count": null,
   "metadata": {
    "scrolled": false
   },
   "outputs": [],
   "source": [
    "batch_size = 512\n",
    "epochs = 10\n",
    "\n",
    "lr_schedule = keras.optimizers.schedules.ExponentialDecay(\n",
    "    initial_learning_rate=.0001,\n",
    "    decay_steps=10000,\n",
    "    decay_rate=0.9)\n",
    "\n",
    "optimizer = keras.optimizers.Adam(learning_rate=lr_schedule, beta_1=0.9, beta_2=0.95, amsgrad=False)\n",
    "\n",
    "model = Sequential()\n",
    "model.add(Dense(512, input_shape=(max_words,), kernel_regularizer=regularizers.l1_l2(l1=1e-5, l2=1e-4),\n",
    "          bias_regularizer=regularizers.l2(1e-4),\n",
    "          activity_regularizer=regularizers.l2(1e-5)))\n",
    "model.add(BatchNormalization())\n",
    "model.add(Activation('relu'))\n",
    "model.add(Dropout(0.3))\n",
    "model.add(Dense(5))\n",
    "model.add(Activation('softmax'))\n",
    "\n",
    "model.compile(loss='categorical_crossentropy',\n",
    "              optimizer=optimizer,\n",
    "              metrics=['accuracy'])\n",
    "\n",
    "history = model.fit(X_train, y_train,\n",
    "                    batch_size=batch_size,\n",
    "                    epochs=epochs,\n",
    "                    verbose=1,\n",
    "                    validation_split=0.2)"
   ]
  },
  {
   "cell_type": "code",
   "execution_count": null,
   "metadata": {},
   "outputs": [],
   "source": [
    "score = model.evaluate(X_test, y_test,\n",
    "                       batch_size=batch_size, verbose=1)\n",
    "print('Test accuracy:', score[1])"
   ]
  },
  {
   "cell_type": "code",
   "execution_count": null,
   "metadata": {},
   "outputs": [],
   "source": [
    "train_predictions = model.predict(X_train)\n",
    "test_predictions = model.predict(X_test)"
   ]
  },
  {
   "cell_type": "code",
   "execution_count": null,
   "metadata": {},
   "outputs": [],
   "source": [
    "plt.title('Loss')\n",
    "plt.plot(history.history['loss'], label='train')\n",
    "plt.plot(history.history['val_loss'], label='test')\n",
    "plt.legend()\n",
    "plt.show()"
   ]
  },
  {
   "cell_type": "code",
   "execution_count": null,
   "metadata": {},
   "outputs": [],
   "source": [
    "plt.title('Accuracy')\n",
    "plt.plot(history.history['accuracy'], label='train')\n",
    "plt.plot(history.history['val_accuracy'], label='test')\n",
    "plt.legend()\n",
    "plt.show()"
   ]
  },
  {
   "cell_type": "code",
   "execution_count": null,
   "metadata": {},
   "outputs": [],
   "source": [
    "model.save('./models/baseline.h5')"
   ]
  },
  {
   "cell_type": "markdown",
   "metadata": {},
   "source": [
    "### Now training with several parameter changes"
   ]
  },
  {
   "cell_type": "code",
   "execution_count": null,
   "metadata": {},
   "outputs": [],
   "source": [
    "batch_sizes = [128, 256, 512]\n",
    "epochs = [5]\n",
    "learning_rates = [.01, .001, .0001]\n",
    "dropout = [False, True]\n",
    "batch_norm = [False, True]\n",
    "regularization = [True]\n",
    "optimizers = [\"SGD\", \"RMSProp\", \"ADAM\"]\n",
    "\n",
    "all_lists = [batch_sizes, epochs, learning_rates, dropout, batch_norm, regularization, optimizers]\n",
    "\n",
    "params_to_test = list(itertools.product(*all_lists))\n",
    "print(len(params_to_test))"
   ]
  },
  {
   "cell_type": "code",
   "execution_count": null,
   "metadata": {},
   "outputs": [],
   "source": [
    "models = {}\n",
    "histories = {}\n",
    "scores = {}\n",
    "\n",
    "for params in params_to_test:\n",
    "    print(params)\n",
    "    batch_size, epochs, learning_rate, dropout, batch_norm, regularization, opt = params\n",
    "    \n",
    "    if opt == \"SGD\":\n",
    "        optimizer = keras.optimizers.SGD(learning_rate=learning_rate, momentum=0.0, nesterov=False)\n",
    "    elif opt == \"RMSProp\":\n",
    "        optimizer = keras.optimizers.RMSprop(learning_rate=learning_rate, rho=0.9)\n",
    "    elif opt == \"ADAM\":\n",
    "        optimizer = keras.optimizers.Adam(learning_rate=learning_rate, beta_1=0.9, beta_2=0.99, amsgrad=False)\n",
    "    else:\n",
    "        optimizer = keras.optimizers.Adadelta(learning_rate=learning_rate, rho=0.95)\n",
    "    \n",
    "    model = Sequential()\n",
    "    model.add(Dense(512, input_shape=(max_words,), kernel_regularizer=regularizers.l1_l2(l1=1e-5, l2=1e-4)))\n",
    "    \n",
    "    # Check Batch Normalization\n",
    "    if batch_norm:\n",
    "        model.add(BatchNormalization())\n",
    "    \n",
    "    model.add(Activation('relu'))\n",
    "    \n",
    "    # Check Dropout\n",
    "    if dropout:\n",
    "        model.add(Dropout(0.2))\n",
    "    \n",
    "    model.add(Dense(5))\n",
    "    model.add(Activation('softmax'))\n",
    "\n",
    "    model.compile(loss='categorical_crossentropy',\n",
    "                  optimizer=optimizer,\n",
    "                  metrics=['accuracy'])\n",
    "\n",
    "    history = model.fit(X_train, y_train,\n",
    "                        batch_size=batch_size,\n",
    "                        epochs=epochs,\n",
    "                        verbose=0,\n",
    "                        validation_split=0.1)\n",
    "    \n",
    "    models[params] = model\n",
    "    histories[params] = history\n",
    "    \n",
    "    score = model.evaluate(X_test, y_test, batch_size=batch_size, verbose=1)\n",
    "    print(score)\n",
    "    \n",
    "    scores[params] = score"
   ]
  },
  {
   "cell_type": "markdown",
   "metadata": {},
   "source": [
    "### LSTM Model\n"
   ]
  },
  {
   "cell_type": "markdown",
   "metadata": {},
   "source": [
    "#### Specific Data Prep"
   ]
  },
  {
   "cell_type": "code",
   "execution_count": null,
   "metadata": {},
   "outputs": [],
   "source": [
    "X = yelp['text'].fillna('').values\n",
    "y = pd.get_dummies(yelp['stars']).values\n",
    "\n",
    "X_train, X_test, y_train, y_test = train_test_split(X, y, test_size=0.3, random_state=42)\n",
    "print(X_train.shape, y_train.shape)\n",
    "print(X_test.shape, y_test.shape)\n",
    "\n",
    "max_words = 3000\n",
    "maxlen = 400\n",
    "\n",
    "X_train = tokenizer.texts_to_sequences(X_train)\n",
    "X_test = tokenizer.texts_to_sequences(X_test)\n",
    "\n",
    "# For the LSTM, we are going to pad our sequences\n",
    "X_train = pad_sequences(X_train, maxlen=maxlen)\n",
    "X_test = pad_sequences(X_test, maxlen=maxlen)"
   ]
  },
  {
   "cell_type": "markdown",
   "metadata": {},
   "source": [
    "#### LSTM #1"
   ]
  },
  {
   "cell_type": "code",
   "execution_count": null,
   "metadata": {},
   "outputs": [],
   "source": [
    "batch_size = 512\n",
    "epochs = 10\n",
    "\n",
    "lr_schedule = keras.optimizers.schedules.ExponentialDecay(\n",
    "    initial_learning_rate=.001,\n",
    "    decay_steps=10000,\n",
    "    decay_rate=0.9)\n",
    "\n",
    "optimizer = keras.optimizers.Adam(learning_rate=lr_schedule, beta_1=0.9, beta_2=0.99, amsgrad=False, clipvalue=.3)\n",
    "\n",
    "lstm = Sequential()\n",
    "lstm.add(Embedding(max_words, 128, input_length=maxlen))\n",
    "lstm.add(SpatialDropout1D(0.2))\n",
    "lstm.add(Conv1D(64, 5, activation='relu', kernel_regularizer=regularizers.l1_l2(l1=1e-5, l2=1e-4),\n",
    "          bias_regularizer=regularizers.l2(1e-4)))\n",
    "lstm.add(MaxPooling1D(pool_size=4))\n",
    "lstm.add(LSTM(128, dropout=0.2, recurrent_dropout=0.2))\n",
    "lstm.add(BatchNormalization())\n",
    "lstm.add(Dense(5, activation='sigmoid'))\n",
    "\n",
    "lstm.compile(loss='categorical_crossentropy',\n",
    "              optimizer=optimizer,\n",
    "              metrics=['accuracy'])\n",
    "\n",
    "history = lstm.fit(X_train, y_train,\n",
    "                    batch_size=batch_size,\n",
    "                    epochs=epochs,\n",
    "                    verbose=1,\n",
    "                    validation_split=0.2)"
   ]
  },
  {
   "cell_type": "markdown",
   "metadata": {},
   "source": [
    "#### LSTM #1: Evaluation"
   ]
  },
  {
   "cell_type": "code",
   "execution_count": null,
   "metadata": {},
   "outputs": [],
   "source": [
    "score = lstm.evaluate(X_test, y_test,\n",
    "                       batch_size=batch_size, verbose=1)\n",
    "print('Test accuracy:', score[1])"
   ]
  },
  {
   "cell_type": "code",
   "execution_count": null,
   "metadata": {},
   "outputs": [],
   "source": [
    "lstm.summary()"
   ]
  },
  {
   "cell_type": "code",
   "execution_count": null,
   "metadata": {},
   "outputs": [],
   "source": [
    "plt.title('Loss')\n",
    "plt.plot(history.history['loss'], label='train')\n",
    "plt.plot(history.history['val_loss'], label='test')\n",
    "plt.legend()\n",
    "plt.show()"
   ]
  },
  {
   "cell_type": "code",
   "execution_count": null,
   "metadata": {},
   "outputs": [],
   "source": [
    "plt.title('Accuracy')\n",
    "plt.plot(history.history['accuracy'], label='train')\n",
    "plt.plot(history.history['val_accuracy'], label='test')\n",
    "plt.legend()\n",
    "plt.show()"
   ]
  },
  {
   "cell_type": "markdown",
   "metadata": {},
   "source": [
    "Let's save this model as well."
   ]
  },
  {
   "cell_type": "code",
   "execution_count": null,
   "metadata": {},
   "outputs": [],
   "source": [
    "lstm.save('./models/lstm.h5')"
   ]
  },
  {
   "cell_type": "markdown",
   "metadata": {},
   "source": [
    "### One vs. All Approach\n",
    "In the one vs. all approach, it goes by the following idea:\n",
    "- We will have $N$ learners for the multi-class classification problem, where $N$ is the number of classes\n",
    "- For each learner $L$, we will train $L$ on our training data $X_{Train}$ and $y_{Train}$. However, $y_{Train}$ consists of only one label, making it a binary classification problem instead of multinomial\n",
    "    - For instance, learner $L_1$ will still use all of $X_{Train}$, but $y_{Train}$ will now be transformed to be a binary vector $v_i$ where $i$ denotes the star rating we are attempting to predict\n",
    "- Once we have concluded our training, we will then create an ensemble model (bagging) that does the following\n",
    "    1. $L_1$, $L_2$, ..., $L_5$ all assign $p_i$ to each record in $X_{Test}$, where $p_i$ is the likelihood observation $x_n$ belongs to class $i$\n",
    "    2. From there, our prediction is the following: $P_n = argmax(p_1, p_2, p_3, p_4, p_5)$\n",
    "    \n",
    "After observing the challenge datasets 5 & 6, my partner and I believe this approach is a clever way to tackle the challenges while still having a strong model.\n",
    "\n",
    "Sources: https://developers.google.com/machine-learning/crash-course/multi-class-neural-networks/one-vs-all"
   ]
  },
  {
   "cell_type": "code",
   "execution_count": null,
   "metadata": {},
   "outputs": [],
   "source": [
    "yelp = pd.read_csv('cleaned_yelp_stemmed.csv')\n",
    "\n",
    "X = yelp['text'].fillna('').values\n",
    "y = pd.get_dummies(yelp['stars']).values\n",
    "\n",
    "X_train, X_test, y_train, y_test = train_test_split(X, y, test_size=0.30, random_state=42)\n",
    "\n",
    "# loading\n",
    "with open('tokenizer.pickle', 'rb') as handle:\n",
    "    tokenizer = pickle.load(handle)\n",
    "\n",
    "max_words = 3000\n",
    "maxlen = 400\n",
    "\n",
    "X_train = tokenizer.texts_to_sequences(X_train)\n",
    "X_test = tokenizer.texts_to_sequences(X_test)\n",
    "X_train = pad_sequences(X_train, maxlen=maxlen)\n",
    "X_test = pad_sequences(X_test, maxlen=maxlen)\n",
    "\n",
    "print('X_train shape:', X_train.shape)\n",
    "print('X_test shape:', X_test.shape)\n",
    "print('y_train shape:', y_train.shape)\n",
    "print('y_test shape:', y_test.shape)"
   ]
  },
  {
   "cell_type": "markdown",
   "metadata": {},
   "source": [
    "#### Buidling all models"
   ]
  },
  {
   "cell_type": "code",
   "execution_count": null,
   "metadata": {
    "scrolled": false
   },
   "outputs": [],
   "source": [
    "stars = np.arange(1, 6)\n",
    "models = {}\n",
    "histories = {}\n",
    "batch_size = 1024\n",
    "epochs = 3\n",
    "\n",
    "for star in stars:\n",
    "    print(star)\n",
    "    y_train_sub = y_train[:, star - 1]\n",
    "    \n",
    "    lr_schedule = keras.optimizers.schedules.ExponentialDecay(\n",
    "    initial_learning_rate=.001,\n",
    "    decay_steps=10000,\n",
    "    decay_rate=0.9)\n",
    "\n",
    "    optimizer = keras.optimizers.Adam(learning_rate=lr_schedule, beta_1=0.9, beta_2=0.99, amsgrad=False, clipvalue=.3)\n",
    "\n",
    "    sub_lstm = Sequential()\n",
    "    sub_lstm.add(Embedding(max_words, 128, input_length=maxlen))\n",
    "    sub_lstm.add(SpatialDropout1D(0.2))\n",
    "    sub_lstm.add(Conv1D(64, 5, activation='relu', kernel_regularizer=regularizers.l1_l2(l1=1e-5, l2=1e-4),\n",
    "              bias_regularizer=regularizers.l2(1e-4)))\n",
    "    sub_lstm.add(MaxPooling1D(pool_size=4))\n",
    "    sub_lstm.add(LSTM(128))\n",
    "    sub_lstm.add(BatchNormalization())\n",
    "    sub_lstm.add(Dense(8))\n",
    "    sub_lstm.add(Dense(1, activation='sigmoid'))\n",
    "    \n",
    "    sub_lstm.compile(loss='binary_crossentropy',\n",
    "                  optimizer=optimizer,\n",
    "                  metrics=['accuracy'])\n",
    "\n",
    "    history = sub_lstm.fit(X_train, y_train_sub,\n",
    "                        batch_size=batch_size,\n",
    "                        epochs=epochs,\n",
    "                        verbose=1,\n",
    "                        validation_split=0.2)\n",
    "    \n",
    "    models[star] = sub_lstm\n",
    "    histories[star] = sub_lstm"
   ]
  },
  {
   "cell_type": "markdown",
   "metadata": {},
   "source": [
    "#### Building an ensemble model (maximization between learners) for all trained models\n",
    "##### Testing"
   ]
  },
  {
   "cell_type": "code",
   "execution_count": null,
   "metadata": {},
   "outputs": [],
   "source": [
    "%%time\n",
    "# Evaluating the models above (TEST)\n",
    "y_test_und = pd.DataFrame(y_test)\n",
    "y_test_true = pd.DataFrame(y_test_und.columns[np.where(y_test_und!=0)[1]]) + 1\n",
    "\n",
    "# Unload models\n",
    "lstm_1, lstm_2, lstm_3, lstm_4, lstm_5 = models[1], models[2], models[3], models[4], models[5]\n",
    "\n",
    "## Predicting the probability for each observation each model\n",
    "print(\"Predicting 1 star\")\n",
    "one_star_ps = lstm_1.predict(X_test)\n",
    "print(\"Predicting 2 star\")\n",
    "two_star_ps = lstm_2.predict(X_test)\n",
    "print(\"Predicting 3 star\")\n",
    "three_star_ps = lstm_3.predict(X_test)\n",
    "print(\"Predicting 4 star\")\n",
    "four_star_ps = lstm_4.predict(X_test)\n",
    "print(\"Predicting 5 star\")\n",
    "five_star_ps = lstm_5.predict(X_test)\n",
    "\n",
    "data = [one_star_ps.flatten(), two_star_ps.flatten(), three_star_ps.flatten(), four_star_ps.flatten(), five_star_ps.flatten()]\n",
    "cols = [1, 2, 3, 4, 5]\n",
    "ps = pd.DataFrame(data=data, index=cols).T\n",
    "\n",
    "ps[\"pred\"] = ps.idxmax(axis=1)\n",
    "ps.head()\n",
    "\n",
    "print(MAE(ps[\"pred\"], y_test_true[0]))\n",
    "print(Accuracy(ps[\"pred\"], y_test_true[0]))"
   ]
  },
  {
   "cell_type": "markdown",
   "metadata": {},
   "source": [
    "#### Saving the models\n"
   ]
  },
  {
   "cell_type": "code",
   "execution_count": null,
   "metadata": {},
   "outputs": [],
   "source": [
    "lstm_1.save(\"./models/one_star.h5\")\n",
    "lstm_2.save(\"./models/two_star.h5\")\n",
    "lstm_3.save(\"./models/three_star.h5\")\n",
    "lstm_4.save(\"./models/four_star.h5\")\n",
    "lstm_5.save(\"./models/five_star.h5\")"
   ]
  },
  {
   "cell_type": "markdown",
   "metadata": {},
   "source": [
    "### Ensemble on Test Set"
   ]
  },
  {
   "cell_type": "code",
   "execution_count": 21,
   "metadata": {},
   "outputs": [
    {
     "name": "stdout",
     "output_type": "stream",
     "text": [
      "(373506,) (373506, 5)\n",
      "(160075,) (160075, 5)\n",
      "        1  2  3  4  5\n",
      "255947  0  0  0  0  1\n",
      "261035  0  0  0  0  1\n",
      "355633  0  0  0  0  1\n",
      "205506  0  0  0  0  1\n",
      "97222   0  0  0  1  0\n",
      "...    .. .. .. .. ..\n",
      "491832  0  0  0  0  1\n",
      "311959  0  0  0  0  1\n",
      "140524  1  0  0  0  0\n",
      "125037  0  0  1  0  0\n",
      "200135  0  0  0  1  0\n",
      "\n",
      "[160075 rows x 5 columns]\n"
     ]
    }
   ],
   "source": [
    "yelp = pd.read_csv('cleaned_yelp_stemmed.csv')\n",
    "\n",
    "X = yelp['text'].fillna('').values\n",
    "y = pd.get_dummies(yelp['stars'])\n",
    "\n",
    "X_train, X_test, y_train, y_test = train_test_split(X, y, test_size=0.30, random_state=42)\n",
    "print(X_train.shape, y_train.shape)\n",
    "print(X_test.shape, y_test.shape)\n",
    "\n",
    "max_words = 3000\n",
    "maxlen = 400\n",
    "\n",
    "with open('tokenizer.pickle', 'rb') as handle:\n",
    "    tokenizer = pickle.load(handle) \n",
    "\n",
    "print(y_test)    \n",
    "\n",
    "necc_cols = [1, 2, 3, 4, 5]\n",
    "for col in necc_cols:\n",
    "    if col not in y_test.columns:\n",
    "        y_test[col] = 0\n",
    "        \n",
    "y_test = y_test[necc_cols]\n",
    "y_test = y_test.values\n",
    "\n",
    "X_baseline = tokenizer.texts_to_matrix(X_test)\n",
    "X_lstm = tokenizer.texts_to_sequences(X_test)\n",
    "X_lstm = pad_sequences(X_lstm, maxlen=maxlen)"
   ]
  },
  {
   "cell_type": "code",
   "execution_count": 22,
   "metadata": {},
   "outputs": [
    {
     "name": "stderr",
     "output_type": "stream",
     "text": [
      "C:\\Users\\Tanner\\Anaconda3\\envs\\yelp\\lib\\site-packages\\keras\\engine\\saving.py:341: UserWarning: No training configuration found in save file: the model was *not* compiled. Compile it manually.\n",
      "  warnings.warn('No training configuration found in save file: '\n"
     ]
    }
   ],
   "source": [
    "# Trying our pretrained models\n",
    "# Optimizer\n",
    "lr_schedule = keras.optimizers.schedules.ExponentialDecay(initial_learning_rate=.001, decay_steps=10000, decay_rate=0.9)\n",
    "optimizer = keras.optimizers.Adam(learning_rate=lr_schedule, beta_1=0.9, beta_2=0.99, amsgrad=False, clipvalue=.3)\n",
    "\n",
    "# Baseline\n",
    "baseline = load_model('./models/baseline.h5')\n",
    "\n",
    "baseline.compile(loss='categorical_crossentropy',\n",
    "              optimizer=optimizer,\n",
    "              metrics=['accuracy'])\n",
    "\n",
    "# LSTM\n",
    "lstm = load_model('./models/lstm.h5')\n",
    "\n",
    "lstm.compile(loss='categorical_crossentropy',\n",
    "              optimizer=optimizer,\n",
    "              metrics=['accuracy'])\n",
    "\n",
    "\n",
    "# One vs. all\n",
    "lstm_1 = load_model('./models/one_star.h5')\n",
    "\n",
    "lstm_1.compile(loss='binary_crossentropy',\n",
    "                  optimizer=optimizer,\n",
    "                  metrics=['accuracy'])\n",
    "\n",
    "lstm_2 = load_model('./models/two_star.h5')\n",
    "\n",
    "lstm_2.compile(loss='binary_crossentropy',\n",
    "                  optimizer=optimizer,\n",
    "                  metrics=['accuracy'])\n",
    "\n",
    "lstm_3 = load_model('./models/three_star.h5')\n",
    "\n",
    "lstm_3.compile(loss='binary_crossentropy',\n",
    "                  optimizer=optimizer,\n",
    "                  metrics=['accuracy'])\n",
    "\n",
    "lstm_4 = load_model('./models/four_star.h5')\n",
    "\n",
    "lstm_4.compile(loss='binary_crossentropy',\n",
    "                  optimizer=optimizer,\n",
    "                  metrics=['accuracy'])\n",
    "\n",
    "lstm_5 = load_model('./models/five_star.h5')\n",
    "\n",
    "lstm_5.compile(loss='binary_crossentropy',\n",
    "                  optimizer=optimizer,\n",
    "                  metrics=['accuracy'])"
   ]
  },
  {
   "cell_type": "code",
   "execution_count": null,
   "metadata": {},
   "outputs": [],
   "source": [
    "cols = [1, 2, 3, 4, 5]\n",
    "# Baseline\n",
    "print(\"Baseline\")\n",
    "baseline_preds = pd.DataFrame(baseline.predict(X_baseline), columns=cols)\n",
    "baseline_preds['baseline_pred'] = baseline_preds.idxmax(axis=1)\n",
    "\n",
    "# LSTM\n",
    "print(\"LSTM\")\n",
    "lstm_preds = pd.DataFrame(lstm.predict(X_lstm), columns=cols)\n",
    "lstm_preds['lstm_pred'] = lstm_preds.idxmax(axis=1)\n",
    "\n",
    "# One vs. all\n",
    "print(\"OVA\")\n",
    "one_star_ps = lstm_1.predict(X_lstm)\n",
    "two_star_ps = lstm_2.predict(X_lstm)\n",
    "three_star_ps = lstm_3.predict(X_lstm)\n",
    "four_star_ps = lstm_4.predict(X_lstm)\n",
    "five_star_ps = lstm_5.predict(X_lstm)\n",
    "\n",
    "data = [one_star_ps.flatten(), two_star_ps.flatten(), three_star_ps.flatten(), four_star_ps.flatten(), five_star_ps.flatten()]\n",
    "ova_preds = pd.DataFrame(data=data, index=cols).T\n",
    "\n",
    "ova_preds[\"ova_pred\"] = ova_preds.idxmax(axis=1)\n",
    "\n",
    "all_preds = pd.DataFrame([baseline_preds['baseline_pred'], lstm_preds['lstm_pred'], ova_preds['ova_pred']]).T\n",
    "all_preds[\"final_pred\"] = all_preds.mode(axis=1)[0]"
   ]
  },
  {
   "cell_type": "code",
   "execution_count": 25,
   "metadata": {},
   "outputs": [
    {
     "name": "stdout",
     "output_type": "stream",
     "text": [
      "[0.3103732625331876, 0.774218335155396]\n"
     ]
    }
   ],
   "source": [
    "print([MAE(all_preds[\"final_pred\"], pd.DataFrame(data=y_test, columns=cols).idxmax(axis=1)), Accuracy(all_preds[\"final_pred\"], pd.DataFrame(data=y_test, columns=cols).idxmax(axis=1))])"
   ]
  },
  {
   "cell_type": "markdown",
   "metadata": {},
   "source": [
    "# Challenges\n",
    "### Challenge 5"
   ]
  },
  {
   "cell_type": "code",
   "execution_count": null,
   "metadata": {},
   "outputs": [],
   "source": [
    "c5 = pd.read_json(\"./yelp_challenge_5_with_answers.jsonl\", lines = True)\n",
    "print(c5.shape)\n",
    "c5.head()"
   ]
  },
  {
   "cell_type": "markdown",
   "metadata": {},
   "source": [
    "##### Quick EDA"
   ]
  },
  {
   "cell_type": "code",
   "execution_count": null,
   "metadata": {},
   "outputs": [],
   "source": [
    "sns.countplot(c5['stars'])"
   ]
  },
  {
   "cell_type": "markdown",
   "metadata": {},
   "source": [
    "##### Pre-processing"
   ]
  },
  {
   "cell_type": "code",
   "execution_count": null,
   "metadata": {},
   "outputs": [],
   "source": [
    "c5['text'] = c5['text'].apply(clean_text)\n",
    "c5.head()"
   ]
  },
  {
   "cell_type": "markdown",
   "metadata": {},
   "source": [
    "##### Load previous tokenizer"
   ]
  },
  {
   "cell_type": "code",
   "execution_count": null,
   "metadata": {},
   "outputs": [],
   "source": [
    "X = c5['text'].fillna('').values\n",
    "y = pd.get_dummies(c5['stars'])\n",
    "\n",
    "with open('tokenizer.pickle', 'rb') as handle:\n",
    "    tokenizer = pickle.load(handle)\n",
    "\n",
    "max_words    \n",
    "    \n",
    "necc_cols = [1, 2, 3, 4, 5]\n",
    "for col in necc_cols:\n",
    "    if col not in y.columns:\n",
    "        y[col] = 0\n",
    "        \n",
    "y = y[necc_cols]\n",
    "y = y.values\n",
    "\n",
    "X_baseline = tokenizer.texts_to_matrix(X)\n",
    "X_lstm = tokenizer.texts_to_sequences(X)\n",
    "X_lstm = pad_sequences(X_lstm, maxlen=400)"
   ]
  },
  {
   "cell_type": "markdown",
   "metadata": {},
   "source": [
    "##### Load and compile models"
   ]
  },
  {
   "cell_type": "code",
   "execution_count": null,
   "metadata": {},
   "outputs": [],
   "source": [
    "# Baseline\n",
    "baseline = load_model('./models/baseline.h5')\n",
    "\n",
    "baseline.compile(loss='categorical_crossentropy',\n",
    "              optimizer=optimizer,\n",
    "              metrics=['accuracy'])\n",
    "\n",
    "# LSTM\n",
    "lstm = load_model('./models/lstm.h5')\n",
    "\n",
    "lstm.compile(loss='categorical_crossentropy',\n",
    "              optimizer=optimizer,\n",
    "              metrics=['accuracy'])\n",
    "\n",
    "\n",
    "# One vs. all\n",
    "lstm_1 = load_model('./models/one_star.h5')\n",
    "\n",
    "lstm_1.compile(loss='binary_crossentropy',\n",
    "                  optimizer=optimizer,\n",
    "                  metrics=['accuracy'])\n",
    "\n",
    "lstm_2 = load_model('./models/two_star.h5')\n",
    "\n",
    "lstm_2.compile(loss='binary_crossentropy',\n",
    "                  optimizer=optimizer,\n",
    "                  metrics=['accuracy'])\n",
    "\n",
    "lstm_3 = load_model('./models/three_star.h5')\n",
    "\n",
    "lstm_3.compile(loss='binary_crossentropy',\n",
    "                  optimizer=optimizer,\n",
    "                  metrics=['accuracy'])\n",
    "\n",
    "lstm_4 = load_model('./models/four_star.h5')\n",
    "\n",
    "lstm_4.compile(loss='binary_crossentropy',\n",
    "                  optimizer=optimizer,\n",
    "                  metrics=['accuracy'])\n",
    "\n",
    "lstm_5 = load_model('./models/five_star.h5')\n",
    "\n",
    "lstm_5.compile(loss='binary_crossentropy',\n",
    "                  optimizer=optimizer,\n",
    "                  metrics=['accuracy'])"
   ]
  },
  {
   "cell_type": "markdown",
   "metadata": {},
   "source": [
    "##### Evaluate Models"
   ]
  },
  {
   "cell_type": "code",
   "execution_count": null,
   "metadata": {},
   "outputs": [],
   "source": [
    "# Baseline\n",
    "print(baseline.evaluate(X_baseline, y))\n",
    "\n",
    "# LSTM\n",
    "print(lstm.evaluate(X_lstm, y))\n",
    "\n",
    "# One vs. All\n",
    "one_star_ps = lstm_1.predict(X_lstm)\n",
    "two_star_ps = lstm_2.predict(X_lstm)\n",
    "three_star_ps = lstm_3.predict(X_lstm)\n",
    "four_star_ps = lstm_4.predict(X_lstm)\n",
    "five_star_ps = lstm_5.predict(X_lstm)\n",
    "\n",
    "data = [one_star_ps.flatten(), two_star_ps.flatten(), three_star_ps.flatten(), four_star_ps.flatten(), five_star_ps.flatten()]\n",
    "cols = [1, 2, 3, 4, 5]\n",
    "ps = pd.DataFrame(data=data, index=cols).T\n",
    "\n",
    "ps[\"ova_pred\"] = ps.idxmax(axis=1)\n",
    "\n",
    "print([MAE(ps[\"ova_pred\"], pd.DataFrame(data=y, columns=cols).idxmax(axis=1)), Accuracy(ps[\"ova_pred\"], pd.DataFrame(data=y, columns=cols).idxmax(axis=1))])"
   ]
  },
  {
   "cell_type": "markdown",
   "metadata": {},
   "source": [
    "##### Attempt Ensemble"
   ]
  },
  {
   "cell_type": "code",
   "execution_count": null,
   "metadata": {},
   "outputs": [],
   "source": [
    "# Baseline\n",
    "baseline_preds = pd.DataFrame(baseline.predict(X_baseline), columns=cols)\n",
    "baseline_preds['baseline_pred'] = baseline_preds.idxmax(axis=1)\n",
    "\n",
    "# LSTM\n",
    "lstm_preds = pd.DataFrame(lstm.predict(X_lstm), columns=cols)\n",
    "lstm_preds['lstm_pred'] = lstm_preds.idxmax(axis=1)\n",
    "\n",
    "# One vs. all\n",
    "ova_preds = ps\n",
    "\n",
    "all_preds = pd.DataFrame([baseline_preds['baseline_pred'], lstm_preds['lstm_pred'], ova_preds['ova_pred']]).T\n",
    "all_preds[\"final_pred\"] = all_preds.mode(axis=1)[0]\n",
    "\n",
    "print([MAE(all_preds[\"final_pred\"], pd.DataFrame(data=y, columns=cols).idxmax(axis=1)), Accuracy(all_preds[\"final_pred\"], pd.DataFrame(data=y, columns=cols).idxmax(axis=1))])"
   ]
  },
  {
   "cell_type": "markdown",
   "metadata": {},
   "source": [
    "##### Misc."
   ]
  },
  {
   "cell_type": "code",
   "execution_count": null,
   "metadata": {},
   "outputs": [],
   "source": [
    "sns.countplot(all_preds[\"final_pred\"])"
   ]
  },
  {
   "cell_type": "markdown",
   "metadata": {},
   "source": [
    "### Challenge 6"
   ]
  },
  {
   "cell_type": "code",
   "execution_count": 30,
   "metadata": {},
   "outputs": [
    {
     "name": "stdout",
     "output_type": "stream",
     "text": [
      "(500, 3)\n"
     ]
    },
    {
     "data": {
      "text/html": [
       "<div>\n",
       "<style scoped>\n",
       "    .dataframe tbody tr th:only-of-type {\n",
       "        vertical-align: middle;\n",
       "    }\n",
       "\n",
       "    .dataframe tbody tr th {\n",
       "        vertical-align: top;\n",
       "    }\n",
       "\n",
       "    .dataframe thead th {\n",
       "        text-align: right;\n",
       "    }\n",
       "</style>\n",
       "<table border=\"1\" class=\"dataframe\">\n",
       "  <thead>\n",
       "    <tr style=\"text-align: right;\">\n",
       "      <th></th>\n",
       "      <th>review_id</th>\n",
       "      <th>text</th>\n",
       "      <th>stars</th>\n",
       "    </tr>\n",
       "  </thead>\n",
       "  <tbody>\n",
       "    <tr>\n",
       "      <th>0</th>\n",
       "      <td>60</td>\n",
       "      <td>Amazing for Trees\\n\\n$20 for a 5 gallon . I wi...</td>\n",
       "      <td>5</td>\n",
       "    </tr>\n",
       "    <tr>\n",
       "      <th>1</th>\n",
       "      <td>61</td>\n",
       "      <td>How the hell can Taco Bell be closed before mi...</td>\n",
       "      <td>5</td>\n",
       "    </tr>\n",
       "    <tr>\n",
       "      <th>2</th>\n",
       "      <td>62</td>\n",
       "      <td>I actually had no intention of visiting this p...</td>\n",
       "      <td>5</td>\n",
       "    </tr>\n",
       "    <tr>\n",
       "      <th>3</th>\n",
       "      <td>63</td>\n",
       "      <td>Yesterday around 3:30 pm I was driving west on...</td>\n",
       "      <td>5</td>\n",
       "    </tr>\n",
       "    <tr>\n",
       "      <th>4</th>\n",
       "      <td>64</td>\n",
       "      <td>DR FITZMAURICE did surgery on both hands on th...</td>\n",
       "      <td>5</td>\n",
       "    </tr>\n",
       "  </tbody>\n",
       "</table>\n",
       "</div>"
      ],
      "text/plain": [
       "   review_id                                               text  stars\n",
       "0         60  Amazing for Trees\\n\\n$20 for a 5 gallon . I wi...      5\n",
       "1         61  How the hell can Taco Bell be closed before mi...      5\n",
       "2         62  I actually had no intention of visiting this p...      5\n",
       "3         63  Yesterday around 3:30 pm I was driving west on...      5\n",
       "4         64  DR FITZMAURICE did surgery on both hands on th...      5"
      ]
     },
     "execution_count": 30,
     "metadata": {},
     "output_type": "execute_result"
    }
   ],
   "source": [
    "c6 = pd.read_json(\"./yelp_challenge_6_with_answers.jsonl\", lines = True)\n",
    "print(c6.shape)\n",
    "c6.head()"
   ]
  },
  {
   "cell_type": "markdown",
   "metadata": {},
   "source": [
    "##### Quick EDA"
   ]
  },
  {
   "cell_type": "code",
   "execution_count": 29,
   "metadata": {},
   "outputs": [
    {
     "data": {
      "text/plain": [
       "<matplotlib.axes._subplots.AxesSubplot at 0x16cdcd08a88>"
      ]
     },
     "execution_count": 29,
     "metadata": {},
     "output_type": "execute_result"
    },
    {
     "data": {
      "image/png": "[encoded data removed]",
      "text/plain": [
       "<Figure size 432x288 with 1 Axes>"
      ]
     },
     "metadata": {
      "needs_background": "light"
     },
     "output_type": "display_data"
    }
   ],
   "source": [
    "sns.countplot(c6['stars'])"
   ]
  },
  {
   "cell_type": "markdown",
   "metadata": {},
   "source": [
    "##### Pre-processing"
   ]
  },
  {
   "cell_type": "code",
   "execution_count": null,
   "metadata": {},
   "outputs": [],
   "source": [
    "c6['text'] = c6['text'].apply(clean_text)\n",
    "c6.head()"
   ]
  },
  {
   "cell_type": "markdown",
   "metadata": {},
   "source": [
    "##### Load previous tokenizer"
   ]
  },
  {
   "cell_type": "code",
   "execution_count": null,
   "metadata": {},
   "outputs": [],
   "source": [
    "X = c6['text'].fillna('').values\n",
    "y = pd.get_dummies(c6['stars'])\n",
    "\n",
    "with open('tokenizer.pickle', 'rb') as handle:\n",
    "    tokenizer = pickle.load(handle)\n",
    "\n",
    "max_words    \n",
    "    \n",
    "necc_cols = [1, 2, 3, 4, 5]\n",
    "for col in necc_cols:\n",
    "    if col not in y.columns:\n",
    "        y[col] = 0\n",
    "        \n",
    "y = y[necc_cols]\n",
    "y = y.values\n",
    "\n",
    "X_baseline = tokenizer.texts_to_matrix(X)\n",
    "X_lstm = tokenizer.texts_to_sequences(X)\n",
    "X_lstm = pad_sequences(X_lstm, maxlen=400)"
   ]
  },
  {
   "cell_type": "markdown",
   "metadata": {},
   "source": [
    "##### Load and compile models"
   ]
  },
  {
   "cell_type": "code",
   "execution_count": null,
   "metadata": {},
   "outputs": [],
   "source": [
    "# Baseline\n",
    "baseline = load_model('./models/baseline.h5')\n",
    "\n",
    "baseline.compile(loss='categorical_crossentropy',\n",
    "              optimizer=optimizer,\n",
    "              metrics=['accuracy'])\n",
    "\n",
    "# LSTM\n",
    "lstm = load_model('./models/lstm.h5')\n",
    "\n",
    "lstm.compile(loss='categorical_crossentropy',\n",
    "              optimizer=optimizer,\n",
    "              metrics=['accuracy'])\n",
    "\n",
    "\n",
    "# One vs. all\n",
    "lstm_1 = load_model('./models/one_star.h5')\n",
    "\n",
    "lstm_1.compile(loss='binary_crossentropy',\n",
    "                  optimizer=optimizer,\n",
    "                  metrics=['accuracy'])\n",
    "\n",
    "lstm_2 = load_model('./models/two_star.h5')\n",
    "\n",
    "lstm_2.compile(loss='binary_crossentropy',\n",
    "                  optimizer=optimizer,\n",
    "                  metrics=['accuracy'])\n",
    "\n",
    "lstm_3 = load_model('./models/three_star.h5')\n",
    "\n",
    "lstm_3.compile(loss='binary_crossentropy',\n",
    "                  optimizer=optimizer,\n",
    "                  metrics=['accuracy'])\n",
    "\n",
    "lstm_4 = load_model('./models/four_star.h5')\n",
    "\n",
    "lstm_4.compile(loss='binary_crossentropy',\n",
    "                  optimizer=optimizer,\n",
    "                  metrics=['accuracy'])\n",
    "\n",
    "lstm_5 = load_model('./models/five_star.h5')\n",
    "\n",
    "lstm_5.compile(loss='binary_crossentropy',\n",
    "                  optimizer=optimizer,\n",
    "                  metrics=['accuracy'])"
   ]
  },
  {
   "cell_type": "markdown",
   "metadata": {},
   "source": [
    "##### Evaluate Models"
   ]
  },
  {
   "cell_type": "code",
   "execution_count": null,
   "metadata": {},
   "outputs": [],
   "source": [
    "# Baseline\n",
    "print(baseline.evaluate(X_baseline, y))\n",
    "\n",
    "# LSTM\n",
    "print(lstm.evaluate(X_lstm, y))\n",
    "\n",
    "# One vs. All\n",
    "one_star_ps = lstm_1.predict(X_lstm)\n",
    "two_star_ps = lstm_2.predict(X_lstm)\n",
    "three_star_ps = lstm_3.predict(X_lstm)\n",
    "four_star_ps = lstm_4.predict(X_lstm)\n",
    "five_star_ps = lstm_5.predict(X_lstm)\n",
    "\n",
    "data = [one_star_ps.flatten(), two_star_ps.flatten(), three_star_ps.flatten(), four_star_ps.flatten(), five_star_ps.flatten()]\n",
    "cols = [1, 2, 3, 4, 5]\n",
    "ps = pd.DataFrame(data=data, index=cols).T\n",
    "\n",
    "ps[\"ova_pred\"] = ps.idxmax(axis=1)\n",
    "\n",
    "print([MAE(ps[\"ova_pred\"], pd.DataFrame(data=y, columns=cols).idxmax(axis=1)), Accuracy(ps[\"ova_pred\"], pd.DataFrame(data=y, columns=cols).idxmax(axis=1))])"
   ]
  },
  {
   "cell_type": "markdown",
   "metadata": {},
   "source": [
    "##### Attempt Ensemble"
   ]
  },
  {
   "cell_type": "code",
   "execution_count": null,
   "metadata": {},
   "outputs": [],
   "source": [
    "# Baseline\n",
    "baseline_preds = pd.DataFrame(baseline.predict(X_baseline), columns=cols)\n",
    "baseline_preds['baseline_pred'] = baseline_preds.idxmax(axis=1)\n",
    "\n",
    "# LSTM\n",
    "lstm_preds = pd.DataFrame(lstm.predict(X_lstm), columns=cols)\n",
    "lstm_preds['lstm_pred'] = lstm_preds.idxmax(axis=1)\n",
    "\n",
    "# One vs. all\n",
    "ova_preds = ps\n",
    "\n",
    "all_preds = pd.DataFrame([baseline_preds['baseline_pred'], lstm_preds['lstm_pred'], ova_preds['ova_pred']]).T\n",
    "all_preds[\"final_pred\"] = all_preds.mode(axis=1)[0]\n",
    "\n",
    "print([MAE(all_preds[\"final_pred\"], pd.DataFrame(data=y, columns=cols).idxmax(axis=1)), Accuracy(all_preds[\"final_pred\"], pd.DataFrame(data=y, columns=cols).idxmax(axis=1))])"
   ]
  },
  {
   "cell_type": "markdown",
   "metadata": {},
   "source": [
    "##### Misc."
   ]
  },
  {
   "cell_type": "code",
   "execution_count": null,
   "metadata": {},
   "outputs": [],
   "source": [
    "sns.countplot(all_preds[\"final_pred\"])"
   ]
  },
  {
   "cell_type": "markdown",
   "metadata": {},
   "source": [
    "### Challenge 3"
   ]
  },
  {
   "cell_type": "code",
   "execution_count": 36,
   "metadata": {},
   "outputs": [
    {
     "name": "stdout",
     "output_type": "stream",
     "text": [
      "(534, 3)\n"
     ]
    },
    {
     "data": {
      "text/html": [
       "<div>\n",
       "<style scoped>\n",
       "    .dataframe tbody tr th:only-of-type {\n",
       "        vertical-align: middle;\n",
       "    }\n",
       "\n",
       "    .dataframe tbody tr th {\n",
       "        vertical-align: top;\n",
       "    }\n",
       "\n",
       "    .dataframe thead th {\n",
       "        text-align: right;\n",
       "    }\n",
       "</style>\n",
       "<table border=\"1\" class=\"dataframe\">\n",
       "  <thead>\n",
       "    <tr style=\"text-align: right;\">\n",
       "      <th></th>\n",
       "      <th>review_id</th>\n",
       "      <th>text</th>\n",
       "      <th>stars</th>\n",
       "    </tr>\n",
       "  </thead>\n",
       "  <tbody>\n",
       "    <tr>\n",
       "      <th>0</th>\n",
       "      <td>30</td>\n",
       "      <td>We stopped here for lunch today and were pleas...</td>\n",
       "      <td>4</td>\n",
       "    </tr>\n",
       "    <tr>\n",
       "      <th>1</th>\n",
       "      <td>31</td>\n",
       "      <td>We went for a quick lunch here - it's all reas...</td>\n",
       "      <td>3</td>\n",
       "    </tr>\n",
       "    <tr>\n",
       "      <th>2</th>\n",
       "      <td>32</td>\n",
       "      <td>Very bad food, avoid it. We were a group of 4 ...</td>\n",
       "      <td>2</td>\n",
       "    </tr>\n",
       "    <tr>\n",
       "      <th>3</th>\n",
       "      <td>33</td>\n",
       "      <td>Bring a friend or two to help open the door. I...</td>\n",
       "      <td>3</td>\n",
       "    </tr>\n",
       "    <tr>\n",
       "      <th>4</th>\n",
       "      <td>34</td>\n",
       "      <td>Ukai serves some of the best sushi and sashimi...</td>\n",
       "      <td>4</td>\n",
       "    </tr>\n",
       "  </tbody>\n",
       "</table>\n",
       "</div>"
      ],
      "text/plain": [
       "   review_id                                               text  stars\n",
       "0         30  We stopped here for lunch today and were pleas...      4\n",
       "1         31  We went for a quick lunch here - it's all reas...      3\n",
       "2         32  Very bad food, avoid it. We were a group of 4 ...      2\n",
       "3         33  Bring a friend or two to help open the door. I...      3\n",
       "4         34  Ukai serves some of the best sushi and sashimi...      4"
      ]
     },
     "execution_count": 36,
     "metadata": {},
     "output_type": "execute_result"
    }
   ],
   "source": [
    "c3 = pd.read_json(\"./yelp_challenge_3_with_answers.jsonl\", lines = True)\n",
    "print(c3.shape)\n",
    "c3.head()"
   ]
  },
  {
   "cell_type": "markdown",
   "metadata": {},
   "source": [
    "##### Quick EDA"
   ]
  },
  {
   "cell_type": "code",
   "execution_count": 37,
   "metadata": {},
   "outputs": [
    {
     "data": {
      "text/plain": [
       "<matplotlib.axes._subplots.AxesSubplot at 0x16ce1837b48>"
      ]
     },
     "execution_count": 37,
     "metadata": {},
     "output_type": "execute_result"
    },
    {
     "data": {
      "image/png": "[encoded data removed]",
      "text/plain": [
       "<Figure size 432x288 with 1 Axes>"
      ]
     },
     "metadata": {
      "needs_background": "light"
     },
     "output_type": "display_data"
    }
   ],
   "source": [
    "sns.countplot(c3['stars'])"
   ]
  },
  {
   "cell_type": "markdown",
   "metadata": {},
   "source": [
    "##### Pre-processing"
   ]
  },
  {
   "cell_type": "code",
   "execution_count": 38,
   "metadata": {},
   "outputs": [
    {
     "data": {
      "text/html": [
       "<div>\n",
       "<style scoped>\n",
       "    .dataframe tbody tr th:only-of-type {\n",
       "        vertical-align: middle;\n",
       "    }\n",
       "\n",
       "    .dataframe tbody tr th {\n",
       "        vertical-align: top;\n",
       "    }\n",
       "\n",
       "    .dataframe thead th {\n",
       "        text-align: right;\n",
       "    }\n",
       "</style>\n",
       "<table border=\"1\" class=\"dataframe\">\n",
       "  <thead>\n",
       "    <tr style=\"text-align: right;\">\n",
       "      <th></th>\n",
       "      <th>review_id</th>\n",
       "      <th>text</th>\n",
       "      <th>stars</th>\n",
       "    </tr>\n",
       "  </thead>\n",
       "  <tbody>\n",
       "    <tr>\n",
       "      <th>0</th>\n",
       "      <td>30</td>\n",
       "      <td>we stop here for lunch today and were pleasant...</td>\n",
       "      <td>4</td>\n",
       "    </tr>\n",
       "    <tr>\n",
       "      <th>1</th>\n",
       "      <td>31</td>\n",
       "      <td>we went for a quick lunch here it s all reason...</td>\n",
       "      <td>3</td>\n",
       "    </tr>\n",
       "    <tr>\n",
       "      <th>2</th>\n",
       "      <td>32</td>\n",
       "      <td>veri bad food avoid it we were a group of 4 an...</td>\n",
       "      <td>2</td>\n",
       "    </tr>\n",
       "    <tr>\n",
       "      <th>3</th>\n",
       "      <td>33</td>\n",
       "      <td>bring a friend or two to help open the door i ...</td>\n",
       "      <td>3</td>\n",
       "    </tr>\n",
       "    <tr>\n",
       "      <th>4</th>\n",
       "      <td>34</td>\n",
       "      <td>ukai serv some of the best sushi and sashimi i...</td>\n",
       "      <td>4</td>\n",
       "    </tr>\n",
       "  </tbody>\n",
       "</table>\n",
       "</div>"
      ],
      "text/plain": [
       "   review_id                                               text  stars\n",
       "0         30  we stop here for lunch today and were pleasant...      4\n",
       "1         31  we went for a quick lunch here it s all reason...      3\n",
       "2         32  veri bad food avoid it we were a group of 4 an...      2\n",
       "3         33  bring a friend or two to help open the door i ...      3\n",
       "4         34  ukai serv some of the best sushi and sashimi i...      4"
      ]
     },
     "execution_count": 38,
     "metadata": {},
     "output_type": "execute_result"
    }
   ],
   "source": [
    "c3['text'] = c3['text'].apply(clean_text)\n",
    "c3.head()"
   ]
  },
  {
   "cell_type": "markdown",
   "metadata": {},
   "source": [
    "##### Load previous tokenizer"
   ]
  },
  {
   "cell_type": "code",
   "execution_count": 39,
   "metadata": {},
   "outputs": [],
   "source": [
    "X = c3['text'].fillna('').values\n",
    "y = pd.get_dummies(c3['stars'])\n",
    "\n",
    "with open('tokenizer.pickle', 'rb') as handle:\n",
    "    tokenizer = pickle.load(handle)\n",
    "\n",
    "max_words    \n",
    "    \n",
    "necc_cols = [1, 2, 3, 4, 5]\n",
    "for col in necc_cols:\n",
    "    if col not in y.columns:\n",
    "        y[col] = 0\n",
    "        \n",
    "y = y[necc_cols]\n",
    "y = y.values\n",
    "\n",
    "X_baseline = tokenizer.texts_to_matrix(X)\n",
    "X_lstm = tokenizer.texts_to_sequences(X)\n",
    "X_lstm = pad_sequences(X_lstm, maxlen=400)"
   ]
  },
  {
   "cell_type": "markdown",
   "metadata": {},
   "source": [
    "##### Load and compile models"
   ]
  },
  {
   "cell_type": "code",
   "execution_count": 40,
   "metadata": {},
   "outputs": [
    {
     "name": "stderr",
     "output_type": "stream",
     "text": [
      "C:\\Users\\Tanner\\Anaconda3\\envs\\yelp\\lib\\site-packages\\keras\\engine\\saving.py:341: UserWarning: No training configuration found in save file: the model was *not* compiled. Compile it manually.\n",
      "  warnings.warn('No training configuration found in save file: '\n"
     ]
    }
   ],
   "source": [
    "# Baseline\n",
    "baseline = load_model('./models/baseline.h5')\n",
    "\n",
    "baseline.compile(loss='categorical_crossentropy',\n",
    "              optimizer=optimizer,\n",
    "              metrics=['accuracy'])\n",
    "\n",
    "# LSTM\n",
    "lstm = load_model('./models/lstm.h5')\n",
    "\n",
    "lstm.compile(loss='categorical_crossentropy',\n",
    "              optimizer=optimizer,\n",
    "              metrics=['accuracy'])\n",
    "\n",
    "\n",
    "# One vs. all\n",
    "lstm_1 = load_model('./models/one_star.h5')\n",
    "\n",
    "lstm_1.compile(loss='binary_crossentropy',\n",
    "                  optimizer=optimizer,\n",
    "                  metrics=['accuracy'])\n",
    "\n",
    "lstm_2 = load_model('./models/two_star.h5')\n",
    "\n",
    "lstm_2.compile(loss='binary_crossentropy',\n",
    "                  optimizer=optimizer,\n",
    "                  metrics=['accuracy'])\n",
    "\n",
    "lstm_3 = load_model('./models/three_star.h5')\n",
    "\n",
    "lstm_3.compile(loss='binary_crossentropy',\n",
    "                  optimizer=optimizer,\n",
    "                  metrics=['accuracy'])\n",
    "\n",
    "lstm_4 = load_model('./models/four_star.h5')\n",
    "\n",
    "lstm_4.compile(loss='binary_crossentropy',\n",
    "                  optimizer=optimizer,\n",
    "                  metrics=['accuracy'])\n",
    "\n",
    "lstm_5 = load_model('./models/five_star.h5')\n",
    "\n",
    "lstm_5.compile(loss='binary_crossentropy',\n",
    "                  optimizer=optimizer,\n",
    "                  metrics=['accuracy'])"
   ]
  },
  {
   "cell_type": "markdown",
   "metadata": {},
   "source": [
    "##### Evaluate Models"
   ]
  },
  {
   "cell_type": "code",
   "execution_count": 41,
   "metadata": {},
   "outputs": [
    {
     "name": "stdout",
     "output_type": "stream",
     "text": [
      "534/534 [==============================] - 0s 246us/step\n",
      "[1.1904090508986056, 0.5486891269683838]\n",
      "534/534 [==============================] - 0s 736us/step\n",
      "[0.9089857315302788, 0.5955055952072144]\n",
      "[0.6385767790262172, 0.49250936329588013]\n"
     ]
    }
   ],
   "source": [
    "# Baseline\n",
    "print(baseline.evaluate(X_baseline, y))\n",
    "\n",
    "# LSTM\n",
    "print(lstm.evaluate(X_lstm, y))\n",
    "\n",
    "# One vs. All\n",
    "one_star_ps = lstm_1.predict(X_lstm)\n",
    "two_star_ps = lstm_2.predict(X_lstm)\n",
    "three_star_ps = lstm_3.predict(X_lstm)\n",
    "four_star_ps = lstm_4.predict(X_lstm)\n",
    "five_star_ps = lstm_5.predict(X_lstm)\n",
    "\n",
    "data = [one_star_ps.flatten(), two_star_ps.flatten(), three_star_ps.flatten(), four_star_ps.flatten(), five_star_ps.flatten()]\n",
    "cols = [1, 2, 3, 4, 5]\n",
    "ps = pd.DataFrame(data=data, index=cols).T\n",
    "\n",
    "ps[\"ova_pred\"] = ps.idxmax(axis=1)\n",
    "\n",
    "print([MAE(ps[\"ova_pred\"], pd.DataFrame(data=y, columns=cols).idxmax(axis=1)), Accuracy(ps[\"ova_pred\"], pd.DataFrame(data=y, columns=cols).idxmax(axis=1))])"
   ]
  },
  {
   "cell_type": "markdown",
   "metadata": {},
   "source": [
    "##### Attempt Ensemble"
   ]
  },
  {
   "cell_type": "code",
   "execution_count": 42,
   "metadata": {},
   "outputs": [
    {
     "name": "stdout",
     "output_type": "stream",
     "text": [
      "[0.5131086142322098, 0.5674157303370787]\n"
     ]
    }
   ],
   "source": [
    "# Baseline\n",
    "baseline_preds = pd.DataFrame(baseline.predict(X_baseline), columns=cols)\n",
    "baseline_preds['baseline_pred'] = baseline_preds.idxmax(axis=1)\n",
    "\n",
    "# LSTM\n",
    "lstm_preds = pd.DataFrame(lstm.predict(X_lstm), columns=cols)\n",
    "lstm_preds['lstm_pred'] = lstm_preds.idxmax(axis=1)\n",
    "\n",
    "# One vs. all\n",
    "ova_preds = ps\n",
    "\n",
    "all_preds = pd.DataFrame([baseline_preds['baseline_pred'], lstm_preds['lstm_pred'], ova_preds['ova_pred']]).T\n",
    "all_preds[\"final_pred\"] = all_preds.mode(axis=1)[0]\n",
    "\n",
    "print([MAE(all_preds[\"final_pred\"], pd.DataFrame(data=y, columns=cols).idxmax(axis=1)), Accuracy(all_preds[\"final_pred\"], pd.DataFrame(data=y, columns=cols).idxmax(axis=1))])"
   ]
  },
  {
   "cell_type": "markdown",
   "metadata": {},
   "source": [
    "##### Misc."
   ]
  },
  {
   "cell_type": "code",
   "execution_count": 43,
   "metadata": {},
   "outputs": [
    {
     "data": {
      "text/plain": [
       "<matplotlib.axes._subplots.AxesSubplot at 0x16bd0fde548>"
      ]
     },
     "execution_count": 43,
     "metadata": {},
     "output_type": "execute_result"
    },
    {
     "data": {
      "image/png": "[encoded data removed]",
      "text/plain": [
       "<Figure size 432x288 with 1 Axes>"
      ]
     },
     "metadata": {
      "needs_background": "light"
     },
     "output_type": "display_data"
    }
   ],
   "source": [
    "sns.countplot(all_preds[\"final_pred\"])"
   ]
  },
  {
   "cell_type": "markdown",
   "metadata": {},
   "source": [
    "### Challenge 8"
   ]
  },
  {
   "cell_type": "code",
   "execution_count": 44,
   "metadata": {},
   "outputs": [
    {
     "name": "stdout",
     "output_type": "stream",
     "text": [
      "(500, 3)\n"
     ]
    },
    {
     "data": {
      "text/html": [
       "<div>\n",
       "<style scoped>\n",
       "    .dataframe tbody tr th:only-of-type {\n",
       "        vertical-align: middle;\n",
       "    }\n",
       "\n",
       "    .dataframe tbody tr th {\n",
       "        vertical-align: top;\n",
       "    }\n",
       "\n",
       "    .dataframe thead th {\n",
       "        text-align: right;\n",
       "    }\n",
       "</style>\n",
       "<table border=\"1\" class=\"dataframe\">\n",
       "  <thead>\n",
       "    <tr style=\"text-align: right;\">\n",
       "      <th></th>\n",
       "      <th>review_id</th>\n",
       "      <th>text</th>\n",
       "      <th>stars</th>\n",
       "    </tr>\n",
       "  </thead>\n",
       "  <tbody>\n",
       "    <tr>\n",
       "      <th>0</th>\n",
       "      <td>qOOv-A-vo3kMT0yi4jIIlg</td>\n",
       "      <td>Not bad for fast food.</td>\n",
       "      <td>4</td>\n",
       "    </tr>\n",
       "    <tr>\n",
       "      <th>1</th>\n",
       "      <td>uqxkO6B6w_sIDSAGr0k_0A</td>\n",
       "      <td>Une institution du café</td>\n",
       "      <td>4</td>\n",
       "    </tr>\n",
       "    <tr>\n",
       "      <th>2</th>\n",
       "      <td>0o_gGSU0m_4QyNLWEHKgug</td>\n",
       "      <td>J ai vraiment aimé !!!!</td>\n",
       "      <td>4</td>\n",
       "    </tr>\n",
       "    <tr>\n",
       "      <th>3</th>\n",
       "      <td>BKAj-fKWW5G3yt3xAkbUCQ</td>\n",
       "      <td>They have good poutine.</td>\n",
       "      <td>4</td>\n",
       "    </tr>\n",
       "    <tr>\n",
       "      <th>4</th>\n",
       "      <td>fAhp8IwuGNT0ywKmsCs6VQ</td>\n",
       "      <td>Very old and dirty vans.</td>\n",
       "      <td>1</td>\n",
       "    </tr>\n",
       "  </tbody>\n",
       "</table>\n",
       "</div>"
      ],
      "text/plain": [
       "                review_id                      text  stars\n",
       "0  qOOv-A-vo3kMT0yi4jIIlg    Not bad for fast food.      4\n",
       "1  uqxkO6B6w_sIDSAGr0k_0A   Une institution du café      4\n",
       "2  0o_gGSU0m_4QyNLWEHKgug   J ai vraiment aimé !!!!      4\n",
       "3  BKAj-fKWW5G3yt3xAkbUCQ   They have good poutine.      4\n",
       "4  fAhp8IwuGNT0ywKmsCs6VQ  Very old and dirty vans.      1"
      ]
     },
     "execution_count": 44,
     "metadata": {},
     "output_type": "execute_result"
    }
   ],
   "source": [
    "c8 = pd.read_json(\"./yelp_challenge_8_with_answers.jsonl\", lines = True)\n",
    "print(c8.shape)\n",
    "c8.head()"
   ]
  },
  {
   "cell_type": "markdown",
   "metadata": {},
   "source": [
    "##### Quick EDA"
   ]
  },
  {
   "cell_type": "code",
   "execution_count": 45,
   "metadata": {},
   "outputs": [
    {
     "data": {
      "text/plain": [
       "<matplotlib.axes._subplots.AxesSubplot at 0x16bca56d808>"
      ]
     },
     "execution_count": 45,
     "metadata": {},
     "output_type": "execute_result"
    },
    {
     "data": {
      "image/png": "[encoded data removed]",
      "text/plain": [
       "<Figure size 432x288 with 1 Axes>"
      ]
     },
     "metadata": {
      "needs_background": "light"
     },
     "output_type": "display_data"
    }
   ],
   "source": [
    "sns.countplot(c8['stars'])"
   ]
  },
  {
   "cell_type": "markdown",
   "metadata": {},
   "source": [
    "##### Pre-processing"
   ]
  },
  {
   "cell_type": "code",
   "execution_count": 46,
   "metadata": {},
   "outputs": [
    {
     "name": "stderr",
     "output_type": "stream",
     "text": [
      "C:\\Users\\Tanner\\Anaconda3\\envs\\yelp\\lib\\site-packages\\bs4\\__init__.py:398: UserWarning: \"https://casetext.com/case/united-states-v-butterbaugh-2\" looks like a URL. Beautiful Soup is not an HTTP client. You should probably use an HTTP client like requests to get the document behind the URL, and feed that document to Beautiful Soup.\n",
      "  markup\n"
     ]
    },
    {
     "data": {
      "text/html": [
       "<div>\n",
       "<style scoped>\n",
       "    .dataframe tbody tr th:only-of-type {\n",
       "        vertical-align: middle;\n",
       "    }\n",
       "\n",
       "    .dataframe tbody tr th {\n",
       "        vertical-align: top;\n",
       "    }\n",
       "\n",
       "    .dataframe thead th {\n",
       "        text-align: right;\n",
       "    }\n",
       "</style>\n",
       "<table border=\"1\" class=\"dataframe\">\n",
       "  <thead>\n",
       "    <tr style=\"text-align: right;\">\n",
       "      <th></th>\n",
       "      <th>review_id</th>\n",
       "      <th>text</th>\n",
       "      <th>stars</th>\n",
       "    </tr>\n",
       "  </thead>\n",
       "  <tbody>\n",
       "    <tr>\n",
       "      <th>0</th>\n",
       "      <td>qOOv-A-vo3kMT0yi4jIIlg</td>\n",
       "      <td>not bad for fast food</td>\n",
       "      <td>4</td>\n",
       "    </tr>\n",
       "    <tr>\n",
       "      <th>1</th>\n",
       "      <td>uqxkO6B6w_sIDSAGr0k_0A</td>\n",
       "      <td>une institut du caf</td>\n",
       "      <td>4</td>\n",
       "    </tr>\n",
       "    <tr>\n",
       "      <th>2</th>\n",
       "      <td>0o_gGSU0m_4QyNLWEHKgug</td>\n",
       "      <td>j ai vraiment aim</td>\n",
       "      <td>4</td>\n",
       "    </tr>\n",
       "    <tr>\n",
       "      <th>3</th>\n",
       "      <td>BKAj-fKWW5G3yt3xAkbUCQ</td>\n",
       "      <td>they have good poutin</td>\n",
       "      <td>4</td>\n",
       "    </tr>\n",
       "    <tr>\n",
       "      <th>4</th>\n",
       "      <td>fAhp8IwuGNT0ywKmsCs6VQ</td>\n",
       "      <td>veri old and dirti van</td>\n",
       "      <td>1</td>\n",
       "    </tr>\n",
       "  </tbody>\n",
       "</table>\n",
       "</div>"
      ],
      "text/plain": [
       "                review_id                    text  stars\n",
       "0  qOOv-A-vo3kMT0yi4jIIlg   not bad for fast food      4\n",
       "1  uqxkO6B6w_sIDSAGr0k_0A     une institut du caf      4\n",
       "2  0o_gGSU0m_4QyNLWEHKgug       j ai vraiment aim      4\n",
       "3  BKAj-fKWW5G3yt3xAkbUCQ   they have good poutin      4\n",
       "4  fAhp8IwuGNT0ywKmsCs6VQ  veri old and dirti van      1"
      ]
     },
     "execution_count": 46,
     "metadata": {},
     "output_type": "execute_result"
    }
   ],
   "source": [
    "c8['text'] = c8['text'].apply(clean_text)\n",
    "c8.head()"
   ]
  },
  {
   "cell_type": "markdown",
   "metadata": {},
   "source": [
    "##### Load previous tokenizer"
   ]
  },
  {
   "cell_type": "code",
   "execution_count": 47,
   "metadata": {},
   "outputs": [],
   "source": [
    "X = c8['text'].fillna('').values\n",
    "y = pd.get_dummies(c8['stars'])\n",
    "\n",
    "with open('tokenizer.pickle', 'rb') as handle:\n",
    "    tokenizer = pickle.load(handle)\n",
    "\n",
    "max_words    \n",
    "    \n",
    "necc_cols = [1, 2, 3, 4, 5]\n",
    "for col in necc_cols:\n",
    "    if col not in y.columns:\n",
    "        y[col] = 0\n",
    "        \n",
    "y = y[necc_cols]\n",
    "y = y.values\n",
    "\n",
    "X_baseline = tokenizer.texts_to_matrix(X)\n",
    "X_lstm = tokenizer.texts_to_sequences(X)\n",
    "X_lstm = pad_sequences(X_lstm, maxlen=400)"
   ]
  },
  {
   "cell_type": "markdown",
   "metadata": {},
   "source": [
    "##### Load and compile models"
   ]
  },
  {
   "cell_type": "code",
   "execution_count": 48,
   "metadata": {},
   "outputs": [
    {
     "name": "stderr",
     "output_type": "stream",
     "text": [
      "C:\\Users\\Tanner\\Anaconda3\\envs\\yelp\\lib\\site-packages\\keras\\engine\\saving.py:341: UserWarning: No training configuration found in save file: the model was *not* compiled. Compile it manually.\n",
      "  warnings.warn('No training configuration found in save file: '\n"
     ]
    }
   ],
   "source": [
    "# Baseline\n",
    "baseline = load_model('./models/baseline.h5')\n",
    "\n",
    "baseline.compile(loss='categorical_crossentropy',\n",
    "              optimizer=optimizer,\n",
    "              metrics=['accuracy'])\n",
    "\n",
    "# LSTM\n",
    "lstm = load_model('./models/lstm.h5')\n",
    "\n",
    "lstm.compile(loss='categorical_crossentropy',\n",
    "              optimizer=optimizer,\n",
    "              metrics=['accuracy'])\n",
    "\n",
    "\n",
    "# One vs. all\n",
    "lstm_1 = load_model('./models/one_star.h5')\n",
    "\n",
    "lstm_1.compile(loss='binary_crossentropy',\n",
    "                  optimizer=optimizer,\n",
    "                  metrics=['accuracy'])\n",
    "\n",
    "lstm_2 = load_model('./models/two_star.h5')\n",
    "\n",
    "lstm_2.compile(loss='binary_crossentropy',\n",
    "                  optimizer=optimizer,\n",
    "                  metrics=['accuracy'])\n",
    "\n",
    "lstm_3 = load_model('./models/three_star.h5')\n",
    "\n",
    "lstm_3.compile(loss='binary_crossentropy',\n",
    "                  optimizer=optimizer,\n",
    "                  metrics=['accuracy'])\n",
    "\n",
    "lstm_4 = load_model('./models/four_star.h5')\n",
    "\n",
    "lstm_4.compile(loss='binary_crossentropy',\n",
    "                  optimizer=optimizer,\n",
    "                  metrics=['accuracy'])\n",
    "\n",
    "lstm_5 = load_model('./models/five_star.h5')\n",
    "\n",
    "lstm_5.compile(loss='binary_crossentropy',\n",
    "                  optimizer=optimizer,\n",
    "                  metrics=['accuracy'])"
   ]
  },
  {
   "cell_type": "markdown",
   "metadata": {},
   "source": [
    "##### Evaluate Models"
   ]
  },
  {
   "cell_type": "code",
   "execution_count": 49,
   "metadata": {},
   "outputs": [
    {
     "name": "stdout",
     "output_type": "stream",
     "text": [
      "500/500 [==============================] - 0s 226us/step\n",
      "[1.0405480403900147, 0.6320000290870667]\n",
      "500/500 [==============================] - 0s 742us/step\n",
      "[0.8924245953559875, 0.6439999938011169]\n",
      "[0.616, 0.602]\n"
     ]
    }
   ],
   "source": [
    "# Baseline\n",
    "print(baseline.evaluate(X_baseline, y))\n",
    "\n",
    "# LSTM\n",
    "print(lstm.evaluate(X_lstm, y))\n",
    "\n",
    "# One vs. All\n",
    "one_star_ps = lstm_1.predict(X_lstm)\n",
    "two_star_ps = lstm_2.predict(X_lstm)\n",
    "three_star_ps = lstm_3.predict(X_lstm)\n",
    "four_star_ps = lstm_4.predict(X_lstm)\n",
    "five_star_ps = lstm_5.predict(X_lstm)\n",
    "\n",
    "data = [one_star_ps.flatten(), two_star_ps.flatten(), three_star_ps.flatten(), four_star_ps.flatten(), five_star_ps.flatten()]\n",
    "cols = [1, 2, 3, 4, 5]\n",
    "ps = pd.DataFrame(data=data, index=cols).T\n",
    "\n",
    "ps[\"ova_pred\"] = ps.idxmax(axis=1)\n",
    "\n",
    "print([MAE(ps[\"ova_pred\"], pd.DataFrame(data=y, columns=cols).idxmax(axis=1)), Accuracy(ps[\"ova_pred\"], pd.DataFrame(data=y, columns=cols).idxmax(axis=1))])"
   ]
  },
  {
   "cell_type": "markdown",
   "metadata": {},
   "source": [
    "##### Attempt Ensemble"
   ]
  },
  {
   "cell_type": "code",
   "execution_count": 50,
   "metadata": {},
   "outputs": [
    {
     "name": "stdout",
     "output_type": "stream",
     "text": [
      "[0.566, 0.628]\n"
     ]
    }
   ],
   "source": [
    "# Baseline\n",
    "baseline_preds = pd.DataFrame(baseline.predict(X_baseline), columns=cols)\n",
    "baseline_preds['baseline_pred'] = baseline_preds.idxmax(axis=1)\n",
    "\n",
    "# LSTM\n",
    "lstm_preds = pd.DataFrame(lstm.predict(X_lstm), columns=cols)\n",
    "lstm_preds['lstm_pred'] = lstm_preds.idxmax(axis=1)\n",
    "\n",
    "# One vs. all\n",
    "ova_preds = ps\n",
    "\n",
    "all_preds = pd.DataFrame([baseline_preds['baseline_pred'], lstm_preds['lstm_pred'], ova_preds['ova_pred']]).T\n",
    "all_preds[\"final_pred\"] = all_preds.mode(axis=1)[0]\n",
    "\n",
    "print([MAE(all_preds[\"final_pred\"], pd.DataFrame(data=y, columns=cols).idxmax(axis=1)), Accuracy(all_preds[\"final_pred\"], pd.DataFrame(data=y, columns=cols).idxmax(axis=1))])"
   ]
  },
  {
   "cell_type": "markdown",
   "metadata": {},
   "source": [
    "##### Misc."
   ]
  },
  {
   "cell_type": "code",
   "execution_count": 51,
   "metadata": {},
   "outputs": [
    {
     "data": {
      "text/plain": [
       "<matplotlib.axes._subplots.AxesSubplot at 0x16b4415aac8>"
      ]
     },
     "execution_count": 51,
     "metadata": {},
     "output_type": "execute_result"
    },
    {
     "data": {
      "image/png": "[encoded data removed]",
      "text/plain": [
       "<Figure size 432x288 with 1 Axes>"
      ]
     },
     "metadata": {
      "needs_background": "light"
     },
     "output_type": "display_data"
    }
   ],
   "source": [
    "sns.countplot(all_preds[\"final_pred\"])"
   ]
  },
  {
   "cell_type": "code",
   "execution_count": null,
   "metadata": {},
   "outputs": [],
   "source": []
  }
 ],
 "metadata": {
  "kernelspec": {
   "display_name": "Python 3",
   "language": "python",
   "name": "python3"
  },
  "language_info": {
   "codemirror_mode": {
    "name": "ipython",
    "version": 3
   },
   "file_extension": ".py",
   "mimetype": "text/x-python",
   "name": "python",
   "nbconvert_exporter": "python",
   "pygments_lexer": "ipython3",
   "version": "3.7.7"
  }
 },
 "nbformat": 4,
 "nbformat_minor": 2
}
