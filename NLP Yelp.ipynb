{
 "cells": [
  {
   "cell_type": "markdown",
   "metadata": {},
   "source": [
    "# NLP: Yelp Review to Rating\n",
    "## :)"
   ]
  },
  {
   "cell_type": "code",
   "execution_count": 1,
   "metadata": {},
   "outputs": [],
   "source": [
    "import json\n",
    "import sys\n",
    "import numpy as np\n",
    "import pandas as pd\n",
    "import seaborn as sns\n",
    "import matplotlib.pyplot as plt\n",
    "import nltk\n",
    "import re\n",
    "\n",
    "from nltk.corpus import stopwords\n",
    "from bs4 import BeautifulSoup\n",
    "from nltk.stem import PorterStemmer"
   ]
  },
  {
   "cell_type": "code",
   "execution_count": 2,
   "metadata": {},
   "outputs": [
    {
     "data": {
      "text/plain": [
       "<torch._C.Generator at 0x1a28cd21d0>"
      ]
     },
     "execution_count": 2,
     "metadata": {},
     "output_type": "execute_result"
    }
   ],
   "source": [
    "# importing torch\n",
    "import torch\n",
    "import torch.autograd as autograd\n",
    "import torch.nn as nn\n",
    "import torch.nn.functional as F\n",
    "import torch.optim as optim\n",
    "\n",
    "torch.manual_seed(1) #for reproducibility"
   ]
  },
  {
   "cell_type": "code",
   "execution_count": 3,
   "metadata": {},
   "outputs": [
    {
     "data": {
      "text/html": [
       "<div>\n",
       "<style scoped>\n",
       "    .dataframe tbody tr th:only-of-type {\n",
       "        vertical-align: middle;\n",
       "    }\n",
       "\n",
       "    .dataframe tbody tr th {\n",
       "        vertical-align: top;\n",
       "    }\n",
       "\n",
       "    .dataframe thead th {\n",
       "        text-align: right;\n",
       "    }\n",
       "</style>\n",
       "<table border=\"1\" class=\"dataframe\">\n",
       "  <thead>\n",
       "    <tr style=\"text-align: right;\">\n",
       "      <th></th>\n",
       "      <th>review_id</th>\n",
       "      <th>text</th>\n",
       "      <th>stars</th>\n",
       "    </tr>\n",
       "  </thead>\n",
       "  <tbody>\n",
       "    <tr>\n",
       "      <th>0</th>\n",
       "      <td>Q1sbwvVQXV2734tPgoKj4Q</td>\n",
       "      <td>Total bill for this horrible service? Over $8G...</td>\n",
       "      <td>1</td>\n",
       "    </tr>\n",
       "    <tr>\n",
       "      <th>1</th>\n",
       "      <td>GJXCdrto3ASJOqKeVWPi6Q</td>\n",
       "      <td>I *adore* Travis at the Hard Rock's new Kelly ...</td>\n",
       "      <td>5</td>\n",
       "    </tr>\n",
       "    <tr>\n",
       "      <th>2</th>\n",
       "      <td>2TzJjDVDEuAW6MR5Vuc1ug</td>\n",
       "      <td>I have to say that this office really has it t...</td>\n",
       "      <td>5</td>\n",
       "    </tr>\n",
       "    <tr>\n",
       "      <th>3</th>\n",
       "      <td>yi0R0Ugj_xUx_Nek0-_Qig</td>\n",
       "      <td>Went in for a lunch. Steak sandwich was delici...</td>\n",
       "      <td>5</td>\n",
       "    </tr>\n",
       "    <tr>\n",
       "      <th>4</th>\n",
       "      <td>11a8sVPMUFtaC7_ABRkmtw</td>\n",
       "      <td>Today was my second out of three sessions I ha...</td>\n",
       "      <td>1</td>\n",
       "    </tr>\n",
       "  </tbody>\n",
       "</table>\n",
       "</div>"
      ],
      "text/plain": [
       "                review_id                                               text  \\\n",
       "0  Q1sbwvVQXV2734tPgoKj4Q  Total bill for this horrible service? Over $8G...   \n",
       "1  GJXCdrto3ASJOqKeVWPi6Q  I *adore* Travis at the Hard Rock's new Kelly ...   \n",
       "2  2TzJjDVDEuAW6MR5Vuc1ug  I have to say that this office really has it t...   \n",
       "3  yi0R0Ugj_xUx_Nek0-_Qig  Went in for a lunch. Steak sandwich was delici...   \n",
       "4  11a8sVPMUFtaC7_ABRkmtw  Today was my second out of three sessions I ha...   \n",
       "\n",
       "   stars  \n",
       "0      1  \n",
       "1      5  \n",
       "2      5  \n",
       "3      5  \n",
       "4      1  "
      ]
     },
     "execution_count": 3,
     "metadata": {},
     "output_type": "execute_result"
    }
   ],
   "source": [
    "yelp = pd.read_json(\"./yelp_review_training_dataset.jsonl\", lines = True)\n",
    "yelp.head()"
   ]
  },
  {
   "cell_type": "markdown",
   "metadata": {},
   "source": [
    "### EDA - Stars\n",
    "Not too much to go off of, but let's get a general understanding of our data. How many nulls do we have?"
   ]
  },
  {
   "cell_type": "code",
   "execution_count": 4,
   "metadata": {},
   "outputs": [
    {
     "data": {
      "text/plain": [
       "review_id    0\n",
       "text         0\n",
       "stars        0\n",
       "dtype: int64"
      ]
     },
     "execution_count": 4,
     "metadata": {},
     "output_type": "execute_result"
    }
   ],
   "source": [
    "yelp.isna().sum()"
   ]
  },
  {
   "cell_type": "markdown",
   "metadata": {},
   "source": [
    "How large is the data?"
   ]
  },
  {
   "cell_type": "code",
   "execution_count": 5,
   "metadata": {},
   "outputs": [
    {
     "data": {
      "text/plain": [
       "(533581, 3)"
      ]
     },
     "execution_count": 5,
     "metadata": {},
     "output_type": "execute_result"
    }
   ],
   "source": [
    "yelp.shape"
   ]
  },
  {
   "cell_type": "code",
   "execution_count": 6,
   "metadata": {},
   "outputs": [
    {
     "data": {
      "text/plain": [
       "<matplotlib.axes._subplots.AxesSubplot at 0x10bc34fd0>"
      ]
     },
     "execution_count": 6,
     "metadata": {},
     "output_type": "execute_result"
    },
    {
     "data": {
      "image/png": "[encoded data removed]",
      "text/plain": [
       "<Figure size 432x288 with 1 Axes>"
      ]
     },
     "metadata": {
      "needs_background": "light"
     },
     "output_type": "display_data"
    }
   ],
   "source": [
    "sns.countplot(yelp['stars'])"
   ]
  },
  {
   "cell_type": "markdown",
   "metadata": {},
   "source": [
    "One thing we can potentially look at is whether or not the reviews are balanced. Let's say >=4 is positive, and <4 is negative. If we do see a significant difference in positive and negative reviews, we can balance it before training."
   ]
  },
  {
   "cell_type": "code",
   "execution_count": 7,
   "metadata": {},
   "outputs": [
    {
     "data": {
      "text/html": [
       "<div>\n",
       "<style scoped>\n",
       "    .dataframe tbody tr th:only-of-type {\n",
       "        vertical-align: middle;\n",
       "    }\n",
       "\n",
       "    .dataframe tbody tr th {\n",
       "        vertical-align: top;\n",
       "    }\n",
       "\n",
       "    .dataframe thead th {\n",
       "        text-align: right;\n",
       "    }\n",
       "</style>\n",
       "<table border=\"1\" class=\"dataframe\">\n",
       "  <thead>\n",
       "    <tr style=\"text-align: right;\">\n",
       "      <th></th>\n",
       "      <th>review_id</th>\n",
       "      <th>text</th>\n",
       "      <th>stars</th>\n",
       "      <th>category</th>\n",
       "    </tr>\n",
       "  </thead>\n",
       "  <tbody>\n",
       "    <tr>\n",
       "      <th>0</th>\n",
       "      <td>Q1sbwvVQXV2734tPgoKj4Q</td>\n",
       "      <td>Total bill for this horrible service? Over $8G...</td>\n",
       "      <td>1</td>\n",
       "      <td>Negative</td>\n",
       "    </tr>\n",
       "    <tr>\n",
       "      <th>1</th>\n",
       "      <td>GJXCdrto3ASJOqKeVWPi6Q</td>\n",
       "      <td>I *adore* Travis at the Hard Rock's new Kelly ...</td>\n",
       "      <td>5</td>\n",
       "      <td>Positive</td>\n",
       "    </tr>\n",
       "    <tr>\n",
       "      <th>2</th>\n",
       "      <td>2TzJjDVDEuAW6MR5Vuc1ug</td>\n",
       "      <td>I have to say that this office really has it t...</td>\n",
       "      <td>5</td>\n",
       "      <td>Positive</td>\n",
       "    </tr>\n",
       "    <tr>\n",
       "      <th>3</th>\n",
       "      <td>yi0R0Ugj_xUx_Nek0-_Qig</td>\n",
       "      <td>Went in for a lunch. Steak sandwich was delici...</td>\n",
       "      <td>5</td>\n",
       "      <td>Positive</td>\n",
       "    </tr>\n",
       "    <tr>\n",
       "      <th>4</th>\n",
       "      <td>11a8sVPMUFtaC7_ABRkmtw</td>\n",
       "      <td>Today was my second out of three sessions I ha...</td>\n",
       "      <td>1</td>\n",
       "      <td>Negative</td>\n",
       "    </tr>\n",
       "  </tbody>\n",
       "</table>\n",
       "</div>"
      ],
      "text/plain": [
       "                review_id                                               text  \\\n",
       "0  Q1sbwvVQXV2734tPgoKj4Q  Total bill for this horrible service? Over $8G...   \n",
       "1  GJXCdrto3ASJOqKeVWPi6Q  I *adore* Travis at the Hard Rock's new Kelly ...   \n",
       "2  2TzJjDVDEuAW6MR5Vuc1ug  I have to say that this office really has it t...   \n",
       "3  yi0R0Ugj_xUx_Nek0-_Qig  Went in for a lunch. Steak sandwich was delici...   \n",
       "4  11a8sVPMUFtaC7_ABRkmtw  Today was my second out of three sessions I ha...   \n",
       "\n",
       "   stars  category  \n",
       "0      1  Negative  \n",
       "1      5  Positive  \n",
       "2      5  Positive  \n",
       "3      5  Positive  \n",
       "4      1  Negative  "
      ]
     },
     "execution_count": 7,
     "metadata": {},
     "output_type": "execute_result"
    }
   ],
   "source": [
    "def pos_or_neg(x):\n",
    "    if x >= 4:\n",
    "        return \"Positive\"\n",
    "    else:\n",
    "        return \"Negative\"\n",
    "    \n",
    "yelp['category'] = yelp['stars'].apply(pos_or_neg)\n",
    "yelp.head()"
   ]
  },
  {
   "cell_type": "code",
   "execution_count": 8,
   "metadata": {},
   "outputs": [
    {
     "data": {
      "text/plain": [
       "1.6679183395916979"
      ]
     },
     "execution_count": 8,
     "metadata": {},
     "output_type": "execute_result"
    },
    {
     "data": {
      "image/png": "[encoded data removed]",
      "text/plain": [
       "<Figure size 432x288 with 1 Axes>"
      ]
     },
     "metadata": {
      "needs_background": "light"
     },
     "output_type": "display_data"
    }
   ],
   "source": [
    "sns.countplot(yelp['category'])\n",
    "num_pos = np.count_nonzero(yelp['category'] == 'Positive')\n",
    "num_neg = np.count_nonzero(yelp['category'] == 'Negative')\n",
    "num_pos / num_neg"
   ]
  },
  {
   "cell_type": "markdown",
   "metadata": {},
   "source": [
    "There are roughly 1 and 2/3 times as many positive reviews as negative reviews. We will first try no class balancing when building the model, but may turn to class balancing later on."
   ]
  },
  {
   "cell_type": "markdown",
   "metadata": {},
   "source": [
    "### Data Cleaning - Text"
   ]
  },
  {
   "cell_type": "code",
   "execution_count": 9,
   "metadata": {},
   "outputs": [
    {
     "data": {
      "text/plain": [
       "'I love chinese food and I love mexican food. What can go wrong? A couple of things. First things first, this place is more of a \"rice bowl\" kind of place. I thought it was going to be more diverse as far as the menu goes, but its mainly rice bowls you get with different kinds of meats. The ordering was a little confusing at first, but one of the employees helped us out and I got the 2-item bowl and got the jade chicken and hengrenade chicken with all rice(jerk). I also ordered a jade chicken quesadilla on the side.\\n\\nI\\'m gonna admit, this place looks kinda dirty. I don\\'t think Arizona uses those health department letter grade system like California does, but if I were to just judge by how it looked inside, i\\'d give it a \"C\" grade lol. We waited for about 15 minutes or so and finally got our food. We took it to go and ate at our hotel room. \\n\\nMmmm... the food was just alright. The jade chicken was nothing special. It tasted like any generic chinese fast food orange chicken/sesame chicken variant. The hengrenade chicken, although was the less spicier version of the jerk chicken, was still pretty spicy for me. Just be warned the jerk chicken is super spicy. If you aren\\'t sure, ask for a sample at the restaurant before ordering, but it was way too spicy for me. \\n\\nThe jade chicken quesadilla was decent, but nothing special. Just imagine orange chicken in between a tortilla and cheese. A friend of mine ordered a jade chicken burrito and we were confused when we pulled it out of the bag because it was literally the size of Mcdonald\\'s apple pie. If you order the burrito, be warned that it\\'s a burrito for gnomes and smurfs, but he said it was tasty. \\n\\nThey provide a snicker doodle sugar cookie for each meal and it was decent, again nothing special. \\n\\nNot gonna lie, the next day my stomach felt like a little mexican dude and chinese dude were wrestling and throwing molotov cocktails inside. I used the bathroom like 5 times. I don\\'t recommend eating this place if you have a lot to do the next day.'"
      ]
     },
     "execution_count": 9,
     "metadata": {},
     "output_type": "execute_result"
    }
   ],
   "source": [
    "yelp['text'][17]"
   ]
  },
  {
   "cell_type": "code",
   "execution_count": 15,
   "metadata": {},
   "outputs": [
    {
     "name": "stderr",
     "output_type": "stream",
     "text": [
      "/opt/anaconda3/lib/python3.7/site-packages/bs4/__init__.py:389: UserWarning: \"https://www.consumeraffairs.com/news/mypillow-gets-a-rude-awakening-as-the-better-business-bureau-gives-it-an-f-010517.html\" looks like a URL. Beautiful Soup is not an HTTP client. You should probably use an HTTP client like requests to get the document behind the URL, and feed that document to Beautiful Soup.\n",
      "  ' that document to Beautiful Soup.' % decoded_markup\n",
      "/opt/anaconda3/lib/python3.7/site-packages/bs4/__init__.py:314: UserWarning: \"b'.'\" looks like a filename, not markup. You should probably open this file and pass the filehandle into Beautiful Soup.\n",
      "  ' Beautiful Soup.' % markup)\n",
      "/opt/anaconda3/lib/python3.7/site-packages/bs4/__init__.py:389: UserWarning: \"http://www.marketwired.com/press-release/lease-of-spot-concord-place-cafe-terminated-tsx-venture-spp-1950108.htm\n",
      "\n",
      "Unfortunate!\" looks like a URL. Beautiful Soup is not an HTTP client. You should probably use an HTTP client like requests to get the document behind the URL, and feed that document to Beautiful Soup.\n",
      "  ' that document to Beautiful Soup.' % decoded_markup\n"
     ]
    }
   ],
   "source": [
    "REPLACE_BY_SPACE_RE = re.compile('[/(){}\\[\\]\\|@,;]')\n",
    "BAD_SYMBOLS_RE = re.compile('[^0-9a-z #+_]')\n",
    "STOPWORDS = set(stopwords.words('english'))\n",
    "\n",
    "def clean_text(text):\n",
    "    \"\"\"\n",
    "        text: a string\n",
    "        \n",
    "        return: modified initial string\n",
    "    \"\"\"\n",
    "    text = BeautifulSoup(text, \"lxml\").text # HTML decoding\n",
    "    text = text.lower() # lowercase text\n",
    "    text = REPLACE_BY_SPACE_RE.sub(' ', text) # replace REPLACE_BY_SPACE_RE symbols by space in text\n",
    "    text = BAD_SYMBOLS_RE.sub('', text) # delete symbols which are in BAD_SYMBOLS_RE from text\n",
    "   \n",
    "    ps = PorterStemmer()\n",
    "    \n",
    "    text = ' '.join(ps.stem(word) for word in text.split() if word not in STOPWORDS) # delete stopwords from text and stem\n",
    "    return text\n",
    "    \n",
    "yelp['text'] = yelp['text'].apply(clean_text)"
   ]
  },
  {
   "cell_type": "code",
   "execution_count": 16,
   "metadata": {},
   "outputs": [],
   "source": [
    "yelp.to_csv('cleaned_yelp_stemmed.csv')"
   ]
  },
  {
   "cell_type": "markdown",
   "metadata": {},
   "source": [
    "# Model Implementation"
   ]
  },
  {
   "cell_type": "markdown",
   "metadata": {},
   "source": [
    "### Evaluation\n",
    "#### Average Star Error (Average Absolute offset between predicted and true number of stars)"
   ]
  },
  {
   "cell_type": "code",
   "execution_count": null,
   "metadata": {},
   "outputs": [],
   "source": [
    "import keras.backend as K\n",
    "\n",
    "# def mse(y_true, y_pred):\n",
    "#     loss = K.square(y_pred - y_true)\n",
    "#     loss = K.mean(loss, axis=-1)      \n",
    "#     return loss\n",
    "\n",
    "def ASE(y_true, y_pred):\n",
    "    loss = np.abs(y_true - y_pred)\n",
    "    \n",
    "    \n",
    "    return "
   ]
  },
  {
   "cell_type": "markdown",
   "metadata": {},
   "source": [
    "### Train/Test Split (Unbalanced and balanced)"
   ]
  },
  {
   "cell_type": "code",
   "execution_count": 53,
   "metadata": {},
   "outputs": [
    {
     "data": {
      "text/html": [
       "<div>\n",
       "<style scoped>\n",
       "    .dataframe tbody tr th:only-of-type {\n",
       "        vertical-align: middle;\n",
       "    }\n",
       "\n",
       "    .dataframe tbody tr th {\n",
       "        vertical-align: top;\n",
       "    }\n",
       "\n",
       "    .dataframe thead th {\n",
       "        text-align: right;\n",
       "    }\n",
       "</style>\n",
       "<table border=\"1\" class=\"dataframe\">\n",
       "  <thead>\n",
       "    <tr style=\"text-align: right;\">\n",
       "      <th></th>\n",
       "      <th>Unnamed: 0</th>\n",
       "      <th>review_id</th>\n",
       "      <th>text</th>\n",
       "      <th>stars</th>\n",
       "      <th>category</th>\n",
       "    </tr>\n",
       "  </thead>\n",
       "  <tbody>\n",
       "    <tr>\n",
       "      <th>0</th>\n",
       "      <td>0</td>\n",
       "      <td>Q1sbwvVQXV2734tPgoKj4Q</td>\n",
       "      <td>total bill horribl servic 8g crook actual nerv...</td>\n",
       "      <td>1</td>\n",
       "      <td>Negative</td>\n",
       "    </tr>\n",
       "    <tr>\n",
       "      <th>1</th>\n",
       "      <td>1</td>\n",
       "      <td>GJXCdrto3ASJOqKeVWPi6Q</td>\n",
       "      <td>ador travi hard rock new kelli cardena salon i...</td>\n",
       "      <td>5</td>\n",
       "      <td>Positive</td>\n",
       "    </tr>\n",
       "    <tr>\n",
       "      <th>2</th>\n",
       "      <td>2</td>\n",
       "      <td>2TzJjDVDEuAW6MR5Vuc1ug</td>\n",
       "      <td>say offic realli togeth organ friendli dr j ph...</td>\n",
       "      <td>5</td>\n",
       "      <td>Positive</td>\n",
       "    </tr>\n",
       "    <tr>\n",
       "      <th>3</th>\n",
       "      <td>3</td>\n",
       "      <td>yi0R0Ugj_xUx_Nek0-_Qig</td>\n",
       "      <td>went lunch steak sandwich delici caesar salad ...</td>\n",
       "      <td>5</td>\n",
       "      <td>Positive</td>\n",
       "    </tr>\n",
       "    <tr>\n",
       "      <th>4</th>\n",
       "      <td>4</td>\n",
       "      <td>11a8sVPMUFtaC7_ABRkmtw</td>\n",
       "      <td>today second three session paid although first...</td>\n",
       "      <td>1</td>\n",
       "      <td>Negative</td>\n",
       "    </tr>\n",
       "  </tbody>\n",
       "</table>\n",
       "</div>"
      ],
      "text/plain": [
       "   Unnamed: 0               review_id  \\\n",
       "0           0  Q1sbwvVQXV2734tPgoKj4Q   \n",
       "1           1  GJXCdrto3ASJOqKeVWPi6Q   \n",
       "2           2  2TzJjDVDEuAW6MR5Vuc1ug   \n",
       "3           3  yi0R0Ugj_xUx_Nek0-_Qig   \n",
       "4           4  11a8sVPMUFtaC7_ABRkmtw   \n",
       "\n",
       "                                                text  stars  category  \n",
       "0  total bill horribl servic 8g crook actual nerv...      1  Negative  \n",
       "1  ador travi hard rock new kelli cardena salon i...      5  Positive  \n",
       "2  say offic realli togeth organ friendli dr j ph...      5  Positive  \n",
       "3  went lunch steak sandwich delici caesar salad ...      5  Positive  \n",
       "4  today second three session paid although first...      1  Negative  "
      ]
     },
     "execution_count": 53,
     "metadata": {},
     "output_type": "execute_result"
    }
   ],
   "source": [
    "import tensorflow as tf\n",
    "\n",
    "from sklearn.preprocessing import LabelBinarizer, LabelEncoder\n",
    "from sklearn.metrics import confusion_matrix\n",
    "\n",
    "from tensorflow import keras\n",
    "from keras import Sequential\n",
    "from keras.layers import Dense, Activation, Dropout, Embedding, Conv1D, MaxPooling1D, LSTM, BatchNormalization, SpatialDropout1D\n",
    "from keras.preprocessing.sequence import pad_sequences\n",
    "from keras.preprocessing import text, sequence\n",
    "from keras import utils\n",
    "from keras import regularizers\n",
    "\n",
    "yelp = pd.read_csv('cleaned_yelp_stemmed.csv')\n",
    "yelp.head()"
   ]
  },
  {
   "cell_type": "code",
   "execution_count": 54,
   "metadata": {},
   "outputs": [],
   "source": [
    "from sklearn.model_selection import train_test_split\n",
    "\n",
    "X = yelp['text'].fillna('').values\n",
    "y = yelp['stars']\n",
    "\n",
    "X_train, X_test, y_train, y_test = train_test_split(X, y, test_size=0.30, random_state=42)"
   ]
  },
  {
   "cell_type": "markdown",
   "metadata": {},
   "source": [
    "### BOW model using simple network"
   ]
  },
  {
   "cell_type": "code",
   "execution_count": 55,
   "metadata": {},
   "outputs": [],
   "source": [
    "max_words = 2000\n",
    "tokenize = text.Tokenizer(num_words=max_words, char_level=False)\n",
    "\n",
    "tokenize.fit_on_texts(X_train)\n",
    "X_train = tokenize.texts_to_matrix(X_train)\n",
    "X_test = tokenize.texts_to_matrix(X_test)"
   ]
  },
  {
   "cell_type": "code",
   "execution_count": 56,
   "metadata": {},
   "outputs": [],
   "source": [
    "encoder = LabelEncoder()\n",
    "encoder.fit(y_train)\n",
    "y_train = encoder.transform(y_train)\n",
    "y_test = encoder.transform(y_test)"
   ]
  },
  {
   "cell_type": "code",
   "execution_count": 57,
   "metadata": {},
   "outputs": [],
   "source": [
    "num_classes = np.max(y_train) + 1\n",
    "y_train = utils.to_categorical(y_train, num_classes)\n",
    "y_test = utils.to_categorical(y_test, num_classes)"
   ]
  },
  {
   "cell_type": "code",
   "execution_count": 58,
   "metadata": {},
   "outputs": [
    {
     "name": "stdout",
     "output_type": "stream",
     "text": [
      "X_train shape: (373506, 2000)\n",
      "X_test shape: (160075, 2000)\n",
      "y_train shape: (373506, 5)\n",
      "y_test shape: (160075, 5)\n"
     ]
    }
   ],
   "source": [
    "print('X_train shape:', X_train.shape)\n",
    "print('X_test shape:', X_test.shape)\n",
    "print('y_train shape:', y_train.shape)\n",
    "print('y_test shape:', y_test.shape)"
   ]
  },
  {
   "cell_type": "markdown",
   "metadata": {},
   "source": [
    "Here, we are computing a single model, but in future we will optimize on several parameters, listed below\n",
    "* Batch size\n",
    "* Learning rate\n",
    "* Gradient clipping\n",
    "* Drop out\n",
    "* Batch normalization\n",
    "* Optimizers\n",
    "* Regularization"
   ]
  },
  {
   "cell_type": "code",
   "execution_count": 24,
   "metadata": {},
   "outputs": [
    {
     "name": "stdout",
     "output_type": "stream",
     "text": [
      "Train on 336155 samples, validate on 37351 samples\n",
      "Epoch 1/3\n",
      "336155/336155 [==============================] - 141s 419us/step - loss: 0.7156 - accuracy: 0.7273 - val_loss: 0.6582 - val_accuracy: 0.7419\n",
      "Epoch 2/3\n",
      "336155/336155 [==============================] - 134s 397us/step - loss: 0.6474 - accuracy: 0.7481 - val_loss: 0.6507 - val_accuracy: 0.7456\n",
      "Epoch 3/3\n",
      "336155/336155 [==============================] - 130s 387us/step - loss: 0.6209 - accuracy: 0.7592 - val_loss: 0.6479 - val_accuracy: 0.7449\n"
     ]
    }
   ],
   "source": [
    "batch_size = 128\n",
    "epochs = 3\n",
    "\n",
    "model = Sequential()\n",
    "model.add(Dense(512, input_shape=(max_words,)))\n",
    "model.add(BatchNormalization())\n",
    "model.add(Activation('relu'))\n",
    "model.add(Dropout(0.5))\n",
    "model.add(Dense(5))\n",
    "model.add(Activation('softmax'))\n",
    "\n",
    "model.compile(loss='categorical_crossentropy',\n",
    "              optimizer='adam',\n",
    "              metrics=['accuracy'])\n",
    "\n",
    "history = model.fit(X_train, y_train,\n",
    "                    batch_size=batch_size,\n",
    "                    epochs=epochs,\n",
    "                    verbose=1,\n",
    "                    validation_split=0.1)"
   ]
  },
  {
   "cell_type": "code",
   "execution_count": 25,
   "metadata": {},
   "outputs": [
    {
     "name": "stdout",
     "output_type": "stream",
     "text": [
      "160075/160075 [==============================] - 14s 90us/step\n",
      "Test accuracy: 0.7502420544624329\n"
     ]
    }
   ],
   "source": [
    "score = model.evaluate(X_test, y_test,\n",
    "                       batch_size=batch_size, verbose=1)\n",
    "print('Test accuracy:', score[1])"
   ]
  },
  {
   "cell_type": "code",
   "execution_count": 26,
   "metadata": {},
   "outputs": [
    {
     "name": "stdout",
     "output_type": "stream",
     "text": [
      "Model: \"sequential_2\"\n",
      "_________________________________________________________________\n",
      "Layer (type)                 Output Shape              Param #   \n",
      "=================================================================\n",
      "dense_3 (Dense)              (None, 512)               1024512   \n",
      "_________________________________________________________________\n",
      "batch_normalization_2 (Batch (None, 512)               2048      \n",
      "_________________________________________________________________\n",
      "activation_3 (Activation)    (None, 512)               0         \n",
      "_________________________________________________________________\n",
      "dropout_2 (Dropout)          (None, 512)               0         \n",
      "_________________________________________________________________\n",
      "dense_4 (Dense)              (None, 5)                 2565      \n",
      "_________________________________________________________________\n",
      "activation_4 (Activation)    (None, 5)                 0         \n",
      "=================================================================\n",
      "Total params: 1,029,125\n",
      "Trainable params: 1,028,101\n",
      "Non-trainable params: 1,024\n",
      "_________________________________________________________________\n"
     ]
    }
   ],
   "source": [
    "model.summary()"
   ]
  },
  {
   "cell_type": "code",
   "execution_count": 27,
   "metadata": {},
   "outputs": [],
   "source": [
    "train_predictions = model.predict(X_train)\n",
    "test_predictions = model.predict(X_test)"
   ]
  },
  {
   "cell_type": "code",
   "execution_count": 28,
   "metadata": {},
   "outputs": [
    {
     "data": {
      "image/png": "[encoded data removed]",
      "text/plain": [
       "<Figure size 432x288 with 1 Axes>"
      ]
     },
     "metadata": {
      "needs_background": "light"
     },
     "output_type": "display_data"
    }
   ],
   "source": [
    "plt.title('Loss')\n",
    "plt.plot(history.history['loss'], label='train')\n",
    "plt.plot(history.history['val_loss'], label='test')\n",
    "plt.legend()\n",
    "plt.show()"
   ]
  },
  {
   "cell_type": "code",
   "execution_count": 29,
   "metadata": {},
   "outputs": [
    {
     "data": {
      "image/png": "[encoded data removed]",
      "text/plain": [
       "<Figure size 432x288 with 1 Axes>"
      ]
     },
     "metadata": {
      "needs_background": "light"
     },
     "output_type": "display_data"
    }
   ],
   "source": [
    "plt.title('Accuracy')\n",
    "plt.plot(history.history['accuracy'], label='train')\n",
    "plt.plot(history.history['val_accuracy'], label='test')\n",
    "plt.legend()\n",
    "plt.show()"
   ]
  },
  {
   "cell_type": "markdown",
   "metadata": {},
   "source": [
    "### Now training with several parameter changes"
   ]
  },
  {
   "cell_type": "code",
   "execution_count": 59,
   "metadata": {},
   "outputs": [
    {
     "name": "stdout",
     "output_type": "stream",
     "text": [
      "27\n"
     ]
    }
   ],
   "source": [
    "import itertools\n",
    "\n",
    "batch_sizes = [128, 256, 512]\n",
    "epochs = [3]\n",
    "learning_rates = [.01, .001, .0001]\n",
    "dropout = [True]\n",
    "batch_norm = [True]\n",
    "regularization = [True]\n",
    "optimizers = [\"RMSProp\", \"ADAM\", \"Adadelta\"]\n",
    "\n",
    "all_lists = [batch_sizes, epochs, learning_rates, dropout, batch_norm, regularization, optimizers]\n",
    "\n",
    "params_to_test = list(itertools.product(*all_lists))\n",
    "print(len(params_to_test))"
   ]
  },
  {
   "cell_type": "code",
   "execution_count": 61,
   "metadata": {},
   "outputs": [
    {
     "name": "stdout",
     "output_type": "stream",
     "text": [
      "(128, 3, 0.01, True, True, True, 'RMSProp')\n",
      "Train on 336155 samples, validate on 37351 samples\n",
      "Epoch 1/3\n",
      "336155/336155 [==============================] - 116s 344us/step - loss: 0.7226 - accuracy: 0.7283 - val_loss: 0.6808 - val_accuracy: 0.7405\n",
      "Epoch 2/3\n",
      "336155/336155 [==============================] - 114s 340us/step - loss: 0.6808 - accuracy: 0.7427 - val_loss: 0.6716 - val_accuracy: 0.7426\n",
      "Epoch 3/3\n",
      "336155/336155 [==============================] - 114s 339us/step - loss: 0.6695 - accuracy: 0.7469 - val_loss: 0.6857 - val_accuracy: 0.7396\n",
      "160075/160075 [==============================] - 14s 87us/step\n",
      "[0.6815804430601765, 0.7411150932312012]\n",
      "(128, 3, 0.01, True, True, True, 'ADAM')\n",
      "Train on 336155 samples, validate on 37351 samples\n",
      "Epoch 1/3\n",
      "336155/336155 [==============================] - 124s 370us/step - loss: 0.7050 - accuracy: 0.7299 - val_loss: 0.6697 - val_accuracy: 0.7375\n",
      "Epoch 2/3\n",
      "336155/336155 [==============================] - 106s 315us/step - loss: 0.6526 - accuracy: 0.7475 - val_loss: 0.6649 - val_accuracy: 0.7413\n",
      "Epoch 3/3\n",
      "336155/336155 [==============================] - 102s 302us/step - loss: 0.6231 - accuracy: 0.7592 - val_loss: 0.6661 - val_accuracy: 0.7421\n",
      "160075/160075 [==============================] - 16s 101us/step\n",
      "[0.6595521898986808, 0.7462502121925354]\n",
      "(128, 3, 0.01, True, True, True, 'Adadelta')\n",
      "Train on 336155 samples, validate on 37351 samples\n",
      "Epoch 1/3\n",
      "336155/336155 [==============================] - 177s 526us/step - loss: 1.0673 - accuracy: 0.6140 - val_loss: 0.8290 - val_accuracy: 0.70003 \n",
      "Epoch 2/3\n",
      "336155/336155 [==============================] - 162s 483us/step - loss: 0.8224 - accuracy: 0.6996 - val_loss: 0.7615 - val_accuracy: 0.7184\n",
      "Epoch 3/3\n",
      "336155/336155 [==============================] - 152s 452us/step - loss: 0.7701 - accuracy: 0.7145 - val_loss: 0.7322 - val_accuracy: 0.7249\n",
      "160075/160075 [==============================] - 15s 97us/step\n",
      "[0.7284259563893913, 0.7262158393859863]\n",
      "(128, 3, 0.001, True, True, True, 'RMSProp')\n",
      "Train on 336155 samples, validate on 37351 samples\n",
      "Epoch 1/3\n",
      "336155/336155 [==============================] - 126s 376us/step - loss: 0.7072 - accuracy: 0.7326 - val_loss: 0.6705 - val_accuracy: 0.7415\n",
      "Epoch 2/3\n",
      "336155/336155 [==============================] - 116s 344us/step - loss: 0.6600 - accuracy: 0.7516 - val_loss: 0.6704 - val_accuracy: 0.7451\n",
      "Epoch 3/3\n",
      "336155/336155 [==============================] - 111s 329us/step - loss: 0.6367 - accuracy: 0.7612 - val_loss: 0.6693 - val_accuracy: 0.7460\n",
      "160075/160075 [==============================] - 15s 94us/step\n",
      "[0.6654211752023359, 0.7492862939834595]\n",
      "(128, 3, 0.001, True, True, True, 'ADAM')\n",
      "Train on 336155 samples, validate on 37351 samples\n",
      "Epoch 1/3\n",
      "336155/336155 [==============================] - 111s 330us/step - loss: 0.6953 - accuracy: 0.7330 - val_loss: 0.6557 - val_accuracy: 0.7447\n",
      "Epoch 2/3\n",
      "336155/336155 [==============================] - 110s 328us/step - loss: 0.6257 - accuracy: 0.7582 - val_loss: 0.6547 - val_accuracy: 0.7433\n",
      "Epoch 3/3\n",
      "336155/336155 [==============================] - 115s 341us/step - loss: 0.5748 - accuracy: 0.7796 - val_loss: 0.6597 - val_accuracy: 0.7451\n",
      "160075/160075 [==============================] - 14s 88us/step\n",
      "[0.6569742412468838, 0.7472559809684753]\n",
      "(128, 3, 0.001, True, True, True, 'Adadelta')\n",
      "Train on 336155 samples, validate on 37351 samples\n",
      "Epoch 1/3\n",
      "336155/336155 [==============================] - 868s 3ms/step - loss: 1.5897 - accuracy: 0.3604 - val_loss: 1.2715 - val_accuracy: 0.5348\n",
      "Epoch 2/3\n",
      "336155/336155 [==============================] - 151s 448us/step - loss: 1.2236 - accuracy: 0.5599 - val_loss: 1.0842 - val_accuracy: 0.6177\n",
      "Epoch 3/3\n",
      "336155/336155 [==============================] - 156s 465us/step - loss: 1.0915 - accuracy: 0.6155 - val_loss: 0.9987 - val_accuracy: 0.6480\n",
      "160075/160075 [==============================] - 13s 82us/step\n",
      "[0.9961625996232498, 0.6506637334823608]\n",
      "(128, 3, 0.0001, True, True, True, 'RMSProp')\n",
      "Train on 336155 samples, validate on 37351 samples\n",
      "Epoch 1/3\n",
      "336155/336155 [==============================] - 117s 348us/step - loss: 0.7677 - accuracy: 0.7152 - val_loss: 0.6850 - val_accuracy: 0.7410\n",
      "Epoch 2/3\n",
      "336155/336155 [==============================] - 1181s 4ms/step - loss: 0.6680 - accuracy: 0.7462 - val_loss: 0.6707 - val_accuracy: 0.7447\n",
      "Epoch 3/3\n",
      "336155/336155 [==============================] - 125s 371us/step - loss: 0.6426 - accuracy: 0.7566 - val_loss: 0.6720 - val_accuracy: 0.7440\n",
      "160075/160075 [==============================] - 14s 90us/step\n",
      "[0.667256637335978, 0.7459191083908081]\n",
      "(128, 3, 0.0001, True, True, True, 'ADAM')\n",
      "Train on 336155 samples, validate on 37351 samples\n",
      "Epoch 1/3\n",
      "336155/336155 [==============================] - 117s 348us/step - loss: 0.7655 - accuracy: 0.7138 - val_loss: 0.6735 - val_accuracy: 0.7394\n",
      "Epoch 2/3\n",
      "336155/336155 [==============================] - 125s 373us/step - loss: 0.6520 - accuracy: 0.7492 - val_loss: 0.6653 - val_accuracy: 0.7426\n",
      "Epoch 3/3\n",
      "336155/336155 [==============================] - 115s 342us/step - loss: 0.6161 - accuracy: 0.7630 - val_loss: 0.6619 - val_accuracy: 0.7435\n",
      "160075/160075 [==============================] - 14s 89us/step\n",
      "[0.6548552101067634, 0.7463376522064209]\n",
      "(128, 3, 0.0001, True, True, True, 'Adadelta')\n",
      "Train on 336155 samples, validate on 37351 samples\n",
      "Epoch 1/3\n",
      "336155/336155 [==============================] - 1980s 6ms/step - loss: 1.8710 - accuracy: 0.2391 - val_loss: 1.7474 - val_accuracy: 0.2676\n",
      "Epoch 2/3\n",
      "336155/336155 [==============================] - 3562s 11ms/step - loss: 1.7770 - accuracy: 0.2804 - val_loss: 1.6622 - val_accuracy: 0.3190\n",
      "Epoch 3/3\n",
      "336155/336155 [==============================] - 2478s 7ms/step - loss: 1.6948 - accuracy: 0.3229 - val_loss: 1.5828 - val_accuracy: 0.3684\n",
      "160075/160075 [==============================] - 15s 95us/step\n",
      "[1.5816001197388074, 0.36925816535949707]\n",
      "(256, 3, 0.01, True, True, True, 'RMSProp')\n",
      "Train on 336155 samples, validate on 37351 samples\n",
      "Epoch 1/3\n",
      "336155/336155 [==============================] - 231s 686us/step - loss: 0.7151 - accuracy: 0.7304 - val_loss: 0.7003 - val_accuracy: 0.7329\n",
      "Epoch 2/3\n",
      "336155/336155 [==============================] - 201s 597us/step - loss: 0.6568 - accuracy: 0.7495 - val_loss: 0.6684 - val_accuracy: 0.7420\n",
      "Epoch 3/3\n",
      "336155/336155 [==============================] - 237s 704us/step - loss: 0.6378 - accuracy: 0.7580 - val_loss: 0.6839 - val_accuracy: 0.7392\n",
      "160075/160075 [==============================] - 15s 92us/step\n",
      "[0.6786735569587373, 0.742883026599884]\n",
      "(256, 3, 0.01, True, True, True, 'ADAM')\n",
      "Train on 336155 samples, validate on 37351 samples\n",
      "Epoch 1/3\n",
      "336155/336155 [==============================] - 238s 709us/step - loss: 0.6975 - accuracy: 0.7328 - val_loss: 0.6671 - val_accuracy: 0.7417\n",
      "Epoch 2/3\n",
      "336155/336155 [==============================] - 193s 575us/step - loss: 0.6332 - accuracy: 0.7542 - val_loss: 0.6562 - val_accuracy: 0.7418\n",
      "Epoch 3/3\n",
      "336155/336155 [==============================] - 216s 642us/step - loss: 0.5816 - accuracy: 0.7746 - val_loss: 0.6832 - val_accuracy: 0.7389\n",
      "160075/160075 [==============================] - 18s 114us/step\n",
      "[0.6761825646986239, 0.7432703375816345]\n",
      "(256, 3, 0.01, True, True, True, 'Adadelta')\n",
      "Train on 336155 samples, validate on 37351 samples\n",
      "Epoch 1/3\n",
      "336155/336155 [==============================] - 271s 807us/step - loss: 1.2096 - accuracy: 0.5513 - val_loss: 0.8742 - val_accuracy: 0.6886\n",
      "Epoch 2/3\n",
      "336155/336155 [==============================] - 282s 838us/step - loss: 0.8614 - accuracy: 0.6905 - val_loss: 0.7895 - val_accuracy: 0.7117\n",
      "Epoch 3/3\n",
      "336155/336155 [==============================] - 270s 805us/step - loss: 0.7973 - accuracy: 0.7079 - val_loss: 0.7539 - val_accuracy: 0.7206\n",
      "160075/160075 [==============================] - 24s 151us/step\n",
      "[0.7495051403688339, 0.722754955291748]\n",
      "(256, 3, 0.001, True, True, True, 'RMSProp')\n",
      "Train on 336155 samples, validate on 37351 samples\n",
      "Epoch 1/3\n",
      "336155/336155 [==============================] - 286s 852us/step - loss: 0.7006 - accuracy: 0.7334 - val_loss: 0.6643 - val_accuracy: 0.7435\n",
      "Epoch 2/3\n"
     ]
    },
    {
     "name": "stdout",
     "output_type": "stream",
     "text": [
      "336155/336155 [==============================] - 317s 944us/step - loss: 0.6401 - accuracy: 0.7564 - val_loss: 0.6684 - val_accuracy: 0.7449\n",
      "Epoch 3/3\n",
      "336155/336155 [==============================] - 284s 844us/step - loss: 0.6130 - accuracy: 0.7683 - val_loss: 0.6720 - val_accuracy: 0.7440\n",
      "160075/160075 [==============================] - 29s 183us/step\n",
      "[0.6696843283630323, 0.7475433349609375]\n",
      "(256, 3, 0.001, True, True, True, 'ADAM')\n",
      "Train on 336155 samples, validate on 37351 samples\n",
      "Epoch 1/3\n",
      "336155/336155 [==============================] - 321s 954us/step - loss: 0.6943 - accuracy: 0.7331 - val_loss: 0.6547 - val_accuracy: 0.7439\n",
      "Epoch 2/3\n",
      "336155/336155 [==============================] - 263s 782us/step - loss: 0.6173 - accuracy: 0.7610 - val_loss: 0.6477 - val_accuracy: 0.7487\n",
      "Epoch 3/3\n",
      "336155/336155 [==============================] - 286s 851us/step - loss: 0.5637 - accuracy: 0.7832 - val_loss: 0.6633 - val_accuracy: 0.7442\n",
      "160075/160075 [==============================] - 27s 169us/step\n",
      "[0.6586733524296297, 0.7467062473297119]\n",
      "(256, 3, 0.001, True, True, True, 'Adadelta')\n",
      "Train on 336155 samples, validate on 37351 samples\n",
      "Epoch 1/3\n",
      "336155/336155 [==============================] - 312s 927us/step - loss: 2.0468 - accuracy: 0.1820 - val_loss: 1.6808 - val_accuracy: 0.2840\n",
      "Epoch 2/3\n",
      "336155/336155 [==============================] - 701s 2ms/step - loss: 1.5206 - accuracy: 0.3973 - val_loss: 1.2809 - val_accuracy: 0.5279\n",
      "Epoch 3/3\n",
      "336155/336155 [==============================] - 226s 673us/step - loss: 1.2449 - accuracy: 0.5471 - val_loss: 1.1061 - val_accuracy: 0.6125\n",
      "160075/160075 [==============================] - 20s 125us/step\n",
      "[1.1027612028057903, 0.6126815676689148]\n",
      "(256, 3, 0.0001, True, True, True, 'RMSProp')\n",
      "Train on 336155 samples, validate on 37351 samples\n",
      "Epoch 1/3\n",
      "336155/336155 [==============================] - 247s 735us/step - loss: 0.7823 - accuracy: 0.7101 - val_loss: 0.6845 - val_accuracy: 0.7372\n",
      "Epoch 2/3\n",
      "336155/336155 [==============================] - 261s 775us/step - loss: 0.6675 - accuracy: 0.7451 - val_loss: 0.6708 - val_accuracy: 0.7411\n",
      "Epoch 3/3\n",
      "336155/336155 [==============================] - 211s 627us/step - loss: 0.6382 - accuracy: 0.7557 - val_loss: 0.6672 - val_accuracy: 0.7406\n",
      "160075/160075 [==============================] - 25s 156us/step\n",
      "[0.6633924144362167, 0.7451319694519043]\n",
      "(256, 3, 0.0001, True, True, True, 'ADAM')\n",
      "Train on 336155 samples, validate on 37351 samples\n",
      "Epoch 1/3\n",
      "336155/336155 [==============================] - 270s 802us/step - loss: 0.7948 - accuracy: 0.7047 - val_loss: 0.6792 - val_accuracy: 0.7369\n",
      "Epoch 2/3\n",
      "336155/336155 [==============================] - 292s 868us/step - loss: 0.6599 - accuracy: 0.7461 - val_loss: 0.6670 - val_accuracy: 0.7418\n",
      "Epoch 3/3\n",
      "336155/336155 [==============================] - 240s 714us/step - loss: 0.6245 - accuracy: 0.7593 - val_loss: 0.6632 - val_accuracy: 0.7427\n",
      "160075/160075 [==============================] - 28s 172us/step\n",
      "[0.6577009989506711, 0.7450382709503174]\n",
      "(256, 3, 0.0001, True, True, True, 'Adadelta')\n",
      "Train on 336155 samples, validate on 37351 samples\n",
      "Epoch 1/3\n",
      "336155/336155 [==============================] - 304s 903us/step - loss: 1.8446 - accuracy: 0.2332 - val_loss: 1.7354 - val_accuracy: 0.2547\n",
      "Epoch 2/3\n",
      "336155/336155 [==============================] - 300s 894us/step - loss: 1.7812 - accuracy: 0.2597 - val_loss: 1.6744 - val_accuracy: 0.2880\n",
      "Epoch 3/3\n",
      "336155/336155 [==============================] - 292s 868us/step - loss: 1.7225 - accuracy: 0.2875 - val_loss: 1.6143 - val_accuracy: 0.3210\n",
      "160075/160075 [==============================] - 30s 189us/step\n",
      "[1.6141409116414642, 0.3234671354293823]\n",
      "(512, 3, 0.01, True, True, True, 'RMSProp')\n",
      "Train on 336155 samples, validate on 37351 samples\n",
      "Epoch 1/3\n",
      "336155/336155 [==============================] - 233s 692us/step - loss: 0.7173 - accuracy: 0.7313 - val_loss: 0.6775 - val_accuracy: 0.7397\n",
      "Epoch 2/3\n",
      "336155/336155 [==============================] - 193s 575us/step - loss: 0.6403 - accuracy: 0.7542 - val_loss: 0.6641 - val_accuracy: 0.7450\n",
      "Epoch 3/3\n",
      "336155/336155 [==============================] - 167s 496us/step - loss: 0.6041 - accuracy: 0.7693 - val_loss: 0.6760 - val_accuracy: 0.7416\n",
      "160075/160075 [==============================] - 21s 131us/step\n",
      "[0.6712272981738702, 0.7460315227508545]\n",
      "(512, 3, 0.01, True, True, True, 'ADAM')\n",
      "Train on 336155 samples, validate on 37351 samples\n",
      "Epoch 1/3\n",
      "336155/336155 [==============================] - 201s 597us/step - loss: 0.6931 - accuracy: 0.7347 - val_loss: 0.6609 - val_accuracy: 0.7429\n",
      "Epoch 2/3\n",
      "336155/336155 [==============================] - 161s 480us/step - loss: 0.6242 - accuracy: 0.7571 - val_loss: 0.6556 - val_accuracy: 0.7464\n",
      "Epoch 3/3\n",
      "336155/336155 [==============================] - 189s 562us/step - loss: 0.5596 - accuracy: 0.7824 - val_loss: 0.6750 - val_accuracy: 0.7416\n",
      "160075/160075 [==============================] - 22s 138us/step\n",
      "[0.6702037298848773, 0.7432016134262085]\n",
      "(512, 3, 0.01, True, True, True, 'Adadelta')\n",
      "Train on 336155 samples, validate on 37351 samples\n",
      "Epoch 1/3\n",
      "336155/336155 [==============================] - 247s 734us/step - loss: 1.2195 - accuracy: 0.5469 - val_loss: 0.9369 - val_accuracy: 0.6666\n",
      "Epoch 2/3\n",
      "336155/336155 [==============================] - 252s 751us/step - loss: 0.9135 - accuracy: 0.6765 - val_loss: 0.8309 - val_accuracy: 0.6996\n",
      "Epoch 3/3\n",
      "336155/336155 [==============================] - 278s 828us/step - loss: 0.8366 - accuracy: 0.6984 - val_loss: 0.7861 - val_accuracy: 0.7114\n",
      "160075/160075 [==============================] - 22s 139us/step\n",
      "[0.7787355662110856, 0.7139840722084045]\n",
      "(512, 3, 0.001, True, True, True, 'RMSProp')\n",
      "Train on 336155 samples, validate on 37351 samples\n",
      "Epoch 1/3\n",
      "336155/336155 [==============================] - 205s 611us/step - loss: 0.6994 - accuracy: 0.7323 - val_loss: 0.6657 - val_accuracy: 0.7398\n",
      "Epoch 2/3\n",
      "336155/336155 [==============================] - 199s 593us/step - loss: 0.6226 - accuracy: 0.7610 - val_loss: 0.6603 - val_accuracy: 0.7455\n",
      "Epoch 3/3\n",
      "336155/336155 [==============================] - 220s 654us/step - loss: 0.5863 - accuracy: 0.7775 - val_loss: 0.6640 - val_accuracy: 0.7431\n",
      "160075/160075 [==============================] - 25s 156us/step\n",
      "[0.6620759916119364, 0.7468311786651611]\n",
      "(512, 3, 0.001, True, True, True, 'ADAM')\n",
      "Train on 336155 samples, validate on 37351 samples\n",
      "Epoch 1/3\n",
      "336155/336155 [==============================] - 243s 724us/step - loss: 0.7052 - accuracy: 0.7303 - val_loss: 0.6610 - val_accuracy: 0.7418\n",
      "Epoch 2/3\n",
      "336155/336155 [==============================] - 216s 643us/step - loss: 0.6143 - accuracy: 0.7618 - val_loss: 0.6545 - val_accuracy: 0.7445\n",
      "Epoch 3/3\n",
      "336155/336155 [==============================] - 217s 647us/step - loss: 0.5620 - accuracy: 0.7837 - val_loss: 0.6630 - val_accuracy: 0.7427\n",
      "160075/160075 [==============================] - 25s 159us/step\n",
      "[0.6592206842691176, 0.7450944781303406]\n",
      "(512, 3, 0.001, True, True, True, 'Adadelta')\n",
      "Train on 336155 samples, validate on 37351 samples\n",
      "Epoch 1/3\n",
      "336155/336155 [==============================] - 233s 693us/step - loss: 1.7107 - accuracy: 0.2864 - val_loss: 1.5094 - val_accuracy: 0.3710\n",
      "Epoch 2/3\n",
      "336155/336155 [==============================] - 202s 599us/step - loss: 1.4721 - accuracy: 0.4168 - val_loss: 1.3209 - val_accuracy: 0.5010\n",
      "Epoch 3/3\n",
      "336155/336155 [==============================] - 225s 670us/step - loss: 1.3132 - accuracy: 0.5101 - val_loss: 1.1999 - val_accuracy: 0.5678\n",
      "160075/160075 [==============================] - 31s 196us/step\n",
      "[1.1958102624185118, 0.5693706274032593]\n",
      "(512, 3, 0.0001, True, True, True, 'RMSProp')\n",
      "Train on 336155 samples, validate on 37351 samples\n",
      "Epoch 1/3\n",
      "336155/336155 [==============================] - 224s 665us/step - loss: 0.8462 - accuracy: 0.6903 - val_loss: 0.6906 - val_accuracy: 0.7351\n",
      "Epoch 2/3\n",
      "336155/336155 [==============================] - 234s 695us/step - loss: 0.6780 - accuracy: 0.7410 - val_loss: 0.6733 - val_accuracy: 0.7386\n",
      "Epoch 3/3\n",
      "336155/336155 [==============================] - 207s 615us/step - loss: 0.6450 - accuracy: 0.7525 - val_loss: 0.6683 - val_accuracy: 0.7400\n",
      "160075/160075 [==============================] - 26s 160us/step\n"
     ]
    },
    {
     "name": "stdout",
     "output_type": "stream",
     "text": [
      "[0.6638558511028024, 0.7436639070510864]\n",
      "(512, 3, 0.0001, True, True, True, 'ADAM')\n",
      "Train on 336155 samples, validate on 37351 samples\n",
      "Epoch 1/3\n",
      "336155/336155 [==============================] - 258s 767us/step - loss: 0.8347 - accuracy: 0.6930 - val_loss: 0.6932 - val_accuracy: 0.7343\n",
      "Epoch 2/3\n",
      "336155/336155 [==============================] - 181s 539us/step - loss: 0.6764 - accuracy: 0.7414 - val_loss: 0.6738 - val_accuracy: 0.7387\n",
      "Epoch 3/3\n",
      "336155/336155 [==============================] - 230s 684us/step - loss: 0.6410 - accuracy: 0.7526 - val_loss: 0.6695 - val_accuracy: 0.7399\n",
      "160075/160075 [==============================] - 22s 137us/step\n",
      "[0.6618809545265405, 0.7447633743286133]\n",
      "(512, 3, 0.0001, True, True, True, 'Adadelta')\n",
      "Train on 336155 samples, validate on 37351 samples\n",
      "Epoch 1/3\n",
      "  1024/336155 [..............................] - ETA: 59:58 - loss: 2.0000 - accuracy: 0.1963  "
     ]
    },
    {
     "name": "stderr",
     "output_type": "stream",
     "text": [
      "/opt/anaconda3/lib/python3.7/site-packages/keras/callbacks/callbacks.py:95: RuntimeWarning: Method (on_train_batch_end) is slow compared to the batch update (0.174216). Check your callbacks.\n",
      "  % (hook_name, delta_t_median), RuntimeWarning)\n"
     ]
    },
    {
     "name": "stdout",
     "output_type": "stream",
     "text": [
      "336155/336155 [==============================] - 238s 708us/step - loss: 1.9657 - accuracy: 0.2024 - val_loss: 1.8572 - val_accuracy: 0.2115\n",
      "Epoch 2/3\n",
      "336155/336155 [==============================] - 221s 657us/step - loss: 1.9291 - accuracy: 0.2143 - val_loss: 1.8349 - val_accuracy: 0.2251\n",
      "Epoch 3/3\n",
      "336155/336155 [==============================] - 277s 823us/step - loss: 1.8911 - accuracy: 0.2266 - val_loss: 1.7950 - val_accuracy: 0.2408\n",
      "160075/160075 [==============================] - 23s 142us/step\n",
      "[1.8012432562066822, 0.23825082182884216]\n"
     ]
    }
   ],
   "source": [
    "models = {}\n",
    "histories = {}\n",
    "scores = {}\n",
    "\n",
    "for params in params_to_test:\n",
    "    print(params)\n",
    "    batch_size, epochs, learning_rate, dropout, batch_norm, regularization, opt = params\n",
    "    \n",
    "    if opt == \"SGD\":\n",
    "        optimizer = keras.optimizers.SGD(learning_rate=learning_rate, momentum=0.0, nesterov=False)\n",
    "    elif opt == \"RMSProp\":\n",
    "        optimizer = keras.optimizers.RMSprop(learning_rate=learning_rate, rho=0.9)\n",
    "    elif opt == \"ADAM\":\n",
    "        optimizer = keras.optimizers.Adam(learning_rate=learning_rate, beta_1=0.9, beta_2=0.99, amsgrad=False)\n",
    "    else:\n",
    "        optimizer = keras.optimizers.Adadelta(learning_rate=learning_rate, rho=0.95)\n",
    "    \n",
    "    model = Sequential()\n",
    "    model.add(Dense(512, input_shape=(max_words,)))\n",
    "    model.add(BatchNormalization())\n",
    "    model.add(Activation('relu'))\n",
    "    model.add(Dropout(0.2))\n",
    "    model.add(Dense(5))\n",
    "    model.add(Activation('softmax'))\n",
    "\n",
    "    model.compile(loss='categorical_crossentropy',\n",
    "                  optimizer=optimizer,\n",
    "                  metrics=['accuracy'])\n",
    "\n",
    "    history = model.fit(X_train, y_train,\n",
    "                        batch_size=batch_size,\n",
    "                        epochs=epochs,\n",
    "                        verbose=1,\n",
    "                        validation_split=0.1)\n",
    "    \n",
    "    models[params] = model\n",
    "    histories[params] = history\n",
    "    \n",
    "    score = model.evaluate(X_test, y_test, batch_size=batch_size, verbose=1)\n",
    "    print(score)\n",
    "    \n",
    "    scores[params] = score"
   ]
  },
  {
   "cell_type": "markdown",
   "metadata": {},
   "source": [
    "### LSTM Models"
   ]
  },
  {
   "cell_type": "markdown",
   "metadata": {},
   "source": [
    "#### Specific Data Prep"
   ]
  },
  {
   "cell_type": "code",
   "execution_count": 62,
   "metadata": {},
   "outputs": [
    {
     "name": "stdout",
     "output_type": "stream",
     "text": [
      "(426864,) (426864, 5)\n",
      "(106717,) (106717, 5)\n"
     ]
    }
   ],
   "source": [
    "from sklearn.model_selection import train_test_split\n",
    "\n",
    "X = yelp['text'].fillna('').values\n",
    "y = pd.get_dummies(yelp['stars']).values\n",
    "\n",
    "X_train, X_test, y_train, y_test = train_test_split(X, y, test_size=0.2, random_state=42)\n",
    "print(X_train.shape, y_train.shape)\n",
    "print(X_test.shape, y_test.shape)"
   ]
  },
  {
   "cell_type": "code",
   "execution_count": 63,
   "metadata": {},
   "outputs": [],
   "source": [
    "tokenizer = text.Tokenizer(num_words=2000)\n",
    "tokenizer.fit_on_texts(X_train)\n",
    "X_train = tokenizer.texts_to_sequences(X_train)\n",
    "X_test = tokenizer.texts_to_sequences(X_test)\n",
    "X_train = pad_sequences(X_train, maxlen=300)\n",
    "X_test = pad_sequences(X_test, maxlen=300)"
   ]
  },
  {
   "cell_type": "code",
   "execution_count": 64,
   "metadata": {},
   "outputs": [
    {
     "data": {
      "text/plain": [
       "array([[   0,    0,    0, ...,  636,  975,  105],\n",
       "       [   0,    0,    0, ..., 1214,   27,    4],\n",
       "       [   0,    0,    0, ...,   67,  283,  542],\n",
       "       ...,\n",
       "       [   0,    0,    0, ..., 1122,  100,  156],\n",
       "       [   0,    0,    0, ...,   11,   20, 1946],\n",
       "       [   0,    0,    0, ...,  703,    6, 1565]], dtype=int32)"
      ]
     },
     "execution_count": 64,
     "metadata": {},
     "output_type": "execute_result"
    }
   ],
   "source": [
    "X_train"
   ]
  },
  {
   "cell_type": "markdown",
   "metadata": {},
   "source": [
    "#### LSTM #1"
   ]
  },
  {
   "cell_type": "code",
   "execution_count": null,
   "metadata": {},
   "outputs": [
    {
     "name": "stderr",
     "output_type": "stream",
     "text": [
      "/opt/anaconda3/lib/python3.7/site-packages/tensorflow_core/python/framework/indexed_slices.py:424: UserWarning: Converting sparse IndexedSlices to a dense Tensor of unknown shape. This may consume a large amount of memory.\n",
      "  \"Converting sparse IndexedSlices to a dense Tensor of unknown shape. \"\n"
     ]
    },
    {
     "name": "stdout",
     "output_type": "stream",
     "text": [
      "Train on 384177 samples, validate on 42687 samples\n",
      "Epoch 1/8\n",
      "154368/384177 [===========>..................] - ETA: 59:42 - loss: 0.8088 - accuracy: 0.7042"
     ]
    }
   ],
   "source": [
    "batch_size = 256\n",
    "epochs = 8\n",
    "\n",
    "lstm = Sequential()\n",
    "lstm.add(Embedding(2000, 128, input_length=300))\n",
    "lstm.add(SpatialDropout1D(0.2))\n",
    "lstm.add(Conv1D(64, 5, activation='relu'))\n",
    "lstm.add(MaxPooling1D(pool_size=4))\n",
    "lstm.add(LSTM(128))\n",
    "lstm.add(BatchNormalization())\n",
    "lstm.add(Dense(5, activation='sigmoid'))\n",
    "lstm.compile(loss='categorical_crossentropy',\n",
    "              optimizer='adadelta',\n",
    "              metrics=['accuracy'])\n",
    "\n",
    "history = lstm.fit(X_train, y_train,\n",
    "                    batch_size=batch_size,\n",
    "                    epochs=epochs,\n",
    "                    verbose=1,\n",
    "                    validation_split=0.1)"
   ]
  },
  {
   "cell_type": "markdown",
   "metadata": {},
   "source": [
    "#### LSTM #2"
   ]
  },
  {
   "cell_type": "markdown",
   "metadata": {},
   "source": [
    "### Ensemble Learning via weighted votes"
   ]
  },
  {
   "cell_type": "code",
   "execution_count": null,
   "metadata": {},
   "outputs": [],
   "source": []
  },
  {
   "cell_type": "markdown",
   "metadata": {},
   "source": [
    "### One vs. All Approach"
   ]
  },
  {
   "cell_type": "markdown",
   "metadata": {},
   "source": [
    "#### 1 star"
   ]
  },
  {
   "cell_type": "code",
   "execution_count": 49,
   "metadata": {},
   "outputs": [
    {
     "name": "stderr",
     "output_type": "stream",
     "text": [
      "/opt/anaconda3/lib/python3.7/site-packages/tensorflow_core/python/framework/indexed_slices.py:424: UserWarning: Converting sparse IndexedSlices to a dense Tensor of unknown shape. This may consume a large amount of memory.\n",
      "  \"Converting sparse IndexedSlices to a dense Tensor of unknown shape. \"\n"
     ]
    },
    {
     "name": "stdout",
     "output_type": "stream",
     "text": [
      "Train on 341491 samples, validate on 85373 samples\n",
      "Epoch 1/3\n",
      "  7424/341491 [..............................] - ETA: 37:47 - loss: 0.4231 - accuracy: 0.8036"
     ]
    },
    {
     "ename": "KeyboardInterrupt",
     "evalue": "",
     "output_type": "error",
     "traceback": [
      "\u001b[0;31m---------------------------------------------------------------------------\u001b[0m",
      "\u001b[0;31mKeyboardInterrupt\u001b[0m                         Traceback (most recent call last)",
      "\u001b[0;32m<ipython-input-49-0ff1b6ad2801>\u001b[0m in \u001b[0;36m<module>\u001b[0;34m\u001b[0m\n\u001b[1;32m     19\u001b[0m                     \u001b[0mepochs\u001b[0m\u001b[0;34m=\u001b[0m\u001b[0mepochs\u001b[0m\u001b[0;34m,\u001b[0m\u001b[0;34m\u001b[0m\u001b[0;34m\u001b[0m\u001b[0m\n\u001b[1;32m     20\u001b[0m                     \u001b[0mverbose\u001b[0m\u001b[0;34m=\u001b[0m\u001b[0;36m1\u001b[0m\u001b[0;34m,\u001b[0m\u001b[0;34m\u001b[0m\u001b[0;34m\u001b[0m\u001b[0m\n\u001b[0;32m---> 21\u001b[0;31m                     validation_split=0.2)\n\u001b[0m",
      "\u001b[0;32m/opt/anaconda3/lib/python3.7/site-packages/keras/engine/training.py\u001b[0m in \u001b[0;36mfit\u001b[0;34m(self, x, y, batch_size, epochs, verbose, callbacks, validation_split, validation_data, shuffle, class_weight, sample_weight, initial_epoch, steps_per_epoch, validation_steps, validation_freq, max_queue_size, workers, use_multiprocessing, **kwargs)\u001b[0m\n\u001b[1;32m   1237\u001b[0m                                         \u001b[0msteps_per_epoch\u001b[0m\u001b[0;34m=\u001b[0m\u001b[0msteps_per_epoch\u001b[0m\u001b[0;34m,\u001b[0m\u001b[0;34m\u001b[0m\u001b[0;34m\u001b[0m\u001b[0m\n\u001b[1;32m   1238\u001b[0m                                         \u001b[0mvalidation_steps\u001b[0m\u001b[0;34m=\u001b[0m\u001b[0mvalidation_steps\u001b[0m\u001b[0;34m,\u001b[0m\u001b[0;34m\u001b[0m\u001b[0;34m\u001b[0m\u001b[0m\n\u001b[0;32m-> 1239\u001b[0;31m                                         validation_freq=validation_freq)\n\u001b[0m\u001b[1;32m   1240\u001b[0m \u001b[0;34m\u001b[0m\u001b[0m\n\u001b[1;32m   1241\u001b[0m     def evaluate(self,\n",
      "\u001b[0;32m/opt/anaconda3/lib/python3.7/site-packages/keras/engine/training_arrays.py\u001b[0m in \u001b[0;36mfit_loop\u001b[0;34m(model, fit_function, fit_inputs, out_labels, batch_size, epochs, verbose, callbacks, val_function, val_inputs, shuffle, initial_epoch, steps_per_epoch, validation_steps, validation_freq)\u001b[0m\n\u001b[1;32m    194\u001b[0m                     \u001b[0mins_batch\u001b[0m\u001b[0;34m[\u001b[0m\u001b[0mi\u001b[0m\u001b[0;34m]\u001b[0m \u001b[0;34m=\u001b[0m \u001b[0mins_batch\u001b[0m\u001b[0;34m[\u001b[0m\u001b[0mi\u001b[0m\u001b[0;34m]\u001b[0m\u001b[0;34m.\u001b[0m\u001b[0mtoarray\u001b[0m\u001b[0;34m(\u001b[0m\u001b[0;34m)\u001b[0m\u001b[0;34m\u001b[0m\u001b[0;34m\u001b[0m\u001b[0m\n\u001b[1;32m    195\u001b[0m \u001b[0;34m\u001b[0m\u001b[0m\n\u001b[0;32m--> 196\u001b[0;31m                 \u001b[0mouts\u001b[0m \u001b[0;34m=\u001b[0m \u001b[0mfit_function\u001b[0m\u001b[0;34m(\u001b[0m\u001b[0mins_batch\u001b[0m\u001b[0;34m)\u001b[0m\u001b[0;34m\u001b[0m\u001b[0;34m\u001b[0m\u001b[0m\n\u001b[0m\u001b[1;32m    197\u001b[0m                 \u001b[0mouts\u001b[0m \u001b[0;34m=\u001b[0m \u001b[0mto_list\u001b[0m\u001b[0;34m(\u001b[0m\u001b[0mouts\u001b[0m\u001b[0;34m)\u001b[0m\u001b[0;34m\u001b[0m\u001b[0;34m\u001b[0m\u001b[0m\n\u001b[1;32m    198\u001b[0m                 \u001b[0;32mfor\u001b[0m \u001b[0ml\u001b[0m\u001b[0;34m,\u001b[0m \u001b[0mo\u001b[0m \u001b[0;32min\u001b[0m \u001b[0mzip\u001b[0m\u001b[0;34m(\u001b[0m\u001b[0mout_labels\u001b[0m\u001b[0;34m,\u001b[0m \u001b[0mouts\u001b[0m\u001b[0;34m)\u001b[0m\u001b[0;34m:\u001b[0m\u001b[0;34m\u001b[0m\u001b[0;34m\u001b[0m\u001b[0m\n",
      "\u001b[0;32m/opt/anaconda3/lib/python3.7/site-packages/tensorflow_core/python/keras/backend.py\u001b[0m in \u001b[0;36m__call__\u001b[0;34m(self, inputs)\u001b[0m\n\u001b[1;32m   3738\u001b[0m         \u001b[0mvalue\u001b[0m \u001b[0;34m=\u001b[0m \u001b[0mmath_ops\u001b[0m\u001b[0;34m.\u001b[0m\u001b[0mcast\u001b[0m\u001b[0;34m(\u001b[0m\u001b[0mvalue\u001b[0m\u001b[0;34m,\u001b[0m \u001b[0mtensor\u001b[0m\u001b[0;34m.\u001b[0m\u001b[0mdtype\u001b[0m\u001b[0;34m)\u001b[0m\u001b[0;34m\u001b[0m\u001b[0;34m\u001b[0m\u001b[0m\n\u001b[1;32m   3739\u001b[0m       \u001b[0mconverted_inputs\u001b[0m\u001b[0;34m.\u001b[0m\u001b[0mappend\u001b[0m\u001b[0;34m(\u001b[0m\u001b[0mvalue\u001b[0m\u001b[0;34m)\u001b[0m\u001b[0;34m\u001b[0m\u001b[0;34m\u001b[0m\u001b[0m\n\u001b[0;32m-> 3740\u001b[0;31m     \u001b[0moutputs\u001b[0m \u001b[0;34m=\u001b[0m \u001b[0mself\u001b[0m\u001b[0;34m.\u001b[0m\u001b[0m_graph_fn\u001b[0m\u001b[0;34m(\u001b[0m\u001b[0;34m*\u001b[0m\u001b[0mconverted_inputs\u001b[0m\u001b[0;34m)\u001b[0m\u001b[0;34m\u001b[0m\u001b[0;34m\u001b[0m\u001b[0m\n\u001b[0m\u001b[1;32m   3741\u001b[0m \u001b[0;34m\u001b[0m\u001b[0m\n\u001b[1;32m   3742\u001b[0m     \u001b[0;31m# EagerTensor.numpy() will often make a copy to ensure memory safety.\u001b[0m\u001b[0;34m\u001b[0m\u001b[0;34m\u001b[0m\u001b[0;34m\u001b[0m\u001b[0m\n",
      "\u001b[0;32m/opt/anaconda3/lib/python3.7/site-packages/tensorflow_core/python/eager/function.py\u001b[0m in \u001b[0;36m__call__\u001b[0;34m(self, *args, **kwargs)\u001b[0m\n\u001b[1;32m   1079\u001b[0m       \u001b[0mTypeError\u001b[0m\u001b[0;34m:\u001b[0m \u001b[0mFor\u001b[0m \u001b[0minvalid\u001b[0m \u001b[0mpositional\u001b[0m\u001b[0;34m/\u001b[0m\u001b[0mkeyword\u001b[0m \u001b[0margument\u001b[0m \u001b[0mcombinations\u001b[0m\u001b[0;34m.\u001b[0m\u001b[0;34m\u001b[0m\u001b[0;34m\u001b[0m\u001b[0m\n\u001b[1;32m   1080\u001b[0m     \"\"\"\n\u001b[0;32m-> 1081\u001b[0;31m     \u001b[0;32mreturn\u001b[0m \u001b[0mself\u001b[0m\u001b[0;34m.\u001b[0m\u001b[0m_call_impl\u001b[0m\u001b[0;34m(\u001b[0m\u001b[0margs\u001b[0m\u001b[0;34m,\u001b[0m \u001b[0mkwargs\u001b[0m\u001b[0;34m)\u001b[0m\u001b[0;34m\u001b[0m\u001b[0;34m\u001b[0m\u001b[0m\n\u001b[0m\u001b[1;32m   1082\u001b[0m \u001b[0;34m\u001b[0m\u001b[0m\n\u001b[1;32m   1083\u001b[0m   \u001b[0;32mdef\u001b[0m \u001b[0m_call_impl\u001b[0m\u001b[0;34m(\u001b[0m\u001b[0mself\u001b[0m\u001b[0;34m,\u001b[0m \u001b[0margs\u001b[0m\u001b[0;34m,\u001b[0m \u001b[0mkwargs\u001b[0m\u001b[0;34m,\u001b[0m \u001b[0mcancellation_manager\u001b[0m\u001b[0;34m=\u001b[0m\u001b[0;32mNone\u001b[0m\u001b[0;34m)\u001b[0m\u001b[0;34m:\u001b[0m\u001b[0;34m\u001b[0m\u001b[0;34m\u001b[0m\u001b[0m\n",
      "\u001b[0;32m/opt/anaconda3/lib/python3.7/site-packages/tensorflow_core/python/eager/function.py\u001b[0m in \u001b[0;36m_call_impl\u001b[0;34m(self, args, kwargs, cancellation_manager)\u001b[0m\n\u001b[1;32m   1119\u001b[0m       raise TypeError(\"Keyword arguments {} unknown. Expected {}.\".format(\n\u001b[1;32m   1120\u001b[0m           list(kwargs.keys()), list(self._arg_keywords)))\n\u001b[0;32m-> 1121\u001b[0;31m     \u001b[0;32mreturn\u001b[0m \u001b[0mself\u001b[0m\u001b[0;34m.\u001b[0m\u001b[0m_call_flat\u001b[0m\u001b[0;34m(\u001b[0m\u001b[0margs\u001b[0m\u001b[0;34m,\u001b[0m \u001b[0mself\u001b[0m\u001b[0;34m.\u001b[0m\u001b[0mcaptured_inputs\u001b[0m\u001b[0;34m,\u001b[0m \u001b[0mcancellation_manager\u001b[0m\u001b[0;34m)\u001b[0m\u001b[0;34m\u001b[0m\u001b[0;34m\u001b[0m\u001b[0m\n\u001b[0m\u001b[1;32m   1122\u001b[0m \u001b[0;34m\u001b[0m\u001b[0m\n\u001b[1;32m   1123\u001b[0m   \u001b[0;32mdef\u001b[0m \u001b[0m_filtered_call\u001b[0m\u001b[0;34m(\u001b[0m\u001b[0mself\u001b[0m\u001b[0;34m,\u001b[0m \u001b[0margs\u001b[0m\u001b[0;34m,\u001b[0m \u001b[0mkwargs\u001b[0m\u001b[0;34m)\u001b[0m\u001b[0;34m:\u001b[0m\u001b[0;34m\u001b[0m\u001b[0;34m\u001b[0m\u001b[0m\n",
      "\u001b[0;32m/opt/anaconda3/lib/python3.7/site-packages/tensorflow_core/python/eager/function.py\u001b[0m in \u001b[0;36m_call_flat\u001b[0;34m(self, args, captured_inputs, cancellation_manager)\u001b[0m\n\u001b[1;32m   1222\u001b[0m     \u001b[0;32mif\u001b[0m \u001b[0mexecuting_eagerly\u001b[0m\u001b[0;34m:\u001b[0m\u001b[0;34m\u001b[0m\u001b[0;34m\u001b[0m\u001b[0m\n\u001b[1;32m   1223\u001b[0m       flat_outputs = forward_function.call(\n\u001b[0;32m-> 1224\u001b[0;31m           ctx, args, cancellation_manager=cancellation_manager)\n\u001b[0m\u001b[1;32m   1225\u001b[0m     \u001b[0;32melse\u001b[0m\u001b[0;34m:\u001b[0m\u001b[0;34m\u001b[0m\u001b[0;34m\u001b[0m\u001b[0m\n\u001b[1;32m   1226\u001b[0m       \u001b[0mgradient_name\u001b[0m \u001b[0;34m=\u001b[0m \u001b[0mself\u001b[0m\u001b[0;34m.\u001b[0m\u001b[0m_delayed_rewrite_functions\u001b[0m\u001b[0;34m.\u001b[0m\u001b[0mregister\u001b[0m\u001b[0;34m(\u001b[0m\u001b[0;34m)\u001b[0m\u001b[0;34m\u001b[0m\u001b[0;34m\u001b[0m\u001b[0m\n",
      "\u001b[0;32m/opt/anaconda3/lib/python3.7/site-packages/tensorflow_core/python/eager/function.py\u001b[0m in \u001b[0;36mcall\u001b[0;34m(self, ctx, args, cancellation_manager)\u001b[0m\n\u001b[1;32m    509\u001b[0m               \u001b[0minputs\u001b[0m\u001b[0;34m=\u001b[0m\u001b[0margs\u001b[0m\u001b[0;34m,\u001b[0m\u001b[0;34m\u001b[0m\u001b[0;34m\u001b[0m\u001b[0m\n\u001b[1;32m    510\u001b[0m               \u001b[0mattrs\u001b[0m\u001b[0;34m=\u001b[0m\u001b[0;34m(\u001b[0m\u001b[0;34m\"executor_type\"\u001b[0m\u001b[0;34m,\u001b[0m \u001b[0mexecutor_type\u001b[0m\u001b[0;34m,\u001b[0m \u001b[0;34m\"config_proto\"\u001b[0m\u001b[0;34m,\u001b[0m \u001b[0mconfig\u001b[0m\u001b[0;34m)\u001b[0m\u001b[0;34m,\u001b[0m\u001b[0;34m\u001b[0m\u001b[0;34m\u001b[0m\u001b[0m\n\u001b[0;32m--> 511\u001b[0;31m               ctx=ctx)\n\u001b[0m\u001b[1;32m    512\u001b[0m         \u001b[0;32melse\u001b[0m\u001b[0;34m:\u001b[0m\u001b[0;34m\u001b[0m\u001b[0;34m\u001b[0m\u001b[0m\n\u001b[1;32m    513\u001b[0m           outputs = execute.execute_with_cancellation(\n",
      "\u001b[0;32m/opt/anaconda3/lib/python3.7/site-packages/tensorflow_core/python/eager/execute.py\u001b[0m in \u001b[0;36mquick_execute\u001b[0;34m(op_name, num_outputs, inputs, attrs, ctx, name)\u001b[0m\n\u001b[1;32m     59\u001b[0m     tensors = pywrap_tensorflow.TFE_Py_Execute(ctx._handle, device_name,\n\u001b[1;32m     60\u001b[0m                                                \u001b[0mop_name\u001b[0m\u001b[0;34m,\u001b[0m \u001b[0minputs\u001b[0m\u001b[0;34m,\u001b[0m \u001b[0mattrs\u001b[0m\u001b[0;34m,\u001b[0m\u001b[0;34m\u001b[0m\u001b[0;34m\u001b[0m\u001b[0m\n\u001b[0;32m---> 61\u001b[0;31m                                                num_outputs)\n\u001b[0m\u001b[1;32m     62\u001b[0m   \u001b[0;32mexcept\u001b[0m \u001b[0mcore\u001b[0m\u001b[0;34m.\u001b[0m\u001b[0m_NotOkStatusException\u001b[0m \u001b[0;32mas\u001b[0m \u001b[0me\u001b[0m\u001b[0;34m:\u001b[0m\u001b[0;34m\u001b[0m\u001b[0;34m\u001b[0m\u001b[0m\n\u001b[1;32m     63\u001b[0m     \u001b[0;32mif\u001b[0m \u001b[0mname\u001b[0m \u001b[0;32mis\u001b[0m \u001b[0;32mnot\u001b[0m \u001b[0;32mNone\u001b[0m\u001b[0;34m:\u001b[0m\u001b[0;34m\u001b[0m\u001b[0;34m\u001b[0m\u001b[0m\n",
      "\u001b[0;31mKeyboardInterrupt\u001b[0m: "
     ]
    }
   ],
   "source": [
    "y_train_1 = y_train[:, 0]\n",
    "y_test_1 = y_test[:, 0]\n",
    "\n",
    "lstm = Sequential()\n",
    "lstm.add(Embedding(2000, 128, input_length=300))\n",
    "lstm.add(SpatialDropout1D(0.2))\n",
    "lstm.add(Conv1D(64, 5, activation='relu'))\n",
    "lstm.add(MaxPooling1D(pool_size=4))\n",
    "lstm.add(LSTM(128))\n",
    "lstm.add(BatchNormalization())\n",
    "lstm.add(Dense(8))\n",
    "lstm.add(Dense(1, activation='sigmoid'))\n",
    "lstm.compile(loss='binary_crossentropy',\n",
    "              optimizer='adam',\n",
    "              metrics=['accuracy'])\n",
    "\n",
    "history = lstm.fit(X_train, y_train_1,\n",
    "                    batch_size=batch_size,\n",
    "                    epochs=epochs,\n",
    "                    verbose=1,\n",
    "                    validation_split=0.2)"
   ]
  },
  {
   "cell_type": "markdown",
   "metadata": {},
   "source": [
    "### "
   ]
  },
  {
   "cell_type": "markdown",
   "metadata": {},
   "source": [
    "### To-Do\n",
    "\n",
    "1. Figure out what to do with NaN reviews\n",
    "2. Create a stemmed dataset\n",
    "3. Run simple NN and LSTM overnight\n",
    "4. Attempt the one vs. all approach"
   ]
  },
  {
   "cell_type": "code",
   "execution_count": null,
   "metadata": {},
   "outputs": [],
   "source": []
  }
 ],
 "metadata": {
  "kernelspec": {
   "display_name": "Python 3",
   "language": "python",
   "name": "python3"
  },
  "language_info": {
   "codemirror_mode": {
    "name": "ipython",
    "version": 3
   },
   "file_extension": ".py",
   "mimetype": "text/x-python",
   "name": "python",
   "nbconvert_exporter": "python",
   "pygments_lexer": "ipython3",
   "version": "3.7.6"
  }
 },
 "nbformat": 4,
 "nbformat_minor": 2
}
